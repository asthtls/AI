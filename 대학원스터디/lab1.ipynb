{
 "cells": [
  {
   "cell_type": "code",
   "execution_count": 19,
   "metadata": {},
   "outputs": [
    {
     "name": "stdout",
     "output_type": "stream",
     "text": [
      "e ---> 0 0.43307828798952575 [0.2049981304455123, 0.32421989727216716]\n",
      "finish\n",
      "1.0\n"
     ]
    }
   ],
   "source": [
    "import random\n",
    "import numpy as np\n",
    "\n",
    "\n",
    "class SLP():\n",
    "    def __init__(self):\n",
    "        pass\n",
    "        self.w = []\n",
    "        self.b = 0.0\n",
    "        \n",
    "        \n",
    "    def act(self, tin):\n",
    "        total = 0.0\n",
    "        \n",
    "        for i in range(len(tin)):\n",
    "            s = tin[i] * self.w[i]\n",
    "            total = total + s\n",
    "            \n",
    "        total = total + 1*self.b\n",
    "        \n",
    "        ret = 0.0\n",
    "        if total >=0:\n",
    "            ret = 1.0\n",
    "            \n",
    "        return ret\n",
    "        \n",
    "    def fit(self, x, y):\n",
    "        data_size = len(x)\n",
    "        size = len(x[0])\n",
    "        self.b = random.random()\n",
    "        for _ in range(size):\n",
    "            self.w.append(random.random())\n",
    "        \n",
    "        for e in range(50):\n",
    "            total_error = 0\n",
    "            for tin,tout in zip(x,y):\n",
    "                net = self.act(tin)\n",
    "\n",
    "\n",
    "                error = tout - net\n",
    "                self.b = self.b + 0.03 *error*1\n",
    "                for i in range(size):\n",
    "                    self.w[i] = self.w[i] + 0.03 * error * tin[i]\n",
    "\n",
    "            total_error = total_error / data_size\n",
    "            print('e --->',e, self.b , self.w)\n",
    "            if total_error == 0 :\n",
    "                print('finish')\n",
    "                break\n",
    "            \n",
    "    def predict(self,x):\n",
    "        ret = []\n",
    "        for tin in x:\n",
    "            net = self.act(tin)\n",
    "            ret.append(net)\n",
    "            \n",
    "        return net\n",
    "        \n",
    "    \n",
    "    \n",
    "\n",
    "def LAB1():\n",
    "    x = [[0,0],[0,1],[1,0],[1,1]]\n",
    "    y = [0,1,1,1]\n",
    "    \n",
    "    model = SLP()\n",
    "    \n",
    "    model.fit(x,y)\n",
    "    \n",
    "    y_pre = model.predict(x)\n",
    "    \n",
    "    print(y_pre)\n",
    "    \n",
    "\n",
    "LAB1()"
   ]
  },
  {
   "cell_type": "code",
   "execution_count": null,
   "metadata": {},
   "outputs": [],
   "source": []
  }
 ],
 "metadata": {
  "kernelspec": {
   "display_name": "Python 3",
   "language": "python",
   "name": "python3"
  },
  "language_info": {
   "codemirror_mode": {
    "name": "ipython",
    "version": 3
   },
   "file_extension": ".py",
   "mimetype": "text/x-python",
   "name": "python",
   "nbconvert_exporter": "python",
   "pygments_lexer": "ipython3",
   "version": "3.7.6"
  }
 },
 "nbformat": 4,
 "nbformat_minor": 4
}
