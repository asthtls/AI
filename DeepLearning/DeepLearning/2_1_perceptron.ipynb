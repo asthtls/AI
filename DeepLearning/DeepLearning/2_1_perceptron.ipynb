{
 "cells": [
  {
   "cell_type": "code",
   "execution_count": 3,
   "metadata": {},
   "outputs": [
    {
     "data": {
      "text/plain": [
       "-0.19999999999999996"
      ]
     },
     "execution_count": 3,
     "metadata": {},
     "output_type": "execute_result"
    }
   ],
   "source": [
    "# 가중치와 편향 도입\n",
    "import numpy as np\n",
    "\n",
    "x = np.array([0,1]) # 입력값\n",
    "w = np.array([0.5, 0.5]) # 가중치\n",
    "b = -0.7 # 편향\n",
    "\n",
    "x*w\n",
    "np.sum(w*x)+b\n",
    "# 결과값은 -0.199999999996~ 대략 -0.2 부동소수점 수에 의한 연산 오차때문에 -0.2가 정확하게는 출력되지 않는다.\n"
   ]
  },
  {
   "cell_type": "code",
   "execution_count": 12,
   "metadata": {},
   "outputs": [
    {
     "name": "stdout",
     "output_type": "stream",
     "text": [
      "AND 0 0 0 1\n",
      "NAND 1 1 1 0\n",
      "OR 0 1 1 1\n"
     ]
    }
   ],
   "source": [
    "# 가중치와 편향 구현\n",
    "\n",
    "def AND(x1,x2):\n",
    "    x = np.array([x1, x2]) # 입력값\n",
    "    w = np.array([0.5,0.5]) # 가중치 \n",
    "    b = -0.7 #  편향\n",
    "    \n",
    "    tmp = np.sum(x*w) + b\n",
    "    if tmp <= 0:\n",
    "        return 0\n",
    "    else: \n",
    "        return 1\n",
    "# w1과 w2는 각 입력 신호가 결과에 주는 영향력을 조절하는 매개변수, 편향은 뉴런이 얼마나 쉽게 활성화(결과로 1 출력)하느냐를 \n",
    "# 조정하는 매개변수\n",
    "# 편향은 '한쪽으로 치우쳐 균형을 깬다.'라는 의미를 담고 있다.\n",
    "\n",
    "def NAND(x1, x2):\n",
    "    x = np.array([x1, x2]) # 입력\n",
    "    w = np.array([-0.5, -0.5]) # 가중치\n",
    "    b = 0.7 # 편향\n",
    "    tmp = np.sum(w*x) + b\n",
    "    \n",
    "    if tmp <= 0:\n",
    "        return 0\n",
    "    else:\n",
    "        return 1\n",
    "\n",
    "\n",
    "def OR(x1, x2):\n",
    "    x = np.array([x1, x2]) # 입력 \n",
    "    w = np.array([0.5, 0.5]) # 가중치\n",
    "    b = -0.2\n",
    "    tmp = np.sum(x*w) + b\n",
    "    \n",
    "    if tmp <=0 :\n",
    "        return 0\n",
    "    else:\n",
    "        return 1\n",
    "\n",
    "print(\"AND\" ,AND(0,0),AND(0,1),AND(1,0),AND(1,1))\n",
    "print(\"NAND\",NAND(0,0),NAND(0,1),NAND(1,0),NAND(1,1))\n",
    "print(\"OR\", OR(0,0),OR(0,1),OR(1,0),OR(1,1))"
   ]
  },
  {
   "cell_type": "code",
   "execution_count": 3,
   "metadata": {},
   "outputs": [
    {
     "name": "stdout",
     "output_type": "stream",
     "text": [
      "XOR ====> 0 1 1 0\n"
     ]
    }
   ],
   "source": [
    "import numpy as np\n",
    "\n",
    "def AND(x1,x2):\n",
    "    x = np.array([x1, x2]) # 입력값\n",
    "    w = np.array([0.5,0.5]) # 가중치 \n",
    "    b = -0.7 #  편향\n",
    "    \n",
    "    tmp = np.sum(x*w) + b\n",
    "    if tmp <= 0:\n",
    "        return 0\n",
    "    else: \n",
    "        return 1\n",
    "def NAND(x1, x2):\n",
    "    x = np.array([x1, x2]) # 입력\n",
    "    w = np.array([-0.5, -0.5]) # 가중치\n",
    "    b = 0.7 # 편향\n",
    "    tmp = np.sum(w*x) + b\n",
    "    \n",
    "    if tmp <= 0:\n",
    "        return 0\n",
    "    else:\n",
    "        return 1\n",
    "\n",
    "def OR(x1, x2):\n",
    "    x = np.array([x1, x2]) # 입력 \n",
    "    w = np.array([0.5, 0.5]) # 가중치\n",
    "    b = -0.2\n",
    "    tmp = np.sum(x*w) + b\n",
    "    \n",
    "    if tmp <=0 :\n",
    "        return 0\n",
    "    else:\n",
    "        return 1\n",
    "\n",
    "def XOR(x1, x2):\n",
    "    s1 = NAND(x1, x2)\n",
    "    s2 = OR(x1, x2)\n",
    "    y = AND(s1, s2)\n",
    "    return y\n",
    "\n",
    "\n",
    "print(\"XOR ====>\", XOR(0,0),XOR(1,0),XOR(0,1),XOR(1,1))"
   ]
  }
 ],
 "metadata": {
  "kernelspec": {
   "display_name": "Python 3",
   "language": "python",
   "name": "python3"
  },
  "language_info": {
   "codemirror_mode": {
    "name": "ipython",
    "version": 3
   },
   "file_extension": ".py",
   "mimetype": "text/x-python",
   "name": "python",
   "nbconvert_exporter": "python",
   "pygments_lexer": "ipython3",
   "version": "3.7.6"
  }
 },
 "nbformat": 4,
 "nbformat_minor": 4
}
