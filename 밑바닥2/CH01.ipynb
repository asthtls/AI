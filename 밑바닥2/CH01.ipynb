{
 "cells": [
  {
   "cell_type": "markdown",
   "metadata": {},
   "source": [
    "# 신경망 복습\n",
    "\n"
   ]
  },
  {
   "cell_type": "code",
   "execution_count": 1,
   "metadata": {},
   "outputs": [
    {
     "name": "stdout",
     "output_type": "stream",
     "text": [
      "x의 클래스 :  <class 'numpy.ndarray'>\n",
      "x.shape :  (3,)\n",
      "x.ndim :  1\n",
      "W.shape :  (2, 3)\n",
      "W.ndim :  2\n"
     ]
    }
   ],
   "source": [
    "import numpy as np\n",
    "\n",
    "x = np.array([1,2,3])\n",
    "print(\"x의 클래스 : \",x.__class__) # 클래스 이름 표시\n",
    "print(\"x.shape : \", x.shape)\n",
    "print(\"x.ndim : \", x.ndim)\n",
    "\n",
    "W = np.array([[1,2,3], [4,5,6]])\n",
    "print(\"W.shape : \",W.shape)\n",
    "print(\"W.ndim : \", W.ndim)"
   ]
  },
  {
   "cell_type": "code",
   "execution_count": 2,
   "metadata": {},
   "outputs": [
    {
     "data": {
      "text/plain": [
       "array([[10, 20],\n",
       "       [30, 40]])"
      ]
     },
     "execution_count": 2,
     "metadata": {},
     "output_type": "execute_result"
    }
   ],
   "source": [
    "A = np.array([[1,2],[3,4]])\n",
    "A * 10"
   ]
  },
  {
   "cell_type": "code",
   "execution_count": 3,
   "metadata": {},
   "outputs": [
    {
     "data": {
      "text/plain": [
       "array([[10, 40],\n",
       "       [30, 80]])"
      ]
     },
     "execution_count": 3,
     "metadata": {},
     "output_type": "execute_result"
    }
   ],
   "source": [
    "A = np.array([[1,2],[3,4]])\n",
    "B = np.array([10,20])\n",
    "A*B"
   ]
  },
  {
   "cell_type": "code",
   "execution_count": 4,
   "metadata": {},
   "outputs": [
    {
     "name": "stdout",
     "output_type": "stream",
     "text": [
      "np.dot(a,b) :  32\n",
      "np.matmul(A,B) :  [[19 22]\n",
      " [43 50]]\n"
     ]
    }
   ],
   "source": [
    "# 행렬의 내적 \n",
    "a = np.array([1,2,3])\n",
    "b = np.array([4,5,6])\n",
    "print(\"np.dot(a,b) : \", np.dot(a,b))\n",
    "\n",
    "# 행렬의 곱\n",
    "A = np.array([[1,2], [3,4]])\n",
    "B = np.array([[5,6],[7,8]])\n",
    "print(\"np.matmul(A,B) : \", np.matmul(A,B))"
   ]
  },
  {
   "cell_type": "code",
   "execution_count": 5,
   "metadata": {},
   "outputs": [],
   "source": [
    "# 완전연결계층에 의한 변환의 미니배치 버전\n",
    "\n",
    "W1 = np.random.randn(2,4) # 가중치\n",
    "b1 = np.random.randn(4) # 편향\n",
    "x = np.random.randn(10, 2) # 입력\n",
    "h = np.matmul(x, W1) + b1\n",
    "# 10개의 샘플 데이터 각각을 완전연결계층으로 변환\n",
    "# x의 첫 번째 차원이 각 샘플 데이터에 해당한다.\n",
    "# x[0]은 0번째 입력 데이터, x[1] 은 첫 번째 입력 데이터\n",
    "# h[0]은 0번째 은닉층 뉴런\n",
    "# b1의 덧셈은 브로드캐스트 b1의 형상은 (4,) 이지만 자동으로 (10,4)로 복제"
   ]
  },
  {
   "cell_type": "code",
   "execution_count": 6,
   "metadata": {},
   "outputs": [],
   "source": [
    "def sigmoid(x):\n",
    "    return 1/(1 + np.exp(-x))"
   ]
  },
  {
   "cell_type": "code",
   "execution_count": 7,
   "metadata": {},
   "outputs": [],
   "source": [
    "a = sigmoid(h)"
   ]
  },
  {
   "cell_type": "code",
   "execution_count": 8,
   "metadata": {},
   "outputs": [],
   "source": [
    "def sigmoid(x):\n",
    "    return 1/(1 + np.exp(-x))\n",
    "\n",
    "W1 = np.random.randn(2,4)\n",
    "b1 = np.random.randn(4)\n",
    "x = np.random.randn(10, 2)\n",
    "W2 = np.random.randn(4,3)\n",
    "b2 = np.random.randn(3)\n",
    "\n",
    "h = np.matmul(x, W1) + b1\n",
    "a = sigmoid(h)\n",
    "s = np.matmul(a, W2) + b2\n",
    "\n"
   ]
  },
  {
   "cell_type": "code",
   "execution_count": 9,
   "metadata": {},
   "outputs": [],
   "source": [
    "class Sigmoid:\n",
    "    def __init__(self):\n",
    "        self.params = []\n",
    "        \n",
    "    def forward(self, x):\n",
    "        return 1/(1+np.exp(-x))\n",
    "    \n",
    "\n",
    "class Affine:\n",
    "    def __init__(self,W,b):\n",
    "        self.params = [W,b] # 가중치와 편향, 신경망이 학습될 때 수시로 갱신\n",
    "        \n",
    "    def forward(self, x):\n",
    "        W, b = self.params\n",
    "        out = np.matmul(x, W) + b\n",
    "        return out"
   ]
  },
  {
   "cell_type": "code",
   "execution_count": 10,
   "metadata": {},
   "outputs": [],
   "source": [
    "class TwoLayerNet:\n",
    "    def __init__(self, input_size, hidden_size, output_size):\n",
    "        I, H, O = input_size, hidden_size, output_size\n",
    "        \n",
    "        #가중치와 편향 초기화\n",
    "        W1 = np.random.rand(I, H) # 입력층, 은닉층\n",
    "        b1 = np.random.rand(H) # 은닉층\n",
    "        W2 = np.random.rand(H, O) # 은닉층, 출력층 \n",
    "        b2 = np.random.rand(O) # 출력층\n",
    "        \n",
    "        # 계층 생성\n",
    "        \n",
    "        self.layers = [\n",
    "            Affine(W1,b1),\n",
    "            Sigmoid(),\n",
    "            Affine(W2, b2)\n",
    "        ]\n",
    "        \n",
    "        # 모든 가중치 리스트에 모으기\n",
    "        self.params = []\n",
    "        for layer in self.layers:\n",
    "            self.params += layer.params\n",
    "            \n",
    "    def predict(self, x):\n",
    "        for layer in self.layers:\n",
    "            x = layer.forward(x)\n",
    "        return x"
   ]
  },
  {
   "cell_type": "code",
   "execution_count": 11,
   "metadata": {},
   "outputs": [],
   "source": [
    "\n",
    "x = np.random.rand(8,2)\n",
    "model = TwoLayerNet(2, 4, 3)\n",
    "s = model.predict(x)\n",
    "\n",
    "\n"
   ]
  },
  {
   "cell_type": "code",
   "execution_count": 12,
   "metadata": {},
   "outputs": [],
   "source": [
    "# Repeat 노드\n",
    "import numpy as np\n",
    "D, N = 8,7\n",
    "\n",
    "x = np.random.rand(1, D) # 입력\n",
    "y = np.repeat(x, N, axis = 0) # 순전파\n",
    "dy = np.random.rand(N, D) # 무작위 기울기\n",
    "dx = np.sum(dy, axis = 0, keepdims=True) # 역전파"
   ]
  },
  {
   "cell_type": "code",
   "execution_count": 13,
   "metadata": {},
   "outputs": [],
   "source": [
    "# Sum 노드\n",
    "\n",
    "import numpy as np\n",
    "D, N = 8,7\n",
    "\n",
    "x = np.random.rand(N, D) # 입력\n",
    "y = np.sum(dy, axis = 0, keepdims=True) # 역전파\n",
    "\n",
    "dy = np.random.randn(1, D) # 무작위 기울기\n",
    "dx = np.repeat(dy, N, axis = 0) # 역전파"
   ]
  },
  {
   "cell_type": "code",
   "execution_count": 14,
   "metadata": {},
   "outputs": [],
   "source": [
    "# MatMul 클래스\n",
    "class MatMul:\n",
    "    def __init__(self, W):\n",
    "        self.params = [W]\n",
    "        self.grads = [np.zeros_like(W)]\n",
    "        self.x = None\n",
    "        \n",
    "    def forward(self, x):\n",
    "        W, = self.params\n",
    "        out = np.matmul(x, W)\n",
    "        self.x = x\n",
    "        return out\n",
    "    \n",
    "    def backward(self, dout):\n",
    "        W, = self.params\n",
    "        dx = np.matmul(dout, W.T)\n",
    "        dW = np.matmul(self.x.T, dout)\n",
    "        self.grads[0][...] = dW\n",
    "        return dx"
   ]
  },
  {
   "cell_type": "code",
   "execution_count": 15,
   "metadata": {},
   "outputs": [],
   "source": [
    "# Sigmoid 계층\n",
    "\n",
    "class Sigmoid:\n",
    "    def __init__(self):\n",
    "        self.params, self.grads = [],[]\n",
    "        self.out = None\n",
    "        \n",
    "    def forward(self, x):\n",
    "        out = 1/(1+np.exp(-x))\n",
    "        self.out = out\n",
    "        return out\n",
    "    \n",
    "    def backward(self, dout):\n",
    "        dx = dout * (1.0 - self.out) * self.out\n",
    "        return dx"
   ]
  },
  {
   "cell_type": "code",
   "execution_count": 16,
   "metadata": {},
   "outputs": [],
   "source": [
    "# Affine 계층 그래프\n",
    "\n",
    "class Affine:\n",
    "    def __init__(self, W, b):\n",
    "        self.params = [W,b]\n",
    "        self.grads = [np.zeros_like(W), np.zeros_like(b)]\n",
    "        self.x = None\n",
    "        \n",
    "    def forward(self, x):\n",
    "        W, b = self.params\n",
    "        out = np.matmul(x, W) + b\n",
    "        self.x = x\n",
    "        return x\n",
    "    \n",
    "    def backward(self, dout):\n",
    "        W, b = self.params\n",
    "        dx = np.matmul(dout, W.T)\n",
    "        dW = np.matmul(self.x.T, dout)\n",
    "        db = np.sum(dout, axis = 0)\n",
    "        \n",
    "        self.grads[0][...] = dW\n",
    "        self.grads[1][...] = db\n",
    "        return dx"
   ]
  },
  {
   "cell_type": "code",
   "execution_count": 17,
   "metadata": {},
   "outputs": [],
   "source": [
    "class SGD:\n",
    "    def __init__(self, lr=0.01):\n",
    "        self.lr = lr\n",
    "        \n",
    "    def update(self, params, grads): # params 신경망 가중치, grads 기울기\n",
    "        for i in range(len(params)):\n",
    "            params[i] -= self.lr * grads[i]"
   ]
  },
  {
   "cell_type": "code",
   "execution_count": 2,
   "metadata": {},
   "outputs": [
    {
     "name": "stdout",
     "output_type": "stream",
     "text": [
      "x :  [[0. 1. 2.]\n",
      " [3. 4. 5.]]\n",
      "x.sum :  [ 3. 12.]\n"
     ]
    }
   ],
   "source": [
    "import cupy as cp\n",
    "x = cp.arange(6).reshape(2, 3).astype('f')\n",
    "print(\"x : \", x)\n",
    "print(\"x.sum : \",x.sum(axis=1))"
   ]
  },
  {
   "cell_type": "code",
   "execution_count": null,
   "metadata": {},
   "outputs": [],
   "source": []
  },
  {
   "cell_type": "code",
   "execution_count": null,
   "metadata": {},
   "outputs": [],
   "source": []
  }
 ],
 "metadata": {
  "kernelspec": {
   "display_name": "Python 3",
   "language": "python",
   "name": "python3"
  },
  "language_info": {
   "codemirror_mode": {
    "name": "ipython",
    "version": 3
   },
   "file_extension": ".py",
   "mimetype": "text/x-python",
   "name": "python",
   "nbconvert_exporter": "python",
   "pygments_lexer": "ipython3",
   "version": "3.7.6"
  }
 },
 "nbformat": 4,
 "nbformat_minor": 4
}
