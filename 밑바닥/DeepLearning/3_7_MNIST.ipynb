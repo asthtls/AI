{
 "cells": [
  {
   "cell_type": "code",
   "execution_count": 1,
   "metadata": {},
   "outputs": [
    {
     "name": "stdout",
     "output_type": "stream",
     "text": [
      "x_train.shape(행렬) (60000, 784)\n",
      "t_train.shape(행렬) (60000,)\n",
      "x_test.shape (10000, 784)\n",
      "t_test.shape (10000,)\n"
     ]
    }
   ],
   "source": [
    "# 손글씨 숫자 인식\n",
    "# MNIST 데이터셋 사용 - 손글씨 숫자 이미지 집합 기계학습 분야에서 아주 유명한 데이터셋\n",
    "\n",
    "\n",
    "import sys, os \n",
    "sys.path.append(os.pardir) #부모 디렉터리의 파일을 가져올 수 있도록 설정\n",
    "from mnist import load_mnist\n",
    "\n",
    "# 몇 분 정도 걸림\n",
    "(x_train, t_train), (x_test, t_test) = load_mnist(flatten = True, normalize = False) \n",
    "\n",
    "# 각 데이터 형상 출력\n",
    "print(\"x_train.shape(행렬)\",x_train.shape)\n",
    "print(\"t_train.shape(행렬)\",t_train.shape)\n",
    "print(\"x_test.shape\",x_test.shape)\n",
    "print(\"t_test.shape\",t_test.shape)"
   ]
  },
  {
   "cell_type": "code",
   "execution_count": 3,
   "metadata": {},
   "outputs": [
    {
     "name": "stdout",
     "output_type": "stream",
     "text": [
      "label :  5\n",
      "(784,)\n",
      "(28, 28)\n"
     ]
    }
   ],
   "source": [
    "import sys, os\n",
    "sys.path.append(os.pardir) # 부모 디렉토리의 파일을 가져올 수 있도록 설정\n",
    "import numpy as np\n",
    "from mnist import load_mnist\n",
    "from PIL import Image\n",
    "\n",
    "def img_show(img):\n",
    "    pil_img = Image.fromarray(np.uint8(img))\n",
    "    pil_img.show()\n",
    "    \n",
    "(x_train, t_train),(x_trst, t_test) = load_mnist(flatten=True, normalize=False)\n",
    "\n",
    "img = x_train[0]\n",
    "label = t_train[0]\n",
    "print(\"label : \",label)\n",
    "\n",
    "print(img.shape)\n",
    "img = img.reshape(28,28) # 원래 이미지의 모양으로 변형\n",
    "print(img.shape)\n",
    "\n",
    "img_show(img)"
   ]
  }
 ],
 "metadata": {
  "kernelspec": {
   "display_name": "Python 3",
   "language": "python",
   "name": "python3"
  },
  "language_info": {
   "codemirror_mode": {
    "name": "ipython",
    "version": 3
   },
   "file_extension": ".py",
   "mimetype": "text/x-python",
   "name": "python",
   "nbconvert_exporter": "python",
   "pygments_lexer": "ipython3",
   "version": "3.8.5"
  }
 },
 "nbformat": 4,
 "nbformat_minor": 4
}
