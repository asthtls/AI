{
 "cells": [
  {
   "cell_type": "code",
   "execution_count": 2,
   "metadata": {},
   "outputs": [
    {
     "name": "stdout",
     "output_type": "stream",
     "text": [
      "0.0\n"
     ]
    }
   ],
   "source": [
    "import numpy as np\n",
    "# 나쁜 구현 예 \n",
    "\n",
    "def numerical_diff(f,k):\n",
    "    h = 10e-50\n",
    "    return (f(x+h) - f(x))/h\n",
    "# h의 값이 너무 작은 값을 받는다. 최대한 0에 가까워야 하므로 10e-50지만 0이 50개면 0으로 나온다.\n",
    "# 반올림 오차 발생\n",
    "# 반올림 오차 - 작은값(소수점 8자리 이하) 생략되어 최종 계산 결과에 ㅇ오차가 생기게 한다. \n",
    "# 파이썬에서는 반올림 오차로 밑의 코드가 있다.\n",
    "\n",
    "print(np.float32(1e-50)) # 0.0출력\n",
    "\n",
    "# 그러므로 h = 10^-4 정도의 값을 이용.\n",
    "\n",
    "# 두 번째f의 차분과 관련 \n",
    "\n"
   ]
  },
  {
   "cell_type": "code",
   "execution_count": 3,
   "metadata": {},
   "outputs": [],
   "source": [
    "\n"
   ]
  },
  {
   "cell_type": "code",
   "execution_count": 10,
   "metadata": {},
   "outputs": [
    {
     "data": {
      "image/png": "[encoded data removed]",
      "text/plain": [
       "<Figure size 432x288 with 1 Axes>"
      ]
     },
     "metadata": {
      "needs_background": "light"
     },
     "output_type": "display_data"
    },
    {
     "name": "stdout",
     "output_type": "stream",
     "text": [
      "0.1999999999990898\n",
      "0.2999999999986347\n"
     ]
    }
   ],
   "source": [
    "import numpy as np\n",
    "import matplotlib.pylab as plt\n",
    "\n",
    "def numerical_diff(f, x):\n",
    "    h = 1e-4 # 0.0001\n",
    "    return (f(x+h) - f(x-h)) / (2*h)\n",
    "\n",
    "# y = 0.01x^2 + 0.1x \n",
    "def function_1(x):\n",
    "    return 0.01*x**2 + 0.1*x\n",
    "\n",
    "x = np.arange(0.0, 20.0, 0.1) # 0.0부터 20.0까지 0.1씩 증가\n",
    "y = function_1(x)\n",
    "plt.xlabel(\"x\") # 그래프 x 축 이름 x\n",
    "plt.ylabel(\"y\") # 그래프 y 축 이름 y\n",
    "plt.plot(x,y) \n",
    "plt.show() # \n",
    "\n",
    "\n",
    "print(numerical_diff(function_1, 5)) \n",
    "print(numerical_diff(function_1, 10))\n",
    "\n",
    "\n",
    "#f(x)의 변화량 - 미분 - 함수의 기울기\n",
    "# f(x) = 0.01x^2 + 0.1x의 해석적 해법 0.02x+1 \n",
    "# x가 5, 10일 경우의 진정한 미분은 0.2와 0.3 - 오차가 작음\n",
    "\n",
    "\n"
   ]
  },
  {
   "cell_type": "code",
   "execution_count": 14,
   "metadata": {},
   "outputs": [],
   "source": [
    "import numpy as np\n",
    "import matplotlib.pylab as plt\n",
    "\n",
    "# f(x0, x1) = x^2^1 + x^2^1\n",
    "\n",
    "def function_2(x):\n",
    "    return x[0]**2 + x[1]**2\n"
   ]
  },
  {
   "cell_type": "code",
   "execution_count": 16,
   "metadata": {},
   "outputs": [
    {
     "data": {
      "text/plain": [
       "6.00000000000378"
      ]
     },
     "execution_count": 16,
     "metadata": {},
     "output_type": "execute_result"
    }
   ],
   "source": [
    "# 편미분을 구하는 방법\n",
    "def function_tmp1(x0):\n",
    "    return x0 * x0 + 4.0**2.0\n",
    "\n",
    "numerical_diff(function_tmp1, 3.0)"
   ]
  },
  {
   "cell_type": "code",
   "execution_count": 17,
   "metadata": {},
   "outputs": [
    {
     "data": {
      "text/plain": [
       "7.999999999999119"
      ]
     },
     "execution_count": 17,
     "metadata": {},
     "output_type": "execute_result"
    }
   ],
   "source": [
    "# 편미분을 구하는 방법\n",
    "def function_tmp1(x1):\n",
    "    return 3.0**2.0 + x1*x1\n",
    "\n",
    "numerical_diff(function_tmp1, 4.0)"
   ]
  }
 ],
 "metadata": {
  "kernelspec": {
   "display_name": "Python 3",
   "language": "python",
   "name": "python3"
  },
  "language_info": {
   "codemirror_mode": {
    "name": "ipython",
    "version": 3
   },
   "file_extension": ".py",
   "mimetype": "text/x-python",
   "name": "python",
   "nbconvert_exporter": "python",
   "pygments_lexer": "ipython3",
   "version": "3.7.6"
  }
 },
 "nbformat": 4,
 "nbformat_minor": 4
}
