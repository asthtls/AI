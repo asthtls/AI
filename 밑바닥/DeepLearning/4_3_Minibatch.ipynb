{
 "cells": [
  {
   "cell_type": "code",
   "execution_count": 1,
   "metadata": {},
   "outputs": [
    {
     "name": "stdout",
     "output_type": "stream",
     "text": [
      "(60000, 784)\n",
      "(60000, 10)\n"
     ]
    }
   ],
   "source": [
    "# 미니배치 학습\n",
    "import sys,os\n",
    "sys.path.append(os.pardir) # 부모 디렉토리 참조\n",
    "import numpy as np\n",
    "from mnist import load_mnist\n",
    "\n",
    "\n",
    "\n",
    "\n",
    "(x_train, t_train), (x_test, t_test) = \\\n",
    "    load_mnist(normalize=True, one_hot_label =True)\n",
    "\n",
    "print(x_train.shape) # 6만개 훈련 데이터 784차원\n",
    "print(t_train.shape)  # 6만개 정답 레이블 - 10차원\n",
    "\n",
    "\n",
    "# 이 데이터 중에서 무작위 10개만 뽑아내기\n",
    "\n",
    "train_size = x_train.shape[0]\n",
    "batch_size = 10\n",
    "batch_mask = np.random.choice(train_size, batch_size)\n",
    "x_batch = x_train[batch_mask]\n",
    "t_batch = t_train[batch_mask]\n",
    "\n",
    "# np.random.choice()는 지정한 범위의 수 중에서 무작위로 원하는 개수만 꺼낼 수 있다.\n",
    "# np.random.choice(60000, 10)  0에서 60000 미만의 수 중에서 무작위로 10개를 골라낸다.\n"
   ]
  },
  {
   "cell_type": "code",
   "execution_count": 4,
   "metadata": {},
   "outputs": [],
   "source": [
    "#  미니배치 배치 데이터를 처리할 수 있는 교차 엔트로피 오차 구현\n",
    "# 기존 교차 엔트로피 오차를 조금만 수정 - 데이터가 하나인 경우와 배치로 묶여 입력될 경우 모두를 처리할 수 있도록 구현\n",
    "\n",
    "def cross_entropy_error(y,t) : \n",
    "    if y.ndim == 1:\n",
    "        t = t.reshape(1, t.size)\n",
    "        y = y.reshape(1, y.size)\n",
    "        \n",
    "        \n",
    "    batch_size = y.shape[0]\n",
    "    return -np.sum(t * np.log(u)) / batch_size\n",
    "\n",
    "# y는 신경망의 출력, t는 정답 레이블 y가 1차원이라면 \n",
    "# 데이터 하나당 교차 엔트로피 오차를 구하는 경우는 reshape 함수로 데이터의 형상을 바꿔준다.\n",
    "\n"
   ]
  },
  {
   "cell_type": "code",
   "execution_count": 5,
   "metadata": {},
   "outputs": [],
   "source": [
    "# 정답 레이블이 원-핫 인코딩이 아니라 '2'나 '7'등의 숫자 레이블로 주어졌을 때 교차 엔트리 오차\n",
    "\n",
    "def cross_entropy_error(y,t) : \n",
    "    if y.ndim == 1:\n",
    "        t = t.reshape(1, t.size)\n",
    "        y = y.reshape(1, y.size)\n",
    "        \n",
    "        \n",
    "    batch_size = y.shape[0]\n",
    "    return -np.sum(np.log(y[np.arange(batch_size),t])) / batch_size\n",
    "# np.arange(batch_size)는 0부터 batch_szie - 1 까지의 배열을 생성한다.\n",
    "# batch_size가 5이면 np.arange(batch_szie)는 [0,1,2,3,4]라는 넘파이 배열을 생성한다. \n",
    "# 이 예에서 y[np.arange(batch_size),t] 는 [y[0,2],y[1,7],y[2,0],y[3,9],y[4,4]] 라는 넘파이 배열 생성"
   ]
  },
  {
   "cell_type": "code",
   "execution_count": null,
   "metadata": {},
   "outputs": [],
   "source": []
  }
 ],
 "metadata": {
  "kernelspec": {
   "display_name": "Python 3",
   "language": "python",
   "name": "python3"
  },
  "language_info": {
   "codemirror_mode": {
    "name": "ipython",
    "version": 3
   },
   "file_extension": ".py",
   "mimetype": "text/x-python",
   "name": "python",
   "nbconvert_exporter": "python",
   "pygments_lexer": "ipython3",
   "version": "3.8.0"
  }
 },
 "nbformat": 4,
 "nbformat_minor": 4
}
