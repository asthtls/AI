{
 "cells": [
  {
   "cell_type": "code",
   "execution_count": 6,
   "metadata": {},
   "outputs": [
    {
     "name": "stdout",
     "output_type": "stream",
     "text": [
      "[[-1.15489019 -0.47222778 -1.57250635]\n",
      " [-2.1555243  -2.8095467   0.96038844]]\n",
      "[-2.63290598 -2.8119287  -0.07915421]\n",
      "0.1335056564283909\n",
      "[[ 0.04084041  0.03414613 -0.07498654]\n",
      " [ 0.06126061  0.0512192  -0.11247981]]\n"
     ]
    }
   ],
   "source": [
    "# 신경망에서의 기울기\n",
    "\n",
    "import sys,os\n",
    "sys.path.append(os.pardir)\n",
    "import numpy as np\n",
    "from functions import softmax, cross_entropy_error\n",
    "from gradient import numerical_gradient\n",
    "\n",
    "class simpleNet:\n",
    "    def __init__(self):\n",
    "        self.W = np.random.randn(2,3) # 정규분포로 초기화\n",
    "        \n",
    "    def predict(self, x):\n",
    "        return np.dot(x, self.W)\n",
    "    \n",
    "    def loss(self, x, t):\n",
    "        z = self.predict(x)\n",
    "        y = softmax(z)\n",
    "        loss = cross_entropy_error(y, t)\n",
    "        \n",
    "        return loss\n",
    "    \n",
    "net = simpleNet()\n",
    "print(net.W) # 가중치 매개변수\n",
    "\n",
    "\n",
    "x = np.array([0.6, 0.9])\n",
    "p = net.predict(x)\n",
    "print(p)\n",
    "\n",
    "np.argmax(p) # 최대값의 인덱스\n",
    "\n",
    "t = np.array([0, 0 , 1]) #  정답 레이블\n",
    "print(net.loss(x, t))\n",
    "\n",
    "\n",
    "def f(W):\n",
    "    return net.loss(x, t)\n",
    "\n",
    "dW = numerical_gradient(f, net.W)\n",
    "print(dW)\n",
    "\n",
    "# lambda 기법\n",
    "\n",
    "f = lambda w : net.loss(x, t)\n",
    "dW = numerical_gradient(f, net.W)"
   ]
  }
 ],
 "metadata": {
  "kernelspec": {
   "display_name": "Python 3",
   "language": "python",
   "name": "python3"
  },
  "language_info": {
   "codemirror_mode": {
    "name": "ipython",
    "version": 3
   },
   "file_extension": ".py",
   "mimetype": "text/x-python",
   "name": "python",
   "nbconvert_exporter": "python",
   "pygments_lexer": "ipython3",
   "version": "3.7.6"
  }
 },
 "nbformat": 4,
 "nbformat_minor": 4
}
