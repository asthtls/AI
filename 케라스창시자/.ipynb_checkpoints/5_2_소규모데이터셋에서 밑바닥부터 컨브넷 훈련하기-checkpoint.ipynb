{
 "cells": [
  {
   "cell_type": "code",
   "execution_count": 17,
   "metadata": {},
   "outputs": [],
   "source": [
    "# 훈련, 검증, 테스트 폴더로 이미지 복사하기\n",
    "\n",
    "import os, shutil\n",
    "\n",
    "original_dataset_dir = './datasets/train/train' # 원본 데이터셋을 압축 해제한 디렉토리 경로\n",
    "\n",
    "base_dir = './datasets/cats_and_dogs_small' # 소규모 데이터셋을 저장할 디렉터리\n",
    "if os.path.exists(base_dir):  # 반복적인 실행을 위해 디렉토리를 삭제합니다.\n",
    "    shutil.rmtree(base_dir)   \n",
    "os.mkdir(base_dir) # 생성\n",
    "\n",
    "# 훈련, 검증, 테스트 분할을 위한 디렉터리\n",
    "train_dir = os.path.join(base_dir, 'train')\n",
    "os.mkdir(train_dir)\n",
    "validation_dir = os.path.join(base_dir, 'validation')\n",
    "os.mkdir(validation_dir)\n",
    "test_dir = os.path.join(base_dir, 'test')\n",
    "os.mkdir(test_dir)\n",
    "\n",
    "# 훈련용 고양이 사진 디렉터리\n",
    "train_cats_dir = os.path.join(train_dir, 'cats')\n",
    "os.mkdir(train_cats_dir)\n",
    "\n",
    "# 훈련용 강아지 사진 디렉터리\n",
    "train_dogs_dir = os.path.join(train_dir, 'dogs')\n",
    "os.mkdir(train_dogs_dir)\n",
    "\n",
    "# 검증용 고양이 사진 디렉터리\n",
    "validation_cats_dir = os.path.join(validation_dir, 'cats')\n",
    "os.mkdir(validation_cats_dir)\n",
    "\n",
    "# 검증용 강아지 사진 디렉터리\n",
    "validation_dogs_dir = os.path.join(validation_dir, 'dogs')\n",
    "os.mkdir(validation_dogs_dir)\n",
    "\n",
    "# 테스트용 고양이 사진 디렉터리\n",
    "test_cats_dir = os.path.join(test_dir, 'cats')\n",
    "os.mkdir(test_cats_dir)\n",
    "\n",
    "# 테스트용 강아지 사진 디렉터리\n",
    "test_dogs_dir = os.path.join(test_dir, 'dogs')\n",
    "os.mkdir(test_dogs_dir)\n",
    "\n",
    "# 처음 1,000개 고양이 이미지를 train_cats_dir에 복사\n",
    "\n",
    "fnames = ['cat.{}.jpg'.format(i) for i in range(1000)]\n",
    "for fname in fnames:\n",
    "    src = os.path.join(original_dataset_dir, fname)\n",
    "    dst = os.path.join(train_cats_dir, fname)\n",
    "    shutil.copyfile(src, dst)\n",
    "    \n",
    "fnames = ['cat.{}.jpg'.format(i) for i in range(1000,1500)] # validation_cats_dir에 복사\n",
    "for fname in fnames:\n",
    "    src = os.path.join(original_dataset_dir, fname)\n",
    "    dst = os.path.join(validation_cats_dir, fname)\n",
    "    shutil.copyfile(src, dst)\n",
    "    \n",
    "fnames = ['cat.{}.jpg'.format(i) for i in range(1500,2000)] # test_cats_dir 에 복사\n",
    "for fname in fnames:\n",
    "    src = os.path.join(original_dataset_dir, fname)\n",
    "    dst = os.path.join(test_cats_dir, fname)\n",
    "    shutil.copyfile(src, dst)\n",
    "\n",
    "fnames = ['dog.{}.jpg'.format(i) for i in range(1000)]\n",
    "for fname in fnames:\n",
    "    src = os.path.join(original_dataset_dir, fname)\n",
    "    dst = os.path.join(train_dogs_dir, fname)\n",
    "    shutil.copyfile(src, dst)\n",
    "    \n",
    "fnames = ['dog.{}.jpg'.format(i) for i in range(1000,1500)]\n",
    "for fname in fnames:\n",
    "    src = os.path.join(original_dataset_dir, fname)\n",
    "    dst = os.path.join(validation_dogs_dir, fname)\n",
    "    shutil.copyfile(src, dst)\n",
    "\n",
    "fnames = ['dog.{}.jpg'.format(i) for i in range(1500,2000)]\n",
    "for fname in fnames:\n",
    "    src = os.path.join(original_dataset_dir, fname)\n",
    "    dst = os.path.join(test_dogs_dir, fname)\n",
    "    shutil.copyfile(src, dst)\n",
    "        \n",
    "    "
   ]
  },
  {
   "cell_type": "code",
   "execution_count": 21,
   "metadata": {},
   "outputs": [
    {
     "name": "stdout",
     "output_type": "stream",
     "text": [
      "훈련용 고양이 이미지 전체 개수 :  1000\n",
      "훈련용 강아지 이미지 전체 개수 :  1000\n",
      "검증용 고양이 이미지 전체 개수 :  500\n",
      "검증용 강아지 이미지 전체 개수 :  500\n",
      "테스트용 고양이 이미지 전체 개수 :  500\n",
      "테스트용 강아지 이미지 전체 개수 :  500\n"
     ]
    }
   ],
   "source": [
    "# 각 분할 사진 개수 카운트\n",
    "\n",
    "print('훈련용 고양이 이미지 전체 개수 : ', len(os.listdir(train_cats_dir)))\n",
    "print('훈련용 강아지 이미지 전체 개수 : ', len(os.listdir(train_dogs_dir)))\n",
    "print('검증용 고양이 이미지 전체 개수 : ', len(os.listdir(validation_cats_dir)))\n",
    "print('검증용 강아지 이미지 전체 개수 : ', len(os.listdir(validation_dogs_dir)))\n",
    "print('테스트용 고양이 이미지 전체 개수 : ', len(os.listdir(test_cats_dir)))\n",
    "print('테스트용 강아지 이미지 전체 개수 : ', len(os.listdir(test_dogs_dir)))\n"
   ]
  },
  {
   "cell_type": "code",
   "execution_count": 22,
   "metadata": {},
   "outputs": [
    {
     "name": "stdout",
     "output_type": "stream",
     "text": [
      "Model: \"sequential\"\n",
      "_________________________________________________________________\n",
      "Layer (type)                 Output Shape              Param #   \n",
      "=================================================================\n",
      "conv2d (Conv2D)              (None, 148, 148, 32)      896       \n",
      "_________________________________________________________________\n",
      "max_pooling2d (MaxPooling2D) (None, 74, 74, 32)        0         \n",
      "_________________________________________________________________\n",
      "conv2d_1 (Conv2D)            (None, 72, 72, 64)        18496     \n",
      "_________________________________________________________________\n",
      "max_pooling2d_1 (MaxPooling2 (None, 36, 36, 64)        0         \n",
      "_________________________________________________________________\n",
      "conv2d_2 (Conv2D)            (None, 34, 34, 128)       73856     \n",
      "_________________________________________________________________\n",
      "max_pooling2d_2 (MaxPooling2 (None, 17, 17, 128)       0         \n",
      "_________________________________________________________________\n",
      "conv2d_3 (Conv2D)            (None, 15, 15, 128)       147584    \n",
      "_________________________________________________________________\n",
      "max_pooling2d_3 (MaxPooling2 (None, 7, 7, 128)         0         \n",
      "_________________________________________________________________\n",
      "flatten (Flatten)            (None, 6272)              0         \n",
      "_________________________________________________________________\n",
      "dense (Dense)                (None, 512)               3211776   \n",
      "_________________________________________________________________\n",
      "dense_1 (Dense)              (None, 1)                 513       \n",
      "=================================================================\n",
      "Total params: 3,453,121\n",
      "Trainable params: 3,453,121\n",
      "Non-trainable params: 0\n",
      "_________________________________________________________________\n"
     ]
    }
   ],
   "source": [
    "# 강아지 vs 고양이 분류를 위한 소규모 컨브넷 만들기\n",
    "from tensorflow.keras import layers\n",
    "from tensorflow.keras import models\n",
    "\n",
    "model = models.Sequential()\n",
    "model.add(layers.Conv2D(32, (3,3), activation='relu',\n",
    "                       input_shape=(150, 150, 3)))\n",
    "model.add(layers.MaxPooling2D((2,2)))\n",
    "model.add(layers.Conv2D(64, (3,3), activation='relu'))\n",
    "model.add(layers.MaxPooling2D((2,2)))\n",
    "model.add(layers.Conv2D(128, (3,3), activation='relu'))\n",
    "model.add(layers.MaxPooling2D((2,2)))\n",
    "model.add(layers.Conv2D(128, (3,3), activation='relu'))\n",
    "model.add(layers.MaxPooling2D((2,2)))\n",
    "model.add(layers.Flatten())\n",
    "model.add(layers.Dense(512, activation='relu'))\n",
    "model.add(layers.Dense(1, activation='softmax'))\n",
    "\n",
    "model.summary()"
   ]
  },
  {
   "cell_type": "code",
   "execution_count": 23,
   "metadata": {},
   "outputs": [],
   "source": [
    "# 모델의 훈련 설정하기\n",
    "\n",
    "from tensorflow.keras import optimizers\n",
    "\n",
    "model.compile(loss = 'binary_crossentropy',\n",
    "             optimizer = optimizers.RMSprop(lr=1e-4),\n",
    "             metrics=['accuracy'])\n"
   ]
  },
  {
   "cell_type": "code",
   "execution_count": 25,
   "metadata": {},
   "outputs": [
    {
     "name": "stdout",
     "output_type": "stream",
     "text": [
      "Found 2000 images belonging to 2 classes.\n",
      "Found 1000 images belonging to 2 classes.\n"
     ]
    }
   ],
   "source": [
    "# ImageDataGenerator를 사용해 디렉터리에서 이미지 읽기\n",
    "\n",
    "from tensorflow.keras.preprocessing.image import ImageDataGenerator\n",
    "\n",
    "train_datagen = ImageDataGenerator(rescale=1./255) # 모든 이미지를 1/255 스케일로 조정\n",
    "test_datagen = ImageDataGenerator(rescale=1./255)\n",
    "\n",
    "train_generator = train_datagen.flow_from_directory(\n",
    "        train_dir, # 타깃 디렉터리\n",
    "        target_size=(150,150), # 모든 이미지 150 x 150 크기로 조정\n",
    "        batch_size = 20, \n",
    "        class_mode='binary') # binary_crossentropy 손실을 사용하기 떼문에 이진 테이블 필요\n",
    "\n",
    "validation_generator = test_datagen.flow_from_directory(\n",
    "        validation_dir,\n",
    "        target_size=(150,150),\n",
    "        batch_size=20,\n",
    "        class_mode='binary')"
   ]
  },
  {
   "cell_type": "code",
   "execution_count": 38,
   "metadata": {},
   "outputs": [
    {
     "name": "stderr",
     "output_type": "stream",
     "text": [
      "C:\\Users\\as_th\\anaconda3\\envs\\ai1\\lib\\site-packages\\tensorflow\\python\\keras\\engine\\training.py:1844: UserWarning: `Model.fit_generator` is deprecated and will be removed in a future version. Please use `Model.fit`, which supports generators.\n",
      "  warnings.warn('`Model.fit_generator` is deprecated and '\n"
     ]
    },
    {
     "name": "stdout",
     "output_type": "stream",
     "text": [
      "Epoch 1/30\n",
      "100/100 [==============================] - 41s 413ms/step - loss: 0.0365 - acc: 0.5000 - val_loss: 1.1332 - val_acc: 0.5000\n",
      "Epoch 2/30\n",
      "100/100 [==============================] - 39s 393ms/step - loss: 0.0283 - acc: 0.5000 - val_loss: 1.0393 - val_acc: 0.5000\n",
      "Epoch 3/30\n",
      "100/100 [==============================] - 39s 392ms/step - loss: 0.0271 - acc: 0.5000 - val_loss: 1.0421 - val_acc: 0.5000\n",
      "Epoch 4/30\n",
      "100/100 [==============================] - 40s 400ms/step - loss: 0.0222 - acc: 0.5000 - val_loss: 1.0497 - val_acc: 0.5000\n",
      "Epoch 5/30\n",
      "100/100 [==============================] - 41s 410ms/step - loss: 0.0181 - acc: 0.5000 - val_loss: 1.2621 - val_acc: 0.5000\n",
      "Epoch 6/30\n",
      "100/100 [==============================] - 39s 395ms/step - loss: 0.0229 - acc: 0.5000 - val_loss: 1.3875 - val_acc: 0.5000\n",
      "Epoch 7/30\n",
      "100/100 [==============================] - 39s 394ms/step - loss: 0.0217 - acc: 0.5000 - val_loss: 1.1797 - val_acc: 0.5000\n",
      "Epoch 8/30\n",
      "100/100 [==============================] - 39s 394ms/step - loss: 0.0132 - acc: 0.5000 - val_loss: 1.4235 - val_acc: 0.5000\n",
      "Epoch 9/30\n",
      "100/100 [==============================] - 39s 394ms/step - loss: 0.0185 - acc: 0.5000 - val_loss: 1.2919 - val_acc: 0.5000\n",
      "Epoch 10/30\n",
      "100/100 [==============================] - 40s 400ms/step - loss: 0.0177 - acc: 0.5000 - val_loss: 1.3195 - val_acc: 0.5000\n",
      "Epoch 11/30\n",
      "100/100 [==============================] - 40s 399ms/step - loss: 0.0085 - acc: 0.5000 - val_loss: 1.3771 - val_acc: 0.5000\n",
      "Epoch 12/30\n",
      "100/100 [==============================] - 39s 393ms/step - loss: 0.0117 - acc: 0.5000 - val_loss: 1.4876 - val_acc: 0.5000\n",
      "Epoch 13/30\n",
      "100/100 [==============================] - 41s 414ms/step - loss: 0.0067 - acc: 0.5000 - val_loss: 2.2318 - val_acc: 0.5000\n",
      "Epoch 14/30\n",
      "100/100 [==============================] - 42s 419ms/step - loss: 0.0088 - acc: 0.5000 - val_loss: 1.4216 - val_acc: 0.5000\n",
      "Epoch 15/30\n",
      "100/100 [==============================] - 40s 402ms/step - loss: 0.0101 - acc: 0.5000 - val_loss: 1.3667 - val_acc: 0.5000\n",
      "Epoch 16/30\n",
      "100/100 [==============================] - 40s 402ms/step - loss: 0.0069 - acc: 0.5000 - val_loss: 1.5372 - val_acc: 0.5000\n",
      "Epoch 17/30\n",
      "100/100 [==============================] - 42s 424ms/step - loss: 0.0063 - acc: 0.5000 - val_loss: 1.5559 - val_acc: 0.5000\n",
      "Epoch 18/30\n",
      "100/100 [==============================] - 41s 411ms/step - loss: 0.0125 - acc: 0.5000 - val_loss: 1.6245 - val_acc: 0.5000\n",
      "Epoch 19/30\n",
      "100/100 [==============================] - 41s 409ms/step - loss: 0.0048 - acc: 0.5000 - val_loss: 1.5909 - val_acc: 0.5000\n",
      "Epoch 20/30\n",
      "100/100 [==============================] - 40s 399ms/step - loss: 0.0094 - acc: 0.5000 - val_loss: 1.6793 - val_acc: 0.5000\n",
      "Epoch 21/30\n",
      "100/100 [==============================] - 40s 397ms/step - loss: 0.0096 - acc: 0.5000 - val_loss: 1.6419 - val_acc: 0.5000\n",
      "Epoch 22/30\n",
      "100/100 [==============================] - 39s 393ms/step - loss: 0.0119 - acc: 0.5000 - val_loss: 1.5545 - val_acc: 0.5000\n",
      "Epoch 23/30\n",
      "100/100 [==============================] - 39s 393ms/step - loss: 0.0049 - acc: 0.5000 - val_loss: 1.7135 - val_acc: 0.5000\n",
      "Epoch 24/30\n",
      "100/100 [==============================] - 39s 393ms/step - loss: 0.0019 - acc: 0.5000 - val_loss: 2.0274 - val_acc: 0.5000\n",
      "Epoch 25/30\n",
      "100/100 [==============================] - 42s 425ms/step - loss: 0.0056 - acc: 0.5000 - val_loss: 1.7151 - val_acc: 0.5000\n",
      "Epoch 26/30\n",
      "100/100 [==============================] - 40s 402ms/step - loss: 0.0064 - acc: 0.5000 - val_loss: 1.6675 - val_acc: 0.5000\n",
      "Epoch 27/30\n",
      "100/100 [==============================] - 39s 392ms/step - loss: 0.0162 - acc: 0.5000 - val_loss: 1.6422 - val_acc: 0.5000\n",
      "Epoch 28/30\n",
      "100/100 [==============================] - 39s 393ms/step - loss: 0.0108 - acc: 0.5000 - val_loss: 1.8056 - val_acc: 0.5000\n",
      "Epoch 29/30\n",
      "100/100 [==============================] - 39s 393ms/step - loss: 0.0061 - acc: 0.5000 - val_loss: 1.8364 - val_acc: 0.5000\n",
      "Epoch 30/30\n",
      "100/100 [==============================] - 39s 393ms/step - loss: 0.0020 - acc: 0.5000 - val_loss: 1.7773 - val_acc: 0.5000\n"
     ]
    }
   ],
   "source": [
    "# 배치 제너레이터를 사용해 모델 훈련하기\n",
    "\n",
    "history = model.fit_generator(\n",
    "      train_generator,\n",
    "      steps_per_epoch=100,\n",
    "      epochs=30,\n",
    "      validation_data=validation_generator,\n",
    "      validation_steps=50)"
   ]
  },
  {
   "cell_type": "code",
   "execution_count": 39,
   "metadata": {},
   "outputs": [],
   "source": [
    "# 모델 저장하기\n",
    "\n",
    "model.save('cats_and_dogs_small_1.h5') # 저장 이름 h5로 저장해야 한다.\n"
   ]
  },
  {
   "cell_type": "code",
   "execution_count": 40,
   "metadata": {},
   "outputs": [
    {
     "data": {
      "image/png": "[encoded data removed]",
      "text/plain": [
       "<Figure size 432x288 with 1 Axes>"
      ]
     },
     "metadata": {
      "needs_background": "light"
     },
     "output_type": "display_data"
    },
    {
     "data": {
      "image/png": "[encoded data removed]",
      "text/plain": [
       "<Figure size 432x288 with 1 Axes>"
      ]
     },
     "metadata": {
      "needs_background": "light"
     },
     "output_type": "display_data"
    }
   ],
   "source": [
    "# 훈련의 정확도와 손실 그래프 그리기\n",
    "import matplotlib.pyplot as plt\n",
    "acc = history.history['acc']\n",
    "val_acc = history.history['val_acc']\n",
    "loss = history.history['loss']\n",
    "val_loss = history.history['val_loss']\n",
    "\n",
    "epochs = range(len(acc))\n",
    "\n",
    "plt.plot(epochs, acc, 'bo', label='Training acc')\n",
    "plt.plot(epochs, val_acc, 'b', label='Validation acc')\n",
    "plt.title('Training and validation accuracy')\n",
    "plt.legend()\n",
    "\n",
    "plt.figure()\n",
    "\n",
    "plt.plot(epochs, loss, 'bo', label='Training loss')\n",
    "plt.plot(epochs, val_loss, 'b', label='Validation loss')\n",
    "plt.title('Training and validation loss')\n",
    "plt.legend()\n",
    "\n",
    "plt.show()"
   ]
  },
  {
   "cell_type": "code",
   "execution_count": 41,
   "metadata": {},
   "outputs": [],
   "source": [
    "\n",
    "# ImageDataGenerator를 사용해 데이터 증식 설정하기\n",
    "\n",
    "datagen = ImageDataGenerator(\n",
    "    rotation_range=20,\n",
    "    width_shift_range=0.1,\n",
    "    height_shift_range=0.1,\n",
    "    shear_range=0.1,\n",
    "    zoom_range=0.1,\n",
    "    horizontal_flip=True,\n",
    "    fill_mode='nearest')\n"
   ]
  },
  {
   "cell_type": "code",
   "execution_count": null,
   "metadata": {},
   "outputs": [],
   "source": []
  }
 ],
 "metadata": {
  "kernelspec": {
   "display_name": "ai1",
   "language": "python",
   "name": "ai1"
  },
  "language_info": {
   "codemirror_mode": {
    "name": "ipython",
    "version": 3
   },
   "file_extension": ".py",
   "mimetype": "text/x-python",
   "name": "python",
   "nbconvert_exporter": "python",
   "pygments_lexer": "ipython3",
   "version": "3.8.0"
  }
 },
 "nbformat": 4,
 "nbformat_minor": 4
}
