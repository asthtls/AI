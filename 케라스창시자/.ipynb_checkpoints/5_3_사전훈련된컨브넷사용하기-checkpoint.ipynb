{
 "cells": [
  {
   "cell_type": "code",
   "execution_count": 1,
   "metadata": {},
   "outputs": [],
   "source": [
    "# VGG 합성곱 기반 층 만들기\n",
    "\n",
    "from tensorflow.keras.applications import VGG16\n",
    "\n",
    "conv_base = VGG16(weights='imagenet',\n",
    "                 include_top=False,\n",
    "                 input_shape=(150,150,3))\n",
    "\n"
   ]
  },
  {
   "cell_type": "code",
   "execution_count": 2,
   "metadata": {},
   "outputs": [
    {
     "name": "stdout",
     "output_type": "stream",
     "text": [
      "Model: \"vgg16\"\n",
      "_________________________________________________________________\n",
      "Layer (type)                 Output Shape              Param #   \n",
      "=================================================================\n",
      "input_1 (InputLayer)         [(None, 150, 150, 3)]     0         \n",
      "_________________________________________________________________\n",
      "block1_conv1 (Conv2D)        (None, 150, 150, 64)      1792      \n",
      "_________________________________________________________________\n",
      "block1_conv2 (Conv2D)        (None, 150, 150, 64)      36928     \n",
      "_________________________________________________________________\n",
      "block1_pool (MaxPooling2D)   (None, 75, 75, 64)        0         \n",
      "_________________________________________________________________\n",
      "block2_conv1 (Conv2D)        (None, 75, 75, 128)       73856     \n",
      "_________________________________________________________________\n",
      "block2_conv2 (Conv2D)        (None, 75, 75, 128)       147584    \n",
      "_________________________________________________________________\n",
      "block2_pool (MaxPooling2D)   (None, 37, 37, 128)       0         \n",
      "_________________________________________________________________\n",
      "block3_conv1 (Conv2D)        (None, 37, 37, 256)       295168    \n",
      "_________________________________________________________________\n",
      "block3_conv2 (Conv2D)        (None, 37, 37, 256)       590080    \n",
      "_________________________________________________________________\n",
      "block3_conv3 (Conv2D)        (None, 37, 37, 256)       590080    \n",
      "_________________________________________________________________\n",
      "block3_pool (MaxPooling2D)   (None, 18, 18, 256)       0         \n",
      "_________________________________________________________________\n",
      "block4_conv1 (Conv2D)        (None, 18, 18, 512)       1180160   \n",
      "_________________________________________________________________\n",
      "block4_conv2 (Conv2D)        (None, 18, 18, 512)       2359808   \n",
      "_________________________________________________________________\n",
      "block4_conv3 (Conv2D)        (None, 18, 18, 512)       2359808   \n",
      "_________________________________________________________________\n",
      "block4_pool (MaxPooling2D)   (None, 9, 9, 512)         0         \n",
      "_________________________________________________________________\n",
      "block5_conv1 (Conv2D)        (None, 9, 9, 512)         2359808   \n",
      "_________________________________________________________________\n",
      "block5_conv2 (Conv2D)        (None, 9, 9, 512)         2359808   \n",
      "_________________________________________________________________\n",
      "block5_conv3 (Conv2D)        (None, 9, 9, 512)         2359808   \n",
      "_________________________________________________________________\n",
      "block5_pool (MaxPooling2D)   (None, 4, 4, 512)         0         \n",
      "=================================================================\n",
      "Total params: 14,714,688\n",
      "Trainable params: 14,714,688\n",
      "Non-trainable params: 0\n",
      "_________________________________________________________________\n"
     ]
    }
   ],
   "source": [
    "conv_base.summary()"
   ]
  },
  {
   "cell_type": "code",
   "execution_count": 5,
   "metadata": {},
   "outputs": [
    {
     "name": "stdout",
     "output_type": "stream",
     "text": [
      "Found 2000 images belonging to 2 classes.\n",
      "Found 1000 images belonging to 2 classes.\n",
      "Found 1000 images belonging to 2 classes.\n"
     ]
    }
   ],
   "source": [
    "# 사전 훈련된 합성곱 기반 층을 사용한 특성 추출\n",
    "\n",
    "import os\n",
    "import numpy as np\n",
    "from tensorflow.keras.preprocessing.image import ImageDataGenerator\n",
    "\n",
    "base_dir = './datasets/cats_and_dogs_small'\n",
    "train_dir = os.path.join(base_dir, 'train')\n",
    "validation_dir = os.path.join(base_dir, 'validation')\n",
    "test_dir = os.path.join(base_dir, 'test')\n",
    "\n",
    "datagen = ImageDataGenerator(rescale=1/255.0)\n",
    "batch_size = 20\n",
    "\n",
    "def extract_features(directory, sample_count):\n",
    "    features = np.zeros(shape=(sample_count, 4, 4, 512))\n",
    "    labels = np.zeros(shape=(sample_count))\n",
    "    generator = datagen.flow_from_directory(\n",
    "        directory,\n",
    "        target_size=(150,150),\n",
    "        batch_size = batch_size,\n",
    "        class_mode='binary'\n",
    "    )\n",
    "    i = 0\n",
    "    for inputs_batch, labels_batch in generator:\n",
    "        features_batch = conv_base.predict(inputs_batch)\n",
    "        features[i * batch_size : (i+1) * batch_size] = features_batch\n",
    "        labels[i * batch_size : (i + 1) * batch_size] = labels_batch\n",
    "        i+=1\n",
    "        if i * batch_size >= sample_count : \n",
    "            break\n",
    "    return features, labels\n",
    "\n",
    "train_features, train_labels = extract_features(train_dir, 2000)\n",
    "validation_features, validation_labels = extract_features(validation_dir, 1000)\n",
    "test_features, test_test_labels = extract_features(test_dir, 1000)\n",
    "\n",
    "\n",
    "train_features = np.reshape(train_features, (2000, 4*4*512))\n",
    "validation_features = np.reshape(validation_features, (1000, 4 * 4* 512))\n",
    "test_features = np.reshape(test_features, (1000, 4*4*512))"
   ]
  },
  {
   "cell_type": "code",
   "execution_count": 7,
   "metadata": {},
   "outputs": [
    {
     "name": "stdout",
     "output_type": "stream",
     "text": [
      "Epoch 1/30\n",
      "100/100 [==============================] - 3s 24ms/step - loss: 0.6863 - acc: 0.5941 - val_loss: 0.4467 - val_acc: 0.8430\n",
      "Epoch 2/30\n",
      "100/100 [==============================] - 2s 20ms/step - loss: 0.4552 - acc: 0.7864 - val_loss: 0.3627 - val_acc: 0.8640\n",
      "Epoch 3/30\n",
      "100/100 [==============================] - 2s 20ms/step - loss: 0.3627 - acc: 0.8454 - val_loss: 0.3244 - val_acc: 0.8720\n",
      "Epoch 4/30\n",
      "100/100 [==============================] - 2s 20ms/step - loss: 0.3100 - acc: 0.8725 - val_loss: 0.3044 - val_acc: 0.8900\n",
      "Epoch 5/30\n",
      "100/100 [==============================] - 2s 20ms/step - loss: 0.2814 - acc: 0.8837 - val_loss: 0.2859 - val_acc: 0.8910\n",
      "Epoch 6/30\n",
      "100/100 [==============================] - 2s 20ms/step - loss: 0.2590 - acc: 0.9011 - val_loss: 0.2767 - val_acc: 0.8920\n",
      "Epoch 7/30\n",
      "100/100 [==============================] - 2s 20ms/step - loss: 0.2476 - acc: 0.9068 - val_loss: 0.2673 - val_acc: 0.8920\n",
      "Epoch 8/30\n",
      "100/100 [==============================] - 2s 19ms/step - loss: 0.2402 - acc: 0.9135 - val_loss: 0.2634 - val_acc: 0.8930\n",
      "Epoch 9/30\n",
      "100/100 [==============================] - 2s 21ms/step - loss: 0.2230 - acc: 0.9132 - val_loss: 0.2575 - val_acc: 0.9010\n",
      "Epoch 10/30\n",
      "100/100 [==============================] - 2s 22ms/step - loss: 0.1913 - acc: 0.9259 - val_loss: 0.2542 - val_acc: 0.8960\n",
      "Epoch 11/30\n",
      "100/100 [==============================] - 2s 19ms/step - loss: 0.2081 - acc: 0.9249 - val_loss: 0.2498 - val_acc: 0.8980\n",
      "Epoch 12/30\n",
      "100/100 [==============================] - 2s 20ms/step - loss: 0.1845 - acc: 0.9244 - val_loss: 0.2569 - val_acc: 0.8930\n",
      "Epoch 13/30\n",
      "100/100 [==============================] - 2s 21ms/step - loss: 0.1792 - acc: 0.9369 - val_loss: 0.2528 - val_acc: 0.8920\n",
      "Epoch 14/30\n",
      "100/100 [==============================] - 2s 21ms/step - loss: 0.1515 - acc: 0.9477 - val_loss: 0.2489 - val_acc: 0.8990\n",
      "Epoch 15/30\n",
      "100/100 [==============================] - 2s 21ms/step - loss: 0.1607 - acc: 0.9379 - val_loss: 0.2416 - val_acc: 0.9060\n",
      "Epoch 16/30\n",
      "100/100 [==============================] - 2s 21ms/step - loss: 0.1642 - acc: 0.9337 - val_loss: 0.2409 - val_acc: 0.9070\n",
      "Epoch 17/30\n",
      "100/100 [==============================] - 2s 19ms/step - loss: 0.1394 - acc: 0.9507 - val_loss: 0.2468 - val_acc: 0.8990\n",
      "Epoch 18/30\n",
      "100/100 [==============================] - 2s 19ms/step - loss: 0.1470 - acc: 0.9488 - val_loss: 0.2399 - val_acc: 0.9050\n",
      "Epoch 19/30\n",
      "100/100 [==============================] - 2s 21ms/step - loss: 0.1235 - acc: 0.9638 - val_loss: 0.2444 - val_acc: 0.9030\n",
      "Epoch 20/30\n",
      "100/100 [==============================] - 2s 21ms/step - loss: 0.1589 - acc: 0.9358 - val_loss: 0.2428 - val_acc: 0.9020\n",
      "Epoch 21/30\n",
      "100/100 [==============================] - 2s 23ms/step - loss: 0.1137 - acc: 0.9642 - val_loss: 0.2397 - val_acc: 0.9050\n",
      "Epoch 22/30\n",
      "100/100 [==============================] - 2s 20ms/step - loss: 0.1101 - acc: 0.9625 - val_loss: 0.2403 - val_acc: 0.9030\n",
      "Epoch 23/30\n",
      "100/100 [==============================] - 2s 20ms/step - loss: 0.1156 - acc: 0.9612 - val_loss: 0.2445 - val_acc: 0.9020\n",
      "Epoch 24/30\n",
      "100/100 [==============================] - 2s 21ms/step - loss: 0.1082 - acc: 0.9660 - val_loss: 0.2408 - val_acc: 0.9020\n",
      "Epoch 25/30\n",
      "100/100 [==============================] - 2s 20ms/step - loss: 0.1039 - acc: 0.9685 - val_loss: 0.2430 - val_acc: 0.9020\n",
      "Epoch 26/30\n",
      "100/100 [==============================] - 2s 19ms/step - loss: 0.0939 - acc: 0.9673 - val_loss: 0.2473 - val_acc: 0.8960\n",
      "Epoch 27/30\n",
      "100/100 [==============================] - 2s 20ms/step - loss: 0.0897 - acc: 0.9765 - val_loss: 0.2449 - val_acc: 0.8980\n",
      "Epoch 28/30\n",
      "100/100 [==============================] - 2s 19ms/step - loss: 0.0983 - acc: 0.9723 - val_loss: 0.2411 - val_acc: 0.9030\n",
      "Epoch 29/30\n",
      "100/100 [==============================] - 2s 19ms/step - loss: 0.0805 - acc: 0.9799 - val_loss: 0.2551 - val_acc: 0.9040\n",
      "Epoch 30/30\n",
      "100/100 [==============================] - 2s 20ms/step - loss: 0.0924 - acc: 0.9685 - val_loss: 0.2432 - val_acc: 0.9000\n"
     ]
    }
   ],
   "source": [
    "# 완전 연결 분류기 정의 및 훈련\n",
    "from tensorflow.keras import models, layers, optimizers\n",
    "\n",
    "model = models.Sequential()\n",
    "model.add(layers.Dense(256, activation='relu',\n",
    "                      input_dim = 4*4*512))\n",
    "model.add(layers.Dropout(0.5))\n",
    "model.add(layers.Dense(1, activation='sigmoid'))\n",
    "\n",
    "model.compile(optimizer = optimizers.RMSprop(lr=2e-5),\n",
    "            loss = 'binary_crossentropy',\n",
    "             metrics = ['acc'])\n",
    "\n",
    "log = model.fit(train_features, train_labels,\n",
    "               epochs = 30,\n",
    "               batch_size = 20,\n",
    "               validation_data = (validation_features, validation_labels))\n"
   ]
  },
  {
   "cell_type": "code",
   "execution_count": 9,
   "metadata": {},
   "outputs": [
    {
     "data": {
      "image/png": "[encoded data removed]",
      "text/plain": [
       "<Figure size 432x288 with 1 Axes>"
      ]
     },
     "metadata": {
      "needs_background": "light"
     },
     "output_type": "display_data"
    },
    {
     "data": {
      "image/png": "[encoded data removed]",
      "text/plain": [
       "<Figure size 432x288 with 1 Axes>"
      ]
     },
     "metadata": {
      "needs_background": "light"
     },
     "output_type": "display_data"
    }
   ],
   "source": [
    "# 결과 그래프 그리기\n",
    "\n",
    "import matplotlib.pyplot as plt\n",
    "\n",
    "acc = log.history['acc']\n",
    "val_acc = log.history['val_acc']\n",
    "loss = log.history['loss']\n",
    "val_loss = log.history['val_loss']\n",
    "\n",
    "epochs = range(1, len(acc) + 1)\n",
    "\n",
    "plt.plot(epochs, acc, 'bo', label='Training acc')\n",
    "plt.plot(epochs, val_acc, 'b', label='Validation acc')\n",
    "plt.title('Training and Validation accuracy')\n",
    "plt.legend()\n",
    "\n",
    "plt.figure()\n",
    "\n",
    "plt.plot(epochs, loss, 'bo', label = 'Training loss')\n",
    "plt.plot(epochs, val_loss, 'b', label = 'Validation loss')\n",
    "plt.title('Training loss and Validation loss')\n",
    "plt.legend()\n",
    "\n",
    "plt.show()"
   ]
  },
  {
   "cell_type": "code",
   "execution_count": 10,
   "metadata": {},
   "outputs": [],
   "source": [
    "#  데이터 증식을 사용한 특성 추출"
   ]
  },
  {
   "cell_type": "code",
   "execution_count": 21,
   "metadata": {},
   "outputs": [
    {
     "name": "stdout",
     "output_type": "stream",
     "text": [
      "Model: \"sequential_3\"\n",
      "_________________________________________________________________\n",
      "Layer (type)                 Output Shape              Param #   \n",
      "=================================================================\n",
      "vgg16 (Functional)           (None, 4, 4, 512)         14714688  \n",
      "_________________________________________________________________\n",
      "flatten_1 (Flatten)          (None, 8192)              0         \n",
      "_________________________________________________________________\n",
      "dense_4 (Dense)              (None, 256)               2097408   \n",
      "_________________________________________________________________\n",
      "dense_5 (Dense)              (None, 1)                 257       \n",
      "=================================================================\n",
      "Total params: 16,812,353\n",
      "Trainable params: 2,097,665\n",
      "Non-trainable params: 14,714,688\n",
      "_________________________________________________________________\n"
     ]
    }
   ],
   "source": [
    "# 합성곱 기반 층 위에 완전 연결 분류기 추가\n",
    "\n",
    "from tensorflow.keras import models, layers\n",
    "\n",
    "model = models.Sequential()\n",
    "model.add(conv_base)\n",
    "model.add(layers.Flatten())\n",
    "model.add(layers.Dense(256, activation='relu'))\n",
    "model.add(layers.Dense(1, activation='sigmoid'))\n",
    "\n",
    "model.summary()"
   ]
  },
  {
   "cell_type": "code",
   "execution_count": 22,
   "metadata": {},
   "outputs": [
    {
     "name": "stdout",
     "output_type": "stream",
     "text": [
      "conv_base 동결 전 훈련 가중치 수 :  4\n",
      "conv_base 동결 후 훈련 가중치 수 :  4\n"
     ]
    }
   ],
   "source": [
    "# trainable 속성을 False로 설정해 네트워크 동결\n",
    "\n",
    "print('conv_base 동결 전 훈련 가중치 수 : ', len(model.trainable_weights))\n",
    "conv_base.trainable= False\n",
    "print('conv_base 동결 후 훈련 가중치 수 : ', len(model.trainable_weights))"
   ]
  },
  {
   "cell_type": "code",
   "execution_count": null,
   "metadata": {},
   "outputs": [
    {
     "name": "stdout",
     "output_type": "stream",
     "text": [
      "Found 2000 images belonging to 2 classes.\n",
      "Found 1000 images belonging to 2 classes.\n",
      "Epoch 1/30\n",
      "100/100 - 176s - loss: 0.5382 - acc: 0.7395 - val_loss: 0.4137 - val_acc: 0.8360\n",
      "Epoch 2/30\n",
      "100/100 - 156s - loss: 0.4027 - acc: 0.8380 - val_loss: 0.3343 - val_acc: 0.8620\n",
      "Epoch 3/30\n",
      "100/100 - 160s - loss: 0.3433 - acc: 0.8605 - val_loss: 0.3016 - val_acc: 0.8830\n",
      "Epoch 4/30\n",
      "100/100 - 168s - loss: 0.3199 - acc: 0.8635 - val_loss: 0.2858 - val_acc: 0.8800\n",
      "Epoch 5/30\n",
      "100/100 - 188s - loss: 0.2997 - acc: 0.8730 - val_loss: 0.2702 - val_acc: 0.8960\n",
      "Epoch 6/30\n",
      "100/100 - 174s - loss: 0.2863 - acc: 0.8875 - val_loss: 0.2583 - val_acc: 0.8980\n",
      "Epoch 7/30\n",
      "100/100 - 172s - loss: 0.2646 - acc: 0.8935 - val_loss: 0.2582 - val_acc: 0.8990\n",
      "Epoch 8/30\n",
      "100/100 - 180s - loss: 0.2675 - acc: 0.8925 - val_loss: 0.2576 - val_acc: 0.9020\n",
      "Epoch 9/30\n"
     ]
    }
   ],
   "source": [
    "from tensorflow.keras.preprocessing.image import ImageDataGenerator\n",
    "\n",
    "train_datagen = ImageDataGenerator(\n",
    "      rescale=1./255,\n",
    "      rotation_range=20,\n",
    "      width_shift_range=0.1,\n",
    "      height_shift_range=0.1,\n",
    "      shear_range=0.1,\n",
    "      zoom_range=0.1,\n",
    "      horizontal_flip=True,\n",
    "      fill_mode='nearest')\n",
    "\n",
    "# 검증 데이터는 증식되어서는 안 됩니다!\n",
    "test_datagen = ImageDataGenerator(rescale=1./255)\n",
    "\n",
    "train_generator = train_datagen.flow_from_directory(\n",
    "        # 타깃 디렉터리\n",
    "        train_dir,\n",
    "        # 모든 이미지의 크기를 150 × 150로 변경합니다\n",
    "        target_size=(150, 150),\n",
    "        batch_size=20,\n",
    "        # binary_crossentropy 손실을 사용하므로 이진 레이블이 필요합니다\n",
    "        class_mode='binary')\n",
    "\n",
    "validation_generator = test_datagen.flow_from_directory(\n",
    "        validation_dir,\n",
    "        target_size=(150, 150),\n",
    "        batch_size=20,\n",
    "        class_mode='binary')\n",
    "\n",
    "model.compile(loss='binary_crossentropy',\n",
    "              optimizer=optimizers.RMSprop(lr=2e-5),\n",
    "              metrics=['acc'])\n",
    "\n",
    "history = model.fit_generator(\n",
    "      train_generator,\n",
    "      steps_per_epoch=100,\n",
    "      epochs=30,\n",
    "      validation_data=validation_generator,\n",
    "      validation_steps=50,\n",
    "      verbose=2)"
   ]
  },
  {
   "cell_type": "code",
   "execution_count": null,
   "metadata": {},
   "outputs": [],
   "source": [
    "# 결과 그래프 그리기\n",
    "\n",
    "import matplotlib.pyplot as plt\n",
    "\n",
    "acc = log.history['acc']\n",
    "val_acc = log.history['val_acc']\n",
    "loss = log.history['loss']\n",
    "val_loss = log.history['val_loss']\n",
    "\n",
    "epochs = range(1, len(acc) + 1)\n",
    "\n",
    "plt.plot(epochs, acc, 'bo', label='Training acc')\n",
    "plt.plot(epochs, val_acc, 'b', label='Validation acc')\n",
    "plt.title('Training and Validation accuracy')\n",
    "plt.legend()\n",
    "\n",
    "plt.figure()\n",
    "\n",
    "plt.plot(epochs, loss, 'bo', label = 'Training loss')\n",
    "plt.plot(epochs, val_loss, 'b', label = 'Validation loss')\n",
    "plt.title('Training loss and Validation loss')\n",
    "plt.legend()\n",
    "\n",
    "plt.show()"
   ]
  },
  {
   "cell_type": "code",
   "execution_count": null,
   "metadata": {},
   "outputs": [],
   "source": [
    "conv_base.summary()"
   ]
  },
  {
   "cell_type": "code",
   "execution_count": null,
   "metadata": {},
   "outputs": [],
   "source": [
    "# 특정 층까지 모든 층 동결하기\n",
    "\n",
    "conv_base.trainable = True\n",
    "\n",
    "set_trainable = False\n",
    "\n",
    "for layer in conv_base.layers:\n",
    "    if layer.name == 'block5_conv1':\n",
    "        set_trainable = True\n",
    "    if set_trainable:\n",
    "        layer.trainable = True\n",
    "    else:\n",
    "        layer.trainable = False"
   ]
  }
 ],
 "metadata": {
  "kernelspec": {
   "display_name": "ai1",
   "language": "python",
   "name": "ai1"
  },
  "language_info": {
   "codemirror_mode": {
    "name": "ipython",
    "version": 3
   },
   "file_extension": ".py",
   "mimetype": "text/x-python",
   "name": "python",
   "nbconvert_exporter": "python",
   "pygments_lexer": "ipython3",
   "version": "3.8.0"
  }
 },
 "nbformat": 4,
 "nbformat_minor": 4
}
