{
 "cells": [
  {
   "cell_type": "code",
   "execution_count": 1,
   "metadata": {},
   "outputs": [
    {
     "ename": "NameError",
     "evalue": "name 'np' is not defined",
     "output_type": "error",
     "traceback": [
      "\u001b[1;31m---------------------------------------------------------------------------\u001b[0m",
      "\u001b[1;31mNameError\u001b[0m                                 Traceback (most recent call last)",
      "\u001b[1;32m<ipython-input-1-70cc6cddd211>\u001b[0m in \u001b[0;36m<module>\u001b[1;34m\u001b[0m\n\u001b[0;32m      3\u001b[0m \u001b[0mnum_validation_samples\u001b[0m \u001b[1;33m=\u001b[0m \u001b[1;36m10000\u001b[0m\u001b[1;33m\u001b[0m\u001b[1;33m\u001b[0m\u001b[0m\n\u001b[0;32m      4\u001b[0m \u001b[1;33m\u001b[0m\u001b[0m\n\u001b[1;32m----> 5\u001b[1;33m \u001b[0mnp\u001b[0m\u001b[1;33m.\u001b[0m\u001b[0mrandom\u001b[0m\u001b[1;33m.\u001b[0m\u001b[0mshuffle\u001b[0m\u001b[1;33m(\u001b[0m\u001b[0mdata\u001b[0m\u001b[1;33m)\u001b[0m  \u001b[1;31m# 데이터를 섞는 것이 일반적으로 좋다.\u001b[0m\u001b[1;33m\u001b[0m\u001b[1;33m\u001b[0m\u001b[0m\n\u001b[0m\u001b[0;32m      6\u001b[0m \u001b[1;33m\u001b[0m\u001b[0m\n\u001b[0;32m      7\u001b[0m \u001b[0mvalidation_data\u001b[0m \u001b[1;33m=\u001b[0m \u001b[0mdata\u001b[0m\u001b[1;33m[\u001b[0m\u001b[1;33m:\u001b[0m\u001b[0mnum_validation_samples\u001b[0m\u001b[1;33m]\u001b[0m \u001b[1;31m# 검증 세트\u001b[0m\u001b[1;33m\u001b[0m\u001b[1;33m\u001b[0m\u001b[0m\n",
      "\u001b[1;31mNameError\u001b[0m: name 'np' is not defined"
     ]
    }
   ],
   "source": [
    "# 단순 홀드아웃 검증\n",
    "\n",
    "num_validation_samples = 10000\n",
    "\n",
    "np.random.shuffle(data)  # 데이터를 섞는 것이 일반적으로 좋다.\n",
    "\n",
    "validation_data = data[:num_validation_samples] # 검증 세트\n",
    "data = data[num_validation_samples:]\n",
    "\n",
    "train_data = data[:] # 훈련세트 만들기\n",
    "\n",
    "model = get_model()\n",
    "model.train(training_data)\n",
    "validation_score = model.evaluate(validation_data) # 훈련 세트에서 모델 훈련하고 검증 세트로 평가\n",
    "\n",
    "# 모델 튜닝, 훈련, 평가, 다시 튜닝\n",
    "\n",
    "model = get_model()\n",
    "model.train(np.concatenate([training_data,\n",
    "                           validation_data])) # 하이퍼파라미터 튜닝이 끝나면 테스트 세트를 제외한 모든 데이터 사용해 다시 훈련\n",
    "\n",
    "test_score = model.evaluate(test_data)"
   ]
  },
  {
   "cell_type": "code",
   "execution_count": null,
   "metadata": {},
   "outputs": [],
   "source": [
    "# K-겹 교차 검증\n",
    "\n",
    "k = 4\n",
    "num_validation_samples = len(data) // k\n",
    "\n",
    "np.random.shuffle(data) = []\n",
    "\n",
    "for fold in range(k):\n",
    "    validation_data = data[num_validaiton_samples * fold:\n",
    "                          num_validation_samples * (fold+1)] # 검증 데아터 선택ㄷ\n",
    "    \n",
    "    training_data = data[:num_validation_samples * fold] + # 남은 데이터는 훈련 데이터로 사용\n",
    "    dat[num_validation_samples * (fold + 1)] # 리스트에서 + 연산자는 두 리스트를 더하는 것이 아니라 연결한다.\n",
    "    \n",
    "    model = get_model()\n",
    "    model.train(training_data)\n",
    "    validation_score = model.evaluate(validation_data)\n",
    "    validation_scores.append(validation_score)\n",
    "    \n",
    "validation_score = np.average(validation_scores) # 검증 개수 : K개 폴드의 검증 점수 평균\n",
    "\n",
    "model = get_model()\n",
    "model.train(data)\n",
    "test_score = model.evaluate(test_data) # 테스트 데이터 제외 전체 데이터로 최종 모델 생성\n",
    "\n"
   ]
  }
 ],
 "metadata": {
  "kernelspec": {
   "display_name": "ai1",
   "language": "python",
   "name": "ai1"
  },
  "language_info": {
   "codemirror_mode": {
    "name": "ipython",
    "version": 3
   },
   "file_extension": ".py",
   "mimetype": "text/x-python",
   "name": "python",
   "nbconvert_exporter": "python",
   "pygments_lexer": "ipython3",
   "version": "3.8.0"
  }
 },
 "nbformat": 4,
 "nbformat_minor": 4
}
