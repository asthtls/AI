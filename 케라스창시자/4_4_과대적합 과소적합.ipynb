{
 "cells": [
  {
   "cell_type": "code",
   "execution_count": 1,
   "metadata": {},
   "outputs": [
    {
     "name": "stderr",
     "output_type": "stream",
     "text": [
      "<__array_function__ internals>:5: VisibleDeprecationWarning: Creating an ndarray from ragged nested sequences (which is a list-or-tuple of lists-or-tuples-or ndarrays with different lengths or shapes) is deprecated. If you meant to do this, you must specify 'dtype=object' when creating the ndarray\n",
      "C:\\Users\\as_th\\anaconda3\\envs\\ai1\\lib\\site-packages\\tensorflow\\python\\keras\\datasets\\imdb.py:159: VisibleDeprecationWarning: Creating an ndarray from ragged nested sequences (which is a list-or-tuple of lists-or-tuples-or ndarrays with different lengths or shapes) is deprecated. If you meant to do this, you must specify 'dtype=object' when creating the ndarray\n",
      "  x_train, y_train = np.array(xs[:idx]), np.array(labels[:idx])\n",
      "C:\\Users\\as_th\\anaconda3\\envs\\ai1\\lib\\site-packages\\tensorflow\\python\\keras\\datasets\\imdb.py:160: VisibleDeprecationWarning: Creating an ndarray from ragged nested sequences (which is a list-or-tuple of lists-or-tuples-or ndarrays with different lengths or shapes) is deprecated. If you meant to do this, you must specify 'dtype=object' when creating the ndarray\n",
      "  x_test, y_test = np.array(xs[idx:]), np.array(labels[idx:])\n"
     ]
    }
   ],
   "source": [
    "from tensorflow.keras.datasets import imdb\n",
    "import numpy as np\n",
    "\n",
    "(train_data, train_labels), (test_data, test_labels) = imdb.load_data(num_words=10000)\n",
    "\n",
    "def vectorize_sequences(sequences, dimension=10000):\n",
    "    # 크기가 (len(sequences), dimension))이고 모든 원소가 0인 행렬을 만듭니다\n",
    "    results = np.zeros((len(sequences), dimension))\n",
    "    for i, sequence in enumerate(sequences):\n",
    "        results[i, sequence] = 1.  # results[i]에서 특정 인덱스의 위치를 1로 만듭니다\n",
    "    return results\n",
    "\n",
    "# 훈련 데이터를 벡터로 변환합니다\n",
    "x_train = vectorize_sequences(train_data)\n",
    "# 테스트 데이터를 벡터로 변환합니다\n",
    "x_test = vectorize_sequences(test_data)\n",
    "# 레이블을 벡터로 변환합니다\n",
    "y_train = np.asarray(train_labels).astype('float32')\n",
    "y_test = np.asarray(test_labels).astype('float32')\n"
   ]
  },
  {
   "cell_type": "code",
   "execution_count": 2,
   "metadata": {},
   "outputs": [],
   "source": [
    "from tensorflow.keras import models\n",
    "from tensorflow.keras import layers\n",
    "\n",
    "original_model = models.Sequential()\n",
    "original_model.add(layers.Dense(16, activation='relu', input_shape=(10000,)))\n",
    "original_model.add(layers.Dense(16, activation='relu'))\n",
    "original_model.add(layers.Dense(1, activation='sigmoid'))\n",
    "\n",
    "original_model.compile(optimizer='rmsprop',\n",
    "                       loss='binary_crossentropy',\n",
    "                       metrics=['acc'])\n",
    "\n",
    "smaller_model = models.Sequential()\n",
    "smaller_model.add(layers.Dense(6, activation='relu', input_shape=(10000,)))\n",
    "smaller_model.add(layers.Dense(6, activation='relu'))\n",
    "smaller_model.add(layers.Dense(1, activation='sigmoid'))\n",
    "\n",
    "smaller_model.compile(optimizer='rmsprop',\n",
    "                      loss='binary_crossentropy',\n",
    "                      metrics=['acc'])\n",
    "                      "
   ]
  },
  {
   "cell_type": "code",
   "execution_count": 3,
   "metadata": {},
   "outputs": [
    {
     "name": "stdout",
     "output_type": "stream",
     "text": [
      "Epoch 1/20\n",
      "49/49 [==============================] - 4s 60ms/step - loss: 0.5511 - acc: 0.7581 - val_loss: 0.3444 - val_acc: 0.8799\n",
      "Epoch 2/20\n",
      "49/49 [==============================] - 1s 20ms/step - loss: 0.2776 - acc: 0.9074 - val_loss: 0.2908 - val_acc: 0.8849\n",
      "Epoch 3/20\n",
      "49/49 [==============================] - 1s 19ms/step - loss: 0.2004 - acc: 0.9325 - val_loss: 0.2921 - val_acc: 0.8836\n",
      "Epoch 4/20\n",
      "49/49 [==============================] - 1s 19ms/step - loss: 0.1695 - acc: 0.9425 - val_loss: 0.3012 - val_acc: 0.8804\n",
      "Epoch 5/20\n",
      "49/49 [==============================] - 1s 20ms/step - loss: 0.1439 - acc: 0.9505 - val_loss: 0.3082 - val_acc: 0.8814\n",
      "Epoch 6/20\n",
      "49/49 [==============================] - 1s 20ms/step - loss: 0.1208 - acc: 0.9597 - val_loss: 0.3397 - val_acc: 0.8752\n",
      "Epoch 7/20\n",
      "49/49 [==============================] - 1s 18ms/step - loss: 0.1061 - acc: 0.9651 - val_loss: 0.3619 - val_acc: 0.8721\n",
      "Epoch 8/20\n",
      "49/49 [==============================] - 1s 28ms/step - loss: 0.0907 - acc: 0.9723 - val_loss: 0.3755 - val_acc: 0.8699\n",
      "Epoch 9/20\n",
      "49/49 [==============================] - 1s 23ms/step - loss: 0.0805 - acc: 0.9755 - val_loss: 0.4372 - val_acc: 0.8582\n",
      "Epoch 10/20\n",
      "49/49 [==============================] - 1s 24ms/step - loss: 0.0708 - acc: 0.9778 - val_loss: 0.4302 - val_acc: 0.8660\n",
      "Epoch 11/20\n",
      "49/49 [==============================] - 1s 23ms/step - loss: 0.0566 - acc: 0.9853 - val_loss: 0.4815 - val_acc: 0.8571\n",
      "Epoch 12/20\n",
      "49/49 [==============================] - 1s 23ms/step - loss: 0.0526 - acc: 0.9863 - val_loss: 0.5222 - val_acc: 0.8572\n",
      "Epoch 13/20\n",
      "49/49 [==============================] - 1s 25ms/step - loss: 0.0415 - acc: 0.9897 - val_loss: 0.5201 - val_acc: 0.8582\n",
      "Epoch 14/20\n",
      "49/49 [==============================] - 1s 22ms/step - loss: 0.0353 - acc: 0.9919 - val_loss: 0.5617 - val_acc: 0.8563\n",
      "Epoch 15/20\n",
      "49/49 [==============================] - 1s 21ms/step - loss: 0.0296 - acc: 0.9933 - val_loss: 0.5952 - val_acc: 0.8550\n",
      "Epoch 16/20\n",
      "49/49 [==============================] - 1s 19ms/step - loss: 0.0253 - acc: 0.9942 - val_loss: 0.6407 - val_acc: 0.8525\n",
      "Epoch 17/20\n",
      "49/49 [==============================] - 1s 20ms/step - loss: 0.0209 - acc: 0.9950 - val_loss: 0.6701 - val_acc: 0.8530\n",
      "Epoch 18/20\n",
      "49/49 [==============================] - 1s 19ms/step - loss: 0.0169 - acc: 0.9958 - val_loss: 0.7111 - val_acc: 0.8518\n",
      "Epoch 19/20\n",
      "49/49 [==============================] - 1s 21ms/step - loss: 0.0113 - acc: 0.9980 - val_loss: 0.8124 - val_acc: 0.8434\n",
      "Epoch 20/20\n",
      "49/49 [==============================] - 1s 20ms/step - loss: 0.0095 - acc: 0.9984 - val_loss: 0.8005 - val_acc: 0.8504\n"
     ]
    }
   ],
   "source": [
    "original_hist = original_model.fit(x_train, y_train,\n",
    "                                   epochs=20,\n",
    "                                   batch_size=512,\n",
    "                                   validation_data=(x_test, y_test))"
   ]
  },
  {
   "cell_type": "code",
   "execution_count": 4,
   "metadata": {},
   "outputs": [
    {
     "name": "stdout",
     "output_type": "stream",
     "text": [
      "Epoch 1/20\n",
      "49/49 [==============================] - 3s 40ms/step - loss: 0.6319 - acc: 0.6799 - val_loss: 0.5186 - val_acc: 0.8672\n",
      "Epoch 2/20\n",
      "49/49 [==============================] - 1s 26ms/step - loss: 0.4647 - acc: 0.8793 - val_loss: 0.4082 - val_acc: 0.8622\n",
      "Epoch 3/20\n",
      "49/49 [==============================] - 1s 25ms/step - loss: 0.3387 - acc: 0.9116 - val_loss: 0.3294 - val_acc: 0.8878\n",
      "Epoch 4/20\n",
      "49/49 [==============================] - 1s 20ms/step - loss: 0.2595 - acc: 0.9282 - val_loss: 0.2986 - val_acc: 0.8867\n",
      "Epoch 5/20\n",
      "49/49 [==============================] - 1s 18ms/step - loss: 0.2085 - acc: 0.9387 - val_loss: 0.2893 - val_acc: 0.8855\n",
      "Epoch 6/20\n",
      "49/49 [==============================] - 1s 21ms/step - loss: 0.1754 - acc: 0.9478 - val_loss: 0.2841 - val_acc: 0.8872\n",
      "Epoch 7/20\n",
      "49/49 [==============================] - 1s 20ms/step - loss: 0.1575 - acc: 0.9520 - val_loss: 0.2913 - val_acc: 0.8833\n",
      "Epoch 8/20\n",
      "49/49 [==============================] - 1s 19ms/step - loss: 0.1403 - acc: 0.9564 - val_loss: 0.3116 - val_acc: 0.8781\n",
      "Epoch 9/20\n",
      "49/49 [==============================] - 1s 19ms/step - loss: 0.1280 - acc: 0.9609 - val_loss: 0.3155 - val_acc: 0.8774\n",
      "Epoch 10/20\n",
      "49/49 [==============================] - 1s 24ms/step - loss: 0.1131 - acc: 0.9671 - val_loss: 0.3317 - val_acc: 0.8748\n",
      "Epoch 11/20\n",
      "49/49 [==============================] - 1s 23ms/step - loss: 0.1016 - acc: 0.9718 - val_loss: 0.3450 - val_acc: 0.8724\n",
      "Epoch 12/20\n",
      "49/49 [==============================] - 1s 31ms/step - loss: 0.0931 - acc: 0.9733 - val_loss: 0.3576 - val_acc: 0.8725oss: 0.0930 - acc: 0.973\n",
      "Epoch 13/20\n",
      "49/49 [==============================] - 1s 19ms/step - loss: 0.0836 - acc: 0.9770 - val_loss: 0.3822 - val_acc: 0.8685\n",
      "Epoch 14/20\n",
      "49/49 [==============================] - 1s 20ms/step - loss: 0.0745 - acc: 0.9799 - val_loss: 0.4025 - val_acc: 0.8664\n",
      "Epoch 15/20\n",
      "49/49 [==============================] - 1s 19ms/step - loss: 0.0662 - acc: 0.9828 - val_loss: 0.4199 - val_acc: 0.8655\n",
      "Epoch 16/20\n",
      "49/49 [==============================] - 1s 17ms/step - loss: 0.0595 - acc: 0.9863 - val_loss: 0.4480 - val_acc: 0.8612\n",
      "Epoch 17/20\n",
      "49/49 [==============================] - 1s 17ms/step - loss: 0.0558 - acc: 0.9874 - val_loss: 0.4668 - val_acc: 0.8604\n",
      "Epoch 18/20\n",
      "49/49 [==============================] - 1s 17ms/step - loss: 0.0484 - acc: 0.9884 - val_loss: 0.4883 - val_acc: 0.8586\n",
      "Epoch 19/20\n",
      "49/49 [==============================] - 1s 17ms/step - loss: 0.0442 - acc: 0.9913 - val_loss: 0.4986 - val_acc: 0.8603\n",
      "Epoch 20/20\n",
      "49/49 [==============================] - 1s 17ms/step - loss: 0.0377 - acc: 0.9920 - val_loss: 0.5287 - val_acc: 0.8579\n"
     ]
    }
   ],
   "source": [
    "smaller_model_hist = smaller_model.fit(x_train, y_train,\n",
    "                                       epochs=20,\n",
    "                                       batch_size=512,\n",
    "                                       validation_data=(x_test, y_test))"
   ]
  },
  {
   "cell_type": "code",
   "execution_count": 5,
   "metadata": {},
   "outputs": [],
   "source": [
    "epochs = range(1, 21)\n",
    "original_val_loss = original_hist.history['val_loss']\n",
    "smaller_model_val_loss = smaller_model_hist.history['val_loss']"
   ]
  },
  {
   "cell_type": "code",
   "execution_count": 6,
   "metadata": {},
   "outputs": [
    {
     "data": {
      "image/png": "[encoded data removed]",
      "text/plain": [
       "<Figure size 432x288 with 1 Axes>"
      ]
     },
     "metadata": {
      "needs_background": "light"
     },
     "output_type": "display_data"
    }
   ],
   "source": [
    "import matplotlib.pyplot as plt\n",
    "# ‘b+’는 파란색 덧셈 기호을 의미합니다\n",
    "plt.plot(epochs, original_val_loss, 'b+', label='Original model')\n",
    "# ‘bo’는 파란색 점을 의미합니다\n",
    "plt.plot(epochs, smaller_model_val_loss, 'bo', label='Smaller model')\n",
    "plt.xlabel('Epochs')\n",
    "plt.ylabel('Validation loss')\n",
    "plt.legend()\n",
    "\n",
    "plt.show()"
   ]
  },
  {
   "cell_type": "code",
   "execution_count": 7,
   "metadata": {},
   "outputs": [
    {
     "name": "stdout",
     "output_type": "stream",
     "text": [
      "Epoch 1/20\n",
      "49/49 [==============================] - 12s 225ms/step - loss: 0.7900 - acc: 0.6821 - val_loss: 0.3108 - val_acc: 0.8674\n",
      "Epoch 2/20\n",
      "49/49 [==============================] - 12s 244ms/step - loss: 0.2324 - acc: 0.9088 - val_loss: 0.4007 - val_acc: 0.8325\n",
      "Epoch 3/20\n",
      "49/49 [==============================] - 11s 225ms/step - loss: 0.1102 - acc: 0.9592 - val_loss: 0.2945 - val_acc: 0.8844\n",
      "Epoch 4/20\n",
      "49/49 [==============================] - 13s 267ms/step - loss: 0.0477 - acc: 0.9902 - val_loss: 0.4271 - val_acc: 0.8839\n",
      "Epoch 5/20\n",
      "49/49 [==============================] - 13s 271ms/step - loss: 0.0028 - acc: 0.9996 - val_loss: 0.6260 - val_acc: 0.8805\n",
      "Epoch 6/20\n",
      "49/49 [==============================] - 10s 215ms/step - loss: 1.4589e-04 - acc: 1.0000 - val_loss: 0.8536 - val_acc: 0.8803\n",
      "Epoch 7/20\n",
      "49/49 [==============================] - 12s 239ms/step - loss: 5.0256e-06 - acc: 1.0000 - val_loss: 1.0019 - val_acc: 0.8801\n",
      "Epoch 8/20\n",
      "49/49 [==============================] - 10s 214ms/step - loss: 4.7664e-07 - acc: 1.0000 - val_loss: 1.1616 - val_acc: 0.8804\n",
      "Epoch 9/20\n",
      "49/49 [==============================] - 10s 208ms/step - loss: 8.1160e-08 - acc: 1.0000 - val_loss: 1.2741 - val_acc: 0.8807\n",
      "Epoch 10/20\n",
      "49/49 [==============================] - 11s 225ms/step - loss: 2.6146e-08 - acc: 1.0000 - val_loss: 1.3315 - val_acc: 0.8807\n",
      "Epoch 11/20\n",
      "49/49 [==============================] - 11s 216ms/step - loss: 1.3633e-08 - acc: 1.0000 - val_loss: 1.3639 - val_acc: 0.8807\n",
      "Epoch 12/20\n",
      "49/49 [==============================] - 10s 213ms/step - loss: 8.9651e-09 - acc: 1.0000 - val_loss: 1.3860 - val_acc: 0.8806\n",
      "Epoch 13/20\n",
      "49/49 [==============================] - 10s 210ms/step - loss: 7.4744e-09 - acc: 1.0000 - val_loss: 1.4030 - val_acc: 0.8805\n",
      "Epoch 14/20\n",
      "49/49 [==============================] - 11s 217ms/step - loss: 5.7850e-09 - acc: 1.0000 - val_loss: 1.4163 - val_acc: 0.8806\n",
      "Epoch 15/20\n",
      "49/49 [==============================] - 10s 212ms/step - loss: 4.7815e-09 - acc: 1.0000 - val_loss: 1.4276 - val_acc: 0.8806\n",
      "Epoch 16/20\n",
      "49/49 [==============================] - 10s 211ms/step - loss: 4.1834e-09 - acc: 1.0000 - val_loss: 1.4370 - val_acc: 0.8806\n",
      "Epoch 17/20\n",
      "49/49 [==============================] - 10s 214ms/step - loss: 3.5026e-09 - acc: 1.0000 - val_loss: 1.4455 - val_acc: 0.8805\n",
      "Epoch 18/20\n",
      "49/49 [==============================] - 11s 221ms/step - loss: 3.6796e-09 - acc: 1.0000 - val_loss: 1.4531 - val_acc: 0.8806\n",
      "Epoch 19/20\n",
      "49/49 [==============================] - 13s 268ms/step - loss: 2.9449e-09 - acc: 1.0000 - val_loss: 1.4593 - val_acc: 0.8805A: 1s - loss: 2.9280e-09 - ac\n",
      "Epoch 20/20\n",
      "49/49 [==============================] - 13s 266ms/step - loss: 2.9210e-09 - acc: 1.0000 - val_loss: 1.4655 - val_acc: 0.8806\n"
     ]
    }
   ],
   "source": [
    "# 큰용량의 모델\n",
    "bigger_model = models.Sequential()\n",
    "bigger_model.add(layers.Dense(1024, activation='relu', input_shape=(10000,)))\n",
    "bigger_model.add(layers.Dense(1024, activation='relu'))\n",
    "bigger_model.add(layers.Dense(1, activation='sigmoid'))\n",
    "\n",
    "bigger_model.compile(optimizer='rmsprop',\n",
    "                     loss='binary_crossentropy',\n",
    "                     metrics=['acc'])\n",
    "\n",
    "bigger_model_hist = bigger_model.fit(x_train, y_train,\n",
    "                                     epochs=20,\n",
    "                                     batch_size=512,\n",
    "                                     validation_data=(x_test, y_test))"
   ]
  },
  {
   "cell_type": "code",
   "execution_count": 8,
   "metadata": {},
   "outputs": [
    {
     "data": {
      "image/png": "[encoded data removed]",
      "text/plain": [
       "<Figure size 432x288 with 1 Axes>"
      ]
     },
     "metadata": {
      "needs_background": "light"
     },
     "output_type": "display_data"
    }
   ],
   "source": [
    "\n",
    "bigger_model_val_loss = bigger_model_hist.history['val_loss']\n",
    "\n",
    "plt.plot(epochs, original_val_loss, 'b+', label='Original model')\n",
    "plt.plot(epochs, bigger_model_val_loss, 'bo', label='Bigger model')\n",
    "plt.xlabel('Epochs')\n",
    "plt.ylabel('Validation loss')\n",
    "plt.legend()\n",
    "\n",
    "plt.show()"
   ]
  },
  {
   "cell_type": "code",
   "execution_count": 9,
   "metadata": {},
   "outputs": [
    {
     "data": {
      "image/png": "[encoded data removed]",
      "text/plain": [
       "<Figure size 432x288 with 1 Axes>"
      ]
     },
     "metadata": {
      "needs_background": "light"
     },
     "output_type": "display_data"
    }
   ],
   "source": [
    "\n",
    "original_train_loss = original_hist.history['loss']\n",
    "bigger_model_train_loss = bigger_model_hist.history['loss']\n",
    "\n",
    "plt.plot(epochs, original_train_loss, 'b+', label='Original model')\n",
    "plt.plot(epochs, bigger_model_train_loss, 'bo', label='Bigger model')\n",
    "plt.xlabel('Epochs')\n",
    "plt.ylabel('Training loss')\n",
    "plt.legend()\n",
    "\n",
    "plt.show()"
   ]
  },
  {
   "cell_type": "code",
   "execution_count": 10,
   "metadata": {},
   "outputs": [
    {
     "name": "stdout",
     "output_type": "stream",
     "text": [
      "Epoch 1/20\n",
      "49/49 [==============================] - 2s 37ms/step - loss: 0.6007 - acc: 0.7377 - val_loss: 0.3861 - val_acc: 0.8812\n",
      "Epoch 2/20\n",
      "49/49 [==============================] - 1s 20ms/step - loss: 0.3292 - acc: 0.9047 - val_loss: 0.3361 - val_acc: 0.8888\n",
      "Epoch 3/20\n",
      "49/49 [==============================] - 1s 20ms/step - loss: 0.2718 - acc: 0.9218 - val_loss: 0.3287 - val_acc: 0.8894\n",
      "Epoch 4/20\n",
      "49/49 [==============================] - 1s 19ms/step - loss: 0.2427 - acc: 0.9326 - val_loss: 0.3380 - val_acc: 0.8860\n",
      "Epoch 5/20\n",
      "49/49 [==============================] - 1s 19ms/step - loss: 0.2277 - acc: 0.9375 - val_loss: 0.3388 - val_acc: 0.8847\n",
      "Epoch 6/20\n",
      "49/49 [==============================] - 1s 19ms/step - loss: 0.2229 - acc: 0.9375 - val_loss: 0.3489 - val_acc: 0.8820\n",
      "Epoch 7/20\n",
      "49/49 [==============================] - 1s 20ms/step - loss: 0.2112 - acc: 0.9453 - val_loss: 0.3699 - val_acc: 0.8758\n",
      "Epoch 8/20\n",
      "49/49 [==============================] - 1s 20ms/step - loss: 0.2124 - acc: 0.9445 - val_loss: 0.3979 - val_acc: 0.8682\n",
      "Epoch 9/20\n",
      "49/49 [==============================] - 1s 19ms/step - loss: 0.1971 - acc: 0.9515 - val_loss: 0.3703 - val_acc: 0.8755\n",
      "Epoch 10/20\n",
      "49/49 [==============================] - 1s 22ms/step - loss: 0.1958 - acc: 0.9543 - val_loss: 0.3752 - val_acc: 0.8753\n",
      "Epoch 11/20\n",
      "49/49 [==============================] - 1s 22ms/step - loss: 0.1958 - acc: 0.9505 - val_loss: 0.3832 - val_acc: 0.8750\n",
      "Epoch 12/20\n",
      "49/49 [==============================] - 1s 20ms/step - loss: 0.1913 - acc: 0.9537 - val_loss: 0.4091 - val_acc: 0.8663\n",
      "Epoch 13/20\n",
      "49/49 [==============================] - 1s 22ms/step - loss: 0.1911 - acc: 0.9511 - val_loss: 0.4305 - val_acc: 0.8593\n",
      "Epoch 14/20\n",
      "49/49 [==============================] - 1s 25ms/step - loss: 0.1867 - acc: 0.9543 - val_loss: 0.4316 - val_acc: 0.8649\n",
      "Epoch 15/20\n",
      "49/49 [==============================] - 1s 24ms/step - loss: 0.1882 - acc: 0.9524 - val_loss: 0.4051 - val_acc: 0.8711\n",
      "Epoch 16/20\n",
      "49/49 [==============================] - 1s 21ms/step - loss: 0.1822 - acc: 0.9557 - val_loss: 0.4225 - val_acc: 0.8676\n",
      "Epoch 17/20\n",
      "49/49 [==============================] - 1s 24ms/step - loss: 0.1834 - acc: 0.9559 - val_loss: 0.4172 - val_acc: 0.8690\n",
      "Epoch 18/20\n",
      "49/49 [==============================] - 1s 24ms/step - loss: 0.1758 - acc: 0.9569 - val_loss: 0.4134 - val_acc: 0.8697\n",
      "Epoch 19/20\n",
      "49/49 [==============================] - 1s 29ms/step - loss: 0.1767 - acc: 0.9575 - val_loss: 0.4426 - val_acc: 0.8661\n",
      "Epoch 20/20\n",
      "49/49 [==============================] - 1s 17ms/step - loss: 0.1705 - acc: 0.9604 - val_loss: 0.4642 - val_acc: 0.8620\n"
     ]
    },
    {
     "data": {
      "image/png": "[encoded data removed]",
      "text/plain": [
       "<Figure size 432x288 with 1 Axes>"
      ]
     },
     "metadata": {
      "needs_background": "light"
     },
     "output_type": "display_data"
    }
   ],
   "source": [
    "# 모델에 L2 가중치 추가\n",
    "from tensorflow.keras import regularizers\n",
    "\n",
    "l2_model = models.Sequential()\n",
    "l2_model.add(layers.Dense(16, kernel_regularizer=regularizers.l2(0.001),\n",
    "                          activation='relu', input_shape=(10000,)))\n",
    "l2_model.add(layers.Dense(16, kernel_regularizer=regularizers.l2(0.001),\n",
    "                          activation='relu'))\n",
    "l2_model.add(layers.Dense(1, activation='sigmoid'))\n",
    "\n",
    "l2_model.compile(optimizer='rmsprop',\n",
    "                 loss='binary_crossentropy',\n",
    "                 metrics=['acc'])\n",
    "\n",
    "l2_model_hist = l2_model.fit(x_train, y_train,\n",
    "                             epochs=20,\n",
    "                             batch_size=512,\n",
    "                             validation_data=(x_test, y_test))\n",
    "\n",
    "\n",
    "l2_model_val_loss = l2_model_hist.history['val_loss']\n",
    "\n",
    "plt.plot(epochs, original_val_loss, 'b+', label='Original model')\n",
    "plt.plot(epochs, l2_model_val_loss, 'bo', label='L2-regularized model')\n",
    "plt.xlabel('Epochs')\n",
    "plt.ylabel('Validation loss')\n",
    "plt.legend()\n",
    "\n",
    "plt.show()"
   ]
  },
  {
   "cell_type": "code",
   "execution_count": null,
   "metadata": {},
   "outputs": [],
   "source": [
    "# 드롭아웃\n",
    "\n"
   ]
  }
 ],
 "metadata": {
  "kernelspec": {
   "display_name": "ai1",
   "language": "python",
   "name": "ai1"
  },
  "language_info": {
   "codemirror_mode": {
    "name": "ipython",
    "version": 3
   },
   "file_extension": ".py",
   "mimetype": "text/x-python",
   "name": "python",
   "nbconvert_exporter": "python",
   "pygments_lexer": "ipython3",
   "version": "3.8.0"
  }
 },
 "nbformat": 4,
 "nbformat_minor": 4
}
