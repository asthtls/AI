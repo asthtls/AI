{
 "cells": [
  {
   "cell_type": "code",
   "execution_count": 6,
   "metadata": {},
   "outputs": [
    {
     "name": "stdout",
     "output_type": "stream",
     "text": [
      "arr.shpae :  ()\n",
      "arr.ndim :  0\n",
      "arr2.shape :  (1,)\n",
      "arr2.ndim :  1\n"
     ]
    }
   ],
   "source": [
    "import numpy as np # numpy import \n",
    "\n",
    "# 0차원은 1, 5, 10과 같이 숫자 데이터\n",
    "\n",
    "arr = np.array(5)\n",
    "\n",
    "print(\"arr.shpae : \",arr.shape) # ()만 나온다 0차원이기 때문에\n",
    "print('arr.ndim : ', arr.ndim) # ndim은 차원의 개수 0 \n",
    "\n",
    "arr2 = np.array([5]) \n",
    "print('arr2.shape : ', arr2.shape) # 1차원에 1개의 데이터가 있다.\n",
    "print('arr2.ndim : ',arr2.ndim) # 차원의 개수 1\n",
    "\n",
    "\n"
   ]
  },
  {
   "cell_type": "code",
   "execution_count": 8,
   "metadata": {},
   "outputs": [
    {
     "name": "stdout",
     "output_type": "stream",
     "text": [
      "arr3.shape :  (2, 2)\n",
      "arr3.ndim :  2\n"
     ]
    }
   ],
   "source": [
    "# 2차원\n",
    "\n",
    "arr3 = np.array([[1,2],[3,4]])\n",
    "\n",
    "print(\"arr3.shape : \",arr3.shape) # 2차원 개수 총 4 2개씩\n",
    "print(\"arr3.ndim : \",arr3.ndim) # 2차원\n",
    "\n",
    " "
   ]
  },
  {
   "cell_type": "code",
   "execution_count": 12,
   "metadata": {},
   "outputs": [
    {
     "name": "stdout",
     "output_type": "stream",
     "text": [
      "arr4.shape :  (3, 1, 3)\n",
      "arr4.ndim :  3\n"
     ]
    }
   ],
   "source": [
    "# 다차원\n",
    "\n",
    "arr4 = np.array([[[1,2,3]],[[4,5,6]],[[7,8,9]]])\n",
    "\n",
    "print(\"arr4.shape : \", arr4.shape) # 3, 1, 3 \n",
    "print(\"arr4.ndim : \", arr4.ndim) # 3차원\n",
    "\n"
   ]
  }
 ],
 "metadata": {
  "kernelspec": {
   "display_name": "Python 3",
   "language": "python",
   "name": "python3"
  },
  "language_info": {
   "codemirror_mode": {
    "name": "ipython",
    "version": 3
   },
   "file_extension": ".py",
   "mimetype": "text/x-python",
   "name": "python",
   "nbconvert_exporter": "python",
   "pygments_lexer": "ipython3",
   "version": "3.7.6"
  }
 },
 "nbformat": 4,
 "nbformat_minor": 4
}
