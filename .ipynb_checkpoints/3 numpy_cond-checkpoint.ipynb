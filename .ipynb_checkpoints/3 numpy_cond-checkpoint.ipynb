{
 "cells": [
  {
   "cell_type": "code",
   "execution_count": 3,
   "metadata": {
    "executionInfo": {
     "elapsed": 842,
     "status": "ok",
     "timestamp": 1619435477512,
     "user": {
      "displayName": "messcure JNDan",
      "photoUrl": "https://lh3.googleusercontent.com/a-/AOh14Ggq2Xj7nwN863n-DdzIR-k5lDtigKwvAvISiB9i=s64",
      "userId": "00517861436348801488"
     },
     "user_tz": -540
    },
    "id": "qXTBXlyjJJst"
   },
   "outputs": [],
   "source": [
    "import numpy as np\n",
    "import matplotlib.pyplot as plt "
   ]
  },
  {
   "cell_type": "markdown",
   "metadata": {
    "id": "L3gtZ-HcQWuE"
   },
   "source": [
    "# Numpy 조건문\n",
    "\n",
    "Numpy 는 배열을 단순히 순차적인 인덱싱 외에도 조건값에 의한 인덱싱을 제공함으로서 다양한 연산을 가능하게 한다. "
   ]
  },
  {
   "cell_type": "markdown",
   "metadata": {
    "id": "wTpv7R-lZPMb"
   },
   "source": [
    "## 배열의 비교연산\n",
    "\n",
    "기본 원리는 배열에 참과 거짓값으로 이뤄진 배열을 입력하여 참인 부분에 해당하는 원소만을 억세스 할 수 있도록 제공한다. "
   ]
  },
  {
   "cell_type": "code",
   "execution_count": null,
   "metadata": {
    "colab": {
     "base_uri": "https://localhost:8080/"
    },
    "executionInfo": {
     "elapsed": 622,
     "status": "ok",
     "timestamp": 1616994784052,
     "user": {
      "displayName": "messcure JNDan",
      "photoUrl": "https://lh3.googleusercontent.com/a-/AOh14Ggq2Xj7nwN863n-DdzIR-k5lDtigKwvAvISiB9i=s64",
      "userId": "00517861436348801488"
     },
     "user_tz": -540
    },
    "id": "zBW7hnAkJuJP",
    "outputId": "3ba2e24f-0a2a-4c0e-c377-85e1b59a9dc4"
   },
   "outputs": [
    {
     "name": "stdout",
     "output_type": "stream",
     "text": [
      "[0 2]\n"
     ]
    }
   ],
   "source": [
    "x = np.arange(3) #중요한것은 갯수가 맞아야함, True false로 값을 가져오기때문에 갯수다르면안됨 \n",
    "print( x[[True, False, True]])\n"
   ]
  },
  {
   "cell_type": "markdown",
   "metadata": {
    "id": "NPW7k7C96LTl"
   },
   "source": [
    "행렬에 비교연산을 수행 시 참과 거짓으로 이뤄진 배열을 얻어낼 수 있다.  다음은 x 의 짝여부를 조건으로 연산한 결과이다. "
   ]
  },
  {
   "cell_type": "code",
   "execution_count": null,
   "metadata": {
    "colab": {
     "base_uri": "https://localhost:8080/"
    },
    "executionInfo": {
     "elapsed": 850,
     "status": "ok",
     "timestamp": 1616994830505,
     "user": {
      "displayName": "messcure JNDan",
      "photoUrl": "https://lh3.googleusercontent.com/a-/AOh14Ggq2Xj7nwN863n-DdzIR-k5lDtigKwvAvISiB9i=s64",
      "userId": "00517861436348801488"
     },
     "user_tz": -540
    },
    "id": "5ihtbaRfKEqp",
    "outputId": "bd4234ff-a38a-48db-990c-9d53e1dfbe60"
   },
   "outputs": [
    {
     "name": "stdout",
     "output_type": "stream",
     "text": [
      "[ True False  True]\n"
     ]
    }
   ],
   "source": [
    "print(x % 2 == 0)"
   ]
  },
  {
   "cell_type": "markdown",
   "metadata": {
    "id": "uw9ZAvqz6sO5"
   },
   "source": [
    "이러한 조건을 x 에 배열의 인덱스값으로 입력하게 됨으로서 결과적으로 배열에 특정 조건을 만족시키는 원소를 포함하는 배열을 추출 할 수 있다. "
   ]
  },
  {
   "cell_type": "code",
   "execution_count": null,
   "metadata": {
    "colab": {
     "base_uri": "https://localhost:8080/"
    },
    "executionInfo": {
     "elapsed": 842,
     "status": "ok",
     "timestamp": 1616994993927,
     "user": {
      "displayName": "messcure JNDan",
      "photoUrl": "https://lh3.googleusercontent.com/a-/AOh14Ggq2Xj7nwN863n-DdzIR-k5lDtigKwvAvISiB9i=s64",
      "userId": "00517861436348801488"
     },
     "user_tz": -540
    },
    "id": "WmgXc2KEKIUn",
    "outputId": "20d1a2f3-c8dc-41ab-a0ed-5280e1255961"
   },
   "outputs": [
    {
     "name": "stdout",
     "output_type": "stream",
     "text": [
      "[3 5]\n"
     ]
    }
   ],
   "source": [
    "#print(x[ x % 2 == 0])\n",
    "\n",
    "y = np.array([3,4,5]) \n",
    "print(y[ x % 2 == 0]) #True False True->4를 제외하고 나옴"
   ]
  },
  {
   "cell_type": "markdown",
   "metadata": {
    "id": "cLLuy0fQZWF6"
   },
   "source": [
    "## Logical OR, And, Not 연산\n",
    "\n",
    "Numpy 배열은 and, or, not 연산을 지원하지 안는다. "
   ]
  },
  {
   "cell_type": "code",
   "execution_count": null,
   "metadata": {
    "id": "D0fcgTgkKSH4"
   },
   "outputs": [],
   "source": [
    "x1,x2 = np.array([True, False]), np.array([True, True])\n",
    "print(x1 or x2) # 에러발생\n"
   ]
  },
  {
   "cell_type": "markdown",
   "metadata": {
    "id": "08FsHp6b7aaS"
   },
   "source": [
    "이를 해결하기 위해선 numpy에서 제공하는 논리연산인  함수를 사용하거나 따로 연산기호 &, |, ~ 를 사용하여야 한다. "
   ]
  },
  {
   "cell_type": "code",
   "execution_count": null,
   "metadata": {
    "id": "pyS3DYUCQG6z"
   },
   "outputs": [],
   "source": [
    "print( np.logical_and(x1, x2))"
   ]
  },
  {
   "cell_type": "markdown",
   "metadata": {
    "id": "J25_aXP_7xRB"
   },
   "source": [
    "이 때 사용되는 함수는 다음과 같다. \n",
    "\n",
    "```\n",
    "logical_or : or 연산  ( | ) \n",
    "logical_and  : and 연산 ( & )\n",
    "logical_not : not 연산 ( ~ ) \n",
    "```\n"
   ]
  },
  {
   "cell_type": "code",
   "execution_count": 2,
   "metadata": {
    "colab": {
     "base_uri": "https://localhost:8080/"
    },
    "executionInfo": {
     "elapsed": 573,
     "status": "ok",
     "timestamp": 1619388213584,
     "user": {
      "displayName": "messcure JNDan",
      "photoUrl": "https://lh3.googleusercontent.com/a-/AOh14Ggq2Xj7nwN863n-DdzIR-k5lDtigKwvAvISiB9i=s64",
      "userId": "00517861436348801488"
     },
     "user_tz": -540
    },
    "id": "woe_uL3UaFZd",
    "outputId": "871a96fb-8c66-44ba-df6c-8dcd65a1d0f9"
   },
   "outputs": [
    {
     "name": "stdout",
     "output_type": "stream",
     "text": [
      "[ True False]\n",
      "[ True  True]\n",
      "[False  True]\n"
     ]
    }
   ],
   "source": [
    "x1,x2 = np.array([True, False]), np.array([True, True])\n",
    "print( x1 & x2 ) # 둘다 True일 경우만 True\n",
    "print( x1 | x2 ) # 둘 중 하나라도 True이면 True\n",
    "print( ~x1 ) # 반대, True, False -> False, True"
   ]
  },
  {
   "cell_type": "markdown",
   "metadata": {
    "id": "qlf4nTm18cU3"
   },
   "source": [
    "### 예: 다중 조건 사용\n",
    "\n",
    "다음 코드는 0 ~ 9 까지 2와 3의 배수를 추출하는 코드이다. "
   ]
  },
  {
   "cell_type": "code",
   "execution_count": 3,
   "metadata": {
    "colab": {
     "base_uri": "https://localhost:8080/"
    },
    "executionInfo": {
     "elapsed": 579,
     "status": "ok",
     "timestamp": 1619388336899,
     "user": {
      "displayName": "messcure JNDan",
      "photoUrl": "https://lh3.googleusercontent.com/a-/AOh14Ggq2Xj7nwN863n-DdzIR-k5lDtigKwvAvISiB9i=s64",
      "userId": "00517861436348801488"
     },
     "user_tz": -540
    },
    "id": "fwMPY1ZOZlJ7",
    "outputId": "3f18dcbd-6172-436d-b7a2-83f171c01db2"
   },
   "outputs": [
    {
     "name": "stdout",
     "output_type": "stream",
     "text": [
      "[0 2 3 4 6 8 9]\n"
     ]
    }
   ],
   "source": [
    " x = np.arange(10) # 0 1 2 3 4 5 6 7 8 9\n",
    " print(  x[ np.logical_or( x % 2 == 0 , x % 3 == 0 )] ) \n",
    " # 2의 배수 또는 3의 배수일 경우 둘중 하나라도 True이면 True (0은 무조건 포함)\n",
    " # 1 5 7 제외 => 0 2 3 4 6 8 9"
   ]
  },
  {
   "cell_type": "markdown",
   "metadata": {
    "id": "XJVebO8N88Kk"
   },
   "source": [
    "이는 이중배열에도 적용된다.  아래는 2차원 배열의 0,3,6,9 번째 줄에 0을 입력하는 코드이다. "
   ]
  },
  {
   "cell_type": "code",
   "execution_count": 9,
   "metadata": {
    "colab": {
     "base_uri": "https://localhost:8080/"
    },
    "executionInfo": {
     "elapsed": 604,
     "status": "ok",
     "timestamp": 1619388812634,
     "user": {
      "displayName": "messcure JNDan",
      "photoUrl": "https://lh3.googleusercontent.com/a-/AOh14Ggq2Xj7nwN863n-DdzIR-k5lDtigKwvAvISiB9i=s64",
      "userId": "00517861436348801488"
     },
     "user_tz": -540
    },
    "id": "6OU9eLzYKcnH",
    "outputId": "346f77db-a627-42b6-b76b-a6983b0ad82e"
   },
   "outputs": [
    {
     "name": "stdout",
     "output_type": "stream",
     "text": [
      "[[ 0  1  2  0  4  5  0  7  8  0]\n",
      " [ 0 11 12  0 14 15  0 17 18  0]\n",
      " [ 0 21 22  0 24 25  0 27 28  0]\n",
      " [ 0 31 32  0 34 35  0 37 38  0]\n",
      " [ 0 41 42  0 44 45  0 47 48  0]\n",
      " [ 0 51 52  0 54 55  0 57 58  0]\n",
      " [ 0 61 62  0 64 65  0 67 68  0]\n",
      " [ 0 71 72  0 74 75  0 77 78  0]\n",
      " [ 0 81 82  0 84 85  0 87 88  0]\n",
      " [ 0 91 92  0 94 95  0 97 98  0]]\n"
     ]
    }
   ],
   "source": [
    "x = np.arange(100).reshape(10,10) #100까지 숫자만들고 10x10으로 reshape\n",
    "#x[x % 3 == 0] = 0  #3의배수 전부 0됨\n",
    "#print(x)\n",
    "\n",
    "#------------------------------------------\n",
    "#print(x[x % 3 == 0]) #1차원으로 나오는데 인덱스만 리스트로해서 꺼낸효과가 있다 \n",
    "#0포함 3의 배수만 True해서 나온다\n",
    "#인덱스만 뽑아내면 1차원으로 나오는것같다\n",
    "\n",
    "#------------------------------------------\n",
    "#격자로 세로를 다 0으로 만들고싶으면\n",
    "#x[x % 2 == 0] = 0\n",
    "#print(x)\n",
    "\n",
    "#------------------------------------------\n",
    "#세칸 다 0으로 3단위로 0으로 채워넣을수있다 \n",
    "x[x % 10 % 3 == 0] = 0 # 3이 들어간 수면 0으로 하는것, 배수랑은 차이가 있음\n",
    "#x[x%3==0]=0 <-3의 배수를 0으로 하는것\n",
    "print(x)\n",
    "\n",
    "#------------------------------------------\n",
    "#x[x%10%3 == 0] = 0 \n",
    "#print(x)\n",
    "\n"
   ]
  },
  {
   "cell_type": "markdown",
   "metadata": {
    "id": "pdkl0EO2ailL"
   },
   "source": [
    "### <font color = 'red'> 연습문제 : 배열의 조건부 대입\n",
    "\n",
    "다음과 같은 배열을 만들어보세요\n",
    "</font>\n",
    "```\n",
    "[[ 0  0  2  3  0  5  6  0  8  9]\n",
    " [ 0  0  0  0  0  0  0  0  0  0]\n",
    " [20  0 22 23  0 25 26  0 28 29]\n",
    " [30  0 32 33  0 35 36  0 38 39]\n",
    " [ 0  0  0  0  0  0  0  0  0  0]\n",
    " [50  0 52 53  0 55 56  0 58 59]\n",
    " [60  0 62 63  0 65 66  0 68 69]\n",
    " [ 0  0  0  0  0  0  0  0  0  0]\n",
    " [80  0 82 83  0 85 86  0 88 89]\n",
    " [90  0 92 93  0 95 96  0 98 99]]\n",
    " ```"
   ]
  },
  {
   "cell_type": "code",
   "execution_count": 12,
   "metadata": {
    "colab": {
     "base_uri": "https://localhost:8080/"
    },
    "executionInfo": {
     "elapsed": 629,
     "status": "ok",
     "timestamp": 1619389442699,
     "user": {
      "displayName": "messcure JNDan",
      "photoUrl": "https://lh3.googleusercontent.com/a-/AOh14Ggq2Xj7nwN863n-DdzIR-k5lDtigKwvAvISiB9i=s64",
      "userId": "00517861436348801488"
     },
     "user_tz": -540
    },
    "id": "dC8Q6R4oL7NL",
    "outputId": "ebbdb025-7a74-41d4-8012-a845f66e945e"
   },
   "outputs": [
    {
     "name": "stdout",
     "output_type": "stream",
     "text": [
      "[[ 0  0  2  3  0  5  6  0  8  9]\n",
      " [ 0  0  0  0  0  0  0  0  0  0]\n",
      " [20  0 22 23  0 25 26  0 28 29]\n",
      " [30  0 32 33  0 35 36  0 38 39]\n",
      " [ 0  0  0  0  0  0  0  0  0  0]\n",
      " [50  0 52 53  0 55 56  0 58 59]\n",
      " [60  0 62 63  0 65 66  0 68 69]\n",
      " [ 0  0  0  0  0  0  0  0  0  0]\n",
      " [80  0 82 83  0 85 86  0 88 89]\n",
      " [90  0 92 93  0 95 96  0 98 99]]\n"
     ]
    }
   ],
   "source": [
    "#방법1\n",
    "arr = np.arange(100).reshape(10,10)\n",
    "\n",
    "arr[ ( (arr/10).astype('int')%3 == 1 ) | (arr % 10 % 3 == 1) ] = 0  # % 2 == 0 모든 짝수줄 true\n",
    "print(arr) \n",
    "\n",
    "#바둑판모양 \n",
    "#arr[(arr % 10 + (arr/10/2).astype('int')*2) % 4  < 2 ] = 0\n",
    "#print(arr)\n",
    "\n",
    "\n",
    "# 연습문제의 풀이를 작성하세요\n",
    "#x -> %10\n",
    "#y -> %10\n",
    "#x, y -> 1, 4, 7\n",
    "#print(arr)\n",
    "\n",
    "#방법2\n",
    "#arr = (arr+1/10).astype('int') # 101/10 = 10\n",
    "#arr[arr % 3 == 1] = 0\n",
    "#print(arr)"
   ]
  },
  {
   "cell_type": "markdown",
   "metadata": {
    "id": "mZ5XyhPofG_q"
   },
   "source": [
    "## where 함수\n",
    "\n",
    "단순히 조건문으로 해결하기 어려운 경우에는 np.where 을 사용함으로서 더 복잡한 작업이 가능하다. where 함수는 조건에 맞을 경우와 틀릴 경우 두가지 값으로 구성된 배열을 리턴한다. \n",
    "\n",
    "```\n",
    "where(조건 , 참인경우의 값, 거짓인 경우의 값) \n",
    "```\n",
    "\n",
    "다음의 where 은  arr 중에 3보다 크면 1 작으면 0의 값을 리턴한다. \n"
   ]
  },
  {
   "cell_type": "code",
   "execution_count": null,
   "metadata": {
    "colab": {
     "base_uri": "https://localhost:8080/"
    },
    "executionInfo": {
     "elapsed": 857,
     "status": "ok",
     "timestamp": 1616997072142,
     "user": {
      "displayName": "messcure JNDan",
      "photoUrl": "https://lh3.googleusercontent.com/a-/AOh14Ggq2Xj7nwN863n-DdzIR-k5lDtigKwvAvISiB9i=s64",
      "userId": "00517861436348801488"
     },
     "user_tz": -540
    },
    "id": "hNfOpw8YcAOf",
    "outputId": "a038e517-e5b4-400d-9bf6-110263c2d975"
   },
   "outputs": [
    {
     "data": {
      "text/plain": [
       "array([0, 0, 0, 1, 1])"
      ]
     },
     "execution_count": 40,
     "metadata": {
      "tags": []
     },
     "output_type": "execute_result"
    }
   ],
   "source": [
    "arr = np.array([1,2,3,4,5])\n",
    "np.where(arr > 3 , 1, 0 )\n"
   ]
  },
  {
   "cell_type": "markdown",
   "metadata": {
    "id": "lHM9kb87_-jy"
   },
   "source": [
    "고정 값만이 아니라 다른 배열 값을 사용 할 수도 있다. 아래의 코드는 [0,1,2,3,4] 순차배열인 x 배열에 조건을 사용하여 arr 의 짝수번째 값만 0으로 바꾼 arr 을 리턴한다."
   ]
  },
  {
   "cell_type": "code",
   "execution_count": null,
   "metadata": {
    "colab": {
     "base_uri": "https://localhost:8080/"
    },
    "executionInfo": {
     "elapsed": 855,
     "status": "ok",
     "timestamp": 1616997274014,
     "user": {
      "displayName": "messcure JNDan",
      "photoUrl": "https://lh3.googleusercontent.com/a-/AOh14Ggq2Xj7nwN863n-DdzIR-k5lDtigKwvAvISiB9i=s64",
      "userId": "00517861436348801488"
     },
     "user_tz": -540
    },
    "id": "3jsEcbR8cT5c",
    "outputId": "188e2a6c-5f33-42d4-99d1-a8e16a8cc923"
   },
   "outputs": [
    {
     "data": {
      "text/plain": [
       "array([10,  0,  3,  0,  1])"
      ]
     },
     "execution_count": 45,
     "metadata": {
      "tags": []
     },
     "output_type": "execute_result"
    }
   ],
   "source": [
    "arr = np.array([10,5,3,9,1])\n",
    "x = np.arange(5)\n",
    "#x = np.arange(8).reshape(4,2)\n",
    "np.where( x % 2 == 0 , arr , 0) #값은 다른조건에서 가져올수있음 , 홀수번째값만 바로 배열로만들어 쓸수있음 \n"
   ]
  },
  {
   "cell_type": "markdown",
   "metadata": {
    "id": "Zi2nNtKnApxw"
   },
   "source": [
    "(n,1) 배열과 (1,m) 크기의 배열을 연산하여 행렬곱 연산을 사용하는 경우 이는 더욱 다양한 형태의 배열값을 다룰 수 있다. \n",
    "\n",
    "아래의 ogrid 는 3 x 4 의 격자의 축을 각각 x, y 배열로 리턴한다. "
   ]
  },
  {
   "cell_type": "code",
   "execution_count": null,
   "metadata": {
    "colab": {
     "base_uri": "https://localhost:8080/"
    },
    "executionInfo": {
     "elapsed": 827,
     "status": "ok",
     "timestamp": 1616997365104,
     "user": {
      "displayName": "messcure JNDan",
      "photoUrl": "https://lh3.googleusercontent.com/a-/AOh14Ggq2Xj7nwN863n-DdzIR-k5lDtigKwvAvISiB9i=s64",
      "userId": "00517861436348801488"
     },
     "user_tz": -540
    },
    "id": "iRRpwIDUJFbW",
    "outputId": "33995bad-fcaf-4463-9cdb-5524ae344ea7"
   },
   "outputs": [
    {
     "name": "stdout",
     "output_type": "stream",
     "text": [
      "[[0 1 2 3]]\n",
      "[[0]\n",
      " [1]\n",
      " [2]]\n"
     ]
    }
   ],
   "source": [
    "y, x = np.ogrid[:3, :4]  # x,y = range(3).reshpae(3,1), range(4) 와 같은 뜻\n",
    "#보통 y가 세로축 x가 가로축 \n",
    "print(x, y , sep = \"\\n\")"
   ]
  },
  {
   "cell_type": "markdown",
   "metadata": {
    "id": "DGkmgYAHBYCz"
   },
   "source": [
    "이 두배열을 조건 연산으로 사용할 경우 자동적으로 (3,4) 의 배열이 구성되면서 조건이 적용된다. 아래는 이를 이용해 대각선 값만 억세스할 수 있음을 보여준다. "
   ]
  },
  {
   "cell_type": "code",
   "execution_count": null,
   "metadata": {
    "colab": {
     "base_uri": "https://localhost:8080/"
    },
    "executionInfo": {
     "elapsed": 856,
     "status": "ok",
     "timestamp": 1616997455931,
     "user": {
      "displayName": "messcure JNDan",
      "photoUrl": "https://lh3.googleusercontent.com/a-/AOh14Ggq2Xj7nwN863n-DdzIR-k5lDtigKwvAvISiB9i=s64",
      "userId": "00517861436348801488"
     },
     "user_tz": -540
    },
    "id": "zd08FgClJIL3",
    "outputId": "bfe99cfc-b6f9-423e-8264-2a04bac5ae98"
   },
   "outputs": [
    {
     "data": {
      "text/plain": [
       "array([[1, 0, 0, 0],\n",
       "       [0, 1, 0, 0],\n",
       "       [0, 0, 1, 0]])"
      ]
     },
     "execution_count": 48,
     "metadata": {
      "tags": []
     },
     "output_type": "execute_result"
    }
   ],
   "source": [
    "np.where(x == y, 1, 0) #대각선방향만 추출가능\n",
    "0 1 2 3\n",
    "1 \n",
    "2 \n",
    "\n",
    "1 0 0 0\n",
    "0 1 0 0\n",
    "0 0 1 0\n",
    "#x축 y축으로 생각하면 됨"
   ]
  },
  {
   "cell_type": "markdown",
   "metadata": {
    "id": "XauMAkQ1BsnJ"
   },
   "source": [
    "아래는 위의 응용으로 10x10 의 대각선에 순차값을 넣는 예이다. "
   ]
  },
  {
   "cell_type": "code",
   "execution_count": 14,
   "metadata": {
    "colab": {
     "base_uri": "https://localhost:8080/"
    },
    "executionInfo": {
     "elapsed": 547,
     "status": "ok",
     "timestamp": 1619390752832,
     "user": {
      "displayName": "messcure JNDan",
      "photoUrl": "https://lh3.googleusercontent.com/a-/AOh14Ggq2Xj7nwN863n-DdzIR-k5lDtigKwvAvISiB9i=s64",
      "userId": "00517861436348801488"
     },
     "user_tz": -540
    },
    "id": "YYHzlwc2Jh_G",
    "outputId": "e7e4aba1-b202-4366-dff8-faa8e61bff51"
   },
   "outputs": [
    {
     "data": {
      "text/plain": [
       "array([[0, 0, 0, 0, 0, 0, 0, 0, 0, 9],\n",
       "       [0, 0, 0, 0, 0, 0, 0, 0, 8, 0],\n",
       "       [0, 0, 0, 0, 0, 0, 0, 7, 0, 0],\n",
       "       [0, 0, 0, 0, 0, 0, 6, 0, 0, 0],\n",
       "       [0, 0, 0, 0, 0, 5, 0, 0, 0, 0],\n",
       "       [0, 0, 0, 0, 4, 0, 0, 0, 0, 0],\n",
       "       [0, 0, 0, 3, 0, 0, 0, 0, 0, 0],\n",
       "       [0, 0, 2, 0, 0, 0, 0, 0, 0, 0],\n",
       "       [0, 1, 0, 0, 0, 0, 0, 0, 0, 0],\n",
       "       [0, 0, 0, 0, 0, 0, 0, 0, 0, 0]])"
      ]
     },
     "execution_count": 14,
     "metadata": {
      "tags": []
     },
     "output_type": "execute_result"
    }
   ],
   "source": [
    "x,y = np.ogrid[:10, :10]\n",
    "#np.where(x == y , y , 0)\n",
    "\n",
    "#역방향\n",
    "np.where(x + y == 9, y , 0) #두 축의 차이가 똑같다 "
   ]
  },
  {
   "cell_type": "markdown",
   "metadata": {
    "id": "bnDmhlVieBxI"
   },
   "source": [
    "### <font color = 'red'> 연습문제 : 다음과 같은 배열을 만들어보세요\n",
    "\n",
    "다음과 같은 배열을 만들어보세요\n",
    "</font>\n",
    "```\n",
    "[[ 0  0  2  0  4  0  6  0  8  0]\n",
    " [ 0 11  0 13  0 15  0 17  0 19]\n",
    " [20  0 22  0 24  0 26  0 28  0]\n",
    " [ 0 31  0 33  0 35  0 37  0 39]\n",
    " [40  0 42  0 44  0 46  0 48  0]\n",
    " [ 0 51  0 53  0 55  0 57  0 59]\n",
    " [60  0 62  0 64  0 66  0 68  0]\n",
    " [ 0 71  0 73  0 75  0 77  0 79]\n",
    " [80  0 82  0 84  0 86  0 88  0]\n",
    " [ 0 91  0 93  0 95  0 97  0 99]]\n",
    " ```"
   ]
  },
  {
   "cell_type": "code",
   "execution_count": null,
   "metadata": {
    "colab": {
     "base_uri": "https://localhost:8080/"
    },
    "executionInfo": {
     "elapsed": 810,
     "status": "ok",
     "timestamp": 1616998512477,
     "user": {
      "displayName": "messcure JNDan",
      "photoUrl": "https://lh3.googleusercontent.com/a-/AOh14Ggq2Xj7nwN863n-DdzIR-k5lDtigKwvAvISiB9i=s64",
      "userId": "00517861436348801488"
     },
     "user_tz": -540
    },
    "id": "5KHVuvJBeBxI",
    "outputId": "d3a669ac-9ac7-46ca-eca0-22505ae086d5"
   },
   "outputs": [
    {
     "name": "stdout",
     "output_type": "stream",
     "text": [
      "[[ 0  0  2  0  4  0  6  0  8  0]\n",
      " [ 0 11  0 13  0 15  0 17  0 19]\n",
      " [20  0 22  0 24  0 26  0 28  0]\n",
      " [ 0 31  0 33  0 35  0 37  0 39]\n",
      " [40  0 42  0 44  0 46  0 48  0]\n",
      " [ 0 51  0 53  0 55  0 57  0 59]\n",
      " [60  0 62  0 64  0 66  0 68  0]\n",
      " [ 0 71  0 73  0 75  0 77  0 79]\n",
      " [80  0 82  0 84  0 86  0 88  0]\n",
      " [ 0 91  0 93  0 95  0 97  0 99]]\n"
     ]
    }
   ],
   "source": [
    "# 연습문제의 풀이를 작성하세요\n",
    "#1 3 5 7 9 10 12 14.. +2씩 되네 0부터 그럼 +2 씩 되는놈들은 다 살아있어\n",
    "y,x = np.ogrid[:10,:10]\n",
    "arr = np.arange(100).reshape(10,10)\n",
    "print(np.where( ( x + y ) % 2 == 0,arr,0))\n",
    "\n",
    "#np.where( ( x + y ) % 2 == 0,0,1"
   ]
  },
  {
   "cell_type": "markdown",
   "metadata": {
    "id": "X8hDYMlvH3PB"
   },
   "source": [
    "\n",
    "<br>\n",
    "<hr style=\"height:3px\">\n",
    "\n",
    "#Numpy 변환\n",
    "\n",
    "reshape 가 배열의 순서를 유지하는 상태에서 배열의 형태만 유지한다면 아예 새로운 배열로 변환하는 방법이 있다.  "
   ]
  },
  {
   "cell_type": "markdown",
   "metadata": {
    "id": "wtPOFYfO7wH1"
   },
   "source": [
    "\n",
    "## append\n",
    "\n",
    "np.append 는 두개의 1차원 배열을 합칠 수 있다. \n",
    "\n",
    "- np.append( 배열1, 배열2 ) \n",
    "\n",
    "다차원 배열의 경우 append 는 이를 모두 1차원 배열로 변형하여 합친다. "
   ]
  },
  {
   "cell_type": "code",
   "execution_count": null,
   "metadata": {
    "colab": {
     "base_uri": "https://localhost:8080/"
    },
    "executionInfo": {
     "elapsed": 1286,
     "status": "ok",
     "timestamp": 1616998610464,
     "user": {
      "displayName": "messcure JNDan",
      "photoUrl": "https://lh3.googleusercontent.com/a-/AOh14Ggq2Xj7nwN863n-DdzIR-k5lDtigKwvAvISiB9i=s64",
      "userId": "00517861436348801488"
     },
     "user_tz": -540
    },
    "id": "3bOqeKbl7wH2",
    "outputId": "b73b32d0-673a-405f-b2a2-afcb0fa58c16"
   },
   "outputs": [
    {
     "name": "stdout",
     "output_type": "stream",
     "text": [
      "[1 2 3 4 5]\n"
     ]
    }
   ],
   "source": [
    "narr1 = np.array([1,2,3])\n",
    "narr2 = np.array([4,5])\n",
    "print( np.append(narr1, narr2) )"
   ]
  },
  {
   "cell_type": "code",
   "execution_count": null,
   "metadata": {
    "colab": {
     "base_uri": "https://localhost:8080/"
    },
    "executionInfo": {
     "elapsed": 995,
     "status": "ok",
     "timestamp": 1616998613006,
     "user": {
      "displayName": "messcure JNDan",
      "photoUrl": "https://lh3.googleusercontent.com/a-/AOh14Ggq2Xj7nwN863n-DdzIR-k5lDtigKwvAvISiB9i=s64",
      "userId": "00517861436348801488"
     },
     "user_tz": -540
    },
    "id": "bGqR6qNo7wH_",
    "outputId": "29ca5345-fa2c-4e0d-f991-a3d2730cb654"
   },
   "outputs": [
    {
     "name": "stdout",
     "output_type": "stream",
     "text": [
      "[1 2 3 4 5 6 7]\n"
     ]
    }
   ],
   "source": [
    "narr1 = np.array([[1,2],[3,4]])\n",
    "narr2 = np.array([[5,6,7]])\n",
    "print( np.append(narr1, narr2 ) ) #2차원배열인데 append해버리면 배열을 풀어버린다 (특징) -> concatenate 등장 "
   ]
  },
  {
   "cell_type": "markdown",
   "metadata": {
    "id": "wKWzwxDC7wIG"
   },
   "source": [
    "## concatenate\n",
    "\n",
    "np 는 concatenate 를 이용하여 다차원 배열의 병합이 가능하다. \n",
    "\n",
    "- concatenate( (배열1, 배열2, ..  ) , axis=병합차원 ) \n",
    "\n",
    "axis 는  [[1,2]] 과 [[3,4]] 의 병합시\n",
    "\n",
    "0 일때 [[1,2], [3,4]] 가 되며 \n",
    "\n",
    "1 일때 [[1,2,3,4]] 가 된다. \n"
   ]
  },
  {
   "cell_type": "code",
   "execution_count": null,
   "metadata": {
    "colab": {
     "base_uri": "https://localhost:8080/"
    },
    "executionInfo": {
     "elapsed": 866,
     "status": "ok",
     "timestamp": 1616998791290,
     "user": {
      "displayName": "messcure JNDan",
      "photoUrl": "https://lh3.googleusercontent.com/a-/AOh14Ggq2Xj7nwN863n-DdzIR-k5lDtigKwvAvISiB9i=s64",
      "userId": "00517861436348801488"
     },
     "user_tz": -540
    },
    "id": "J1bdC4rS7wII",
    "outputId": "d40ff4da-0404-4fbc-c741-1f18713e919b"
   },
   "outputs": [
    {
     "name": "stdout",
     "output_type": "stream",
     "text": [
      "axis = 0 : \n",
      " [[1 2]\n",
      " [3 4]\n",
      " [5 6]\n",
      " [7 8]]\n",
      "axis = 1 : \n",
      " [[1 2 5 6]\n",
      " [3 4 7 8]]\n"
     ]
    }
   ],
   "source": [
    "# 아래의 예제의 결과를 통해 axis 가 어떻게 영향을 주는지 잘 생각해보자. \n",
    "narr1 = np.array([[1,2],[3,4]])\n",
    "narr2 = np.array([[5,6],[7,8]])\n",
    "print( \"axis = 0 : \\n\", np.concatenate( ( narr1, narr2),  axis=0) )\n",
    "print( \"axis = 1 : \\n\", np.concatenate( ( narr1, narr2),  axis=1) )\n",
    "#1이면 가로축 0이면 세로축 \n",
    "#0번을 가지고 하면 세로축을 풀어 붙인다\n",
    "#1번이면 가로축의 꺽세 풀어 옆으로 붙인다 "
   ]
  },
  {
   "cell_type": "code",
   "execution_count": null,
   "metadata": {
    "colab": {
     "base_uri": "https://localhost:8080/"
    },
    "executionInfo": {
     "elapsed": 817,
     "status": "ok",
     "timestamp": 1616998894495,
     "user": {
      "displayName": "messcure JNDan",
      "photoUrl": "https://lh3.googleusercontent.com/a-/AOh14Ggq2Xj7nwN863n-DdzIR-k5lDtigKwvAvISiB9i=s64",
      "userId": "00517861436348801488"
     },
     "user_tz": -540
    },
    "id": "lMJZlo-ipMpx",
    "outputId": "c421dfc7-c6c3-465c-905e-63e676de6323"
   },
   "outputs": [
    {
     "name": "stdout",
     "output_type": "stream",
     "text": [
      "[[1 2]\n",
      " [3 4]\n",
      " [5 6]\n",
      " [7 8]]\n"
     ]
    }
   ],
   "source": [
    "print(np.concatenate( ( narr1, narr2))) #기본 "
   ]
  },
  {
   "cell_type": "markdown",
   "metadata": {
    "id": "ymgPtmY_eB-l"
   },
   "source": [
    "\n",
    "편의를 위해 axis = 0 인경우를 대신해 vstack 이라는 함수를 axis = 1 인 경우에는 hstack 이라는 함수를 사용하기도 한다. \n"
   ]
  },
  {
   "cell_type": "markdown",
   "metadata": {
    "id": "FOccL6L2yoEw"
   },
   "source": [
    "## c_, r_\n",
    "\n",
    "또한 간략한 버젼으로 c_, r_ 을 사용한다.  존재한다. r_ 은 axis=0 의 병합을, c_ 는 axis=-1 의 병합을 지원한다. \n"
   ]
  },
  {
   "cell_type": "code",
   "execution_count": null,
   "metadata": {
    "colab": {
     "base_uri": "https://localhost:8080/"
    },
    "executionInfo": {
     "elapsed": 710,
     "status": "ok",
     "timestamp": 1616998913260,
     "user": {
      "displayName": "messcure JNDan",
      "photoUrl": "https://lh3.googleusercontent.com/a-/AOh14Ggq2Xj7nwN863n-DdzIR-k5lDtigKwvAvISiB9i=s64",
      "userId": "00517861436348801488"
     },
     "user_tz": -540
    },
    "id": "T29GvYClsqcV",
    "outputId": "8799598a-51ad-45aa-e590-8a18e5661b64"
   },
   "outputs": [
    {
     "name": "stdout",
     "output_type": "stream",
     "text": [
      "[[1 2 5 6]\n",
      " [3 4 7 8]]\n",
      "[[1 2]\n",
      " [3 4]\n",
      " [5 6]\n",
      " [7 8]]\n"
     ]
    }
   ],
   "source": [
    "x1 = np.array([[1,2],[3,4]])\n",
    "x2 = np.array([[5,6],[7,8]])\n",
    "\n",
    "print( np.c_[x1, x2] ) # 행으로 병합\n",
    "print( np.r_[x1, x2] ) # 열로 병합"
   ]
  },
  {
   "cell_type": "markdown",
   "metadata": {
    "id": "cI7acEmVCCHi"
   },
   "source": [
    "아래는 위의 예를 이미지에 응용한 것으로 r_ 을 사용하여 이미지를 위 아래로 병합한 예를 보여준다. "
   ]
  },
  {
   "cell_type": "code",
   "execution_count": null,
   "metadata": {
    "colab": {
     "base_uri": "https://localhost:8080/",
     "height": 268
    },
    "executionInfo": {
     "elapsed": 838,
     "status": "ok",
     "timestamp": 1616998953982,
     "user": {
      "displayName": "messcure JNDan",
      "photoUrl": "https://lh3.googleusercontent.com/a-/AOh14Ggq2Xj7nwN863n-DdzIR-k5lDtigKwvAvISiB9i=s64",
      "userId": "00517861436348801488"
     },
     "user_tz": -540
    },
    "id": "yin4ztKntHmN",
    "outputId": "271ae68c-92e8-4be1-84e4-d963bdd996ad"
   },
   "outputs": [
    {
     "data": {
      "image/png": "[encoded data removed]",
      "text/plain": [
       "<Figure size 432x288 with 1 Axes>"
      ]
     },
     "metadata": {
      "needs_background": "light",
      "tags": []
     },
     "output_type": "display_data"
    }
   ],
   "source": [
    "img1 = np.full((50,50,3),[255,0,0])\n",
    "img2 = np.full((50,50,3),[0,0,255])\n",
    "\n",
    "\n",
    "plt.imshow(np.r_[img1, img2]) #c는 가로는 두번째 축 이미지는 더 있다 이 연산은 색깔을 푼다, 색깔끼리 6개짜리 배열이 나온다 (표현방법없어 error)\n",
    "plt.show()"
   ]
  },
  {
   "cell_type": "markdown",
   "metadata": {
    "id": "8nN4UCvCCQUs"
   },
   "source": [
    "단 두 컬러 이미지를 옆으로 붙일때는 c_ 를 사용하면 되겠다고 생각하기 쉽지만 c_ 는 두 배열의 가장 마지막축을 기준으로 붙인다.  (50,50,3) 배열 둘을 c_ 로 붙이면 \n",
    "(50,100,3) 이 아니라 (50,50,6) 이 되므로 이미지 자체가 깨지게 된다.  이 경우는 concatenate 를 사용해서 두번째 축을 기준으로 붙여야 한다. "
   ]
  },
  {
   "cell_type": "code",
   "execution_count": null,
   "metadata": {
    "colab": {
     "base_uri": "https://localhost:8080/",
     "height": 236
    },
    "executionInfo": {
     "elapsed": 1035,
     "status": "ok",
     "timestamp": 1616999033608,
     "user": {
      "displayName": "messcure JNDan",
      "photoUrl": "https://lh3.googleusercontent.com/a-/AOh14Ggq2Xj7nwN863n-DdzIR-k5lDtigKwvAvISiB9i=s64",
      "userId": "00517861436348801488"
     },
     "user_tz": -540
    },
    "id": "EnPzJTbAuD5-",
    "outputId": "2e7284e4-dbe1-471e-a991-5ce5db98b0d8"
   },
   "outputs": [
    {
     "data": {
      "text/plain": [
       "<matplotlib.image.AxesImage at 0x7fb49427dad0>"
      ]
     },
     "execution_count": 63,
     "metadata": {
      "tags": []
     },
     "output_type": "execute_result"
    },
    {
     "data": {
      "image/png": "[encoded data removed]",
      "text/plain": [
       "<Figure size 432x288 with 1 Axes>"
      ]
     },
     "metadata": {
      "needs_background": "light",
      "tags": []
     },
     "output_type": "display_data"
    }
   ],
   "source": [
    "plt.imshow(  np.concatenate((img1,img2), axis = 1) )"
   ]
  },
  {
   "cell_type": "markdown",
   "metadata": {
    "id": "24JkLA8Qv_73"
   },
   "source": [
    "\n",
    "## stack \n",
    "\n",
    "stack 은 배열을 다시 또 하나의 배열로 묶는다.  이는 배열의 차원의 증가를 동반한다. "
   ]
  },
  {
   "cell_type": "code",
   "execution_count": null,
   "metadata": {
    "colab": {
     "base_uri": "https://localhost:8080/"
    },
    "executionInfo": {
     "elapsed": 844,
     "status": "ok",
     "timestamp": 1616999679458,
     "user": {
      "displayName": "messcure JNDan",
      "photoUrl": "https://lh3.googleusercontent.com/a-/AOh14Ggq2Xj7nwN863n-DdzIR-k5lDtigKwvAvISiB9i=s64",
      "userId": "00517861436348801488"
     },
     "user_tz": -540
    },
    "id": "ncH2zoGFwcmA",
    "outputId": "729800c9-d5c5-4ffa-be3b-f30fea7b2a0c"
   },
   "outputs": [
    {
     "data": {
      "text/plain": [
       "array([[1, 2],\n",
       "       [3, 4]])"
      ]
     },
     "execution_count": 69,
     "metadata": {
      "tags": []
     },
     "output_type": "execute_result"
    }
   ],
   "source": [
    "np.stack( [ np.array([1,2]), np.array([3,4]) ] ) #배열 껍데기 더 붙이면서 생성 , 원본그대로 유지 및 감싸는 것이 stack\n"
   ]
  },
  {
   "cell_type": "markdown",
   "metadata": {
    "id": "bRvu2qHPwsFd"
   },
   "source": [
    "다음은 concatenate 와의 차이를 보여준다.\n"
   ]
  },
  {
   "cell_type": "code",
   "execution_count": 6,
   "metadata": {
    "colab": {
     "base_uri": "https://localhost:8080/"
    },
    "executionInfo": {
     "elapsed": 973,
     "status": "ok",
     "timestamp": 1619435510721,
     "user": {
      "displayName": "messcure JNDan",
      "photoUrl": "https://lh3.googleusercontent.com/a-/AOh14Ggq2Xj7nwN863n-DdzIR-k5lDtigKwvAvISiB9i=s64",
      "userId": "00517861436348801488"
     },
     "user_tz": -540
    },
    "id": "pceDx4wtuhUC",
    "outputId": "8f76728c-8ebe-4583-f9ac-1f002baecafb"
   },
   "outputs": [
    {
     "name": "stdout",
     "output_type": "stream",
     "text": [
      "stack result:\n",
      "[[[1 2]\n",
      "  [3 4]]\n",
      "\n",
      " [[5 6]\n",
      "  [7 8]]]\n",
      "concatenate result:\n",
      "[[1 2]\n",
      " [3 4]\n",
      " [5 6]\n",
      " [7 8]]\n"
     ]
    }
   ],
   "source": [
    "x,y = np.array([[1,2],[3,4]]), np.array([[5,6],[7,8]])\n",
    "print(\"stack result:\")\n",
    "print( np.stack([x,y], axis = 0))\n",
    "print(\"concatenate result:\")\n",
    "print( np.concatenate([x,y], axis = 0))\n",
    "\n"
   ]
  },
  {
   "cell_type": "markdown",
   "metadata": {
    "id": "WRxGvGBY5S_C"
   },
   "source": [
    "### <font color = 'red'> 연습문제 : 두 분포 데이터 합치기 \n",
    "다음 두 점의 그룹 (x1,y1) 과 (x2,y2) 를 하나의 그룹으로 만드세요\n",
    "</font>"
   ]
  },
  {
   "cell_type": "code",
   "execution_count": null,
   "metadata": {
    "colab": {
     "base_uri": "https://localhost:8080/",
     "height": 269
    },
    "executionInfo": {
     "elapsed": 917,
     "status": "ok",
     "timestamp": 1617000087515,
     "user": {
      "displayName": "messcure JNDan",
      "photoUrl": "https://lh3.googleusercontent.com/a-/AOh14Ggq2Xj7nwN863n-DdzIR-k5lDtigKwvAvISiB9i=s64",
      "userId": "00517861436348801488"
     },
     "user_tz": -540
    },
    "id": "RI1J5giQz3iT",
    "outputId": "8206b620-d9b1-4ca0-9317-b4c95df9ce3d"
   },
   "outputs": [
    {
     "data": {
      "image/png": "[encoded data removed]",
      "text/plain": [
       "<Figure size 432x288 with 1 Axes>"
      ]
     },
     "metadata": {
      "needs_background": "light",
      "tags": []
     },
     "output_type": "display_data"
    }
   ],
   "source": [
    "#10,10 을 중심으로 분포하는 100개의 점\n",
    "x1,y1 = np.random.normal(10,5,100), np.random.normal(10,5,100)\n",
    "#plt.plot(x1,y1,'.')\n",
    "\n",
    "#70,50 을 중심으로 분포하는 100개의 점\n",
    "x2,y2 = np.random.normal(70,5,100), np.random.normal(50,5,100)\n",
    "#plt.plot(x2,y2,'.')\n",
    "\n",
    "\n",
    "#x = np.append(x1,x2)\n",
    "#y = np.append(y1,y2)\n",
    "\n",
    "plt.plot( np.append(x1,x2),np.append(y1,y2), '.') #쓰는 방법 2 : np.r_[x1,x2],  3 : np.concatenate(x,y)\n",
    "\n",
    "#내가쓴거------------------------\n",
    "#arr = np.stack( [ np.array([x1,y1]), np.array([x2,y2]) ] )\n",
    "#arr1 = np.stack([x1,y1], axis = 0\n",
    "#arr2 = np.stack([x2,y2], axis = 0\n",
    "#----------------------------\n",
    " \n",
    "plt.xlim(0,100) # x 축 표시 범위: 0~100\n",
    "plt.ylim(0,100) # y 축 표시 범위: 0~100 \n",
    "\n",
    "plt.show()\n",
    "\n",
    "# 연습문제 풀이코드를 여기에 작성해서 두 군집 배열을 합쳐서 하나의 x와 y로 만드세요\n",
    "\n",
    "x1, x2 = np.array([1,2,3]), np.array([4,5,6])\n"
   ]
  },
  {
   "cell_type": "markdown",
   "metadata": {
    "id": "1BY4no6F7wIQ"
   },
   "source": [
    "## swap\n",
    "\n",
    "swap 은 배열의 축의 순서를 서로 변경할 수 있다. (n,m) 의 형태를 가진 데이터가 있을 경우 이를 (m,n) 의 형태로 교체해준다. 이때 n 은 0번째 축 ( axis=0 ) , m 은 1번째 축 ( axis=1 ) 이기 때문에 다음과 같이 두 축을 서로 교환할 수 있다. \n"
   ]
  },
  {
   "cell_type": "code",
   "execution_count": null,
   "metadata": {
    "colab": {
     "base_uri": "https://localhost:8080/"
    },
    "executionInfo": {
     "elapsed": 867,
     "status": "ok",
     "timestamp": 1616999199541,
     "user": {
      "displayName": "messcure JNDan",
      "photoUrl": "https://lh3.googleusercontent.com/a-/AOh14Ggq2Xj7nwN863n-DdzIR-k5lDtigKwvAvISiB9i=s64",
      "userId": "00517861436348801488"
     },
     "user_tz": -540
    },
    "id": "ODnY0vQBfqA2",
    "outputId": "8379eb83-eda9-4f5d-c6ff-292e227ed7a0"
   },
   "outputs": [
    {
     "name": "stdout",
     "output_type": "stream",
     "text": [
      "[[0 1 2 3]\n",
      " [4 5 6 7]]\n",
      "[[0 4]\n",
      " [1 5]\n",
      " [2 6]\n",
      " [3 7]]\n"
     ]
    }
   ],
   "source": [
    "narr = np.arange(8).reshape(2,4)\n",
    "print(narr)\n",
    "print( np.swapaxes(narr, 0, 1) )  # narr 의 0번과 1번 축을 서로 교환\n"
   ]
  },
  {
   "cell_type": "markdown",
   "metadata": {
    "id": "5nOCcd-JgnB4"
   },
   "source": [
    "## flip\n",
    "\n",
    "flip 은 배열의 순서를 뒤집을 수 있다.  \n",
    "```\n",
    "narr = np.array([1,2,3])\n",
    "print( np.flip(narr) )\n",
    "\n",
    "-> [3,2,1] \n",
    "```\n",
    "\n",
    "다차원 배열일 경우 axis = ? 의 파라미터를 이용해 어느 축을 기준으로 역순배열을 만들 것인지 결정된다.  만일 axis 가 주어지지 안을 경우 모든 축을 역순으로 배치한다. (중요할때만쓰기로,,어려워요)\n",
    "\n"
   ]
  },
  {
   "cell_type": "code",
   "execution_count": 7,
   "metadata": {
    "colab": {
     "base_uri": "https://localhost:8080/"
    },
    "executionInfo": {
     "elapsed": 1069,
     "status": "ok",
     "timestamp": 1619435954336,
     "user": {
      "displayName": "messcure JNDan",
      "photoUrl": "https://lh3.googleusercontent.com/a-/AOh14Ggq2Xj7nwN863n-DdzIR-k5lDtigKwvAvISiB9i=s64",
      "userId": "00517861436348801488"
     },
     "user_tz": -540
    },
    "id": "wltEU-DZgnCB",
    "outputId": "d99db7d9-b445-4d3c-a844-a41c3a714188"
   },
   "outputs": [
    {
     "name": "stdout",
     "output_type": "stream",
     "text": [
      "[[0 1 2 3]\n",
      " [4 5 6 7]]\n",
      "\n",
      "flip by axis 0 \n",
      "[[4 5 6 7]\n",
      " [0 1 2 3]]\n",
      "\n",
      "flip by axis 1 \n",
      "[[3 2 1 0]\n",
      " [7 6 5 4]]\n",
      "\n",
      "flip without axis \n",
      "[[7 6 5 4]\n",
      " [3 2 1 0]]\n"
     ]
    }
   ],
   "source": [
    "narr = np.arange(8).reshape(2,4)\n",
    "print(narr)\n",
    "print(\"\\nflip by axis 0 \")\n",
    "print( np.flip(narr,axis=0) )  # narr 의 세로(0번)축을 기준으로 반전\n",
    "print(\"\\nflip by axis 1 \")\n",
    "print( np.flip(narr,axis=1) )  # narr 의 가로(1번)축을 기준으로 반전\n",
    "print(\"\\nflip without axis \")\n",
    "print( np.flip(narr) )  # narr 의 모든 축을 반전"
   ]
  },
  {
   "cell_type": "markdown",
   "metadata": {
    "id": "mpkd3aO8lHMM"
   },
   "source": [
    "또 하나의 배열 역전 방법은 ::-1 표기를 사용하는 것이다. \n",
    "\n",
    "```\n",
    "narr = np.array([1,2,3])\n",
    "print( narr[::-1] ) )\n",
    "->\n",
    "[3,2,1]\n",
    "```\n",
    "이 방법은 여러 축중에 특정 축들을 동시에 역전시킬 수도 있다. \n"
   ]
  },
  {
   "cell_type": "code",
   "execution_count": 8,
   "metadata": {
    "colab": {
     "base_uri": "https://localhost:8080/"
    },
    "executionInfo": {
     "elapsed": 1044,
     "status": "ok",
     "timestamp": 1619436035024,
     "user": {
      "displayName": "messcure JNDan",
      "photoUrl": "https://lh3.googleusercontent.com/a-/AOh14Ggq2Xj7nwN863n-DdzIR-k5lDtigKwvAvISiB9i=s64",
      "userId": "00517861436348801488"
     },
     "user_tz": -540
    },
    "id": "Evg8jTlnlnRT",
    "outputId": "6f569880-6a8a-4a27-cc1f-5009fd264d3c"
   },
   "outputs": [
    {
     "name": "stdout",
     "output_type": "stream",
     "text": [
      "[[4 3]\n",
      " [2 1]]\n"
     ]
    }
   ],
   "source": [
    "narr = np.array([[1,2],[3,4]])\n",
    "print(narr[::-1,::-1]) # axis 0 과 1을 동시에 역전시킴"
   ]
  },
  {
   "cell_type": "code",
   "execution_count": 9,
   "metadata": {
    "colab": {
     "base_uri": "https://localhost:8080/"
    },
    "executionInfo": {
     "elapsed": 1046,
     "status": "ok",
     "timestamp": 1619436047336,
     "user": {
      "displayName": "messcure JNDan",
      "photoUrl": "https://lh3.googleusercontent.com/a-/AOh14Ggq2Xj7nwN863n-DdzIR-k5lDtigKwvAvISiB9i=s64",
      "userId": "00517861436348801488"
     },
     "user_tz": -540
    },
    "id": "uoRZfI0pl1xQ",
    "outputId": "5c67db13-4033-4941-953b-1fbb478b84e5"
   },
   "outputs": [
    {
     "name": "stdout",
     "output_type": "stream",
     "text": [
      "[[3 4]\n",
      " [1 2]]\n",
      "[[3 4]\n",
      " [1 2]]\n",
      "[[1 2]\n",
      " [3 4]]\n"
     ]
    }
   ],
   "source": [
    "narr = np.array([[1,2],[3,4]])\n",
    "print(np.flip(narr, axis = 0))\n",
    "print(narr[::-1,:])\n",
    "\n",
    "print(narr)"
   ]
  },
  {
   "cell_type": "markdown",
   "metadata": {
    "id": "wpiLjz_wh6QC"
   },
   "source": [
    "### <font color = 'red'> 연습문제 2-6 : 2차원 배열 시계방향 회전 \n",
    "0~8까지 3x3 배열을 다음과 같이 변환해보자. </font>\n",
    "```\n",
    "[[0 1 2]\n",
    " [3 4 5]\n",
    " [6 7 8]]\n",
    "\n",
    "->\n",
    "[[6 3 0]\n",
    " [7 4 1]\n",
    " [8 5 2]]\n",
    "```"
   ]
  },
  {
   "cell_type": "code",
   "execution_count": null,
   "metadata": {
    "id": "TZp9_2xpvaQn"
   },
   "outputs": [],
   "source": [
    "narr = np.arange(9).reshape(3,3)\n",
    "\n",
    "# 연습문제 2-6 의 코드를 작성하세요\n",
    "\n",
    "\n",
    "print(narr)"
   ]
  },
  {
   "cell_type": "markdown",
   "metadata": {
    "id": "JWmX-Nri7wEk"
   },
   "source": [
    "### <font color = 'red'> 연습문제 2-7 : 다음과 같은 형태의 데이터를 생성해보자 \n",
    "\n",
    "0 ~ 1 사이의 10개의 x 점의 x*x 의 그래프를 생성하는 다음의 코드가 생성하는 이미지는 다음과 같다. \n",
    "</font>\n",
    "```\n",
    "x = np.linspace(0,1,10)\n",
    "y = x * x\n",
    "\n",
    "plt.plot( x,y )\n",
    "plt.show()\n",
    "```\n",
    "\n",
    "![image.png](data:image/png;base64,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)"
   ]
  },
  {
   "cell_type": "markdown",
   "metadata": {
    "id": "9GmPwdniEMym"
   },
   "source": [
    "<font color = 'red'> 이 배열을 이용해 다음과 같은 형태의 이미지를 생성해보자 </font>\n",
    "\n",
    "![image.png](data:image/png;base64,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)"
   ]
  },
  {
   "cell_type": "code",
   "execution_count": 10,
   "metadata": {
    "colab": {
     "base_uri": "https://localhost:8080/",
     "height": 265
    },
    "executionInfo": {
     "elapsed": 1061,
     "status": "ok",
     "timestamp": 1619436259004,
     "user": {
      "displayName": "messcure JNDan",
      "photoUrl": "https://lh3.googleusercontent.com/a-/AOh14Ggq2Xj7nwN863n-DdzIR-k5lDtigKwvAvISiB9i=s64",
      "userId": "00517861436348801488"
     },
     "user_tz": -540
    },
    "id": "RAeBUwCtki0Z",
    "outputId": "6bee9130-d3c3-4b51-896c-0fe4e8fd6113"
   },
   "outputs": [
    {
     "data": {
      "image/png": "[encoded data removed]",
      "text/plain": [
       "<Figure size 432x288 with 1 Axes>"
      ]
     },
     "metadata": {
      "needs_background": "light",
      "tags": []
     },
     "output_type": "display_data"
    }
   ],
   "source": [
    "# y = x*x 인 2차원 곡선\n",
    "x = np.linspace(0,1,10)\n",
    "y = x * x\n",
    " \n",
    "plt.plot( x,y )\n",
    "plt.show()\n",
    "\n",
    "## d연습문제 2-7의 코드를 작성해보자. "
   ]
  },
  {
   "cell_type": "markdown",
   "metadata": {
    "id": "kCtJu19-eGKA"
   },
   "source": [
    "### <font color = 'red'> 연습문제 2-8 : 격자 패턴 생성 \n",
    "\n",
    "0~8까지 3x3 의 정방형 데이터가 가로 세로 3x3 으로 모인 9x9 데이터를 만드는 방법을 생각해보자.\n",
    "</font>\n",
    "\n",
    "``` \n",
    "[[0 1 2 0 1 2 0 1 2]\n",
    " [3 4 5 3 4 5 3 4 5]\n",
    " [6 7 8 6 7 8 6 7 8]\n",
    " [0 1 2 0 1 2 0 1 2]\n",
    " [3 4 5 3 4 5 3 4 5]\n",
    " [6 7 8 6 7 8 6 7 8]\n",
    " [0 1 2 0 1 2 0 1 2]\n",
    " [3 4 5 3 4 5 3 4 5]\n",
    " [6 7 8 6 7 8 6 7 8]]\n",
    "```"
   ]
  },
  {
   "cell_type": "code",
   "execution_count": null,
   "metadata": {
    "id": "JzrdMDHQlW_g"
   },
   "outputs": [],
   "source": [
    "# 연습문제 2-8의 코드를 여기에 생성해보자"
   ]
  }
 ],
 "metadata": {
  "colab": {
   "collapsed_sections": [],
   "name": "3 numpy_cond.ipynb의 사본",
   "provenance": [
    {
     "file_id": "https://github.com/decoz/mlclass/blob/master/3_numpy_cond.ipynb",
     "timestamp": 1616994658544
    }
   ],
   "toc_visible": true
  },
  "kernelspec": {
   "display_name": "Python 3",
   "language": "python",
   "name": "python3"
  },
  "language_info": {
   "codemirror_mode": {
    "name": "ipython",
    "version": 3
   },
   "file_extension": ".py",
   "mimetype": "text/x-python",
   "name": "python",
   "nbconvert_exporter": "python",
   "pygments_lexer": "ipython3",
   "version": "3.8.5"
  }
 },
 "nbformat": 4,
 "nbformat_minor": 1
}
