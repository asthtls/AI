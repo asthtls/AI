{
 "cells": [
  {
   "cell_type": "code",
   "execution_count": null,
   "metadata": {
    "id": "062wlHk0royX"
   },
   "outputs": [],
   "source": [
    "import numpy as np \n",
    "import matplotlib.pyplot as plt "
   ]
  },
  {
   "cell_type": "markdown",
   "metadata": {
    "id": "q6UBmqG4wL_N"
   },
   "source": [
    "# 분류(classification) 와 회귀분석\n",
    "\n",
    "감독학습의 큰 두 줄기는 회귀와 분류이다. 회귀는 데이터의 상관관계를 기반으로 하여 출력 데이터의 연속적인 값을 예측하는 것이다. 이와는 달리 그 결과가 수치화되기 어려운 데이터가 존재한다. 예를 들어 여러 기상조건을 기준으로 비가 올것인가 안올것인가를 예측하는 문제들은 이를 수치화시키기 어렵다. \n",
    "\n",
    "이런 불연속적이고 유한적인 결과를 예측하는 문제를 분류(classification)이라고 표현한다. \n",
    "\n"
   ]
  },
  {
   "cell_type": "markdown",
   "metadata": {
    "id": "nXlGCbtsrFl5"
   },
   "source": [
    "## 간단한 분류 문제 만들어보기\n",
    "\n",
    "이제 간단한 분류 문제를 만들어보도록 하자. 먼저 0 부터 1 까지 10개의 x 를 고르게 분포시킨다. \n",
    "\n"
   ]
  },
  {
   "cell_type": "code",
   "execution_count": null,
   "metadata": {
    "colab": {
     "base_uri": "https://localhost:8080/",
     "height": 283
    },
    "executionInfo": {
     "elapsed": 2201,
     "status": "ok",
     "timestamp": 1619455930947,
     "user": {
      "displayName": "messcure JNDan",
      "photoUrl": "https://lh3.googleusercontent.com/a-/AOh14Ggq2Xj7nwN863n-DdzIR-k5lDtigKwvAvISiB9i=s64",
      "userId": "00517861436348801488"
     },
     "user_tz": -540
    },
    "id": "iBXxiGVatF6v",
    "outputId": "6d6b19bd-e656-4477-f044-049d41152ac6"
   },
   "outputs": [
    {
     "data": {
      "text/plain": [
       "[<matplotlib.lines.Line2D at 0x7fbc08e40ed0>]"
      ]
     },
     "execution_count": 3,
     "metadata": {
      "tags": []
     },
     "output_type": "execute_result"
    },
    {
     "data": {
      "image/png": "[encoded data removed]",
      "text/plain": [
       "<Figure size 432x288 with 1 Axes>"
      ]
     },
     "metadata": {
      "needs_background": "light",
      "tags": []
     },
     "output_type": "display_data"
    }
   ],
   "source": [
    "x = np.linspace(0,1,10)\n",
    "plt.plot(x,'o')"
   ]
  },
  {
   "cell_type": "markdown",
   "metadata": {
    "id": "rXqDIUU8tbvV"
   },
   "source": [
    "이번에는 0.5 를 기준으로 편차가 0.1 인 10 개의 값으로 이뤄진 정규랜덤 r을 만들 어보자"
   ]
  },
  {
   "cell_type": "code",
   "execution_count": null,
   "metadata": {
    "colab": {
     "base_uri": "https://localhost:8080/",
     "height": 283
    },
    "executionInfo": {
     "elapsed": 1716,
     "status": "ok",
     "timestamp": 1619455932043,
     "user": {
      "displayName": "messcure JNDan",
      "photoUrl": "https://lh3.googleusercontent.com/a-/AOh14Ggq2Xj7nwN863n-DdzIR-k5lDtigKwvAvISiB9i=s64",
      "userId": "00517861436348801488"
     },
     "user_tz": -540
    },
    "id": "AvV92DR-tj0C",
    "outputId": "7d793f67-28c8-478c-e1b4-f501e11f14ac"
   },
   "outputs": [
    {
     "data": {
      "text/plain": [
       "[<matplotlib.lines.Line2D at 0x7fbc08dff8d0>]"
      ]
     },
     "execution_count": 4,
     "metadata": {
      "tags": []
     },
     "output_type": "execute_result"
    },
    {
     "data": {
      "image/png": "[encoded data removed]",
      "text/plain": [
       "<Figure size 432x288 with 1 Axes>"
      ]
     },
     "metadata": {
      "needs_background": "light",
      "tags": []
     },
     "output_type": "display_data"
    }
   ],
   "source": [
    "r = np.random.normal(0.5,0.1,10) #평균 0.5 편차 .1이 난수이다\n",
    "plt.plot(r,'o')"
   ]
  },
  {
   "cell_type": "markdown",
   "metadata": {
    "id": "B_93W5cZuH8i"
   },
   "source": [
    "이제 둘을 동시에 표현하면 다음과 같다. "
   ]
  },
  {
   "cell_type": "code",
   "execution_count": null,
   "metadata": {
    "colab": {
     "base_uri": "https://localhost:8080/",
     "height": 265
    },
    "executionInfo": {
     "elapsed": 1443,
     "status": "ok",
     "timestamp": 1619455934525,
     "user": {
      "displayName": "messcure JNDan",
      "photoUrl": "https://lh3.googleusercontent.com/a-/AOh14Ggq2Xj7nwN863n-DdzIR-k5lDtigKwvAvISiB9i=s64",
      "userId": "00517861436348801488"
     },
     "user_tz": -540
    },
    "id": "vau_EyAOrXv5",
    "outputId": "d20d71d7-d0de-4dc2-ed6c-f11958079f13"
   },
   "outputs": [
    {
     "data": {
      "image/png": "[encoded data removed]",
      "text/plain": [
       "<Figure size 432x288 with 1 Axes>"
      ]
     },
     "metadata": {
      "needs_background": "light",
      "tags": []
     },
     "output_type": "display_data"
    }
   ],
   "source": [
    "plt.plot(x,'o')\n",
    "plt.plot(r,'o')\n",
    "plt.show()\n"
   ]
  },
  {
   "cell_type": "markdown",
   "metadata": {
    "id": "e5QDSCw6uP4I"
   },
   "source": [
    "\n",
    "이제 각각의 r 과 x 를 비교해서 x 가 더크면 1 , 아니면 0 인 배열 y를  만들어보자. np.where 을 이용하면 다음과 같이 간단히 둘의 비교 배열을 생성 가능하다. "
   ]
  },
  {
   "cell_type": "code",
   "execution_count": null,
   "metadata": {
    "colab": {
     "base_uri": "https://localhost:8080/"
    },
    "executionInfo": {
     "elapsed": 1084,
     "status": "ok",
     "timestamp": 1619455936690,
     "user": {
      "displayName": "messcure JNDan",
      "photoUrl": "https://lh3.googleusercontent.com/a-/AOh14Ggq2Xj7nwN863n-DdzIR-k5lDtigKwvAvISiB9i=s64",
      "userId": "00517861436348801488"
     },
     "user_tz": -540
    },
    "id": "z_bHxgnvujGP",
    "outputId": "d82f8d1c-79e9-4593-e348-a46b649269da"
   },
   "outputs": [
    {
     "name": "stdout",
     "output_type": "stream",
     "text": [
      "[0 0 0 1 1 0 1 1 1 1]\n"
     ]
    }
   ],
   "source": [
    "y = np.where( x > r , 1, 0 ) #두배열중 x가 더크면 참이면1 거짓이면 0 => 0과 1로된데이터가 나옴 \n",
    "print(y)\n"
   ]
  },
  {
   "cell_type": "markdown",
   "metadata": {
    "id": "aMwPGSwkvZmg"
   },
   "source": [
    "이제 y 를 x 에 대해 표현하면 다음과 같다. "
   ]
  },
  {
   "cell_type": "code",
   "execution_count": null,
   "metadata": {
    "colab": {
     "base_uri": "https://localhost:8080/",
     "height": 265
    },
    "executionInfo": {
     "elapsed": 1262,
     "status": "ok",
     "timestamp": 1619455940074,
     "user": {
      "displayName": "messcure JNDan",
      "photoUrl": "https://lh3.googleusercontent.com/a-/AOh14Ggq2Xj7nwN863n-DdzIR-k5lDtigKwvAvISiB9i=s64",
      "userId": "00517861436348801488"
     },
     "user_tz": -540
    },
    "id": "C1n-ErQqvgD4",
    "outputId": "5faed88a-00d5-4398-8f65-73854df4a164"
   },
   "outputs": [
    {
     "data": {
      "image/png": "[encoded data removed]",
      "text/plain": [
       "<Figure size 432x288 with 1 Axes>"
      ]
     },
     "metadata": {
      "needs_background": "light",
      "tags": []
     },
     "output_type": "display_data"
    }
   ],
   "source": [
    "plt.plot(x, y,'o')\n",
    "plt.show()"
   ]
  },
  {
   "cell_type": "markdown",
   "metadata": {
    "id": "Q_5GJ9clxpon"
   },
   "source": [
    "이 y 값은 x에 대해 평균0.5, 편차 0.1 의 랜덤 값이 x 보다 작을 가능성이 불연속적인 결과로 나타난 경우를 보여준다. \n",
    "\n",
    "이제 이 전체 과정을 random의 편차를 키우면서 반복해보자. \n"
   ]
  },
  {
   "cell_type": "code",
   "execution_count": null,
   "metadata": {
    "colab": {
     "base_uri": "https://localhost:8080/",
     "height": 265
    },
    "executionInfo": {
     "elapsed": 651,
     "status": "ok",
     "timestamp": 1619455961890,
     "user": {
      "displayName": "messcure JNDan",
      "photoUrl": "https://lh3.googleusercontent.com/a-/AOh14Ggq2Xj7nwN863n-DdzIR-k5lDtigKwvAvISiB9i=s64",
      "userId": "00517861436348801488"
     },
     "user_tz": -540
    },
    "id": "uhOD8YMlzSS_",
    "outputId": "6e64656a-79a9-48ab-9e05-703dc91727c5"
   },
   "outputs": [
    {
     "data": {
      "image/png": "[encoded data removed]",
      "text/plain": [
       "<Figure size 432x288 with 1 Axes>"
      ]
     },
     "metadata": {
      "needs_background": "light",
      "tags": []
     },
     "output_type": "display_data"
    }
   ],
   "source": [
    "# n : x 의 갯수\n",
    "# e : 랜덤 표준편차 \n",
    "\n",
    "n,e = 10, 0.2 \n",
    "#데이터 수 늘리면 부드러운모양이됨 \n",
    "x = np.linspace(0,1, n)\n",
    "r = np.random.normal(0.5, e, n)\n",
    "y = np.where( x > r , 1, 0 )\n",
    "plt.plot( x, y, '.') \n",
    "plt.show()\n"
   ]
  },
  {
   "cell_type": "markdown",
   "metadata": {
    "id": "elDQ8eW8wL_Q"
   },
   "source": [
    "### 선형 회귀 분석을 적용시 문제점\n",
    "\n",
    "위에서 생성된 x,y 에 우리가 배웠던 선형 회귀분석을 적용해보자 \n",
    "\n"
   ]
  },
  {
   "cell_type": "code",
   "execution_count": null,
   "metadata": {
    "colab": {
     "base_uri": "https://localhost:8080/",
     "height": 265
    },
    "executionInfo": {
     "elapsed": 747,
     "status": "ok",
     "timestamp": 1619456016471,
     "user": {
      "displayName": "messcure JNDan",
      "photoUrl": "https://lh3.googleusercontent.com/a-/AOh14Ggq2Xj7nwN863n-DdzIR-k5lDtigKwvAvISiB9i=s64",
      "userId": "00517861436348801488"
     },
     "user_tz": -540
    },
    "id": "BzC3Dlt7pXj4",
    "outputId": "9dc62c52-8afe-42de-89e7-71b834db38c8"
   },
   "outputs": [
    {
     "data": {
      "image/png": "[encoded data removed]",
      "text/plain": [
       "<Figure size 432x288 with 1 Axes>"
      ]
     },
     "metadata": {
      "needs_background": "light",
      "tags": []
     },
     "output_type": "display_data"
    }
   ],
   "source": [
    "from sklearn import linear_model\n",
    "regr = linear_model.LinearRegression() \n",
    "regr.fit(x.reshape(-1,1),y)\n",
    "plt.plot(x, y, 'o')\n",
    "plt.plot(x, x * regr.coef_ + regr.intercept_)\n",
    "plt.show()"
   ]
  },
  {
   "cell_type": "markdown",
   "metadata": {
    "id": "3QI74svZpnZE"
   },
   "source": [
    "\n",
    "과연 이것이 이 데이터를 올바르게 예측한다고 할 수 있을까? 무엇보다 결과가 0,1 범위를 넘어가는 순간 예측은 무의미해진다. 이를 예측하기 위해선 일반적인  y=wx+ϵ  형식의 함수는 적합하지 안다. \n",
    "\n"
   ]
  },
  {
   "cell_type": "markdown",
   "metadata": {
    "id": "VC3tsUd4wL_P"
   },
   "source": [
    "<br><br>\n",
    "\n",
    "---\n",
    "\n",
    "# Logistic Regression"
   ]
  },
  {
   "cell_type": "markdown",
   "metadata": {
    "id": "X1l7A7-aZQdY"
   },
   "source": [
    "## 로지스틱 함수\n",
    "\n",
    "이런 범주형 데이터를 해석할 수 있는 수학적 모델을 만들기 위해서 롹률로 해석하는 로지스틱 함수라는 것을 도입하였다.   \n",
    "\n",
    "먼저 이러한 문제는 y 가 1일 확률이 되는 함수 P를 구하는 문제로 변환하였다. \n",
    "\n",
    "\n",
    "> $$ P(y=1) = f(x) $$\n",
    "\n",
    "하지만 확률 P는 0과 1의 범위를 지니며 일반적인 $wx + \\epsilon$ 은 $-\\infty \\approx  \\infty $ 의 범위를 지닌다. 이 문제를 해결하기 위해 P 의 오즈비 라는 개념을 도입하는데 이는 발생확률 / 발생하지 안을 확률 을 의미한다. \n",
    "\n",
    "> $$ \\frac{P}{1-P}  $$\n",
    "\n",
    "이 오즈비 함수는 - 범위를 커버하지 못하기 때문에 이를 해결하기 위해 log 를 씌운 함수를 로짓 함수라고 한다.\n",
    "\n",
    ">$$log(\\frac{P}{1-P}) $$\n",
    "\n",
    "이를 다시 fx 에 대해서 풀어보면 \n",
    "\n",
    ">$$\n",
    "\\log(\\frac{P}{1-P}) = f(x) \\\\\n",
    "\\frac{P}{1-P} = e^{f(x)} \\\\\n",
    "\\frac{1-P}{P} = \\frac{1}{e^{f(x)}} \\\\\n",
    "\\frac{1}{P} - 1 = \\frac{1}{e^{f(x)}} \\\\\n",
    "\\frac{1}{P} = e^{-f(x)} + 1 \\\\\n",
    "P = \\frac{1}{1 + e^{-f(x)}} \\\\\n",
    "$$\n",
    "\n",
    "이때 $f(x)$ 를 $wx+\\epsilon$ 이라고 가정하면 \n",
    "\n",
    ">$$ P = \\frac{1}{1 + e^{-(wx+\\epsilon)}} $$\n",
    "\n",
    "이런 형태의 함수가 된다.  이를 로지스틱 함수 또는 시그모이드 함수라고도 부른다. 이 함수는 로지스틱 회귀만이 아니라 여러 분류 문제의 활성화 함수로 사용되므로 이 함수의 성질을 이해해두면 좋다. 먼저 이 함수를 시각화 하면 다음과 같은 형태가 된다. \n",
    "\n",
    "\n",
    "\n",
    "\n",
    "\n",
    "\n",
    "\n"
   ]
  },
  {
   "cell_type": "code",
   "execution_count": null,
   "metadata": {
    "colab": {
     "base_uri": "https://localhost:8080/",
     "height": 265
    },
    "executionInfo": {
     "elapsed": 583,
     "status": "ok",
     "timestamp": 1619456211139,
     "user": {
      "displayName": "messcure JNDan",
      "photoUrl": "https://lh3.googleusercontent.com/a-/AOh14Ggq2Xj7nwN863n-DdzIR-k5lDtigKwvAvISiB9i=s64",
      "userId": "00517861436348801488"
     },
     "user_tz": -540
    },
    "id": "n5HZT8uXZUG4",
    "outputId": "73e4b0c8-1ced-4538-a532-89124ce1c1a8"
   },
   "outputs": [
    {
     "data": {
      "image/png": "[encoded data removed]",
      "text/plain": [
       "<Figure size 432x288 with 1 Axes>"
      ]
     },
     "metadata": {
      "needs_background": "light",
      "tags": []
     },
     "output_type": "display_data"
    }
   ],
   "source": [
    "import numpy as np \n",
    "import matplotlib.pyplot as plt \n",
    "x = np.linspace(-10,10,100) #x가 선형함수 , 커지다가 1에가까워지면.. =>시그모이드함수, 범주형데이터로 현상분석 로지스틱함수\n",
    "y = 1 / ( 1 + np.exp(-1*x + 0 ) )\n",
    "plt.plot(x,y)\n",
    "plt.show() "
   ]
  },
  {
   "cell_type": "markdown",
   "metadata": {
    "id": "zPuK0cctqidf"
   },
   "source": [
    "위의 함수는 w 는 1이고 e 는 0 인 시그모이드 함수로서 0을 기준으로 확률이 0.5를 넘게 되어있다.  \n",
    "\n"
   ]
  },
  {
   "cell_type": "markdown",
   "metadata": {
    "id": "B5tphM0Cua45"
   },
   "source": [
    "\n",
    "## 시그모이드(로지스틱) 함수 변형\n",
    "\n",
    "이제 이 sigmoid 함수의 형태가 w 의 변화에 따라 어떻게 변하는지 살펴보자. 이를 위해서 먼저 3가지 값을 가지는 w 배열을 세로로 만든다. \n"
   ]
  },
  {
   "cell_type": "code",
   "execution_count": null,
   "metadata": {
    "colab": {
     "base_uri": "https://localhost:8080/"
    },
    "executionInfo": {
     "elapsed": 563,
     "status": "ok",
     "timestamp": 1619456308325,
     "user": {
      "displayName": "messcure JNDan",
      "photoUrl": "https://lh3.googleusercontent.com/a-/AOh14Ggq2Xj7nwN863n-DdzIR-k5lDtigKwvAvISiB9i=s64",
      "userId": "00517861436348801488"
     },
     "user_tz": -540
    },
    "id": "uPhP22ajrvug",
    "outputId": "d169a1eb-56df-4bc3-b6d3-d7195a5753d7"
   },
   "outputs": [
    {
     "name": "stdout",
     "output_type": "stream",
     "text": [
      "[[-1]\n",
      " [ 1]\n",
      " [ 3]]\n"
     ]
    }
   ],
   "source": [
    "w = np.array([-1,1,3]).reshape(-1,1)#가중치,기울기  \n",
    "print(w)\n",
    "\n"
   ]
  },
  {
   "cell_type": "markdown",
   "metadata": {
    "id": "Qsgp-A0tuH7g"
   },
   "source": [
    "이 w 를 이용해 각각의 w 값마다 100개의 y 값을 가진 (3,100) 형태의 y값을 만든다. "
   ]
  },
  {
   "cell_type": "code",
   "execution_count": null,
   "metadata": {
    "colab": {
     "base_uri": "https://localhost:8080/"
    },
    "executionInfo": {
     "elapsed": 788,
     "status": "ok",
     "timestamp": 1619456328137,
     "user": {
      "displayName": "messcure JNDan",
      "photoUrl": "https://lh3.googleusercontent.com/a-/AOh14Ggq2Xj7nwN863n-DdzIR-k5lDtigKwvAvISiB9i=s64",
      "userId": "00517861436348801488"
     },
     "user_tz": -540
    },
    "id": "mU5Mlti0t9YW",
    "outputId": "bc3fdaa0-eebf-4a77-b41a-9f05a0b2a774"
   },
   "outputs": [
    {
     "name": "stdout",
     "output_type": "stream",
     "text": [
      "(3, 100)\n"
     ]
    }
   ],
   "source": [
    "#2열종대로 만들면 w는 배열을 1열종대로 만든다음 현재있는 x데이터(0~10)를 3열횡대로 만들어줌 \n",
    "y = 1 / ( 1 + np.exp(-1 * w * x + 0 ) )\n",
    "print(y.shape)\n",
    "#3행 100열 "
   ]
  },
  {
   "cell_type": "markdown",
   "metadata": {
    "id": "xT6sLNDGu_60"
   },
   "source": [
    "plt.plot 을 이용해 한번에 여러개의 선을 그리기 위해서는 \n",
    "```\n",
    "[[y1,y2,y3]\n",
    " [y1,y2,y3] \n",
    " ...\n",
    "]\n",
    "```\n",
    "형태가 필요하지만 지금 y 는 \n",
    "```\n",
    "[[y1,y1,y1,... ]\n",
    " [y2,y2,y2,... ]\n",
    " [y3,y3,y3,... ]\n",
    "]\n",
    "```\n",
    "형태로 존재한다. 이를 위의 형태로 바꾸려면 \n",
    "```\n",
    "y.swapaxes(0,1) \n",
    "```\n",
    "로 축을 바꿔주어야 한다. 이를 이용해 3가지 w 값에 따른 y의 변화를 그리면 다음과 같다. "
   ]
  },
  {
   "cell_type": "code",
   "execution_count": null,
   "metadata": {
    "colab": {
     "base_uri": "https://localhost:8080/",
     "height": 265
    },
    "executionInfo": {
     "elapsed": 698,
     "status": "ok",
     "timestamp": 1618206912652,
     "user": {
      "displayName": "messcure JNDan",
      "photoUrl": "https://lh3.googleusercontent.com/a-/AOh14Ggq2Xj7nwN863n-DdzIR-k5lDtigKwvAvISiB9i=s64",
      "userId": "00517861436348801488"
     },
     "user_tz": -540
    },
    "id": "rg73QQyfvyBx",
    "outputId": "27e36e6e-e09b-4793-eaec-1671b9eb8cc5"
   },
   "outputs": [
    {
     "data": {
      "image/png": "[encoded data removed]",
      "text/plain": [
       "<Figure size 432x288 with 1 Axes>"
      ]
     },
     "metadata": {
      "needs_background": "light",
      "tags": []
     },
     "output_type": "display_data"
    }
   ],
   "source": [
    "plt.plot(x,y.swapaxes(0,1)) \n",
    "plt.show()\n",
    "#-1 1 3 에 대한 그래프 , 주황색이 weight가1 파란색w는 -1, \n",
    "#weight가 3이되면 01로가는 기울기가 커진다 확률이 급격하게 변한다"
   ]
  },
  {
   "cell_type": "markdown",
   "metadata": {
    "id": "WvGcpczBrZ9F"
   },
   "source": [
    "결과적으로 w는 확률적 변화의 기울기를 표현하는 것을 느낄 수 있을 것이다. w 가 클수록 급격하게 확률밀도가 변한다. "
   ]
  },
  {
   "cell_type": "markdown",
   "metadata": {
    "id": "CqHTRGANw6LI"
   },
   "source": [
    "### <font color = 'red'> 연습 :  시그모이드 변형\n",
    "이번에는 e 값의 변화에 따라 어떻게 변하는지 -3,0,3 의 3가지 e값을 사용해 변화를 그려보자. \n",
    "</font>"
   ]
  },
  {
   "cell_type": "code",
   "execution_count": null,
   "metadata": {
    "colab": {
     "base_uri": "https://localhost:8080/",
     "height": 283
    },
    "executionInfo": {
     "elapsed": 624,
     "status": "ok",
     "timestamp": 1618207510369,
     "user": {
      "displayName": "messcure JNDan",
      "photoUrl": "https://lh3.googleusercontent.com/a-/AOh14Ggq2Xj7nwN863n-DdzIR-k5lDtigKwvAvISiB9i=s64",
      "userId": "00517861436348801488"
     },
     "user_tz": -540
    },
    "id": "mmGh73giqUva",
    "outputId": "6713b5c4-2a1d-485c-abdf-6d12a8545ca1"
   },
   "outputs": [
    {
     "name": "stdout",
     "output_type": "stream",
     "text": [
      "(3, 100)\n"
     ]
    },
    {
     "data": {
      "image/png": "[encoded data removed]",
      "text/plain": [
       "<Figure size 432x288 with 1 Axes>"
      ]
     },
     "metadata": {
      "needs_background": "light",
      "tags": []
     },
     "output_type": "display_data"
    }
   ],
   "source": [
    "# 연습문제의 코드를 여기에 작성하세요\n",
    "#fx 계수 상수항을 찾는것 확률적으로 0과1이바뀌는 기울기와 위치를결정하는 계수와 상수 찾는것\n",
    "#분류의 가장 기반이 되는 방법 \n",
    "\n",
    "e = np.array([-3,0,3]).reshape(-1,1) #상수 \n",
    "y = 1 / ( 1 + np.exp(-1 * x + e ) )\n",
    "print(y.shape)\n",
    "\n",
    "plt.plot(x,y.swapaxes(0,1)) \n",
    "plt.show()"
   ]
  },
  {
   "cell_type": "markdown",
   "metadata": {
    "id": "eGM5rqsVOQah"
   },
   "source": [
    "---\n",
    "\n",
    "# sklearn.LogisticRegression\n",
    "\n",
    "로지스틱 회귀분석은 결국 문제에 최적화된  로지스틱 함수를 위한 $f(x)$ 얻는 과정을 의미한다.  이를 유도하는 정은 일반적인 선형회귀분석과 달리베르누이 공식을 사용한다고 하며 수학적인 지식을 요구하기 때문에 여기서 그것을 다루는 것은 생략한다. \n",
    "\n",
    "하지만 결과적으론 $f(x)$ 가 선형회귀와 마찬가지 계수 coef_ 와 상수항 intercept_로 이루어져 있기 때문에 이를 사용하는 것은 선형회귀와 거의 동일하다. 이제부터 선형회귀에서 했듯이 sklearn.LgositcRegression 을 사용하는 방법을 알아보도록 한다. \n"
   ]
  },
  {
   "cell_type": "markdown",
   "metadata": {
    "id": "wZAMeaUNQe9Y"
   },
   "source": [
    "## 모델생성\n",
    "\n",
    "모델 생성은 LinearRegression 과 유사하게 sklearn.linear_model 로부터 LogisticRegression을 이용한다.  "
   ]
  },
  {
   "cell_type": "code",
   "execution_count": null,
   "metadata": {
    "id": "A7-nwdN_teFD"
   },
   "outputs": [],
   "source": [
    "from sklearn.linear_model import LogisticRegression\n",
    "regr = LogisticRegression()\n"
   ]
  },
  {
   "cell_type": "markdown",
   "metadata": {
    "id": "1mknhDkORk5y"
   },
   "source": [
    "## 간단한 로지스틱 문제 해결\n",
    "이제 이를 이용해  위의 분류를 설명할 때 나왔던 문제를 풀어보도록 하겠다. "
   ]
  },
  {
   "cell_type": "code",
   "execution_count": null,
   "metadata": {
    "colab": {
     "base_uri": "https://localhost:8080/",
     "height": 265
    },
    "executionInfo": {
     "elapsed": 1044,
     "status": "ok",
     "timestamp": 1619456969490,
     "user": {
      "displayName": "messcure JNDan",
      "photoUrl": "https://lh3.googleusercontent.com/a-/AOh14Ggq2Xj7nwN863n-DdzIR-k5lDtigKwvAvISiB9i=s64",
      "userId": "00517861436348801488"
     },
     "user_tz": -540
    },
    "id": "6HoB1BWx3H-0",
    "outputId": "69886711-6d0e-403a-db2c-45cdd20e3958"
   },
   "outputs": [
    {
     "data": {
      "image/png": "[encoded data removed]",
      "text/plain": [
       "<Figure size 432x288 with 1 Axes>"
      ]
     },
     "metadata": {
      "needs_background": "light",
      "tags": []
     },
     "output_type": "display_data"
    }
   ],
   "source": [
    "n,e = 100, 0.1#10, 0.1\n",
    "\n",
    "x = np.linspace(0,1, n)\n",
    "r = np.random.normal(0.5, 0.1, n)\n",
    "y = np.where( x > r , 1, 0 )\n",
    "plt.plot( x, y, '.') \n",
    "\n",
    "plt.show()\n"
   ]
  },
  {
   "cell_type": "markdown",
   "metadata": {
    "id": "-ptZ38rWR4y_"
   },
   "source": [
    "이제 회귀분석을 수행한다. 선형회귀분석과 마찬가지로 1차원 x 는 2차원으로 형태 변환(reshape) 를 해준다. "
   ]
  },
  {
   "cell_type": "code",
   "execution_count": null,
   "metadata": {
    "colab": {
     "base_uri": "https://localhost:8080/"
    },
    "executionInfo": {
     "elapsed": 565,
     "status": "ok",
     "timestamp": 1619457137368,
     "user": {
      "displayName": "messcure JNDan",
      "photoUrl": "https://lh3.googleusercontent.com/a-/AOh14Ggq2Xj7nwN863n-DdzIR-k5lDtigKwvAvISiB9i=s64",
      "userId": "00517861436348801488"
     },
     "user_tz": -540
    },
    "id": "a80gXIEt3I6q",
    "outputId": "94953acf-f66b-4d71-ec60-ad7e7326753a"
   },
   "outputs": [
    {
     "data": {
      "text/plain": [
       "LogisticRegression(C=1.0, class_weight=None, dual=False, fit_intercept=True,\n",
       "                   intercept_scaling=1, l1_ratio=None, max_iter=100,\n",
       "                   multi_class='auto', n_jobs=None, penalty='l2',\n",
       "                   random_state=None, solver='lbfgs', tol=0.0001, verbose=0,\n",
       "                   warm_start=False)"
      ]
     },
     "execution_count": 16,
     "metadata": {
      "tags": []
     },
     "output_type": "execute_result"
    }
   ],
   "source": [
    "regr.fit(x.reshape(-1,1),y)"
   ]
  },
  {
   "cell_type": "markdown",
   "metadata": {
    "id": "E-_VX0XKSPHj"
   },
   "source": [
    "분석 결과를 시각화 하기 전에 간단히 predict 를 사용해 x 의 예측결과를 볼 수 있다. "
   ]
  },
  {
   "cell_type": "code",
   "execution_count": null,
   "metadata": {
    "colab": {
     "base_uri": "https://localhost:8080/"
    },
    "executionInfo": {
     "elapsed": 1034,
     "status": "ok",
     "timestamp": 1619457146218,
     "user": {
      "displayName": "messcure JNDan",
      "photoUrl": "https://lh3.googleusercontent.com/a-/AOh14Ggq2Xj7nwN863n-DdzIR-k5lDtigKwvAvISiB9i=s64",
      "userId": "00517861436348801488"
     },
     "user_tz": -540
    },
    "id": "BomYrtEa3MY1",
    "outputId": "3a0554f8-4c5d-47b8-8abf-bfbc96843ae8"
   },
   "outputs": [
    {
     "name": "stdout",
     "output_type": "stream",
     "text": [
      "[0 0 0 0 0 0 0 0 0 0 0 0 0 0 0 0 0 0 0 0 0 0 0 0 0 0 0 0 0 0 0 0 0 0 0 0 0\n",
      " 0 0 0 0 0 0 0 0 0 0 0 0 0 0 0 0 0 0 1 1 1 1 1 1 1 1 1 1 1 1 1 1 1 1 1 1 1\n",
      " 1 1 1 1 1 1 1 1 1 1 1 1 1 1 1 1 1 1 1 1 1 1 1 1 1 1]\n"
     ]
    }
   ],
   "source": [
    "pre = regr.predict(x.reshape(-1,1))\n",
    "print(pre)\n",
    "#predict는 시그모이드함수에 넣어 예측값으로,,"
   ]
  },
  {
   "cell_type": "markdown",
   "metadata": {
    "id": "e_ctaFS5Sjvg"
   },
   "source": [
    "시각화 시켜보면 다음과 같다. "
   ]
  },
  {
   "cell_type": "code",
   "execution_count": null,
   "metadata": {
    "colab": {
     "base_uri": "https://localhost:8080/",
     "height": 265
    },
    "executionInfo": {
     "elapsed": 603,
     "status": "ok",
     "timestamp": 1619457165394,
     "user": {
      "displayName": "messcure JNDan",
      "photoUrl": "https://lh3.googleusercontent.com/a-/AOh14Ggq2Xj7nwN863n-DdzIR-k5lDtigKwvAvISiB9i=s64",
      "userId": "00517861436348801488"
     },
     "user_tz": -540
    },
    "id": "r7olrId13jpV",
    "outputId": "43c40f73-ff9d-4b1a-9cc1-c194042aec32"
   },
   "outputs": [
    {
     "data": {
      "image/png": "[encoded data removed]",
      "text/plain": [
       "<Figure size 432x288 with 1 Axes>"
      ]
     },
     "metadata": {
      "needs_background": "light",
      "tags": []
     },
     "output_type": "display_data"
    }
   ],
   "source": [
    "plt.plot(x, pre, '.')\n",
    "plt.show()"
   ]
  },
  {
   "cell_type": "markdown",
   "metadata": {
    "id": "1iuZU-7dS339"
   },
   "source": [
    "선형회귀 분석에서 했듯이 예측 정확도도 확인해보자. "
   ]
  },
  {
   "cell_type": "code",
   "execution_count": null,
   "metadata": {
    "colab": {
     "base_uri": "https://localhost:8080/"
    },
    "executionInfo": {
     "elapsed": 925,
     "status": "ok",
     "timestamp": 1619457187163,
     "user": {
      "displayName": "messcure JNDan",
      "photoUrl": "https://lh3.googleusercontent.com/a-/AOh14Ggq2Xj7nwN863n-DdzIR-k5lDtigKwvAvISiB9i=s64",
      "userId": "00517861436348801488"
     },
     "user_tz": -540
    },
    "id": "GcmPDxEKAlaT",
    "outputId": "b6198165-0344-443c-d5ea-6a346f6258b3"
   },
   "outputs": [
    {
     "name": "stdout",
     "output_type": "stream",
     "text": [
      "0.91\n"
     ]
    }
   ],
   "source": [
    "print(regr.score(x.reshape(-1,1),y))"
   ]
  },
  {
   "cell_type": "markdown",
   "metadata": {
    "id": "8fU6YBVYTH9h"
   },
   "source": [
    "문제 자체가 랜덤성을 갖도록 되어있으므로 정확도가 개인차이가 매우 클 것이다. "
   ]
  },
  {
   "cell_type": "markdown",
   "metadata": {
    "id": "hCEWFzvKTSXB"
   },
   "source": [
    "## 생성된 로지스틱 함수 그려보기 \n",
    "\n",
    "이제 위의 모델에 생성된 함수를 그려보도록 하겠다. 먼저 coef_ 와 intercept_ 값을 확인해보자. "
   ]
  },
  {
   "cell_type": "code",
   "execution_count": null,
   "metadata": {
    "colab": {
     "base_uri": "https://localhost:8080/"
    },
    "executionInfo": {
     "elapsed": 592,
     "status": "ok",
     "timestamp": 1619457191838,
     "user": {
      "displayName": "messcure JNDan",
      "photoUrl": "https://lh3.googleusercontent.com/a-/AOh14Ggq2Xj7nwN863n-DdzIR-k5lDtigKwvAvISiB9i=s64",
      "userId": "00517861436348801488"
     },
     "user_tz": -540
    },
    "id": "_Piko5f_3u1k",
    "outputId": "05d13a11-5491-4920-8e99-b8012f3b17b4"
   },
   "outputs": [
    {
     "name": "stdout",
     "output_type": "stream",
     "text": [
      "[[4.31503854]] [-2.37665975]\n"
     ]
    }
   ],
   "source": [
    "print(regr.coef_, regr.intercept_)\n"
   ]
  },
  {
   "cell_type": "markdown",
   "metadata": {
    "id": "sPyoQn_NTz7t"
   },
   "source": [
    "선형회귀와 마찬가지로 계수와 상수가 생성된 것이 출력된다.  이제 이것을 그래프화 시켜주어야 한다. 단 위의 계수와 상수항으로 만들어진 $f(x)$ 를 다시 시그모이드 함수에 넣어줘야 한다.  이 함수는 다음과 같이 표현할 수 있다. \n",
    "\n",
    "```\n",
    " 1 / ( 1 + np.exp( -1 * regr.coef_ - regr.intercept_ ) ) \n",
    "```\n",
    "\n",
    "단 coef 가 2차원 값이므로 이 결과인 py도 (1,n) 의 2차원 형태가 된다. 이것을 다시 \n",
    "```\n",
    "reshape(-1)\n",
    "```\n",
    "로 1차원으로 바꿔준후 그래프로 그리면 다음과 같다. "
   ]
  },
  {
   "cell_type": "code",
   "execution_count": null,
   "metadata": {
    "colab": {
     "base_uri": "https://localhost:8080/",
     "height": 283
    },
    "executionInfo": {
     "elapsed": 943,
     "status": "ok",
     "timestamp": 1619457266594,
     "user": {
      "displayName": "messcure JNDan",
      "photoUrl": "https://lh3.googleusercontent.com/a-/AOh14Ggq2Xj7nwN863n-DdzIR-k5lDtigKwvAvISiB9i=s64",
      "userId": "00517861436348801488"
     },
     "user_tz": -540
    },
    "id": "j2Rpyh1uTwHm",
    "outputId": "43ac1042-eab4-4690-e054-f116f22398aa"
   },
   "outputs": [
    {
     "data": {
      "text/plain": [
       "[<matplotlib.lines.Line2D at 0x7fbbf7b18510>]"
      ]
     },
     "execution_count": 21,
     "metadata": {
      "tags": []
     },
     "output_type": "execute_result"
    },
    {
     "data": {
      "image/png": "[encoded data removed]",
      "text/plain": [
       "<Figure size 432x288 with 1 Axes>"
      ]
     },
     "metadata": {
      "needs_background": "light",
      "tags": []
     },
     "output_type": "display_data"
    }
   ],
   "source": [
    "\n",
    "py = 1 / ( 1 + np.exp(-1 * regr.coef_ * x - regr.intercept_ ) )\n",
    "plt.plot(x, y, 'o')\n",
    "plt.plot(x, py.reshape(-1))\n"
   ]
  },
  {
   "cell_type": "markdown",
   "metadata": {
    "id": "l2RKaj57ViHa"
   },
   "source": [
    "아마 의외로 직선에 가까운 모양이 나와서 실망한 사람들이 있을 것이다.  이는 범위가 0부터 1 사이로 너무 좁고 데이터가 적어서 발생하는 현상이다. 그러면 이제 문제를 수정해서 위의 과정을 직접 해보도록하자. \n",
    "\n"
   ]
  },
  {
   "cell_type": "markdown",
   "metadata": {
    "id": "jlqFbTfgWE8X"
   },
   "source": [
    "### <font color = 'red'> 연습 : 단순 로지스틱 회귀분석 \n",
    "다음과 같은 문제로 회귀 분석을 하고 결정계수 값을 출력 후에 로지스틱 함수를 시각화해보자. \n",
    "</font>\n",
    "```\n",
    "x 는 -10 부터 10 사이의 100개의 값이며 y는 평균 3을 중심으로 편차 1 인 랜덤값보다 작을 경우 1 아니면 0 값을 갖는다.\n",
    "```\n"
   ]
  },
  {
   "cell_type": "code",
   "execution_count": null,
   "metadata": {
    "colab": {
     "base_uri": "https://localhost:8080/",
     "height": 265
    },
    "executionInfo": {
     "elapsed": 773,
     "status": "ok",
     "timestamp": 1619457390957,
     "user": {
      "displayName": "messcure JNDan",
      "photoUrl": "https://lh3.googleusercontent.com/a-/AOh14Ggq2Xj7nwN863n-DdzIR-k5lDtigKwvAvISiB9i=s64",
      "userId": "00517861436348801488"
     },
     "user_tz": -540
    },
    "id": "ywUpbKTjWE8a",
    "outputId": "a0a1e319-b6d6-4ad1-ad95-7892b48ee8d0"
   },
   "outputs": [
    {
     "data": {
      "image/png": "[encoded data removed]",
      "text/plain": [
       "<Figure size 432x288 with 1 Axes>"
      ]
     },
     "metadata": {
      "needs_background": "light",
      "tags": []
     },
     "output_type": "display_data"
    }
   ],
   "source": [
    "# 연습문제의 코드를 여기에 작성하세요\n",
    "\n",
    "x = np.linspace(-10,10,100)\n",
    "r = np.random.normal(3,1,100)\n",
    "y = np.where(x < r, 1, 0)\n",
    "plt.plot(x,y,'.')\n",
    "\n",
    "\n",
    "\n",
    "regr.fit(x.reshape(-1,1),y)\n",
    "py = 1 / ( 1 + np.exp(-1 * regr.coef_ * x - regr.intercept_ ) ) #시그모이드함수 생성\n",
    "plt.plot(x,py.reshape(-1)) #2차원이므로 한번 펴줘야함\n",
    "\n",
    "\n",
    "\n",
    "plt.show()\n",
    "\n",
    "#적은쪽이 1 큰쪽이 0"
   ]
  },
  {
   "cell_type": "markdown",
   "metadata": {
    "id": "JEA6Ng2dYEtf"
   },
   "source": [
    "\n",
    "## 두개의 변수 값 로지스틱 회귀분석\n",
    "\n",
    "이번에는 x1, x2 두개의 값을 갖는 문제를 한번 해보도록 한다. 문제는 다음과 같이 정의한다. \n",
    "\n",
    "> 0부터 99가지 정수값을 갖는 x1, x2 에 대해 합산 값이 평균100, 편차 10 인 랜덤값보다 클 경우 1, 아니면 0 인 y 값의 회귀분석\n",
    "\n",
    "이제 이를 위해 먼저 x1과 x2 를 생성하겠다. \n",
    "\n",
    "\n",
    "\n"
   ]
  },
  {
   "cell_type": "code",
   "execution_count": null,
   "metadata": {
    "id": "9WCK4VB2ZaPU"
   },
   "outputs": [],
   "source": [
    "x1,x2 = np.arange(100), np.arange(100)"
   ]
  },
  {
   "cell_type": "markdown",
   "metadata": {
    "id": "nT4sb5uUZhJ0"
   },
   "source": [
    "이제 x1을 y축으로 x2를 x축으로 해서 이 둘의 합산값을 담는 2차원 매트릭스를 생성한다. "
   ]
  },
  {
   "cell_type": "code",
   "execution_count": null,
   "metadata": {
    "colab": {
     "base_uri": "https://localhost:8080/",
     "height": 304
    },
    "executionInfo": {
     "elapsed": 593,
     "status": "ok",
     "timestamp": 1619457553281,
     "user": {
      "displayName": "messcure JNDan",
      "photoUrl": "https://lh3.googleusercontent.com/a-/AOh14Ggq2Xj7nwN863n-DdzIR-k5lDtigKwvAvISiB9i=s64",
      "userId": "00517861436348801488"
     },
     "user_tz": -540
    },
    "id": "3RQs8MH5aavI",
    "outputId": "d668e7a9-bfee-4fb1-fe8a-5ba3f9f1ff7d"
   },
   "outputs": [
    {
     "name": "stdout",
     "output_type": "stream",
     "text": [
      "(100, 100)\n"
     ]
    },
    {
     "data": {
      "text/plain": [
       "<matplotlib.image.AxesImage at 0x7fbbf7a3f950>"
      ]
     },
     "execution_count": 24,
     "metadata": {
      "tags": []
     },
     "output_type": "execute_result"
    },
    {
     "data": {
      "image/png": "[encoded data removed]",
      "text/plain": [
       "<Figure size 432x288 with 1 Axes>"
      ]
     },
     "metadata": {
      "needs_background": "light",
      "tags": []
     },
     "output_type": "display_data"
    }
   ],
   "source": [
    "m = x1.reshape(-1,1) + x2 \n",
    "print(m.shape)\n",
    "plt.imshow(m, cmap = 'gray')"
   ]
  },
  {
   "cell_type": "markdown",
   "metadata": {
    "id": "W5Qf3gAGaw3I"
   },
   "source": [
    "이번에는 이것과 비교할 평균 100, 편차 10인 랜덤값 매트릭스를 r 을 생성해보겠다. "
   ]
  },
  {
   "cell_type": "code",
   "execution_count": null,
   "metadata": {
    "colab": {
     "base_uri": "https://localhost:8080/",
     "height": 286
    },
    "executionInfo": {
     "elapsed": 1198,
     "status": "ok",
     "timestamp": 1619457575414,
     "user": {
      "displayName": "messcure JNDan",
      "photoUrl": "https://lh3.googleusercontent.com/a-/AOh14Ggq2Xj7nwN863n-DdzIR-k5lDtigKwvAvISiB9i=s64",
      "userId": "00517861436348801488"
     },
     "user_tz": -540
    },
    "id": "E8eFflx6a51x",
    "outputId": "6c7dffe7-60e7-4dce-e024-1083b7fd4e21"
   },
   "outputs": [
    {
     "data": {
      "text/plain": [
       "<matplotlib.image.AxesImage at 0x7fbbf799ae90>"
      ]
     },
     "execution_count": 25,
     "metadata": {
      "tags": []
     },
     "output_type": "execute_result"
    },
    {
     "data": {
      "image/png": "[encoded data removed]",
      "text/plain": [
       "<Figure size 432x288 with 1 Axes>"
      ]
     },
     "metadata": {
      "needs_background": "light",
      "tags": []
     },
     "output_type": "display_data"
    }
   ],
   "source": [
    "r = np.random.normal(100,10,(100,100))#노이즈로 합산한 100,100\n",
    "plt.imshow(r, cmap = 'gray')"
   ]
  },
  {
   "cell_type": "markdown",
   "metadata": {
    "id": "Nwj1gywybGpb"
   },
   "source": [
    "이제 x1,x2 의 합산과 r 값을 비교해 더 크면 1 아니면 0 인 이미지를 그려보도록 하겠다. "
   ]
  },
  {
   "cell_type": "code",
   "execution_count": null,
   "metadata": {
    "colab": {
     "base_uri": "https://localhost:8080/",
     "height": 286
    },
    "executionInfo": {
     "elapsed": 747,
     "status": "ok",
     "timestamp": 1618209430320,
     "user": {
      "displayName": "messcure JNDan",
      "photoUrl": "https://lh3.googleusercontent.com/a-/AOh14Ggq2Xj7nwN863n-DdzIR-k5lDtigKwvAvISiB9i=s64",
      "userId": "00517861436348801488"
     },
     "user_tz": -540
    },
    "id": "xVzv7KuEFBB_",
    "outputId": "803102f1-dfab-4886-c3e2-8d93b6590f96"
   },
   "outputs": [
    {
     "data": {
      "text/plain": [
       "<matplotlib.image.AxesImage at 0x7f26ddc9d550>"
      ]
     },
     "execution_count": 30,
     "metadata": {
      "tags": []
     },
     "output_type": "execute_result"
    },
    {
     "data": {
      "image/png": "[encoded data removed]",
      "text/plain": [
       "<Figure size 432x288 with 1 Axes>"
      ]
     },
     "metadata": {
      "needs_background": "light",
      "tags": []
     },
     "output_type": "display_data"
    }
   ],
   "source": [
    "\n",
    "img = np.where( r < m , 1, 0 ) #랜덤값보다 크면 흰색 아니면 검은색\n",
    "plt.imshow(img, cmap = 'gray')\n"
   ]
  },
  {
   "cell_type": "markdown",
   "metadata": {
    "id": "l-G-mI2Qpp1K"
   },
   "source": [
    "### <font color = 'red'> 연습 : 데이터 분포 만들어보기\n",
    "다음과 같은 형태의 시각화가 가능한 데이터를 생성해보자\n",
    "</font>\n",
    "\n",
    "![image.png](data:image/png;base64,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)"
   ]
  },
  {
   "cell_type": "code",
   "execution_count": 62,
   "metadata": {
    "colab": {
     "base_uri": "https://localhost:8080/",
     "height": 610
    },
    "executionInfo": {
     "elapsed": 1102,
     "status": "error",
     "timestamp": 1619460350951,
     "user": {
      "displayName": "messcure JNDan",
      "photoUrl": "https://lh3.googleusercontent.com/a-/AOh14Ggq2Xj7nwN863n-DdzIR-k5lDtigKwvAvISiB9i=s64",
      "userId": "00517861436348801488"
     },
     "user_tz": -540
    },
    "id": "CVCNxwlKoapl",
    "outputId": "916dfd1a-c463-480f-c124-eb97cce1b7d9"
   },
   "outputs": [
    {
     "ename": "TypeError",
     "evalue": "ignored",
     "output_type": "error",
     "traceback": [
      "\u001b[0;31m---------------------------------------------------------------------------\u001b[0m",
      "\u001b[0;31mTypeError\u001b[0m                                 Traceback (most recent call last)",
      "\u001b[0;32m<ipython-input-62-5dd2816f659d>\u001b[0m in \u001b[0;36m<module>\u001b[0;34m()\u001b[0m\n\u001b[1;32m      7\u001b[0m \u001b[0;31m#plt.imshow(r, cmap = 'gray')\u001b[0m\u001b[0;34m\u001b[0m\u001b[0;34m\u001b[0m\u001b[0;34m\u001b[0m\u001b[0m\n\u001b[1;32m      8\u001b[0m \u001b[0mimg\u001b[0m \u001b[0;34m=\u001b[0m \u001b[0mnp\u001b[0m\u001b[0;34m.\u001b[0m\u001b[0mwhere\u001b[0m\u001b[0;34m(\u001b[0m\u001b[0mx1\u001b[0m \u001b[0;34m==\u001b[0m \u001b[0mx2\u001b[0m\u001b[0;34m,\u001b[0m \u001b[0;36m1\u001b[0m\u001b[0;34m,\u001b[0m \u001b[0;36m0\u001b[0m \u001b[0;34m)\u001b[0m \u001b[0;31m#랜덤값보다 크면 흰색 아니면 검은색\u001b[0m\u001b[0;34m\u001b[0m\u001b[0;34m\u001b[0m\u001b[0m\n\u001b[0;32m----> 9\u001b[0;31m \u001b[0mplt\u001b[0m\u001b[0;34m.\u001b[0m\u001b[0mimshow\u001b[0m\u001b[0;34m(\u001b[0m\u001b[0mimg\u001b[0m\u001b[0;34m,\u001b[0m \u001b[0mcmap\u001b[0m \u001b[0;34m=\u001b[0m \u001b[0;34m'gray'\u001b[0m\u001b[0;34m)\u001b[0m\u001b[0;34m\u001b[0m\u001b[0;34m\u001b[0m\u001b[0m\n\u001b[0m",
      "\u001b[0;32m/usr/local/lib/python3.7/dist-packages/matplotlib/pyplot.py\u001b[0m in \u001b[0;36mimshow\u001b[0;34m(X, cmap, norm, aspect, interpolation, alpha, vmin, vmax, origin, extent, shape, filternorm, filterrad, imlim, resample, url, data, **kwargs)\u001b[0m\n\u001b[1;32m   2649\u001b[0m         \u001b[0mfilternorm\u001b[0m\u001b[0;34m=\u001b[0m\u001b[0mfilternorm\u001b[0m\u001b[0;34m,\u001b[0m \u001b[0mfilterrad\u001b[0m\u001b[0;34m=\u001b[0m\u001b[0mfilterrad\u001b[0m\u001b[0;34m,\u001b[0m \u001b[0mimlim\u001b[0m\u001b[0;34m=\u001b[0m\u001b[0mimlim\u001b[0m\u001b[0;34m,\u001b[0m\u001b[0;34m\u001b[0m\u001b[0;34m\u001b[0m\u001b[0m\n\u001b[1;32m   2650\u001b[0m         resample=resample, url=url, **({\"data\": data} if data is not\n\u001b[0;32m-> 2651\u001b[0;31m         None else {}), **kwargs)\n\u001b[0m\u001b[1;32m   2652\u001b[0m     \u001b[0msci\u001b[0m\u001b[0;34m(\u001b[0m\u001b[0m__ret\u001b[0m\u001b[0;34m)\u001b[0m\u001b[0;34m\u001b[0m\u001b[0;34m\u001b[0m\u001b[0m\n\u001b[1;32m   2653\u001b[0m     \u001b[0;32mreturn\u001b[0m \u001b[0m__ret\u001b[0m\u001b[0;34m\u001b[0m\u001b[0;34m\u001b[0m\u001b[0m\n",
      "\u001b[0;32m/usr/local/lib/python3.7/dist-packages/matplotlib/__init__.py\u001b[0m in \u001b[0;36minner\u001b[0;34m(ax, data, *args, **kwargs)\u001b[0m\n\u001b[1;32m   1563\u001b[0m     \u001b[0;32mdef\u001b[0m \u001b[0minner\u001b[0m\u001b[0;34m(\u001b[0m\u001b[0max\u001b[0m\u001b[0;34m,\u001b[0m \u001b[0;34m*\u001b[0m\u001b[0margs\u001b[0m\u001b[0;34m,\u001b[0m \u001b[0mdata\u001b[0m\u001b[0;34m=\u001b[0m\u001b[0;32mNone\u001b[0m\u001b[0;34m,\u001b[0m \u001b[0;34m**\u001b[0m\u001b[0mkwargs\u001b[0m\u001b[0;34m)\u001b[0m\u001b[0;34m:\u001b[0m\u001b[0;34m\u001b[0m\u001b[0;34m\u001b[0m\u001b[0m\n\u001b[1;32m   1564\u001b[0m         \u001b[0;32mif\u001b[0m \u001b[0mdata\u001b[0m \u001b[0;32mis\u001b[0m \u001b[0;32mNone\u001b[0m\u001b[0;34m:\u001b[0m\u001b[0;34m\u001b[0m\u001b[0;34m\u001b[0m\u001b[0m\n\u001b[0;32m-> 1565\u001b[0;31m             \u001b[0;32mreturn\u001b[0m \u001b[0mfunc\u001b[0m\u001b[0;34m(\u001b[0m\u001b[0max\u001b[0m\u001b[0;34m,\u001b[0m \u001b[0;34m*\u001b[0m\u001b[0mmap\u001b[0m\u001b[0;34m(\u001b[0m\u001b[0msanitize_sequence\u001b[0m\u001b[0;34m,\u001b[0m \u001b[0margs\u001b[0m\u001b[0;34m)\u001b[0m\u001b[0;34m,\u001b[0m \u001b[0;34m**\u001b[0m\u001b[0mkwargs\u001b[0m\u001b[0;34m)\u001b[0m\u001b[0;34m\u001b[0m\u001b[0;34m\u001b[0m\u001b[0m\n\u001b[0m\u001b[1;32m   1566\u001b[0m \u001b[0;34m\u001b[0m\u001b[0m\n\u001b[1;32m   1567\u001b[0m         \u001b[0mbound\u001b[0m \u001b[0;34m=\u001b[0m \u001b[0mnew_sig\u001b[0m\u001b[0;34m.\u001b[0m\u001b[0mbind\u001b[0m\u001b[0;34m(\u001b[0m\u001b[0max\u001b[0m\u001b[0;34m,\u001b[0m \u001b[0;34m*\u001b[0m\u001b[0margs\u001b[0m\u001b[0;34m,\u001b[0m \u001b[0;34m**\u001b[0m\u001b[0mkwargs\u001b[0m\u001b[0;34m)\u001b[0m\u001b[0;34m\u001b[0m\u001b[0;34m\u001b[0m\u001b[0m\n",
      "\u001b[0;32m/usr/local/lib/python3.7/dist-packages/matplotlib/cbook/deprecation.py\u001b[0m in \u001b[0;36mwrapper\u001b[0;34m(*args, **kwargs)\u001b[0m\n\u001b[1;32m    356\u001b[0m                 \u001b[0;34mf\"%(removal)s.  If any parameter follows {name!r}, they \"\u001b[0m\u001b[0;34m\u001b[0m\u001b[0;34m\u001b[0m\u001b[0m\n\u001b[1;32m    357\u001b[0m                 f\"should be pass as keyword, not positionally.\")\n\u001b[0;32m--> 358\u001b[0;31m         \u001b[0;32mreturn\u001b[0m \u001b[0mfunc\u001b[0m\u001b[0;34m(\u001b[0m\u001b[0;34m*\u001b[0m\u001b[0margs\u001b[0m\u001b[0;34m,\u001b[0m \u001b[0;34m**\u001b[0m\u001b[0mkwargs\u001b[0m\u001b[0;34m)\u001b[0m\u001b[0;34m\u001b[0m\u001b[0;34m\u001b[0m\u001b[0m\n\u001b[0m\u001b[1;32m    359\u001b[0m \u001b[0;34m\u001b[0m\u001b[0m\n\u001b[1;32m    360\u001b[0m     \u001b[0;32mreturn\u001b[0m \u001b[0mwrapper\u001b[0m\u001b[0;34m\u001b[0m\u001b[0;34m\u001b[0m\u001b[0m\n",
      "\u001b[0;32m/usr/local/lib/python3.7/dist-packages/matplotlib/cbook/deprecation.py\u001b[0m in \u001b[0;36mwrapper\u001b[0;34m(*args, **kwargs)\u001b[0m\n\u001b[1;32m    356\u001b[0m                 \u001b[0;34mf\"%(removal)s.  If any parameter follows {name!r}, they \"\u001b[0m\u001b[0;34m\u001b[0m\u001b[0;34m\u001b[0m\u001b[0m\n\u001b[1;32m    357\u001b[0m                 f\"should be pass as keyword, not positionally.\")\n\u001b[0;32m--> 358\u001b[0;31m         \u001b[0;32mreturn\u001b[0m \u001b[0mfunc\u001b[0m\u001b[0;34m(\u001b[0m\u001b[0;34m*\u001b[0m\u001b[0margs\u001b[0m\u001b[0;34m,\u001b[0m \u001b[0;34m**\u001b[0m\u001b[0mkwargs\u001b[0m\u001b[0;34m)\u001b[0m\u001b[0;34m\u001b[0m\u001b[0;34m\u001b[0m\u001b[0m\n\u001b[0m\u001b[1;32m    359\u001b[0m \u001b[0;34m\u001b[0m\u001b[0m\n\u001b[1;32m    360\u001b[0m     \u001b[0;32mreturn\u001b[0m \u001b[0mwrapper\u001b[0m\u001b[0;34m\u001b[0m\u001b[0;34m\u001b[0m\u001b[0m\n",
      "\u001b[0;32m/usr/local/lib/python3.7/dist-packages/matplotlib/axes/_axes.py\u001b[0m in \u001b[0;36mimshow\u001b[0;34m(self, X, cmap, norm, aspect, interpolation, alpha, vmin, vmax, origin, extent, shape, filternorm, filterrad, imlim, resample, url, **kwargs)\u001b[0m\n\u001b[1;32m   5624\u001b[0m                               resample=resample, **kwargs)\n\u001b[1;32m   5625\u001b[0m \u001b[0;34m\u001b[0m\u001b[0m\n\u001b[0;32m-> 5626\u001b[0;31m         \u001b[0mim\u001b[0m\u001b[0;34m.\u001b[0m\u001b[0mset_data\u001b[0m\u001b[0;34m(\u001b[0m\u001b[0mX\u001b[0m\u001b[0;34m)\u001b[0m\u001b[0;34m\u001b[0m\u001b[0;34m\u001b[0m\u001b[0m\n\u001b[0m\u001b[1;32m   5627\u001b[0m         \u001b[0mim\u001b[0m\u001b[0;34m.\u001b[0m\u001b[0mset_alpha\u001b[0m\u001b[0;34m(\u001b[0m\u001b[0malpha\u001b[0m\u001b[0;34m)\u001b[0m\u001b[0;34m\u001b[0m\u001b[0;34m\u001b[0m\u001b[0m\n\u001b[1;32m   5628\u001b[0m         \u001b[0;32mif\u001b[0m \u001b[0mim\u001b[0m\u001b[0;34m.\u001b[0m\u001b[0mget_clip_path\u001b[0m\u001b[0;34m(\u001b[0m\u001b[0;34m)\u001b[0m \u001b[0;32mis\u001b[0m \u001b[0;32mNone\u001b[0m\u001b[0;34m:\u001b[0m\u001b[0;34m\u001b[0m\u001b[0;34m\u001b[0m\u001b[0m\n",
      "\u001b[0;32m/usr/local/lib/python3.7/dist-packages/matplotlib/image.py\u001b[0m in \u001b[0;36mset_data\u001b[0;34m(self, A)\u001b[0m\n\u001b[1;32m    697\u001b[0m                 or self._A.ndim == 3 and self._A.shape[-1] in [3, 4]):\n\u001b[1;32m    698\u001b[0m             raise TypeError(\"Invalid shape {} for image data\"\n\u001b[0;32m--> 699\u001b[0;31m                             .format(self._A.shape))\n\u001b[0m\u001b[1;32m    700\u001b[0m \u001b[0;34m\u001b[0m\u001b[0m\n\u001b[1;32m    701\u001b[0m         \u001b[0;32mif\u001b[0m \u001b[0mself\u001b[0m\u001b[0;34m.\u001b[0m\u001b[0m_A\u001b[0m\u001b[0;34m.\u001b[0m\u001b[0mndim\u001b[0m \u001b[0;34m==\u001b[0m \u001b[0;36m3\u001b[0m\u001b[0;34m:\u001b[0m\u001b[0;34m\u001b[0m\u001b[0;34m\u001b[0m\u001b[0m\n",
      "\u001b[0;31mTypeError\u001b[0m: Invalid shape (100,) for image data"
     ]
    },
    {
     "data": {
      "image/png": "[encoded data removed]",
      "text/plain": [
       "<Figure size 432x288 with 1 Axes>"
      ]
     },
     "metadata": {
      "needs_background": "light",
      "tags": []
     },
     "output_type": "display_data"
    }
   ],
   "source": [
    "# 연습문제의 데이터를 생성하고 시각화해보세요\n",
    "x1,x2 = np.arange(100), np.arange(100)\n",
    "m = x1.reshape(-1,1) + x2 \n",
    "#print(m.shape)\n",
    "#plt.imshow(m, cmap = 'gray')\n",
    "r = np.random.normal(100,10,(100,100))#노이즈로 합산한 100,100\n",
    "#plt.imshow(r, cmap = 'gray')\n",
    "img = np.where(x1 == x2, 1, 0 ) #랜덤값보다 크면 흰색 아니면 검은색\n",
    "plt.imshow(img, cmap = 'gray')\n"
   ]
  },
  {
   "cell_type": "markdown",
   "metadata": {
    "id": "NgBuIvHicOsT"
   },
   "source": [
    "이제 우리가 분석할 데이터를 시각적으로 확인해 보았으니 이제 이를 구성할 x, y를 만들어본다.  언뜻 생각하면 x1, x2 의 조합으로 위의 이미지도 생성했으니 간단히 이들 조합을 만들 수 있을 듯 하지만 이 과정은 생각보다 난이도가 있다. \n",
    "\n",
    "### x,y 조합 값 생성 \n",
    "\n",
    "요컨데 [1,2] [3,4] 인 작은 두 배열로부터 [1,3][1,4][2,3][2,4] 이렇게 4 x 2 인 배열을 구성하는 방법이 필요하며 위의 문제의 x1,x2 경우 10000 x 2 인 배열이 나와야 한다. 이 과정을 [1,2][3,4] 배열을 통해 설명해보도록 하겠다. "
   ]
  },
  {
   "cell_type": "code",
   "execution_count": 26,
   "metadata": {
    "executionInfo": {
     "elapsed": 693,
     "status": "ok",
     "timestamp": 1619457766309,
     "user": {
      "displayName": "messcure JNDan",
      "photoUrl": "https://lh3.googleusercontent.com/a-/AOh14Ggq2Xj7nwN863n-DdzIR-k5lDtigKwvAvISiB9i=s64",
      "userId": "00517861436348801488"
     },
     "user_tz": -540
    },
    "id": "RbwPoWHBjb3_"
   },
   "outputs": [],
   "source": [
    "a,b = np.array([1,2]), np.array([3,4])"
   ]
  },
  {
   "cell_type": "markdown",
   "metadata": {
    "id": "YFKGejtujY_v"
   },
   "source": [
    "\n",
    "\n",
    "먼저 \n",
    "```\n",
    "세로값 배열:\n",
    "[[1,1]\n",
    " [2,2]]\n",
    "\n",
    "가로값 배열\n",
    "[[3,4]\n",
    " [3,4]]\n",
    "```\n",
    "이렇게 두 배열이 필요하다.  이를 만드는 방법은 \n",
    "\n",
    "```\n",
    "\n",
    "# [[1,1],[1,1]] 대신 np.full((2,2),1)을 사용해도 된다. \n",
    "\n",
    "a,b = np.array([1,2]), np.array([3,4])\n",
    "m1 = np.array([[1,1],[1,1]]) * a.reshape(-1,1)\n",
    "m2 = np.array([[1,1],[1,1]]) * b\n",
    "```\n",
    "이렇게 만들 수 있으나 이를 간단히 해주는 함수로 meshgrid 라는 함수가 존재한다. \n",
    "\n",
    "\n"
   ]
  },
  {
   "cell_type": "code",
   "execution_count": 27,
   "metadata": {
    "colab": {
     "base_uri": "https://localhost:8080/"
    },
    "executionInfo": {
     "elapsed": 1169,
     "status": "ok",
     "timestamp": 1619457812462,
     "user": {
      "displayName": "messcure JNDan",
      "photoUrl": "https://lh3.googleusercontent.com/a-/AOh14Ggq2Xj7nwN863n-DdzIR-k5lDtigKwvAvISiB9i=s64",
      "userId": "00517861436348801488"
     },
     "user_tz": -540
    },
    "id": "eY6B6R0ffvkE",
    "outputId": "e8700051-43c0-4ca1-8711-55396885b318"
   },
   "outputs": [
    {
     "name": "stdout",
     "output_type": "stream",
     "text": [
      "[[1 2]\n",
      " [1 2]]\n",
      "[[3 3]\n",
      " [4 4]]\n"
     ]
    }
   ],
   "source": [
    "m1,m2 = np.meshgrid(a,b)\n",
    "print(m1)\n",
    "print(m2)\n"
   ]
  },
  {
   "cell_type": "markdown",
   "metadata": {
    "id": "LiM60uy3iiGc"
   },
   "source": [
    "이를 1차원으로 바꾸면 다음과 같다. \n"
   ]
  },
  {
   "cell_type": "code",
   "execution_count": null,
   "metadata": {
    "colab": {
     "base_uri": "https://localhost:8080/"
    },
    "executionInfo": {
     "elapsed": 577,
     "status": "ok",
     "timestamp": 1618209680579,
     "user": {
      "displayName": "messcure JNDan",
      "photoUrl": "https://lh3.googleusercontent.com/a-/AOh14Ggq2Xj7nwN863n-DdzIR-k5lDtigKwvAvISiB9i=s64",
      "userId": "00517861436348801488"
     },
     "user_tz": -540
    },
    "id": "oihmNW1uimNH",
    "outputId": "306c9006-76a9-4197-edac-091b91b97dda"
   },
   "outputs": [
    {
     "name": "stdout",
     "output_type": "stream",
     "text": [
      "[1 2 1 2] [3 3 4 4]\n"
     ]
    }
   ],
   "source": [
    "print(m1.reshape(-1), m2.reshape(-1))"
   ]
  },
  {
   "cell_type": "markdown",
   "metadata": {
    "id": "ZbSSoBy8gF-R"
   },
   "source": [
    "이제 위 두 배열을 합치기 위해 두배열을 1차원으로 변환 후에 np._c 를 사용해 합쳐보도록 하겠다. \n",
    "\n"
   ]
  },
  {
   "cell_type": "code",
   "execution_count": 28,
   "metadata": {
    "colab": {
     "base_uri": "https://localhost:8080/"
    },
    "executionInfo": {
     "elapsed": 710,
     "status": "ok",
     "timestamp": 1619457854352,
     "user": {
      "displayName": "messcure JNDan",
      "photoUrl": "https://lh3.googleusercontent.com/a-/AOh14Ggq2Xj7nwN863n-DdzIR-k5lDtigKwvAvISiB9i=s64",
      "userId": "00517861436348801488"
     },
     "user_tz": -540
    },
    "id": "mdn5ZgLmhRBO",
    "outputId": "bf9112eb-ccb4-45a7-d190-461d05712be4"
   },
   "outputs": [
    {
     "name": "stdout",
     "output_type": "stream",
     "text": [
      "[[1 3]\n",
      " [2 3]\n",
      " [1 4]\n",
      " [2 4]]\n"
     ]
    }
   ],
   "source": [
    "print( np.c_[m1.reshape(-1), m2.reshape(-1)]) #2열종대 모든조합이 만들어진 4개짜리.."
   ]
  },
  {
   "cell_type": "markdown",
   "metadata": {
    "id": "lcik3U2sd-z7"
   },
   "source": [
    "결국 x1,x2 의 조합 x를 만드는 과정을 간략화하면 다음과 같다. \n",
    "```\n",
    "m1,m2 = np.meshgrid(x1,x2)\n",
    "x = np.c_[m1,reshape(-1), m2.reshape(-1)]\n",
    "```\n",
    "이제 이를 이용해 위의 x1, x2 로부터 10000 개의 x1 , x2 의 조합을 만들어보도록 하겠다. "
   ]
  },
  {
   "cell_type": "code",
   "execution_count": 29,
   "metadata": {
    "colab": {
     "base_uri": "https://localhost:8080/"
    },
    "executionInfo": {
     "elapsed": 1149,
     "status": "ok",
     "timestamp": 1619457954373,
     "user": {
      "displayName": "messcure JNDan",
      "photoUrl": "https://lh3.googleusercontent.com/a-/AOh14Ggq2Xj7nwN863n-DdzIR-k5lDtigKwvAvISiB9i=s64",
      "userId": "00517861436348801488"
     },
     "user_tz": -540
    },
    "id": "B5G0474DGfl3",
    "outputId": "1932e740-9e91-4ba8-f167-07a417b3f44d"
   },
   "outputs": [
    {
     "name": "stdout",
     "output_type": "stream",
     "text": [
      "(10000, 2)\n"
     ]
    }
   ],
   "source": [
    "n = 1\n",
    "m1,m2 = np.meshgrid(x1,x2)\n",
    "x =  np.c_[m1.reshape(-1), m2.reshape(-1)]\n",
    "print(x.shape)\n",
    "#10000개 2개의 쌍"
   ]
  },
  {
   "cell_type": "markdown",
   "metadata": {
    "id": "7pn26fYikIqP"
   },
   "source": [
    "\n",
    "### y 값 만들기\n",
    "이제 위에서 만든 r 값과 x 를  비교해 y 값을 만들어 보자. 현재 r 은 2차원구조이므로 이를 1차원으로 reshape 해서 비교함으로서 y값을 얻을 수 있다. "
   ]
  },
  {
   "cell_type": "code",
   "execution_count": 30,
   "metadata": {
    "colab": {
     "base_uri": "https://localhost:8080/"
    },
    "executionInfo": {
     "elapsed": 705,
     "status": "ok",
     "timestamp": 1619458158551,
     "user": {
      "displayName": "messcure JNDan",
      "photoUrl": "https://lh3.googleusercontent.com/a-/AOh14Ggq2Xj7nwN863n-DdzIR-k5lDtigKwvAvISiB9i=s64",
      "userId": "00517861436348801488"
     },
     "user_tz": -540
    },
    "id": "lnSaRaCVKa5j",
    "outputId": "549064e6-4dcb-46a6-afaa-f95260f40e15"
   },
   "outputs": [
    {
     "name": "stdout",
     "output_type": "stream",
     "text": [
      "(10000,)\n"
     ]
    }
   ],
   "source": [
    "y = np.where( x[:,0] + x[:,1]  < r.reshape(-1), 1, 0 )\n",
    "print(y.shape)\n",
    "#왼쪽열은 ::,1 하면 왼쪽열? 0하면 ??\n"
   ]
  },
  {
   "cell_type": "markdown",
   "metadata": {
    "id": "81YP3RyylegE"
   },
   "source": [
    "이제 이를 회귀분석한 후에 결정계수값을 보도록 하겠다. "
   ]
  },
  {
   "cell_type": "code",
   "execution_count": 31,
   "metadata": {
    "colab": {
     "base_uri": "https://localhost:8080/"
    },
    "executionInfo": {
     "elapsed": 616,
     "status": "ok",
     "timestamp": 1619458170073,
     "user": {
      "displayName": "messcure JNDan",
      "photoUrl": "https://lh3.googleusercontent.com/a-/AOh14Ggq2Xj7nwN863n-DdzIR-k5lDtigKwvAvISiB9i=s64",
      "userId": "00517861436348801488"
     },
     "user_tz": -540
    },
    "id": "QkMz3gf0IW8D",
    "outputId": "2af3a3bd-25da-40b9-a372-d6598d4e7ba1"
   },
   "outputs": [
    {
     "name": "stdout",
     "output_type": "stream",
     "text": [
      "0.9227\n"
     ]
    }
   ],
   "source": [
    "regr.fit(x,y)\n",
    "print( regr.score(x,y) ) #노이즈라고 가정하고 깨끗한 경계면을 찾는다 "
   ]
  },
  {
   "cell_type": "markdown",
   "metadata": {
    "id": "0uC_sGj4lypO"
   },
   "source": [
    "### 예측값 시각화\n",
    "\n",
    "이번에는 predict 를 통해 y 값을 예측한 결과를 이미지화시켜보도록 한다. 이때 예측된 y 는 1차원 배열이지만 순서는 2차원 배열을 1차원화시킨 형태이므로 이를 다시 2차원으로 변환해주면 x1,x2 에 대응되는 y값을 이미지화 시킬 수 있다. \n",
    "\n"
   ]
  },
  {
   "cell_type": "code",
   "execution_count": null,
   "metadata": {
    "colab": {
     "base_uri": "https://localhost:8080/",
     "height": 286
    },
    "executionInfo": {
     "elapsed": 975,
     "status": "ok",
     "timestamp": 1618209935416,
     "user": {
      "displayName": "messcure JNDan",
      "photoUrl": "https://lh3.googleusercontent.com/a-/AOh14Ggq2Xj7nwN863n-DdzIR-k5lDtigKwvAvISiB9i=s64",
      "userId": "00517861436348801488"
     },
     "user_tz": -540
    },
    "id": "dLkOj2P2Mn26",
    "outputId": "6b0283de-1c11-42f1-d63d-3ed41982a9a6"
   },
   "outputs": [
    {
     "data": {
      "text/plain": [
       "<matplotlib.image.AxesImage at 0x7f26d5415150>"
      ]
     },
     "execution_count": 38,
     "metadata": {
      "tags": []
     },
     "output_type": "execute_result"
    },
    {
     "data": {
      "image/png": "[encoded data removed]",
      "text/plain": [
       "<Figure size 432x288 with 1 Axes>"
      ]
     },
     "metadata": {
      "needs_background": "light",
      "tags": []
     },
     "output_type": "display_data"
    }
   ],
   "source": [
    "pre = regr.predict(x)\n",
    "\n",
    "plt.imshow(pre.reshape(100,100), cmap = 'gray') #경계선을 찾아 분류와 회귀, 기본 선형데이터 차이 로지스틱함수 확률표현함수를 사용해서 이것들을 처리한다 "
   ]
  },
  {
   "cell_type": "markdown",
   "metadata": {
    "id": "CjvAuvgEm32c"
   },
   "source": [
    "### <font color = 'red'> 연습 : 두개의 변수 회귀분석\n",
    "아래의 이미지는 다음과 같은 규칙으로 생성된 0~99 의 x1, x2 를 시각화 한 것이다. 이를 위한 데이터를 생성하고 이에 대해 로지스틱 회귀분석을 수행하고 그 예측값을 시각화해보자. \n",
    "</font>\n",
    "\n",
    "```\n",
    "평균 100 , 편차 10 인 랜덤값 > 2*x1 - x2 일경우 1 , 아니면 0 \n",
    "```\n",
    "![image.png](data:image/png;base64,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)\n"
   ]
  },
  {
   "cell_type": "code",
   "execution_count": 32,
   "metadata": {
    "colab": {
     "base_uri": "https://localhost:8080/",
     "height": 286
    },
    "executionInfo": {
     "elapsed": 623,
     "status": "ok",
     "timestamp": 1619458315426,
     "user": {
      "displayName": "messcure JNDan",
      "photoUrl": "https://lh3.googleusercontent.com/a-/AOh14Ggq2Xj7nwN863n-DdzIR-k5lDtigKwvAvISiB9i=s64",
      "userId": "00517861436348801488"
     },
     "user_tz": -540
    },
    "id": "rN4wC9s_NSDk",
    "outputId": "86f03a14-7318-45ae-cc0f-a75ec392e30c"
   },
   "outputs": [
    {
     "data": {
      "text/plain": [
       "<matplotlib.image.AxesImage at 0x7fbbee8eee10>"
      ]
     },
     "execution_count": 32,
     "metadata": {
      "tags": []
     },
     "output_type": "execute_result"
    },
    {
     "data": {
      "image/png": "[encoded data removed]",
      "text/plain": [
       "<Figure size 432x288 with 1 Axes>"
      ]
     },
     "metadata": {
      "needs_background": "light",
      "tags": []
     },
     "output_type": "display_data"
    }
   ],
   "source": [
    "x1 = np.arange(100).reshape(-1,1)\n",
    "x2 = np.arange(100)\n",
    "\n",
    "r = np.random.normal(100,10,10000).reshape(100,100)\n",
    "img = np.where( r > 2 * x1 - x2 , 1, 0 ) \n",
    "plt.imshow(img, cmap = 'gray')\n"
   ]
  },
  {
   "cell_type": "code",
   "execution_count": null,
   "metadata": {
    "id": "qUUfN2gsNsKG"
   },
   "outputs": [],
   "source": []
  }
 ],
 "metadata": {
  "colab": {
   "collapsed_sections": [],
   "name": "5. regression_logistic_ex의 사본",
   "provenance": [
    {
     "file_id": "https://github.com/decoz/mlclass/blob/master/5_regression_logistic_ex.ipynb",
     "timestamp": 1618205603813
    }
   ],
   "toc_visible": true
  },
  "kernelspec": {
   "display_name": "Python 3",
   "language": "python",
   "name": "python3"
  },
  "language_info": {
   "codemirror_mode": {
    "name": "ipython",
    "version": 3
   },
   "file_extension": ".py",
   "mimetype": "text/x-python",
   "name": "python",
   "nbconvert_exporter": "python",
   "pygments_lexer": "ipython3",
   "version": "3.8.5"
  }
 },
 "nbformat": 4,
 "nbformat_minor": 1
}
