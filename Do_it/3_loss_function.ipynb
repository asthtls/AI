{
 "cells": [
  {
   "cell_type": "code",
   "execution_count": null,
   "metadata": {},
   "outputs": [],
   "source": [
    "# 손실 함수와 경사 하강법\n",
    "# 경사 하강법 - 어떤 손실 함수가 정의되었을 때 손실 함수의 값이 최소가 되는 지점을 찾아가는 방법\n",
    "# 손실 함수 - 셰상한 값과 길제 타깃값의 차이를 함수로 정의한 것\n",
    "\n",
    "y_hat = x_i * w + b\n",
    "err = y_i - y_hat\n",
    "w_rate = x_i\n",
    "w = w + w_rate * err\n",
    "# 제곱 오차 미분\n",
    "\n",
    "# 절편에 대하여 제곱 오차 미분\n",
    "\n",
    "\n",
    "err = y_i - y_hat\n",
    "b = b+1 *err\n"
   ]
  }
 ],
 "metadata": {
  "kernelspec": {
   "display_name": "Python 3",
   "language": "python",
   "name": "python3"
  },
  "language_info": {
   "codemirror_mode": {
    "name": "ipython",
    "version": 3
   },
   "file_extension": ".py",
   "mimetype": "text/x-python",
   "name": "python",
   "nbconvert_exporter": "python",
   "pygments_lexer": "ipython3",
   "version": "3.7.6"
  }
 },
 "nbformat": 4,
 "nbformat_minor": 4
}
