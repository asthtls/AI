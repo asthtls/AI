{
 "cells": [
  {
   "cell_type": "code",
   "execution_count": 1,
   "metadata": {},
   "outputs": [],
   "source": [
    "# 로지스틱 회귀 뉴런으로 단일층 신경망 만들기\n",
    "\n"
   ]
  },
  {
   "cell_type": "code",
   "execution_count": 45,
   "metadata": {},
   "outputs": [],
   "source": [
    "import matplotlib.pyplot as plt\n",
    "import numpy as np\n",
    "from sklearn.model_selection import train_test_split\n",
    "from sklearn.datasets import load_breast_cancer\n",
    "\n",
    "\n",
    "\n",
    "class SingleLayer:\n",
    "    \n",
    "    def __init__(self):\n",
    "        self.w = None\n",
    "        self.b = None\n",
    "        self.losses = []\n",
    "    \n",
    "    def forpass(self, x):\n",
    "        z = np.sum(x * self.w) + self.b # 직선 방정식 계산\n",
    "        return z\n",
    "    \n",
    "    def backprop(self, x, err):\n",
    "        w_grad = x * err # 가중치에 대한 그레이디언트 계산\n",
    "        b_grad = 1 * err # 절편에 대한 그레이디언트 계산\n",
    "        return w_grad, b_grad\n",
    "     \n",
    "    def activation(self, z):\n",
    "        z = np.clip(z, -100, None) # 안전한 np.exp()계산 위해서\n",
    "        a = 1/(1+np.exp(-z)) # 시그모이드 계산\n",
    "        return a\n",
    "    \n",
    "    def fit(self, x, y, epochs=100):\n",
    "        self.w = np.ones(x.shape[1]) # 가중치 1로 초기화\n",
    "        self.b = 0 # 절편 초기화\n",
    "        for i in range(epochs):\n",
    "            loss = 0\n",
    "            indexes = np.random.permutation(np.arange(len(x))) # 인덱스 섞기\n",
    "            for i in indexes:      # 모든 샘플 반복\n",
    "                z = self.forpass(x[i]) # 정방향 계산 \n",
    "                a = self. activation(z) # 활성호 ㅏ함수 적용\n",
    "                err = -(y[i] - a) # 오차 계산\n",
    "                w_grad, b_grad = self.backprop(x[i], err) # 역방향 계산\n",
    "                self.w -= w_grad # 가중치 업데이트\n",
    "                self.b -= b_grad # 절편 업데이트\n",
    "                # 안전한 로그 계산을 위해 클리핑 후 손실 누적\n",
    "                a = np.clip(a, 1e-10, 1-1e-10)\n",
    "                loss += -(y[i]*np.log(a)+(1-y[i])*np.log(1-a)) # 에포크마다 손실을 저장\n",
    "\n",
    "            self.losses.append(loss/len(y))\n",
    "    \n",
    "    def predict(self, x):\n",
    "        z = [self.forpass(x_i) for x_i in x]     # 정방향 계산\n",
    "        return np.array(z) > 0                   # 스텝 함수 적용\n",
    "    \n",
    "    def score(self, x, y):\n",
    "        return np.mean(self.predict(x) == y)\n",
    "        "
   ]
  },
  {
   "cell_type": "code",
   "execution_count": 46,
   "metadata": {},
   "outputs": [
    {
     "data": {
      "text/plain": [
       "0.9298245614035088"
      ]
     },
     "execution_count": 46,
     "metadata": {},
     "output_type": "execute_result"
    }
   ],
   "source": [
    "cancer = load_breast_cancer()\n",
    "x = cancer.data\n",
    "y = cancer.target\n",
    "x_train, x_test, y_train, y_test = train_test_split(x, y ,stratify=y, test_size=0.2, random_state=42)\n",
    "\n",
    "\n",
    "\n",
    "\n",
    "layer = SingleLayer()\n",
    "layer.fit(x_train, y_train)\n",
    "layer.score(x_test, y_test)"
   ]
  },
  {
   "cell_type": "code",
   "execution_count": 48,
   "metadata": {},
   "outputs": [
    {
     "data": {
      "image/png": "[encoded data removed]",
      "text/plain": [
       "<Figure size 432x288 with 1 Axes>"
      ]
     },
     "metadata": {
      "needs_background": "light"
     },
     "output_type": "display_data"
    }
   ],
   "source": [
    "plt.plot(layer.losses)\n",
    "plt.xlabel('epoch')\n",
    "plt.ylabel('loss')\n",
    "plt.show()"
   ]
  },
  {
   "cell_type": "code",
   "execution_count": 53,
   "metadata": {},
   "outputs": [],
   "source": [
    "from sklearn.linear_model import SGDClassifier\n",
    "\n",
    "sgd = SGDClassifier(loss ='log', max_iter=100, tol=1e-3, random_state=42) \n",
    "# max_iter로 반복 횟수 100\n",
    "# random_state = 반복 실행시 결과를 동일하게 재연하기 위함 난수 초깃값 42\n",
    "# 반복할 때마다 로지스틱 손실 함수의 값이 tol에 지정한 값만큼 감소되지 않으면 반복 중단 설정\n",
    "# 최적값 수렴할 정도로 충분한 반복 횟수인지 사용자에게 알려준다.\n",
    "\n",
    "\n"
   ]
  },
  {
   "cell_type": "code",
   "execution_count": 55,
   "metadata": {},
   "outputs": [
    {
     "name": "stdout",
     "output_type": "stream",
     "text": [
      "sgd.score:  0.8333333333333334\n"
     ]
    }
   ],
   "source": [
    "# 사이킷런으로 훈련하고 평가\n",
    "sgd.fit(x_train, y_train)\n",
    "print(\"sgd.score: \",sgd.score(x_test, y_test))\n"
   ]
  },
  {
   "cell_type": "code",
   "execution_count": 56,
   "metadata": {},
   "outputs": [
    {
     "name": "stdout",
     "output_type": "stream",
     "text": [
      "sgd.predict :  [0 1 0 0 0 0 1 0 0 0]\n",
      "sgd.predict_all :  [0 1 0 0 0 0 1 0 0 0 1 0 1 0 0 1 0 1 0 1 0 0 1 1 0 0 0 1 1 0 1 1 1 1 0 1 1\n",
      " 1 0 0 1 1 1 0 0 0 1 1 1 0 1 0 1 0 1 1 1 0 0 1 1 1 1 1 0 1 0 1 0 1 1 1 1 0\n",
      " 0 0 1 1 1 1 0 1 0 1 0 1 1 1 0 1 1 1 0 0 0 1 0 1 0 0 0 0 1 1 0 0 1 0 1 0 1\n",
      " 0 1 1]\n"
     ]
    }
   ],
   "source": [
    "# 사이킷런으로 예측하기\n",
    "# 예측을 위한 predict 메서드가 이미 구현되어 있다.\n",
    "# 사이킷런은 입력 데이터로 2차원 배열만 받는다.\n",
    "# 샘플 하나를 주입하더라도 2차원이여야 한다.\n",
    "\n",
    "print(\"sgd.predict : \",sgd.predict(x_test[0:10]))\n",
    "print(\"sgd.predict_all : \",sgd.predict(x_test[:]))"
   ]
  },
  {
   "cell_type": "code",
   "execution_count": null,
   "metadata": {},
   "outputs": [],
   "source": []
  }
 ],
 "metadata": {
  "kernelspec": {
   "display_name": "Python 3",
   "language": "python",
   "name": "python3"
  },
  "language_info": {
   "codemirror_mode": {
    "name": "ipython",
    "version": 3
   },
   "file_extension": ".py",
   "mimetype": "text/x-python",
   "name": "python",
   "nbconvert_exporter": "python",
   "pygments_lexer": "ipython3",
   "version": "3.7.6"
  }
 },
 "nbformat": 4,
 "nbformat_minor": 4
}
