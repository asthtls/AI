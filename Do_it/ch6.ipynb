{
 "cells": [
  {
   "cell_type": "markdown",
   "metadata": {},
   "source": [
    "# 신경망 알고리즘을 벡터화해 한 번에 전체 샘플 사용하기\n"
   ]
  },
  {
   "cell_type": "markdown",
   "metadata": {},
   "source": [
    "## SingleLayer 클래스에 배치 경사 하강법 적용하기"
   ]
  },
  {
   "cell_type": "code",
   "execution_count": 3,
   "metadata": {},
   "outputs": [],
   "source": [
    "# 1. 넘파이 맷플롯립 임포트\n",
    "import numpy as np\n",
    "import matplotlib.pyplot as plt\n"
   ]
  },
  {
   "cell_type": "code",
   "execution_count": 4,
   "metadata": {},
   "outputs": [],
   "source": [
    "# 2. 위스콘신 유방암 데이터 세트를 훈련, 검증 , 테스트 세트로 나누고 데이터 살펴보기\n",
    "from sklearn.datasets import load_breast_cancer\n",
    "from sklearn.model_selection import train_test_split\n",
    "\n",
    "cancer = load_breast_cancer()\n",
    "x = cancer.data\n",
    "y = cancer.target\n",
    "x_train_all, x_test, y_train_all, y_test = train_test_split(x, y, stratify=y, test_size=0.2, random_state=42)\n",
    "\n",
    "x_train, x_val, y_train, y_val = train_test_split(x_train_all, y_train_all, stratify=y_train_all, test_size = 0.2, random_state=42)\n",
    "\n",
    "\n"
   ]
  },
  {
   "cell_type": "code",
   "execution_count": 5,
   "metadata": {},
   "outputs": [
    {
     "name": "stdout",
     "output_type": "stream",
     "text": [
      "(364, 30) (91, 30)\n"
     ]
    }
   ],
   "source": [
    "# 3. cancer 데이터 세트 특성 개수 30개  \n",
    "# shape으로 크기 확인\n",
    "\n",
    "print(x_train.shape, x_val.shape)"
   ]
  },
  {
   "cell_type": "code",
   "execution_count": 6,
   "metadata": {},
   "outputs": [],
   "source": [
    "# 4. 정방향 계싼을 행렬 곱셈으로 표현\n",
    "# 스칼라(scalar)는 하나의 실숫값을 의미한다. 여러 개가 모이면 벡터가 만들어진다.\n"
   ]
  },
  {
   "cell_type": "code",
   "execution_count": 7,
   "metadata": {},
   "outputs": [],
   "source": [
    "# 5. 그레이디언트 계산 이해"
   ]
  },
  {
   "cell_type": "code",
   "execution_count": 8,
   "metadata": {},
   "outputs": [],
   "source": [
    "# 6. forpass(), backprop() 메서드에 배치 경사 하강법 적용하기\n",
    "\n",
    "def forpass(self, x):\n",
    "    z = np.dot(x, self.w) + self.b # 선형 출력 계산\n",
    "    return z\n",
    "\n",
    "def backprop(slef, x, err):\n",
    "    m = len(x)\n",
    "    w_grad = np.dot(x.T, err) / m # 가중치에 대한 평균 그레이디언트를 계산한다.\n",
    "    b_grad = np.sum(err) / m # 절편에 대한 평균 그레이디언트를 계산한다.\n",
    "    \n",
    "    return w_grad, b_grad\n",
    "\n",
    "# 파이썬의 len() 함수는 넘파이 배열의 행 크기를 반환하므로 이 값을 이용해 그레이디언트의 평균을 계산한다.\n",
    "# 절편의 그레이디언트는 오차이므로 오차 행렬의 평균값을 구한다.\n",
    "\n"
   ]
  },
  {
   "cell_type": "code",
   "execution_count": 9,
   "metadata": {},
   "outputs": [],
   "source": [
    "# 7. fit() 메서드 수정하기\n",
    "# 배치 경사 하강법에서는 forpass() 메서드와 backprop() 메서드에서 전체 샘플을 한꺼번에 계산하므로 두 번째 for문이 삭제된다.\n",
    "\n",
    "def fit(self, x, y, eprochs=100, x_val=None, y_val=None):\n",
    "    y = y.reshape(-1,1) # 타깃을 열 벡터로 바꾼다.\n",
    "    y_val = y_val.reshape(-1, 1)  #검증용 타깃을 열 벡터로 바꾼다.\n",
    "    m = len(x) # 샘플 개수 저장\n",
    "    self.w = np.ones((x.shape[1], 1)) # 가중치 초기화\n",
    "    self.b = 0\n",
    "    self.w_history.append(self.w.copy()) # 가중치를 기록한다.\n",
    "    \n",
    "    for i in range(epochs):\n",
    "        z = self.forpass(x) # 정방향 계산을 수행한다.\n",
    "        a = slef. activation(z) # 활성화 함수를 적용한다.\n",
    "        err = -(y -a) # 오차 계산\n",
    "        w_grad, b_grad = self.backprop(x, err) # 오차를 역전파해 그레이디언트를 계산한다.\n",
    "        w_grad += (self.l1 * np.sign(self.w) + self.l2* self.w) / m # 그레이디언트에서 패널티 항의 미분값 더하기\n",
    "        self.w -= self.lr * w_grad # 가중치 절편 업데이트\n",
    "        self.b -= self.lr * b_grad\n",
    "        \n",
    "        self.w_history.append(self.w.copy()) # 가중치 기록하기\n",
    "        a = np.clip(a, 1e-10, 1-1e-10) # 안전한 로그 계산을 위해 클리핑하기\n",
    "        loss = np.sum(-(y*np.log(a) + (1-y) * np.log(1-a))) # 로그 손실 규제 손실 더해 리스트에 추가\n",
    "        self.losses.append((loss + self.reg_loss())/m)\n",
    "        self.update_val_loss(x_val, y_val) # 검증 세트에 대한 손실 계산\n",
    "        \n",
    "        \n",
    "# 전체 구조는 확률적 경사 하강법과 비슷하지만 for문이 한 단계 삭제되어 코드가 훨씬 간단해짐\n",
    "# 활성화 출력 a가 열 벡터이므로 이에 맞추어 타깃값을(m,1)크기의 열 벡터로 변환하고 평균 손실 구하기 위해 np.sum()함수로 각 샘플의 손실을 더한 후 전체 샘플의 개수로 나눈다.\n",
    "\n",
    "\n",
    "\n",
    "        "
   ]
  },
  {
   "cell_type": "code",
   "execution_count": 10,
   "metadata": {},
   "outputs": [],
   "source": [
    "# 8. 나머지 메서드 수정\n",
    "#predict() 메서드에서 사용했던 리스트 내포와 update_val, loss() 메서드 간단하게 변환\n",
    "\n",
    "def predict(self, x):\n",
    "    z = self.forpass(x) # 정방향 계산을 수행한다.\n",
    "    return z >0  # 스텝 함수 적용\n",
    "\n",
    "def update_val_loss(self, x_val, y_val):\n",
    "    z = self.forpass(x_val) # 정방향 계산 수행\n",
    "    a = self.activation(z) # 활성화 함수 적용\n",
    "    a = np.clip(a, 1e-10, 1-1e-10)  #출력값 클리핑\n",
    "    \n",
    "    # 로그 손실과 규제 손실 더해 리스트에 추가\n",
    "    val_loss = np.sum(-(y_val*np.log(a) + (1-y_val) * np.log(1-a)))\n",
    "    self.val_losses.append((val_loss + self.reg_loss()) / len(y_val))"
   ]
  },
  {
   "cell_type": "code",
   "execution_count": 11,
   "metadata": {},
   "outputs": [],
   "source": [
    "#  SingleLayer 클래스 전체 코드\n",
    "\n",
    "class SingleLayer:\n",
    "    \n",
    "    def __init__(self, learning_rate=0.1, l1=0, l2=0):\n",
    "        self.w = None              # 가중치\n",
    "        self.b = None              # 절편\n",
    "        self.losses = []           # 훈련 손실\n",
    "        self.val_losses = []       # 검증 손실\n",
    "        self.w_history = []        # 가중치 기록\n",
    "        self.lr = learning_rate    # 학습률\n",
    "        self.l1 = l1               # L1 손실 하이퍼파라미터\n",
    "        self.l2 = l2               # L2 손실 하이퍼파라미터\n",
    "\n",
    "    def forpass(self, x):\n",
    "        z = np.dot(x, self.w) + self.b        # 선형 출력을 계산합니다.\n",
    "        return z\n",
    "\n",
    "    def backprop(self, x, err):\n",
    "        m = len(x)\n",
    "        w_grad = np.dot(x.T, err) / m         # 가중치에 대한 그래디언트를 계산합니다.\n",
    "        b_grad = np.sum(err) / m              # 절편에 대한 그래디언트를 계산합니다.\n",
    "        return w_grad, b_grad\n",
    "\n",
    "    def activation(self, z):\n",
    "        z = np.clip(z, -100, None)            # 안전한 np.exp() 계산을 위해\n",
    "        a = 1 / (1 + np.exp(-z))              # 시그모이드 계산\n",
    "        return a\n",
    "        \n",
    "    def fit(self, x, y, epochs=100, x_val=None, y_val=None):\n",
    "        y = y.reshape(-1, 1)                  # 타깃을 열 벡터로 바꿉니다.\n",
    "        y_val = y_val.reshape(-1, 1)\n",
    "        m = len(x)                            # 샘플 개수를 저장합니다.\n",
    "        self.w = np.ones((x.shape[1], 1))     # 가중치를 초기화합니다.\n",
    "        self.b = 0                            # 절편을 초기화합니다.\n",
    "        self.w_history.append(self.w.copy())  # 가중치를 기록합니다.\n",
    "        # epochs만큼 반복합니다.\n",
    "        for i in range(epochs):\n",
    "            z = self.forpass(x)               # 정방향 계산을 수행합니다.\n",
    "            a = self.activation(z)            # 활성화 함수를 적용합니다.\n",
    "            err = -(y - a)                    # 오차를 계산합니다.\n",
    "            # 오차를 역전파하여 그래디언트를 계산합니다.\n",
    "            w_grad, b_grad = self.backprop(x, err)\n",
    "            # 그래디언트에서 페널티 항의 미분 값을 더합니다.\n",
    "            w_grad += (self.l1 * np.sign(self.w) + self.l2 * self.w) / m\n",
    "            # 가중치와 절편을 업데이트합니다.\n",
    "            self.w -= self.lr * w_grad\n",
    "            self.b -= self.lr * b_grad\n",
    "            # 가중치를 기록합니다.\n",
    "            self.w_history.append(self.w.copy())\n",
    "            # 안전한 로그 계산을 위해 클리핑합니다.\n",
    "            a = np.clip(a, 1e-10, 1-1e-10)\n",
    "            # 로그 손실과 규제 손실을 더하여 리스트에 추가합니다.\n",
    "            loss = np.sum(-(y*np.log(a) + (1-y)*np.log(1-a)))\n",
    "            self.losses.append((loss + self.reg_loss()) / m)\n",
    "            # 검증 세트에 대한 손실을 계산합니다.\n",
    "            self.update_val_loss(x_val, y_val)\n",
    "    \n",
    "    def predict(self, x):\n",
    "        z = self.forpass(x)      # 정방향 계산을 수행합니다.\n",
    "        return z > 0             # 스텝 함수를 적용합니다.\n",
    "    \n",
    "    def score(self, x, y):\n",
    "        # 예측과 타깃 열 벡터를 비교하여 True의 비율을 반환합니다.\n",
    "        return np.mean(self.predict(x) == y.reshape(-1, 1))\n",
    "    \n",
    "    def reg_loss(self):\n",
    "        # 가중치에 규제를 적용합니다.\n",
    "        return self.l1 * np.sum(np.abs(self.w)) + self.l2 / 2 * np.sum(self.w**2)\n",
    "    \n",
    "    def update_val_loss(self, x_val, y_val):\n",
    "        z = self.forpass(x_val)            # 정방향 계산을 수행합니다.\n",
    "        a = self.activation(z)             # 활성화 함수를 적용합니다.\n",
    "        a = np.clip(a, 1e-10, 1-1e-10)     # 출력 값을 클리핑합니다.\n",
    "        # 로그 손실과 규제 손실을 더하여 리스트에 추가합니다.\n",
    "        val_loss = np.sum(-(y_val*np.log(a) + (1-y_val)*np.log(1-a)))\n",
    "        self.val_losses.append((val_loss + self.reg_loss()) / len(y_val))\n",
    "        "
   ]
  },
  {
   "cell_type": "code",
   "execution_count": 12,
   "metadata": {},
   "outputs": [],
   "source": [
    "# 9. 훈련 데이터 표준화 전처리\n",
    "# 데이터 전처리 관련 클래스들을 sklearn.preprocessing 모듈 아래에 존재한다. \n",
    "# 이런 클래스들을 변환기(transformer) 라고 부른다.\n",
    "import numpy as np\n",
    "import matplotlib.pyplot as plt\n",
    "from sklearn.preprocessing import StandardScaler\n",
    "\n",
    "scaler = StandardScaler()\n",
    "scaler.fit(x_train)\n",
    "x_train_scaled = scaler.transform(x_train)\n",
    "x_val_scaled = scaler.transform(x_val)\n",
    "\n",
    "# fir() 메서드를 통해 변환 규칙 익히기\n",
    "# transform() 메서드로 데이터를 표준화 전처리를 하고 \n",
    "# 훈련 세트와 검증 세트에 표준화 적용해 x_train_scaled, x_val_scaled준비"
   ]
  },
  {
   "cell_type": "code",
   "execution_count": 13,
   "metadata": {},
   "outputs": [
    {
     "data": {
      "text/plain": [
       "0.978021978021978"
      ]
     },
     "execution_count": 13,
     "metadata": {},
     "output_type": "execute_result"
    }
   ],
   "source": [
    "# 10. SingleLayer 클래스 객체에 전달해 배치 경사 하강법 적용\n",
    "\n",
    "single_layer = SingleLayer(l2=0.01)\n",
    "single_layer.fit(x_train_scaled, y_train, x_val=x_val_scaled, y_val=y_val,\n",
    "                 epochs=10000)\n",
    "\n",
    "single_layer.score(x_val_scaled, y_val)\n",
    "\n",
    "# 에포크를 늘린 이뉴는 확률적 경사 하강법과 배치 경사 하강법은 에포크마다 \n",
    "# 가중치 업데이트를 하는 횟수에 차이가 있기 때문이다.\n",
    "# 훈련 세트 샘플이 364개 일 경우 확률적 경사 하강법은 100번의 에포크를 수행하면 36,400번의 가중치 업데이트가 일어난다.\n",
    "# 반면 배치 경사 하강법은 전체 훈련 세트를 한 번에 계산한 다음 오차를 역전파 하기 때문에 100번의 에포크를 수행하면 가중치는 100번만 업데이트 된다.\n",
    "# 따라서 확률적 경사 하강법은 에포크횟수를 크게 늘려주어야 한다.\n"
   ]
  },
  {
   "cell_type": "code",
   "execution_count": 14,
   "metadata": {},
   "outputs": [
    {
     "data": {
      "image/png": "[encoded data removed]",
      "text/plain": [
       "<Figure size 432x288 with 1 Axes>"
      ]
     },
     "metadata": {
      "needs_background": "light"
     },
     "output_type": "display_data"
    }
   ],
   "source": [
    "# 11. 검증 세트로 성능 측정하고 그래프로 비교\n",
    "\n",
    "# 훈련 손실과 검증 손실 그래프로 출력해 확률적 경사 하강법과 비교\n",
    "\n",
    "plt.ylim(0, 0.3)\n",
    "plt.plot(single_layer.losses)\n",
    "plt.plot(single_layer.val_losses)\n",
    "plt.ylabel('loss')\n",
    "plt.xlabel('epoch')\n",
    "plt.legend(['train_loss','val_loss'])\n",
    "plt.show()\n",
    "\n",
    "# 배치 경사 하강법은 전체 샘플을 사용해 가중치를 업데이트하기 때문에 손실값이 안정적으로 감소한다.\n"
   ]
  },
  {
   "cell_type": "code",
   "execution_count": 15,
   "metadata": {},
   "outputs": [
    {
     "data": {
      "image/png": "[encoded data removed]",
      "text/plain": [
       "<Figure size 432x288 with 1 Axes>"
      ]
     },
     "metadata": {
      "needs_background": "light"
     },
     "output_type": "display_data"
    }
   ],
   "source": [
    "\n",
    "w2 = []\n",
    "w3 = []\n",
    "for w in single_layer.w_history:\n",
    "    w2.append(w[2])\n",
    "    w3.append(w[3])\n",
    "\n",
    "plt.plot(w2, w3)\n",
    "plt.plot(w2[-1],w3[-1],'ro')\n",
    "plt.xlabel('w[2]')\n",
    "plt.ylabel('w[3]')\n",
    "\n",
    "plt.show()"
   ]
  },
  {
   "cell_type": "markdown",
   "metadata": {},
   "source": [
    "## 6_2 2개의 층을 가진 신경망 구현\n"
   ]
  },
  {
   "cell_type": "code",
   "execution_count": 39,
   "metadata": {},
   "outputs": [],
   "source": [
    "# 1. SingleLayer 클래스를 상속한 DualLayer 클래스 만들기\n",
    "\n",
    "class DualLayer(SingleLayer):\n",
    "    def __init__(self, units=10, learning_rate=0.01, l1=0, l2=0):\n",
    "        self.units = units # 은닉층 뉴런 개수\n",
    "        self.w1 = None # 은닉층의 가중치\n",
    "        self.b1 = None # 은닉층의 절편\n",
    "        self.w2 = None # 출력층의 가중치\n",
    "        self.b2 = None # 출력층의 절편\n",
    "        self.a1 = None # 은닉층의 활성화 출력\n",
    "        self.losses = [] # 훈련 손실\n",
    "        self.val_losses = [] # 검증 손실\n",
    "        self.lr = learning_rate # 학습률\n",
    "        self.l1 = l1 # L1 손실 하이퍼파라미터\n",
    "        self.l2 = l2 # L2 손실 하이퍼파라미터\n",
    "        \n",
    "# SingleLayer 클래스는 학습 과정을 이해하기 쉽도록 w_history변수에 가중치 변화를 기록했지만\n",
    "# DualLayer 클래스에서는 가중치 변화를 기록하지 않는다."
   ]
  },
  {
   "cell_type": "code",
   "execution_count": 40,
   "metadata": {},
   "outputs": [],
   "source": [
    "# 2. forpass() 메서드 수정\n",
    "# forpass() 메서드에서는 은닉층과 출력층의 정방향 계산 수행\n",
    "\n",
    "def forpass(self, w):\n",
    "    z1 = np.dot(x, self.w1) + self.b1 # 첫 번째 층의 선형식을 계산\n",
    "    self.a1 = self.activation(z1) # 활성화 함수 적용\n",
    "    z2 = np.dot(self.a1, self.w2) + self.b2 # 두 번째 층의 선형식 계산\n",
    "    return z2\n"
   ]
  },
  {
   "cell_type": "code",
   "execution_count": 41,
   "metadata": {},
   "outputs": [],
   "source": [
    "# 3. backprop() 메서드 수정\n",
    "# 그레이디언트를 계산하는 backprop \n",
    "# 모델 훈련에서 오차를 역전파하는 역할을 하므로 주의해서 구현\n",
    "\n",
    "def backprop(self, x, err):\n",
    "    m = len(x) # 샘플 개수\n",
    "    # 출력층의 가중치와 절편에 대한 그레이디언트를 계산한다.\n",
    "    w2_grad = np.dot(self.a1.T, err) / m\n",
    "    b2_grad = np.sum(err) / m\n",
    "    # 시그모이드 함수까지 그레이디언트를 계산한다.\n",
    "    err_to_hidden = np.dot(err, self.w2.T) * self.a1 * (1-self.a1)\n",
    "    # 은닉층의 가중치와 절편에 대한 그레이디언트를 계산\n",
    "    w1_grad = np.dot(x.T, err_to_hidden) / m\n",
    "    b1_grad = np.sum(err_to_hidden, axis=0) /m\n",
    "    return w1_grad, b1_grad, w2_grad, b2_grad\n",
    "\n",
    "    "
   ]
  },
  {
   "cell_type": "code",
   "execution_count": 42,
   "metadata": {},
   "outputs": [],
   "source": [
    "# 4~5. fit() 메서드 수정\n",
    "# 모델 훈련 담당 \n",
    "# 은닉층과 출력층의 가중치, 절편 초기화 에포크마다 정방향 계산 수행해 오차 계산\n",
    "# 오차를 역전파해 가중치와 절편의 그레이디언트를 계산\n",
    "# 손실 계산 누적\n",
    "# 3개의 작은 메서드로 쪼갬\n",
    "\n",
    "\n",
    "def init_weights(self, n_features):\n",
    "    self.w1 = np.ones((n_features, self.units)) # (특성 개수, 은닉층의 크기)\n",
    "    self.b1 = np.zeros(self.units) # 은닉층의 크기\n",
    "    self.w2 = np.ones((self.units, 1))# 은닉층의 크기, 1\n",
    "    self.b2 = 0\n",
    "    \n"
   ]
  },
  {
   "cell_type": "code",
   "execution_count": 43,
   "metadata": {},
   "outputs": [],
   "source": [
    "# 6. fit() 메서드의 for문 안에 있는 코드 일부 traning() 메서드로 분리\n",
    "\n",
    "def fit(self, x, y, epochs=100, x_val=None, y_val=None):\n",
    "    y = y.reshape(-1, 1) # 타깃을 열 벡터로 변경\n",
    "    y_val = y_val.reshape(-1, 1)\n",
    "    m = len(x) # 샘플의 개수 저장\n",
    "    self.init_weights(x.shape[1])  # 은닉층과 출력층의 가중치 초기화\n",
    "    # epochs 만큼 반복\n",
    "    for i in range(epochs):\n",
    "        a = self.training(x, y, m)\n",
    "        # 안전한 계산 위해 클리핑\n",
    "        a = np.clip(a, 1e-10, 1-1e-10)\n",
    "        \n",
    "        # 로그 손실과 규제 손실 더해 리스트에 추가\n",
    "        loss =  np.sum(-(y*np.log(a) + (1-y)*np.log(1-a)))\n",
    "        self.losses.append((loss + self.reg_loss())/m)\n",
    "        # 검증 세트에 대한 손실 계산\n",
    "        self.update_val_loss(x_val, y_val)\n",
    "        \n",
    "        \n",
    "def training(self, x, y, m):\n",
    "    z = self.forpass(x)  # 정방향 계산 수행\n",
    "    a = self.activation(z) # 활성화 함수 적용\n",
    "    err = -(y-a) # 오차 계산\n",
    "    # 오차 역전파하여 그레이디언트 계산\n",
    "    w1_grad, b1_grad, w2_grad, b2_grad = self.backprop(x, err)\n",
    "    # 그레이디언트에서 페널티 항의 미분값 빼기\n",
    "    w1_grad += (self.l1 * np.sign(self.w1) + self.l2 *self.w1) /m\n",
    "    w2_grad += (self.l1 * np.sign(self.w2) + self.l2 *self.w2) /m\n",
    "    # 은닉층의 가중치와 절편 업데이트\n",
    "    self.w1 -= self.lr * w1_grad\n",
    "    self.b1 -= self.lr * b1_grad\n",
    "    \n",
    "    # 출력층의 가중치와 절편 업데이트\n",
    "    self.w2 -= self.lr * w2_grad\n",
    "    self.b2 -= self.lr * b2_grad\n",
    "    return a\n",
    "\n",
    "# 정방향 계산과 그레이디언트를 업데이트하는 코드를 training() 메서드로 옮겼다.\n",
    "# 이 메서드는 훈련 데이터 x,y와 훈련 샘플의 개수 m을 매개변수로 받고 마지막 출력층의 활성화 출력 a를 반환한다."
   ]
  },
  {
   "cell_type": "code",
   "execution_count": 44,
   "metadata": {},
   "outputs": [],
   "source": [
    "# 7. reg_loss() 메서드 수정하기\n",
    "# reg_loss() 메서드는 은닉층과 출력층의 가중치에 대한 L1,L2 손실을 계산한다.\n",
    "\n",
    "def reg_loss(self):\n",
    "    # 은닉층과 출력층의 가중치에 규제를 적용\n",
    "    return self.l1 * (np.sum(np.abs(self.w1) + np.sum(np.abs(self.w2)))) + \\\n",
    "                self.l2 / 2 * (np.sim(self.w1**2) + np.sum(self.w2**2))\n",
    "\n"
   ]
  },
  {
   "cell_type": "markdown",
   "metadata": {},
   "source": [
    "\n",
    "## 모델 훈련하기"
   ]
  },
  {
   "cell_type": "code",
   "execution_count": 45,
   "metadata": {},
   "outputs": [],
   "source": [
    "class DualLayer(SingleLayer):\n",
    "    \n",
    "    def __init__(self, units=10, learning_rate=0.1, l1=0, l2=0):\n",
    "        self.units = units         # 은닉층의 뉴런 개수\n",
    "        self.w1 = None             # 은닉층의 가중치\n",
    "        self.b1 = None             # 은닉층의 절편\n",
    "        self.w2 = None             # 출력층의 가중치\n",
    "        self.b2 = None             # 출력층의 절편\n",
    "        self.a1 = None             # 은닉층의 활성화 출력\n",
    "        self.losses = []           # 훈련 손실\n",
    "        self.val_losses = []       # 검증 손실\n",
    "        self.lr = learning_rate    # 학습률\n",
    "        self.l1 = l1               # L1 손실 하이퍼파라미터\n",
    "        self.l2 = l2               # L2 손실 하이퍼파라미터\n",
    "\n",
    "    def forpass(self, x):\n",
    "        z1 = np.dot(x, self.w1) + self.b1        # 첫 번째 층의 선형 식을 계산합니다\n",
    "        self.a1 = self.activation(z1)            # 활성화 함수를 적용합니다\n",
    "        z2 = np.dot(self.a1, self.w2) + self.b2  # 두 번째 층의 선형 식을 계산합니다.\n",
    "        return z2\n",
    "\n",
    "    def backprop(self, x, err):\n",
    "        m = len(x)       # 샘플 개수\n",
    "        # 출력층의 가중치와 절편에 대한 그래디언트를 계산합니다.\n",
    "        w2_grad = np.dot(self.a1.T, err) / m\n",
    "        b2_grad = np.sum(err) / m\n",
    "        # 시그모이드 함수까지 그래디언트를 계산합니다.\n",
    "        err_to_hidden = np.dot(err, self.w2.T) * self.a1 * (1 - self.a1)\n",
    "        # 은닉층의 가중치와 절편에 대한 그래디언트를 계산합니다.\n",
    "        w1_grad = np.dot(x.T, err_to_hidden) / m\n",
    "        b1_grad = np.sum(err_to_hidden, axis=0) / m\n",
    "        return w1_grad, b1_grad, w2_grad, b2_grad\n",
    "\n",
    "    def init_weights(self, n_features):\n",
    "        self.w1 = np.ones((n_features, self.units))  # (특성 개수, 은닉층의 크기)\n",
    "        self.b1 = np.zeros(self.units)               # 은닉층의 크기\n",
    "        self.w2 = np.ones((self.units, 1))           # (은닉층의 크기, 1)\n",
    "        self.b2 = 0\n",
    "        \n",
    "    def fit(self, x, y, epochs=100, x_val=None, y_val=None):\n",
    "        y = y.reshape(-1, 1)          # 타깃을 열 벡터로 바꿉니다.\n",
    "        y_val = y_val.reshape(-1, 1)\n",
    "        m = len(x)                    # 샘플 개수를 저장합니다.\n",
    "        self.init_weights(x.shape[1]) # 은닉층과 출력층의 가중치를 초기화합니다.\n",
    "        # epochs만큼 반복합니다.\n",
    "        for i in range(epochs):\n",
    "            a = self.training(x, y, m)\n",
    "            # 안전한 로그 계산을 위해 클리핑합니다.\n",
    "            a = np.clip(a, 1e-10, 1-1e-10)\n",
    "            # 로그 손실과 규제 손실을 더하여 리스트에 추가합니다.\n",
    "            loss = np.sum(-(y*np.log(a) + (1-y)*np.log(1-a)))\n",
    "            self.losses.append((loss + self.reg_loss()) / m)\n",
    "            # 검증 세트에 대한 손실을 계산합니다.\n",
    "            self.update_val_loss(x_val, y_val)\n",
    "            \n",
    "    def training(self, x, y, m):\n",
    "        z = self.forpass(x)       # 정방향 계산을 수행합니다.\n",
    "        a = self.activation(z)    # 활성화 함수를 적용합니다.\n",
    "        err = -(y - a)            # 오차를 계산합니다.\n",
    "        # 오차를 역전파하여 그래디언트를 계산합니다.\n",
    "        w1_grad, b1_grad, w2_grad, b2_grad = self.backprop(x, err)\n",
    "        # 그래디언트에서 페널티 항의 미분 값을 뺍니다\n",
    "        w1_grad += (self.l1 * np.sign(self.w1) + self.l2 * self.w1) / m\n",
    "        w2_grad += (self.l1 * np.sign(self.w2) + self.l2 * self.w2) / m\n",
    "        # 은닉층의 가중치와 절편을 업데이트합니다.\n",
    "        self.w1 -= self.lr * w1_grad\n",
    "        self.b1 -= self.lr * b1_grad\n",
    "        # 출력층의 가중치와 절편을 업데이트합니다.\n",
    "        self.w2 -= self.lr * w2_grad\n",
    "        self.b2 -= self.lr * b2_grad\n",
    "        return a\n",
    "    \n",
    "    def reg_loss(self):\n",
    "        # 은닉층과 출력층의 가중치에 규제를 적용합니다.\n",
    "        return self.l1 * (np.sum(np.abs(self.w1)) + np.sum(np.abs(self.w2))) + \\\n",
    "               self.l2 / 2 * (np.sum(self.w1**2) + np.sum(self.w2**2))"
   ]
  },
  {
   "cell_type": "code",
   "execution_count": 46,
   "metadata": {
    "scrolled": true
   },
   "outputs": [
    {
     "data": {
      "text/plain": [
       "0.978021978021978"
      ]
     },
     "execution_count": 46,
     "metadata": {},
     "output_type": "execute_result"
    }
   ],
   "source": [
    "#1. 다층 신경망 모델 훈련하고 평가\n",
    "\n",
    "# L2 규제는 0.01만큼, 에포크는 20,000번 지정\n",
    "\n",
    "dual_layer = DualLayer(l2 = 0.01)\n",
    "dual_layer.fit(x_train_scaled, y_train, x_val = x_val_scaled, y_val=y_val, epochs=20000)\n",
    "dual_layer.score(x_val_scaled, y_val)"
   ]
  },
  {
   "cell_type": "code",
   "execution_count": 47,
   "metadata": {},
   "outputs": [
    {
     "data": {
      "image/png": "[encoded data removed]",
      "text/plain": [
       "<Figure size 432x288 with 1 Axes>"
      ]
     },
     "metadata": {
      "needs_background": "light"
     },
     "output_type": "display_data"
    }
   ],
   "source": [
    "\n",
    "# 2. 훈련 손실과 검증 손실 그래프 분석\n",
    "\n",
    "plt.ylim(0, 0.3)\n",
    "plt.plot(dual_layer.losses)\n",
    "plt.plot(dual_layer.val_losses)\n",
    "plt.ylabel('loss')\n",
    "plt.xlabel('epoch')\n",
    "plt.legend(['train_loss', ' val_loss'])\n",
    "plt.show()\n",
    "\n",
    "# 손실 그래프가 이전보다 천천히 감소하는 이유는 SingleLayer보다 \n",
    "# 가중치의 개수가 훨씬 많아져 학습하는데 시간이 오래 걸리기 때문\n",
    "# 위스콘신 유방암 데이터의 특성이 30개이므로 SingleLayer 클래스를 사용했을 때는 가중치 30개와 절편 1개가 필요하다.\n",
    "\n",
    "# 은닉층 뉴런이 10개였으므로 30 * 10개의 가중치와 10개의 절편이 필요하고 \n",
    "# 출력층 역시 10개의 가중치와 1개의 절편이 필요하다. \n",
    "# DualLayer 모델은 총 321개의 가중치를 학습해야 한다."
   ]
  },
  {
   "cell_type": "markdown",
   "metadata": {},
   "source": [
    "## 가중치 초기화 개선\n",
    "\n"
   ]
  },
  {
   "cell_type": "code",
   "execution_count": 48,
   "metadata": {},
   "outputs": [],
   "source": [
    "# 1. 가중치 초기화를 위한 init__weights() 메서드 수정하기\n",
    "# RandomInitNetwork 클래스 만들고 가중치 초기화하는 init__weights() 메서드만 고치기\n",
    "\n",
    "\n",
    "\n",
    "class RandomInitNetwork(DualLayer):\n",
    "    \n",
    "    def init_weights(self, n_features):\n",
    "        np.random.seed(42)\n",
    "        self.w1 = np.random.normal(0, 1, (n_features, self.units))  #특성 개수, 은닉층의 크기\n",
    "        self.b1 = np.zeros(self.units) # 은닉층의 크기\n",
    "        self.w2 = np.random.normal(0, 1, (self.units, 1)) # (은닉층의 크기, 1)\n",
    "        self.b2 = 0\n",
    "        "
   ]
  },
  {
   "cell_type": "code",
   "execution_count": 49,
   "metadata": {},
   "outputs": [
    {
     "data": {
      "image/png": "[encoded data removed]",
      "text/plain": [
       "<Figure size 432x288 with 1 Axes>"
      ]
     },
     "metadata": {
      "needs_background": "light"
     },
     "output_type": "display_data"
    }
   ],
   "source": [
    "# 2. 객체 생성 후 모델 훈련 시키기\n",
    "random_init_net = RandomInitNetwork(l2 =0.01)\n",
    "random_init_net.fit(x_train_scaled, y_train, x_val=x_val_scaled, \n",
    "                    y_val=y_val, epochs=500)\n",
    "\n",
    "\n",
    "plt.plot(random_init_net.losses)\n",
    "plt.plot(random_init_net.val_losses)\n",
    "plt.ylabel('loss')\n",
    "plt.xlabel('epoch')\n",
    "plt.legend(['train_loss','val_loss'])\n",
    "plt.show()\n",
    "# 손실 함수가 감소하는 곡선이 매끄럽다,."
   ]
  },
  {
   "cell_type": "code",
   "execution_count": null,
   "metadata": {},
   "outputs": [],
   "source": []
  },
  {
   "cell_type": "code",
   "execution_count": null,
   "metadata": {},
   "outputs": [],
   "source": []
  }
 ],
 "metadata": {
  "kernelspec": {
   "display_name": "Python 3",
   "language": "python",
   "name": "python3"
  },
  "language_info": {
   "codemirror_mode": {
    "name": "ipython",
    "version": 3
   },
   "file_extension": ".py",
   "mimetype": "text/x-python",
   "name": "python",
   "nbconvert_exporter": "python",
   "pygments_lexer": "ipython3",
   "version": "3.7.6"
  }
 },
 "nbformat": 4,
 "nbformat_minor": 4
}
