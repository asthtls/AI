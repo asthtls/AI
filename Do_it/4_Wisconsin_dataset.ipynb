{
 "cells": [
  {
   "cell_type": "code",
   "execution_count": 1,
   "metadata": {},
   "outputs": [],
   "source": [
    "# 유방암 데이터 세트 준비\n",
    "# 사이킷런의 datasets 모듈 아래에 있는 load_breast_cancer() 함수를 사용하면 된다.\n",
    "\n",
    "import matplotlib.pyplot as plt\n",
    "import numpy as np\n",
    "from sklearn.datasets import load_breast_cancer\n",
    "cancer = load_breast_cancer()\n",
    "\n"
   ]
  },
  {
   "cell_type": "code",
   "execution_count": 2,
   "metadata": {},
   "outputs": [
    {
     "name": "stdout",
     "output_type": "stream",
     "text": [
      "cancer.data.shape : (569, 30) cancer.target.shape :  (569,)\n"
     ]
    }
   ],
   "source": [
    "# 입력 데이터 확인\n",
    "\n",
    "print(\"cancer.data.shape :\",cancer.data.shape, \"cancer.target.shape : \",cancer.target.shape)"
   ]
  },
  {
   "cell_type": "code",
   "execution_count": 6,
   "metadata": {},
   "outputs": [
    {
     "data": {
      "text/plain": [
       "array([[1.799e+01, 1.038e+01, 1.228e+02, 1.001e+03, 1.184e-01, 2.776e-01,\n",
       "        3.001e-01, 1.471e-01, 2.419e-01, 7.871e-02, 1.095e+00, 9.053e-01,\n",
       "        8.589e+00, 1.534e+02, 6.399e-03, 4.904e-02, 5.373e-02, 1.587e-02,\n",
       "        3.003e-02, 6.193e-03, 2.538e+01, 1.733e+01, 1.846e+02, 2.019e+03,\n",
       "        1.622e-01, 6.656e-01, 7.119e-01, 2.654e-01, 4.601e-01, 1.189e-01],\n",
       "       [2.057e+01, 1.777e+01, 1.329e+02, 1.326e+03, 8.474e-02, 7.864e-02,\n",
       "        8.690e-02, 7.017e-02, 1.812e-01, 5.667e-02, 5.435e-01, 7.339e-01,\n",
       "        3.398e+00, 7.408e+01, 5.225e-03, 1.308e-02, 1.860e-02, 1.340e-02,\n",
       "        1.389e-02, 3.532e-03, 2.499e+01, 2.341e+01, 1.588e+02, 1.956e+03,\n",
       "        1.238e-01, 1.866e-01, 2.416e-01, 1.860e-01, 2.750e-01, 8.902e-02],\n",
       "       [1.969e+01, 2.125e+01, 1.300e+02, 1.203e+03, 1.096e-01, 1.599e-01,\n",
       "        1.974e-01, 1.279e-01, 2.069e-01, 5.999e-02, 7.456e-01, 7.869e-01,\n",
       "        4.585e+00, 9.403e+01, 6.150e-03, 4.006e-02, 3.832e-02, 2.058e-02,\n",
       "        2.250e-02, 4.571e-03, 2.357e+01, 2.553e+01, 1.525e+02, 1.709e+03,\n",
       "        1.444e-01, 4.245e-01, 4.504e-01, 2.430e-01, 3.613e-01, 8.758e-02],\n",
       "       [1.142e+01, 2.038e+01, 7.758e+01, 3.861e+02, 1.425e-01, 2.839e-01,\n",
       "        2.414e-01, 1.052e-01, 2.597e-01, 9.744e-02, 4.956e-01, 1.156e+00,\n",
       "        3.445e+00, 2.723e+01, 9.110e-03, 7.458e-02, 5.661e-02, 1.867e-02,\n",
       "        5.963e-02, 9.208e-03, 1.491e+01, 2.650e+01, 9.887e+01, 5.677e+02,\n",
       "        2.098e-01, 8.663e-01, 6.869e-01, 2.575e-01, 6.638e-01, 1.730e-01],\n",
       "       [2.029e+01, 1.434e+01, 1.351e+02, 1.297e+03, 1.003e-01, 1.328e-01,\n",
       "        1.980e-01, 1.043e-01, 1.809e-01, 5.883e-02, 7.572e-01, 7.813e-01,\n",
       "        5.438e+00, 9.444e+01, 1.149e-02, 2.461e-02, 5.688e-02, 1.885e-02,\n",
       "        1.756e-02, 5.115e-03, 2.254e+01, 1.667e+01, 1.522e+02, 1.575e+03,\n",
       "        1.374e-01, 2.050e-01, 4.000e-01, 1.625e-01, 2.364e-01, 7.678e-02]])"
      ]
     },
     "execution_count": 6,
     "metadata": {},
     "output_type": "execute_result"
    }
   ],
   "source": [
    "cancer.data[:5] # 실수 범위의 값, 양수와 음수가 석여있다."
   ]
  },
  {
   "cell_type": "code",
   "execution_count": 4,
   "metadata": {},
   "outputs": [
    {
     "data": {
      "image/png": "[encoded data removed]",
      "text/plain": [
       "<Figure size 432x288 with 1 Axes>"
      ]
     },
     "metadata": {
      "needs_background": "light"
     },
     "output_type": "display_data"
    }
   ],
   "source": [
    "# 박스플롯으로 특성 사분위 관찰\n",
    "# 박스플롯은 1사분위와 3사분위 값으로 상자를 그린 다음 그 안에 2사분위(중간값)값을 표시한다. \n",
    "# 그 다음 1사분위와 3사분위 사이 거리(interqurartile range)의 거리 1.5배만큼 위아래 거리에서 각각 가장 큰 값과 가장 작은 갓까지 수염을 그린다.\n",
    "\n",
    "\n",
    "plt.boxplot(cancer.data)\n",
    "plt.xlabel('featrue')\n",
    "plt.ylabel('value')\n",
    "plt.show()\n"
   ]
  },
  {
   "cell_type": "code",
   "execution_count": 6,
   "metadata": {},
   "outputs": [
    {
     "data": {
      "text/plain": [
       "array(['mean area', 'area error', 'worst area'], dtype='<U23')"
      ]
     },
     "execution_count": 6,
     "metadata": {},
     "output_type": "execute_result"
    }
   ],
   "source": [
    "# 4, 14, 24번 특성이 다른 특성보다 분포가 크다.  데이터 확인하기\n",
    "cancer.feature_names[[3,13,23]] # index 0 부터 시작하니 3,13,23\n",
    "# 모두 넓이와 관련된 특성\n",
    "\n"
   ]
  },
  {
   "cell_type": "code",
   "execution_count": 7,
   "metadata": {},
   "outputs": [
    {
     "data": {
      "text/plain": [
       "(array([0, 1]), array([212, 357], dtype=int64))"
      ]
     },
     "execution_count": 7,
     "metadata": {},
     "output_type": "execute_result"
    }
   ],
   "source": [
    "# 타깃 데이터 확인\n",
    "\n",
    "np.unique(cancer.target, return_counts=True)\n",
    "# cancer.target 배열 안에는 0과 1만 들어있다. \n",
    "# 0은 음성 1은 양성 클래스를 의미한다.\n",
    "# unique()함수를 사용하면 고유한 값을 찾아 반환한다. \n",
    "# return_counts 매개변수를 True로 지정하면 고유한 값이 등장하는 횟수까지 세어 반환한다.\n",
    "# 212개 음성 클래스, 357개 양성 클래스"
   ]
  },
  {
   "cell_type": "code",
   "execution_count": 8,
   "metadata": {},
   "outputs": [],
   "source": [
    "# 훈련 데이터 세트 저장\n",
    "x = cancer.data\n",
    "y = cancer.target"
   ]
  },
  {
   "cell_type": "markdown",
   "metadata": {},
   "source": [
    "# 로지스틱 회귀를 위한 뉴런 만들기 \n",
    "\n"
   ]
  },
  {
   "cell_type": "code",
   "execution_count": 9,
   "metadata": {},
   "outputs": [],
   "source": [
    "from sklearn.model_selection import train_test_split"
   ]
  },
  {
   "cell_type": "code",
   "execution_count": 10,
   "metadata": {},
   "outputs": [],
   "source": [
    "x_train, x_test, y_train, y_test = train_test_split(x, y ,stratify=y, test_size=0.2, random_state=42)\n",
    "# stratify = y\n",
    "# stratify는 훈련 데이터를 나눌 때 클래스 비율을 동일하게 만든다. train_test_split() 함수는 기본적으로 데이터를 나누기 전에 \n",
    "# 섞지만 일부 클래스 비율이 불균형한 경우 stratify를 y로 지정해야 한다.\n",
    "\n",
    "# test_size = 0.2\n",
    "# train_test.split() 함수는 기본적으로 훈련 데이터 세트를 7.5 : 2.5 비율로 나눈다. 하지만 필요한 경우 이 비율을 조절하고 싶을 때도 있다.\n",
    "# 여기서는 입력된 데이터 세트의 20%를 테스트 세트로 나누기 위해 test_size를 0.2로 조정\n",
    "\n",
    "# random_state = 42\n",
    "# train_test_split() 함수는 무작위로 데이터 세트를 섞은 다음 나눈다. 이 책에서는 섞은 다음 나눈 결과가 항상 일정하도록 random_state 매개변수에 난수 초깃값 42를 지정\n",
    "# 실전에서는 사용할 필요가 없다\n",
    "\n",
    "\n"
   ]
  },
  {
   "cell_type": "code",
   "execution_count": 11,
   "metadata": {},
   "outputs": [
    {
     "name": "stdout",
     "output_type": "stream",
     "text": [
      "x_train.shape :  (455, 30) x_test.shape :  (114, 30)\n"
     ]
    }
   ],
   "source": [
    "# 결과 확인하기\n",
    "\n",
    "print(\"x_train.shape : \",x_train.shape, \"x_test.shape : \",x_test.shape)\n",
    "# 4대 1 비율로 나눠짐\n",
    "\n"
   ]
  },
  {
   "cell_type": "code",
   "execution_count": 12,
   "metadata": {},
   "outputs": [
    {
     "data": {
      "text/plain": [
       "(array([0, 1]), array([170, 285], dtype=int64))"
      ]
     },
     "execution_count": 12,
     "metadata": {},
     "output_type": "execute_result"
    }
   ],
   "source": [
    "# unique()함수로 훈련 세트 타깃 확인\n",
    "\n",
    "np.unique(y_train, return_counts=True) # 클래스 비율 그대로 유지\n",
    "# 양성 클래스가 음성 클래스보다 1.7배 정도 많다.\n",
    "\n",
    "\n",
    "\n"
   ]
  },
  {
   "cell_type": "code",
   "execution_count": 13,
   "metadata": {},
   "outputs": [],
   "source": [
    "# 로지스틱 회귀 구현하기\n",
    "\n",
    "class LogisticNeuron:\n",
    "    \n",
    "    def __init__(self):\n",
    "        self.w = None\n",
    "        self.b = None\n",
    "        \n",
    "    def forpass(self, x):\n",
    "        z = np.sum(x * self.w) + self.b # 직선 방ㅈㅇ식 계싼\n",
    "        return z\n",
    "    \n",
    "    def backprop(self, x, err):\n",
    "        w_grad = x * err # 가중치에 대한 그레디언트 계산\n",
    "        b_grad = 1 * err # 절편에 대한 그레디언트 계산\n",
    "        \n",
    "        \n",
    "# __init__ 메서드에서는 입력 데이터의 특성이 많아 가중치와 절편을 미리 초기화 하지 않는다.\n",
    "# 가중치는 나중에 입력 데이터를 보고 특성 개수에 맞게 결정한다.\n",
    "\n",
    "# forpass() 메서드에 넘파이 함수 사용 np.sum() x*self.w에서 x와 w는 1차원 넘파이 배열인데 넘파이 배열에 사칙연산 적용시 자동으로 \n",
    "# 배열의 요소끼리 계산한다."
   ]
  },
  {
   "cell_type": "code",
   "execution_count": 14,
   "metadata": {},
   "outputs": [],
   "source": [
    "# 훈련하는 메서드 구현하기\n",
    "\n",
    "# 훈련 수행  fit()메서드 구현\n",
    "\n",
    "def fit(self, x, y, epochs=100):\n",
    "    self.w = np.ones(x.shape[1]) # 가중치 전부 1로 초기화\n",
    "    self.b = 0 # 절편\n",
    "    \n",
    "    for i in range(epochs): #epochs만큼 반복\n",
    "        for x_i,y_i in zip(x, y): # 모든 샘플에 대해 반복\n",
    "            z = self.forpass(x_i)  #정방향 계산\n",
    "            a = self.activation(z) # 활성화 함수 적용\n",
    "            err = -(y_i - a)# 오차 계산\n",
    "            w_grad, b_grad = self.backprop(x_i, err) # 역방향 계산\n",
    "            self.w -= w.grad # 가중치 업데이트\n",
    "            self.b -= b.grad # 절편 업데이트\n",
    "        "
   ]
  },
  {
   "cell_type": "code",
   "execution_count": 15,
   "metadata": {},
   "outputs": [],
   "source": [
    "# activation() 메서드 구현\n",
    "# activation() 메서드에서는 시그모이드 함수가 사용되어야 한다. np.exp()사용시 간단히 만든다.  \n",
    "# np.exp = 자연 상수의 지수 함수 계산\n",
    "\n",
    "def activation(self, z):\n",
    "    a = 1/(1+np.exp(-z)) # 시그모이드 계산\n",
    "    return a\n",
    "\n"
   ]
  },
  {
   "cell_type": "code",
   "execution_count": 16,
   "metadata": {},
   "outputs": [],
   "source": [
    "# 예측하는 메서드 구현\n",
    "# 예측값 계산시 forpass() 메서드 사용\n",
    "# 새로운 샘플에 대한 예측값 계산해주는 메서드 predict() 메서드 만들기\n",
    "\n",
    "# 매개변수 갑승로 입력값 x가 2차원 배열로 전달된다고 가정\n",
    "\n",
    "def predict(self, x):\n",
    "    z = [self.forpass(x_i) for x_i in x] # 선형 함수 적용 , 리스트 내포 문법\n",
    "    a = self.activation(np.array(z)) # 활성화 함수 적용\n",
    "    return a > 0.5 # 계단 함수 적용"
   ]
  },
  {
   "cell_type": "code",
   "execution_count": 17,
   "metadata": {},
   "outputs": [],
   "source": [
    "# 구현 종합\n",
    "\n",
    "class LogisticNeuron:\n",
    "    \n",
    "    def __init__(self):\n",
    "        self.w = None\n",
    "        self.b = None\n",
    "        \n",
    "    def forpass(self, x):\n",
    "        z = np.sum(x*self.w) + self.b # 직선 방정식 계산\n",
    "        return z\n",
    "    \n",
    "    def backprop(self, x, err):\n",
    "        w_grad = x * err # 가중치에 대한 그레디언트 계산\n",
    "        b_grad = 1 * err # 절편에 대한 그레디언트 계산\n",
    "        return w_grad, b_grad\n",
    "        \n",
    "    def activation(self, z):\n",
    "        z = np.clip(z, -100, None) # 안전한 np.exp()계산 위해서\n",
    "        a = 1/(1+np.exp(-z)) # 시그모이드 계산\n",
    "        return a\n",
    "    \n",
    "    def fit(self, x, y, epochs=100):\n",
    "        self.w = np.ones(x.shape[1]) # 가중치 전부 1로 초기화\n",
    "        self.b = 0 # 절편\n",
    "\n",
    "        for i in range(epochs): #epochs만큼 반복\n",
    "            for x_i,y_i in zip(x, y): # 모든 샘플에 대해 반복\n",
    "                z = self.forpass(x_i)  #정방향 계산\n",
    "                a = self.activation(z) # 활성화 함수 적용\n",
    "                err = -(y_i - a)# 오차 계산\n",
    "                w_grad, b_grad = self.backprop(x_i, err) # 역방향 계산\n",
    "                self.w -= w_grad # 가중치 업데이트\n",
    "                self.b -= b_grad # 절편 업데이트\n",
    "                \n",
    "    \n",
    "    def predict(self, x):\n",
    "        z = [self.forpass(x_i) for x_i in x] # 선형 함수 적용 , 리스트 내포 문법\n",
    "        a = self.activation(np.array(z)) # 활성화 함수 적용\n",
    "        return a > 0.5 # 계단 함수 적용\n",
    "    \n",
    "    "
   ]
  },
  {
   "cell_type": "code",
   "execution_count": 18,
   "metadata": {},
   "outputs": [],
   "source": [
    "# 로지스틱 회귀 모델 훈련시키기\n",
    "\n",
    "neuron = LogisticNeuron() # 객체 생성\n",
    "neuron.fit(x_train, y_train)\n",
    "\n"
   ]
  },
  {
   "cell_type": "code",
   "execution_count": 19,
   "metadata": {},
   "outputs": [
    {
     "data": {
      "text/plain": [
       "0.8245614035087719"
      ]
     },
     "execution_count": 19,
     "metadata": {},
     "output_type": "execute_result"
    }
   ],
   "source": [
    "# 모델 정확도 평가\n",
    "\n",
    "np.mean(neuron.predict(x_test) == y_test)\n",
    "\n",
    "# predit() 메서드 반환값은 True나 False로 채워진(m,) 크기의 배열이고 y_test는 0또는 1로 채워진(m,) 크기의 배열이므로 바로 비교각 가능하다.\n",
    "\n",
    "# np.mean()함수는 매개변수 값으로 전달한 비교문결과(넘파이 배열)의 평균을 계산한다.\n",
    "# 계산 결과 0.8245...~ 는 올바르게 예측한 샘플의 비율이 된다. \n",
    "# 이를 정확도(accuracy) 라고 한다."
   ]
  },
  {
   "cell_type": "code",
   "execution_count": 22,
   "metadata": {},
   "outputs": [],
   "source": [
    "import matplotlib.pyplot as plt\n",
    "import numpy as np\n",
    "from sklearn.model_selection import train_test_split\n",
    "from sklearn.datasets import load_breast_cancer\n",
    "\n",
    "\n",
    "\n",
    "class SingleLayer:\n",
    "    \n",
    "    def __init__(self):\n",
    "        self.w = None\n",
    "        self.b = None\n",
    "        self.losses = []\n",
    "    \n",
    "    def forpass(self, w):\n",
    "        z = np.sum(x * self.w) + self.b # 직선 방정식 계산\n",
    "        return z\n",
    "    \n",
    "    def backprop(self, x, err):\n",
    "        w_grad = x * err # 가중치에 대한 그레이디언트 계산\n",
    "        b_grad = 1 * err # 절편에 대한 그레이디언트 계산\n",
    "        return w_grad, b_grad\n",
    "    \n",
    "    def add_bias(self, x):\n",
    "        return np.c_[np.ones((x.shape[0],1)), x] # 행렬의 맨 앞에 1로 채워진 열 벡터를 추가\n",
    "    \n",
    "    def activation(self, z):\n",
    "        z = np.clip(z, -100, None) # 안전한 np.exp()계산 위해서\n",
    "        a = 1/(1+np.exp(-z)) # 시그모이드 계산\n",
    "        return a\n",
    "    \n",
    "    def fit(self, x, y, epochs=100):\n",
    "        self.w = np.ones(x.shape[1]) # 가중치 1로 초기화\n",
    "        self.b = 0 # 절편 초기화\n",
    "        for i in range(epochs):\n",
    "            loss = 0\n",
    "            indexes = np.random.permutation(np.arange(len(x))) # 인덱스 섞기\n",
    "            for i in indexes:      # 모든 샘플 반복\n",
    "                z = self.forpass(x[i]) # 정방향 계산 \n",
    "                a = self.activation(z) # 활성화 함수 적용\n",
    "                err = -(y[i] - a) # 오차 계산\n",
    "                w_grad, b_grad = self.backprop(x[i], err) # 역방향 계산\n",
    "                self.w -= w_grad # 가중치 업데이트\n",
    "                self.b -= b_grad # 절편 업데이트\n",
    "                # 안전한 로그 계산을 위해 클리핑 후 손실 누적\n",
    "                a = np.clip(a, 1e-10, 1-1e-10)\n",
    "                loss += -(y[i]*np.log(a)+(1-y[i])*np.log(1-a)) # 에포크마다 손실을 저장\n",
    "            self.losses.append(loss/len(y))\n",
    "    \n",
    "    def predict(self, x):\n",
    "        z = [self.forpass(x_i) for x_i in x]\n",
    "        return np.array(z) > 0 # 계단 함수 적용\n",
    "    \n",
    "    def score(self, x, y):\n",
    "        return np.mean(self.predict(x) == y)\n",
    "        "
   ]
  },
  {
   "cell_type": "code",
   "execution_count": 23,
   "metadata": {},
   "outputs": [
    {
     "data": {
      "text/plain": [
       "0.631578947368421"
      ]
     },
     "execution_count": 23,
     "metadata": {},
     "output_type": "execute_result"
    }
   ],
   "source": [
    "\n",
    "layer = SingleLayer()\n",
    "layer.fit(x_train, y_train)\n",
    "layer.score(x_test, y_test)"
   ]
  },
  {
   "cell_type": "code",
   "execution_count": null,
   "metadata": {},
   "outputs": [],
   "source": []
  }
 ],
 "metadata": {
  "kernelspec": {
   "display_name": "Python 3",
   "language": "python",
   "name": "python3"
  },
  "language_info": {
   "codemirror_mode": {
    "name": "ipython",
    "version": 3
   },
   "file_extension": ".py",
   "mimetype": "text/x-python",
   "name": "python",
   "nbconvert_exporter": "python",
   "pygments_lexer": "ipython3",
   "version": "3.7.6"
  }
 },
 "nbformat": 4,
 "nbformat_minor": 4
}
