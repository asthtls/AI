{
 "cells": [
  {
   "cell_type": "code",
   "execution_count": 6,
   "metadata": {},
   "outputs": [
    {
     "ename": "NameError",
     "evalue": "name 'x' is not defined",
     "output_type": "error",
     "traceback": [
      "\u001b[1;31m---------------------------------------------------------------------------\u001b[0m",
      "\u001b[1;31mNameError\u001b[0m                                 Traceback (most recent call last)",
      "\u001b[1;32m<ipython-input-6-55fad04eb7c2>\u001b[0m in \u001b[0;36m<module>\u001b[1;34m\u001b[0m\n\u001b[0;32m     29\u001b[0m \u001b[1;33m\u001b[0m\u001b[0m\n\u001b[0;32m     30\u001b[0m \u001b[0mneuron\u001b[0m \u001b[1;33m=\u001b[0m \u001b[0mNeuron\u001b[0m\u001b[1;33m(\u001b[0m\u001b[1;33m)\u001b[0m\u001b[1;33m\u001b[0m\u001b[1;33m\u001b[0m\u001b[0m\n\u001b[1;32m---> 31\u001b[1;33m \u001b[0mneuron\u001b[0m\u001b[1;33m.\u001b[0m\u001b[0mfit\u001b[0m\u001b[1;33m(\u001b[0m\u001b[0mx\u001b[0m\u001b[1;33m,\u001b[0m \u001b[0my\u001b[0m\u001b[1;33m)\u001b[0m\u001b[1;33m\u001b[0m\u001b[1;33m\u001b[0m\u001b[0m\n\u001b[0m",
      "\u001b[1;31mNameError\u001b[0m: name 'x' is not defined"
     ]
    }
   ],
   "source": [
    "#  선형 회귀를 위한 뉴런\n",
    "# 경사 하강법 알고리즘 -> Neuron이름의 파이썬 클래스\n",
    "\n",
    "class Neuron : \n",
    "    \n",
    "    def __init__(self): # 초기화 작업 \n",
    "        self.w = 1.0\n",
    "        self.b = 1.0\n",
    "    \n",
    "    def forpass(self, x):\n",
    "        y_hat = x * self.w + self.b\n",
    "        return y_hat\n",
    "    \n",
    "    \n",
    "    def backprop(self, x, err):\n",
    "        w_grad = x * err # 가중치에 대한 기울기를 계산\n",
    "        b_grad = 1 * err # 절편에 대한 기울기 계산\n",
    "        return w_grad, b_grad\n",
    "    \n",
    "    def fit(self, x, y, epochs=100):\n",
    "        for i in range(epochs): #에포크만큼 반복\n",
    "            for x_i, y_i in zip(x, y): # 모든 샘플에 대해 반복\n",
    "                y_hat = self.forpass(x_i) # 정방향 계산\n",
    "                err = -(y_i - y_hat) # 오차 계산\n",
    "                w_grad, b_grad = self.backprop(x_i, err) # 역방향 계산\n",
    "                self.w -= w.grad # 가중치 업데이트\n",
    "                self.b -= b.grad # 절편 업데이트\n",
    "            \n",
    "            \n",
    "neuron = Neuron()\n",
    "neuron.fit(x, y)\n",
    "\n",
    "\n",
    "plt.scatter(x, y)\n",
    "pt1 = (-0.1, -0.1 * neuron.w + neuron.b)\n",
    "pt2 = (0.15, 0.15 * neuron.w + neuron.b)\n",
    "plt.plot([pt1[0], pt2[0]], [pt1[1], pt2[1]])\n",
    "plt.xlabel('x')\n",
    "plt.ylabel('y')\n",
    "plt.show()"
   ]
  },
  {
   "cell_type": "code",
   "execution_count": null,
   "metadata": {},
   "outputs": [],
   "source": [
    "plt.scatter(x, y)\n",
    "pt1 = (-0.1, -0.1 * neuron.w + neuron.b)\n",
    "pt2 = (0.15, 0.15 * neuron.w + neuron.b)\n",
    "plt.plot([pt1[0], pt2[0]], [pt1[1], pt2[1]])\n",
    "plt.xlabel('x')\n",
    "plt.ylabel('y')\n",
    "plt.show()"
   ]
  }
 ],
 "metadata": {
  "kernelspec": {
   "display_name": "Python 3",
   "language": "python",
   "name": "python3"
  },
  "language_info": {
   "codemirror_mode": {
    "name": "ipython",
    "version": 3
   },
   "file_extension": ".py",
   "mimetype": "text/x-python",
   "name": "python",
   "nbconvert_exporter": "python",
   "pygments_lexer": "ipython3",
   "version": "3.7.6"
  }
 },
 "nbformat": 4,
 "nbformat_minor": 4
}
