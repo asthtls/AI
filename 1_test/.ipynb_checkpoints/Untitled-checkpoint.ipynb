{
 "cells": [
  {
   "cell_type": "code",
   "execution_count": 3,
   "metadata": {},
   "outputs": [
    {
     "name": "stdout",
     "output_type": "stream",
     "text": [
      "a = 80\n",
      "b = 40\n",
      "80 + 40 = 120\n",
      "80 - 40 = 40\n",
      "80 * 40 = 3200\n",
      "80 / 40 = 2.0\n"
     ]
    }
   ],
   "source": [
    "class pr:\n",
    "    def __init__(self, a, b): # 정해진 규칙\n",
    "        self.a = a\n",
    "        self.b = b\n",
    "        \n",
    "    def add(self):\n",
    "        tmp = self.a + self.b\n",
    "        print(self.a ,\"+\", self.b ,\"=\", tmp)\n",
    "    \n",
    "    def sub(self):\n",
    "        tmp = self.a - self.b\n",
    "        print(self.a, \"-\", self.b ,\"=\", tmp)\n",
    "    \n",
    "    def mul(self):\n",
    "        tmp = self.a * self.b\n",
    "        print(self.a, '*', self.b , \"=\", tmp)\n",
    "    \n",
    "    def div(self):\n",
    "        tmp = self.a / self.b\n",
    "        print(self.a, \"/\", self.b, \"=\", round(tmp,1))\n",
    "\n",
    "a = int(input(\"a = \"))\n",
    "b = int(input(\"b = \"))\n",
    "mem = pr(a,b)\n",
    "mem.add()\n",
    "mem.sub()\n",
    "mem.mul()\n",
    "mem.div()"
   ]
  }
 ],
 "metadata": {
  "kernelspec": {
   "display_name": "Python 3",
   "language": "python",
   "name": "python3"
  },
  "language_info": {
   "codemirror_mode": {
    "name": "ipython",
    "version": 3
   },
   "file_extension": ".py",
   "mimetype": "text/x-python",
   "name": "python",
   "nbconvert_exporter": "python",
   "pygments_lexer": "ipython3",
   "version": "3.7.6"
  }
 },
 "nbformat": 4,
 "nbformat_minor": 4
}
