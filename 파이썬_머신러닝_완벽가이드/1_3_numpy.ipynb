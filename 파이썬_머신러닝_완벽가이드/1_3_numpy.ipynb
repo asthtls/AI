{
 "cells": [
  {
   "cell_type": "code",
   "execution_count": 1,
   "metadata": {},
   "outputs": [],
   "source": [
    "# numpy\n",
    "import numpy as np\n"
   ]
  },
  {
   "cell_type": "code",
   "execution_count": 2,
   "metadata": {},
   "outputs": [
    {
     "name": "stdout",
     "output_type": "stream",
     "text": [
      "array1 type :  <class 'numpy.ndarray'>\n",
      "array1 array 형태 :  (3,)\n",
      "array2 type :  <class 'numpy.ndarray'>\n",
      "array2 array 형태 :  (2, 3)\n",
      "array3 type :  <class 'numpy.ndarray'>\n",
      "array3 arrary 형태 :  (1, 3)\n"
     ]
    }
   ],
   "source": [
    "# array 함수\n",
    "# ndarray로 변환하는 기능 수행\n",
    "\n",
    "array1 = np.array([1,2,3])\n",
    "print('array1 type : ', type(array1))\n",
    "print('array1 array 형태 : ', array1.shape)\n",
    "\n",
    "array2 = np.array([[1,2,3],\n",
    "                  [4,5,6]])\n",
    "print('array2 type : ', type(array2))\n",
    "print('array2 array 형태 : ',array2.shape)\n",
    "\n",
    "array3 = np.array([[1,2,3]])\n",
    "print('array3 type : ', type(array3))\n",
    "print('array3 arrary 형태 : ', array3.shape)\n"
   ]
  },
  {
   "cell_type": "code",
   "execution_count": 3,
   "metadata": {},
   "outputs": [
    {
     "name": "stdout",
     "output_type": "stream",
     "text": [
      "arary1 : 1차원, array2 : 2차원, array3 :  2차원\n"
     ]
    }
   ],
   "source": [
    "# ndim 함수 사용해 arrary 차원 확인\n",
    "\n",
    "print('arary1 : {:0}차원, array2 : {:1}차원, array3 : {:2}차원'.format(array1.ndim,\n",
    "                                                                array2.ndim, array3.ndim))"
   ]
  },
  {
   "cell_type": "code",
   "execution_count": 4,
   "metadata": {},
   "outputs": [
    {
     "name": "stdout",
     "output_type": "stream",
     "text": [
      "<class 'list'>\n",
      "<class 'numpy.ndarray'>\n",
      "[1 2 3] int32\n"
     ]
    }
   ],
   "source": [
    "# 데이터 타입\n",
    "list1 = [1,2,3]\n",
    "print(type(list1))\n",
    "array1 = np.array(list1)\n",
    "print(type(array1)) # 리스트 형을 넣어도 numpy.ndarray로 변경\n",
    "print(array1, array1.dtype)"
   ]
  },
  {
   "cell_type": "code",
   "execution_count": 5,
   "metadata": {},
   "outputs": [
    {
     "name": "stdout",
     "output_type": "stream",
     "text": [
      "['1' '2' 'test'] <U11\n"
     ]
    }
   ],
   "source": [
    "# 리스트 안에 문자열이 있을 경우\n",
    "list2 = [1,2,'test']\n",
    "array2 = np.array(list2)\n",
    "print(array2, array2.dtype)"
   ]
  },
  {
   "cell_type": "code",
   "execution_count": 6,
   "metadata": {},
   "outputs": [
    {
     "name": "stdout",
     "output_type": "stream",
     "text": [
      "[1. 2. 3.] float64\n"
     ]
    }
   ],
   "source": [
    "# astype 메서드로 데이터값 타입 변경\n",
    "array_int = np.array([1,2,3])\n",
    "array_float = array_int.astype('float64') # float64형으로 변경\n",
    "print(array_float, array_float.dtype)"
   ]
  },
  {
   "cell_type": "code",
   "execution_count": 7,
   "metadata": {},
   "outputs": [
    {
     "name": "stdout",
     "output_type": "stream",
     "text": [
      "[0 1 2 3 4 5 6 7 8 9]\n",
      "int32 (10,)\n"
     ]
    }
   ],
   "source": [
    "# arange() 함수\n",
    "\n",
    "sequence_array = np.arange(10)\n",
    "print(sequence_array)\n",
    "print(sequence_array.dtype, sequence_array.shape) # 데이터 타입, 형태"
   ]
  },
  {
   "cell_type": "code",
   "execution_count": 8,
   "metadata": {},
   "outputs": [
    {
     "name": "stdout",
     "output_type": "stream",
     "text": [
      "[[0 0]\n",
      " [0 0]\n",
      " [0 0]]\n",
      "int32 (3, 2)\n",
      "[[1. 1.]\n",
      " [1. 1.]\n",
      " [1. 1.]]\n",
      "float64 (3, 2)\n"
     ]
    }
   ],
   "source": [
    "# zeros, ones\n",
    "\n",
    "# 3행 2열\n",
    "zero_array = np.zeros((3,2), dtype='int32')\n",
    "print(zero_array)\n",
    "print(zero_array.dtype, zero_array.shape)\n",
    "\n",
    "# ones\n",
    "one_array = np.ones((3,2))\n",
    "print(one_array)\n",
    "print(one_array.dtype, one_array.shape)"
   ]
  },
  {
   "cell_type": "code",
   "execution_count": 9,
   "metadata": {},
   "outputs": [
    {
     "name": "stdout",
     "output_type": "stream",
     "text": [
      "arr1 : \n",
      " [0 1 2 3 4 5 6 7 8 9]\n",
      "arr2 : \n",
      " [[0 1 2 3 4]\n",
      " [5 6 7 8 9]]\n",
      "arr3 : \n",
      " [[0 1]\n",
      " [2 3]\n",
      " [4 5]\n",
      " [6 7]\n",
      " [8 9]]\n"
     ]
    }
   ],
   "source": [
    "# reshape()\n",
    "\n",
    "array1 = np.arange(10)\n",
    "print('arr1 : \\n', array1)\n",
    "\n",
    "array2 = array1.reshape(2,5)\n",
    "print('arr2 : \\n', array2)\n",
    "\n",
    "array3 = array1.reshape(5,2)\n",
    "print('arr3 : \\n', array3)"
   ]
  },
  {
   "cell_type": "code",
   "execution_count": 10,
   "metadata": {},
   "outputs": [
    {
     "name": "stdout",
     "output_type": "stream",
     "text": [
      "arr1 : \n",
      " [0 1 2 3 4 5 6 7 8 9]\n",
      "arr2 : \n",
      " (2, 5)\n",
      "arr3 : \n",
      " (5, 2)\n"
     ]
    }
   ],
   "source": [
    "# reshape -1 활용\n",
    "\n",
    "array1 = np.arange(10)\n",
    "print('arr1 : \\n', array1)\n",
    "\n",
    "array2 = array1.reshape(2, -1)\n",
    "print('arr2 : \\n', array2.shape)\n",
    "\n",
    "array3 = array1.reshape(5, -1)\n",
    "print('arr3 : \\n', array3.shape)"
   ]
  },
  {
   "cell_type": "code",
   "execution_count": 11,
   "metadata": {},
   "outputs": [
    {
     "name": "stdout",
     "output_type": "stream",
     "text": [
      "array3d : \n",
      " [[[0, 1], [2, 3]], [[4, 5], [6, 7]]]\n",
      "array5 : \n",
      " [[0], [1], [2], [3], [4], [5], [6], [7]]\n",
      "array5.shape : \n",
      " int32\n",
      "array6 : \n",
      " [[0], [1], [2], [3], [4], [5], [6], [7]]\n",
      "array6 shape : \n",
      " (8, 1)\n"
     ]
    }
   ],
   "source": [
    "# reshape 차원 변경\n",
    "\n",
    "array1 = np.arange(8)\n",
    "array3d =array1.reshape((2,2,2)) # 2*2*2 = 8\n",
    "print('array3d : \\n', array3d.tolist())\n",
    "\n",
    "array5 = array3d.reshape(-1,1)\n",
    "print('array5 : \\n', array5.tolist())\n",
    "print('array5.shape : \\n',array5.dtype)\n",
    "\n",
    "array6 = array1.reshape(-1,1)\n",
    "print('array6 : \\n',array6.tolist())\n",
    "print('array6 shape : \\n',array6.shape)\n",
    "\n"
   ]
  },
  {
   "cell_type": "code",
   "execution_count": 12,
   "metadata": {},
   "outputs": [
    {
     "name": "stdout",
     "output_type": "stream",
     "text": [
      "[[1 2 3]\n",
      " [4 5 6]\n",
      " [7 8 9]]\n",
      "(row=0, col=0) index 값 :  1\n",
      "(row=0, col=1) index 값 :  2\n",
      "(row=1, col=0) index 값 :  4\n",
      "(row=1, col=1) index 값 :  5\n"
     ]
    }
   ],
   "source": [
    "# 인덱싱(indexing)\n",
    "\n",
    "\n",
    "# 2차원의 3x3 narray로 변환\n",
    "\n",
    "array1d = np.arange(start=1, stop=10)\n",
    "array2d = array1d.reshape(3,3) # 3행 3열\n",
    "print(array2d)\n",
    "\n",
    "print('(row=0, col=0) index 값 : ',array2d[0,0])\n",
    "print('(row=0, col=1) index 값 : ',array2d[0,1])\n",
    "print('(row=1, col=0) index 값 : ',array2d[1,0])\n",
    "print('(row=1, col=1) index 값 : ',array2d[1,1])"
   ]
  },
  {
   "cell_type": "code",
   "execution_count": 13,
   "metadata": {},
   "outputs": [
    {
     "name": "stdout",
     "output_type": "stream",
     "text": [
      "[1 2 3]\n",
      "[4 5 6 7 8 9]\n",
      "[1 2 3 4 5 6 7 8 9]\n"
     ]
    }
   ],
   "source": [
    "# 1차원 데이터 슬라이싱\n",
    "array1 = np.arange(start=1, stop=10)# 1~9\n",
    "array4 = array1[:3]\n",
    "print(array4)\n",
    "\n",
    "array5 = array1[3:]\n",
    "print(array5)\n",
    "\n",
    "array6 = array1[:]\n",
    "print(array1)"
   ]
  },
  {
   "cell_type": "code",
   "execution_count": 14,
   "metadata": {},
   "outputs": [
    {
     "name": "stdout",
     "output_type": "stream",
     "text": [
      "array2d : \n",
      " [[1 2 3]\n",
      " [4 5 6]\n",
      " [7 8 9]]\n",
      "array2d[0:2, 0:2]\n",
      " [[1 2]\n",
      " [4 5]]\n",
      "array2d[1:3, 0:3]\n",
      " [[4 5 6]\n",
      " [7 8 9]]\n",
      "array2d[1:3, :]\n",
      " [[4 5 6]\n",
      " [7 8 9]]\n",
      "array2d[:, :]\n",
      " [[1 2 3]\n",
      " [4 5 6]\n",
      " [7 8 9]]\n",
      "array2d[:2, 1:]\n",
      " [[2 3]\n",
      " [5 6]]\n",
      "array2d[:2, 0]\n",
      " [1 4]\n"
     ]
    }
   ],
   "source": [
    "# 2차원 데이터 슬라이싱\n",
    "\n",
    "array1d = np.arange(start=1, stop=10)\n",
    "array2d = array1d.reshape(3,3)\n",
    "print('array2d : \\n',array2d)\n",
    "\n",
    "print('array2d[0:2, 0:2]\\n', array2d[0:2, 0:2])\n",
    "print('array2d[1:3, 0:3]\\n', array2d[1:3, 0:3])\n",
    "print('array2d[1:3, :]\\n', array2d[1:3, :])\n",
    "print('array2d[:, :]\\n', array2d[:, :])\n",
    "print('array2d[:2, 1:]\\n', array2d[:2, 1:])\n",
    "print('array2d[:2, 0]\\n', array2d[:2, 0])"
   ]
  },
  {
   "cell_type": "code",
   "execution_count": 17,
   "metadata": {},
   "outputs": [
    {
     "name": "stdout",
     "output_type": "stream",
     "text": [
      "array2d : \n",
      " [[1, 2, 3], [4, 5, 6], [7, 8, 9]]\n",
      "array2d[[0,1], 2] =>  [3, 6]\n",
      "array2d[[0,1], 0:2] =>  [[1, 2], [4, 5]]\n",
      "array2d[[0,1]] =>  [[1, 2, 3], [4, 5, 6]]\n"
     ]
    }
   ],
   "source": [
    "# 팬시 인덱싱\n",
    "\n",
    "array1d = np.arange(start=1, stop=10)\n",
    "array2d = array1d.reshape(3,3)\n",
    "\n",
    "print('array2d : \\n',array2d.tolist())\n",
    "array3 = array2d[[0,1], 2]\n",
    "print('array2d[[0,1], 2] => ', array3.tolist())\n",
    "\n",
    "array4 = array2d[[0,1], 0:2]\n",
    "print('array2d[[0,1], 0:2] => ', array4.tolist())\n",
    "\n",
    "array5 = array2d[[0,1]]\n",
    "print('array2d[[0,1]] => ', array5.tolist())"
   ]
  },
  {
   "cell_type": "code",
   "execution_count": 20,
   "metadata": {},
   "outputs": [
    {
     "name": "stdout",
     "output_type": "stream",
     "text": [
      "array1d > 5 불린 인덱싱 값 :  [7 8 9]\n"
     ]
    }
   ],
   "source": [
    "# 불린 인덱싱\n",
    "\n",
    "array1d = np.arange(start=1, stop=10)\n",
    "\n",
    "array2 = array1d[array1d > 6]\n",
    "\n",
    "print('array1d > 5 불린 인덱싱 값 : ', array2)"
   ]
  },
  {
   "cell_type": "code",
   "execution_count": 22,
   "metadata": {},
   "outputs": [
    {
     "name": "stdout",
     "output_type": "stream",
     "text": [
      "np.sort() 호출 후 반환된 정렬 행렬 :  [1 3 5 9]\n",
      "np.sort() 호출 후 원본 행렬 :  [3 1 9 5]\n",
      "org_array.sort() 호출 후 반환된 행렬 :  None\n",
      "org_array.sort() 호출 후 원본 행렬 :  [1 3 5 9]\n"
     ]
    }
   ],
   "source": [
    "# 행렬의 정렬 - sort()와 argsort()\n",
    "\n",
    "# np.sort(), ndarray.sort()\n",
    "# argsort()\n",
    "\n",
    "org_array = np.array([3,1,9,5])\n",
    "sort_array1 = np.sort(org_array)\n",
    "print('np.sort() 호출 후 반환된 정렬 행렬 : ',sort_array1)\n",
    "print('np.sort() 호출 후 원본 행렬 : ',org_array)\n",
    "\n",
    "sort_array2 = org_array.sort()\n",
    "print('org_array.sort() 호출 후 반환된 행렬 : ',sort_array2)\n",
    "print('org_array.sort() 호출 후 원본 행렬 : ',org_array)"
   ]
  },
  {
   "cell_type": "code",
   "execution_count": 24,
   "metadata": {},
   "outputs": [
    {
     "name": "stdout",
     "output_type": "stream",
     "text": [
      "내림차순으로 정렬 :  [9 5 3 1]\n",
      "로우 방향으로 정렬 : \n",
      " [[ 7  1]\n",
      " [ 8 12]]\n",
      "칼럼 방향으로 정렬 : \n",
      " [[ 8 12]\n",
      " [ 1  7]]\n"
     ]
    }
   ],
   "source": [
    "# 내림차순 정렬\n",
    "sort_array1_desc = np.sort(org_array)[::-1]\n",
    "print('내림차순으로 정렬 : ', sort_array1_desc)\n",
    "\n",
    "# 로우,칼럼 방향으로 정렬\n",
    "array2d = np.array([[8, 12],\n",
    "                   [7, 1]])\n",
    "\n",
    "sort_array2d_axis0 = np.sort(array2d, axis = 0)\n",
    "print('로우 방향으로 정렬 : \\n', sort_array2d_axis0)\n",
    "\n",
    "sort_array2d_axis1 = np.sort(array2d, axis = 1)\n",
    "print('칼럼 방향으로 정렬 : \\n', sort_array2d_axis1)"
   ]
  },
  {
   "cell_type": "code",
   "execution_count": 26,
   "metadata": {},
   "outputs": [
    {
     "name": "stdout",
     "output_type": "stream",
     "text": [
      "<class 'numpy.ndarray'>\n",
      "행렬 정렬 시 원본 행렬의 인덱스 :  [1 0 3 2]\n",
      "행렬 내림차순 정렬 시 원본 행렬의 인덱스 :  [2 3 0 1]\n"
     ]
    }
   ],
   "source": [
    "# 정렬된 행렬의 인덱스를 반환\n",
    "\n",
    "org_array = np.array([3,1,9,5])\n",
    "sort_indices = np.argsort(org_array)\n",
    "print(type(sort_indices))\n",
    "print('행렬 정렬 시 원본 행렬의 인덱스 : ', sort_indices)\n",
    "\n",
    "\n",
    "# 내림차순\n",
    "sort_indices_desc = np.argsort(org_array)[::-1]\n",
    "print('행렬 내림차순 정렬 시 원본 행렬의 인덱스 : ',sort_indices_desc)\n"
   ]
  },
  {
   "cell_type": "code",
   "execution_count": 29,
   "metadata": {},
   "outputs": [
    {
     "name": "stdout",
     "output_type": "stream",
     "text": [
      "행렬 내적 결과 : \n",
      " [[ 58  64]\n",
      " [139 154]]\n"
     ]
    }
   ],
   "source": [
    "# 행렬 내적 행렬 곱 np.dot()\n",
    "\n",
    "A = np.array([[1,2,3],\n",
    "              [4,5,6]])\n",
    "\n",
    "B = np.array([[7,8],\n",
    "             [9,10],\n",
    "             [11,12]])\n",
    "\n",
    "print('행렬 내적 결과 : \\n', np.dot(A,B))"
   ]
  },
  {
   "cell_type": "code",
   "execution_count": 30,
   "metadata": {},
   "outputs": [
    {
     "name": "stdout",
     "output_type": "stream",
     "text": [
      "A1의 전치 행렬 : \n",
      " [[1 3]\n",
      " [2 4]]\n",
      "A의 전치 행렬 : \n",
      " [[1 4]\n",
      " [2 5]\n",
      " [3 6]]\n",
      "B의 전치 행렬 : \n",
      " [[ 7  9 11]\n",
      " [ 8 10 12]]\n"
     ]
    }
   ],
   "source": [
    "# 전치 행렬\n",
    "\n",
    "A1 = np.array([[1,2],\n",
    "              [3,4]])\n",
    "print('A1의 전치 행렬 : \\n', np.transpose(A1))\n",
    "print('A의 전치 행렬 : \\n', np.transpose(A))\n",
    "print('B의 전치 행렬 : \\n', np.transpose(B))\n"
   ]
  }
 ],
 "metadata": {
  "kernelspec": {
   "display_name": "ai1",
   "language": "python",
   "name": "ai1"
  },
  "language_info": {
   "codemirror_mode": {
    "name": "ipython",
    "version": 3
   },
   "file_extension": ".py",
   "mimetype": "text/x-python",
   "name": "python",
   "nbconvert_exporter": "python",
   "pygments_lexer": "ipython3",
   "version": "3.8.0"
  }
 },
 "nbformat": 4,
 "nbformat_minor": 4
}
