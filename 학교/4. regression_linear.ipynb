{
 "cells": [
  {
   "cell_type": "code",
   "execution_count": 2,
   "metadata": {
    "id": "lA51T3SvTxC8"
   },
   "outputs": [],
   "source": [
    "import numpy as np \n",
    "import matplotlib.pyplot as plt "
   ]
  },
  {
   "cell_type": "markdown",
   "metadata": {
    "id": "KO4XzvqVmXnQ"
   },
   "source": [
    "\n",
    "\n",
    "# 회귀분석\n",
    "\n",
    "회귀 분석은 데이터간의 상관관계 모형을 구해서 데이터를 해석하거나 예측하는 기법을 의미한다. \n",
    "간단한 예로는 들어 다음과 같은 데이터를 통과하는 직선을 찾는 기법이 있다. \n",
    "\n",
    "    a = np.array([1,3,5,7,9])\n",
    "\n",
    "<img src = \"https://raw.githubusercontent.com/decoz/mlclass/master/images/f2_1.png\" align = left>\n"
   ]
  },
  {
   "cell_type": "markdown",
   "metadata": {
    "id": "y0ve5WzlmXnU"
   },
   "source": [
    "물론 점들이 정확히 직선에 위치되어있다면 이는 매우 쉬운 문제일 것이다. 하지만 실제 데이터는 노이즈를 포함하여 복잡한 형태를 띄고 있기 때문에 이러한 데이터의 경향성을 파악하는 것은 결코 쉬운 일이 아니다.  \n",
    "\n",
    "다음과 같은 데이터를 생각해보자 \n",
    "\n",
    "    b = a + np.random.normal(0,1,5)\n",
    "\n",
    "<img src = \"https://github.com/decoz/mlclass/blob/master/images/f2_2.png?raw=true\" align = left>\n"
   ]
  },
  {
   "cell_type": "markdown",
   "metadata": {
    "id": "ufDy7LLQmXnX"
   },
   "source": [
    "위의 데이터에 정규분포 평균0, 편차1의 노이즈를 포함한 데이터를 포함한 경우이다.  위에서 다룬 직선은 분명 이번 데이터의 경향성도 어느정도 잘 다루고 있다. 하지만 이것이 얼마나 잘 표현한다고 볼 수 있는가? \n",
    "\n",
    "위의 경우는 직선을 통해 표현된 모델과 실제 데이터의 오차를 통해 측정한다. \n",
    "특히 이와 같이 데이터간의 상관관계를 연속된 선형관계로 해석하는 기법을 선형회귀분석이라고 한다.  \n"
   ]
  },
  {
   "cell_type": "code",
   "execution_count": 3,
   "metadata": {
    "colab": {
     "base_uri": "https://localhost:8080/",
     "height": 268
    },
    "executionInfo": {
     "elapsed": 875,
     "status": "ok",
     "timestamp": 1619436681587,
     "user": {
      "displayName": "messcure JNDan",
      "photoUrl": "https://lh3.googleusercontent.com/a-/AOh14Ggq2Xj7nwN863n-DdzIR-k5lDtigKwvAvISiB9i=s64",
      "userId": "00517861436348801488"
     },
     "user_tz": -540
    },
    "id": "EuPLL5NXmXnZ",
    "outputId": "e766dd1a-e680-4dd9-d9d9-426ee8061e5a",
    "scrolled": true
   },
   "outputs": [
    {
     "data": {
      "image/png": "[encoded data removed]",
      "text/plain": [
       "<Figure size 432x288 with 1 Axes>"
      ]
     },
     "metadata": {
      "needs_background": "light"
     },
     "output_type": "display_data"
    }
   ],
   "source": [
    "a = np.array([1,3,5,7,9])\n",
    "b = a + np.random.normal(0,1,5)\n",
    "plt.plot(b,'o')\n",
    "plt.plot(a)\n",
    "plt.show()\n"
   ]
  },
  {
   "cell_type": "markdown",
   "metadata": {
    "id": "5_ny85NJmXnp"
   },
   "source": [
    "<br><hr style=\"height:3px\">\n",
    "<br>\n",
    "\n",
    "# 선형 회귀분석의 기초 \n",
    "\n",
    "\n",
    "앞선 예제의 경우는 가장 오차가 적은 직선을 찾은 경우로서 이러한 직선은 x 의 1차항만을 ( x 제곱 이상은 무시  ) \n",
    "포함한 모델을 의미한다. (2차항이 끼면 구부러지기 시작 ) 이러한 경우를 선형 단순 회귀분석이라 칭한다. \n",
    "\n",
    "먼저 회귀분석을 위한 가장 단순한 형태의 데이터를 생성해보자 \n",
    "\n"
   ]
  },
  {
   "cell_type": "code",
   "execution_count": 4,
   "metadata": {
    "colab": {
     "base_uri": "https://localhost:8080/",
     "height": 269
    },
    "executionInfo": {
     "elapsed": 756,
     "status": "ok",
     "timestamp": 1619436722821,
     "user": {
      "displayName": "messcure JNDan",
      "photoUrl": "https://lh3.googleusercontent.com/a-/AOh14Ggq2Xj7nwN863n-DdzIR-k5lDtigKwvAvISiB9i=s64",
      "userId": "00517861436348801488"
     },
     "user_tz": -540
    },
    "id": "YzlOG05TmXns",
    "outputId": "020f2273-6dfb-4309-b1b9-b45949c3d2d0"
   },
   "outputs": [
    {
     "data": {
      "image/png": "[encoded data removed]",
      "text/plain": [
       "<Figure size 432x288 with 1 Axes>"
      ]
     },
     "metadata": {
      "needs_background": "light"
     },
     "output_type": "display_data"
    }
   ],
   "source": [
    "import numpy as np\n",
    "import matplotlib.pyplot as plt\n",
    "\n",
    "x = np.array([1,2,3])\n",
    "y = np.array([2,4,6])\n",
    "plt.ylim(0,10)\n",
    "plt.xlim(0,5)\n",
    "plt.plot(x,y,'o')\n",
    "plt.show()\n"
   ]
  },
  {
   "cell_type": "markdown",
   "metadata": {
    "id": "5WOqvET4mXnx"
   },
   "source": [
    "이는 y = x * 2 의 가장 단순한 형태의 데이터 배치이며이때 오차를 최소화하는 직선 모델은 y = x * 2 이다. 이를 얻기 위해서 여기서는 sklearn 라이브러리의 linear_model 을 사용하도록 하겠다. \n",
    "\n",
    "## sklearn.linear_model 사용법\n"
   ]
  },
  {
   "cell_type": "code",
   "execution_count": 5,
   "metadata": {
    "id": "EQDbGXT3mXnx"
   },
   "outputs": [],
   "source": [
    "from sklearn import linear_model #모델회귀분석\n",
    "regr = linear_model.LinearRegression()"
   ]
  },
  {
   "cell_type": "markdown",
   "metadata": {
    "id": "SHxgozeHmXn1"
   },
   "source": [
    "위의 모델은 regr 은 선형 회귀분석을 수행할 수 있는 객체이며 fit 이라는 메소드를 통해 회귀분석을 수행한다. 그러면 이를 수행해보자 "
   ]
  },
  {
   "cell_type": "code",
   "execution_count": 6,
   "metadata": {
    "colab": {
     "base_uri": "https://localhost:8080/",
     "height": 376
    },
    "executionInfo": {
     "elapsed": 1165,
     "status": "error",
     "timestamp": 1619437914004,
     "user": {
      "displayName": "messcure JNDan",
      "photoUrl": "https://lh3.googleusercontent.com/a-/AOh14Ggq2Xj7nwN863n-DdzIR-k5lDtigKwvAvISiB9i=s64",
      "userId": "00517861436348801488"
     },
     "user_tz": -540
    },
    "id": "K06VdcoomXn2",
    "outputId": "12323bd2-16ff-45d7-f2f6-b52922c80d52"
   },
   "outputs": [
    {
     "ename": "ValueError",
     "evalue": "Expected 2D array, got 1D array instead:\narray=[1 2 3].\nReshape your data either using array.reshape(-1, 1) if your data has a single feature or array.reshape(1, -1) if it contains a single sample.",
     "output_type": "error",
     "traceback": [
      "\u001b[1;31m---------------------------------------------------------------------------\u001b[0m",
      "\u001b[1;31mValueError\u001b[0m                                Traceback (most recent call last)",
      "\u001b[1;32m<ipython-input-6-5e8fbe7f3073>\u001b[0m in \u001b[0;36m<module>\u001b[1;34m\u001b[0m\n\u001b[1;32m----> 1\u001b[1;33m \u001b[0mregr\u001b[0m\u001b[1;33m.\u001b[0m\u001b[0mfit\u001b[0m\u001b[1;33m(\u001b[0m\u001b[0mx\u001b[0m\u001b[1;33m,\u001b[0m\u001b[0my\u001b[0m\u001b[1;33m)\u001b[0m\u001b[1;33m\u001b[0m\u001b[1;33m\u001b[0m\u001b[0m\n\u001b[0m",
      "\u001b[1;32m~\\anaconda3\\lib\\site-packages\\sklearn\\linear_model\\_base.py\u001b[0m in \u001b[0;36mfit\u001b[1;34m(self, X, y, sample_weight)\u001b[0m\n\u001b[0;32m    503\u001b[0m \u001b[1;33m\u001b[0m\u001b[0m\n\u001b[0;32m    504\u001b[0m         \u001b[0mn_jobs_\u001b[0m \u001b[1;33m=\u001b[0m \u001b[0mself\u001b[0m\u001b[1;33m.\u001b[0m\u001b[0mn_jobs\u001b[0m\u001b[1;33m\u001b[0m\u001b[1;33m\u001b[0m\u001b[0m\n\u001b[1;32m--> 505\u001b[1;33m         X, y = self._validate_data(X, y, accept_sparse=['csr', 'csc', 'coo'],\n\u001b[0m\u001b[0;32m    506\u001b[0m                                    y_numeric=True, multi_output=True)\n\u001b[0;32m    507\u001b[0m \u001b[1;33m\u001b[0m\u001b[0m\n",
      "\u001b[1;32m~\\anaconda3\\lib\\site-packages\\sklearn\\base.py\u001b[0m in \u001b[0;36m_validate_data\u001b[1;34m(self, X, y, reset, validate_separately, **check_params)\u001b[0m\n\u001b[0;32m    430\u001b[0m                 \u001b[0my\u001b[0m \u001b[1;33m=\u001b[0m \u001b[0mcheck_array\u001b[0m\u001b[1;33m(\u001b[0m\u001b[0my\u001b[0m\u001b[1;33m,\u001b[0m \u001b[1;33m**\u001b[0m\u001b[0mcheck_y_params\u001b[0m\u001b[1;33m)\u001b[0m\u001b[1;33m\u001b[0m\u001b[1;33m\u001b[0m\u001b[0m\n\u001b[0;32m    431\u001b[0m             \u001b[1;32melse\u001b[0m\u001b[1;33m:\u001b[0m\u001b[1;33m\u001b[0m\u001b[1;33m\u001b[0m\u001b[0m\n\u001b[1;32m--> 432\u001b[1;33m                 \u001b[0mX\u001b[0m\u001b[1;33m,\u001b[0m \u001b[0my\u001b[0m \u001b[1;33m=\u001b[0m \u001b[0mcheck_X_y\u001b[0m\u001b[1;33m(\u001b[0m\u001b[0mX\u001b[0m\u001b[1;33m,\u001b[0m \u001b[0my\u001b[0m\u001b[1;33m,\u001b[0m \u001b[1;33m**\u001b[0m\u001b[0mcheck_params\u001b[0m\u001b[1;33m)\u001b[0m\u001b[1;33m\u001b[0m\u001b[1;33m\u001b[0m\u001b[0m\n\u001b[0m\u001b[0;32m    433\u001b[0m             \u001b[0mout\u001b[0m \u001b[1;33m=\u001b[0m \u001b[0mX\u001b[0m\u001b[1;33m,\u001b[0m \u001b[0my\u001b[0m\u001b[1;33m\u001b[0m\u001b[1;33m\u001b[0m\u001b[0m\n\u001b[0;32m    434\u001b[0m \u001b[1;33m\u001b[0m\u001b[0m\n",
      "\u001b[1;32m~\\anaconda3\\lib\\site-packages\\sklearn\\utils\\validation.py\u001b[0m in \u001b[0;36minner_f\u001b[1;34m(*args, **kwargs)\u001b[0m\n\u001b[0;32m     70\u001b[0m                           FutureWarning)\n\u001b[0;32m     71\u001b[0m         \u001b[0mkwargs\u001b[0m\u001b[1;33m.\u001b[0m\u001b[0mupdate\u001b[0m\u001b[1;33m(\u001b[0m\u001b[1;33m{\u001b[0m\u001b[0mk\u001b[0m\u001b[1;33m:\u001b[0m \u001b[0marg\u001b[0m \u001b[1;32mfor\u001b[0m \u001b[0mk\u001b[0m\u001b[1;33m,\u001b[0m \u001b[0marg\u001b[0m \u001b[1;32min\u001b[0m \u001b[0mzip\u001b[0m\u001b[1;33m(\u001b[0m\u001b[0msig\u001b[0m\u001b[1;33m.\u001b[0m\u001b[0mparameters\u001b[0m\u001b[1;33m,\u001b[0m \u001b[0margs\u001b[0m\u001b[1;33m)\u001b[0m\u001b[1;33m}\u001b[0m\u001b[1;33m)\u001b[0m\u001b[1;33m\u001b[0m\u001b[1;33m\u001b[0m\u001b[0m\n\u001b[1;32m---> 72\u001b[1;33m         \u001b[1;32mreturn\u001b[0m \u001b[0mf\u001b[0m\u001b[1;33m(\u001b[0m\u001b[1;33m**\u001b[0m\u001b[0mkwargs\u001b[0m\u001b[1;33m)\u001b[0m\u001b[1;33m\u001b[0m\u001b[1;33m\u001b[0m\u001b[0m\n\u001b[0m\u001b[0;32m     73\u001b[0m     \u001b[1;32mreturn\u001b[0m \u001b[0minner_f\u001b[0m\u001b[1;33m\u001b[0m\u001b[1;33m\u001b[0m\u001b[0m\n\u001b[0;32m     74\u001b[0m \u001b[1;33m\u001b[0m\u001b[0m\n",
      "\u001b[1;32m~\\anaconda3\\lib\\site-packages\\sklearn\\utils\\validation.py\u001b[0m in \u001b[0;36mcheck_X_y\u001b[1;34m(X, y, accept_sparse, accept_large_sparse, dtype, order, copy, force_all_finite, ensure_2d, allow_nd, multi_output, ensure_min_samples, ensure_min_features, y_numeric, estimator)\u001b[0m\n\u001b[0;32m    793\u001b[0m         \u001b[1;32mraise\u001b[0m \u001b[0mValueError\u001b[0m\u001b[1;33m(\u001b[0m\u001b[1;34m\"y cannot be None\"\u001b[0m\u001b[1;33m)\u001b[0m\u001b[1;33m\u001b[0m\u001b[1;33m\u001b[0m\u001b[0m\n\u001b[0;32m    794\u001b[0m \u001b[1;33m\u001b[0m\u001b[0m\n\u001b[1;32m--> 795\u001b[1;33m     X = check_array(X, accept_sparse=accept_sparse,\n\u001b[0m\u001b[0;32m    796\u001b[0m                     \u001b[0maccept_large_sparse\u001b[0m\u001b[1;33m=\u001b[0m\u001b[0maccept_large_sparse\u001b[0m\u001b[1;33m,\u001b[0m\u001b[1;33m\u001b[0m\u001b[1;33m\u001b[0m\u001b[0m\n\u001b[0;32m    797\u001b[0m                     \u001b[0mdtype\u001b[0m\u001b[1;33m=\u001b[0m\u001b[0mdtype\u001b[0m\u001b[1;33m,\u001b[0m \u001b[0morder\u001b[0m\u001b[1;33m=\u001b[0m\u001b[0morder\u001b[0m\u001b[1;33m,\u001b[0m \u001b[0mcopy\u001b[0m\u001b[1;33m=\u001b[0m\u001b[0mcopy\u001b[0m\u001b[1;33m,\u001b[0m\u001b[1;33m\u001b[0m\u001b[1;33m\u001b[0m\u001b[0m\n",
      "\u001b[1;32m~\\anaconda3\\lib\\site-packages\\sklearn\\utils\\validation.py\u001b[0m in \u001b[0;36minner_f\u001b[1;34m(*args, **kwargs)\u001b[0m\n\u001b[0;32m     70\u001b[0m                           FutureWarning)\n\u001b[0;32m     71\u001b[0m         \u001b[0mkwargs\u001b[0m\u001b[1;33m.\u001b[0m\u001b[0mupdate\u001b[0m\u001b[1;33m(\u001b[0m\u001b[1;33m{\u001b[0m\u001b[0mk\u001b[0m\u001b[1;33m:\u001b[0m \u001b[0marg\u001b[0m \u001b[1;32mfor\u001b[0m \u001b[0mk\u001b[0m\u001b[1;33m,\u001b[0m \u001b[0marg\u001b[0m \u001b[1;32min\u001b[0m \u001b[0mzip\u001b[0m\u001b[1;33m(\u001b[0m\u001b[0msig\u001b[0m\u001b[1;33m.\u001b[0m\u001b[0mparameters\u001b[0m\u001b[1;33m,\u001b[0m \u001b[0margs\u001b[0m\u001b[1;33m)\u001b[0m\u001b[1;33m}\u001b[0m\u001b[1;33m)\u001b[0m\u001b[1;33m\u001b[0m\u001b[1;33m\u001b[0m\u001b[0m\n\u001b[1;32m---> 72\u001b[1;33m         \u001b[1;32mreturn\u001b[0m \u001b[0mf\u001b[0m\u001b[1;33m(\u001b[0m\u001b[1;33m**\u001b[0m\u001b[0mkwargs\u001b[0m\u001b[1;33m)\u001b[0m\u001b[1;33m\u001b[0m\u001b[1;33m\u001b[0m\u001b[0m\n\u001b[0m\u001b[0;32m     73\u001b[0m     \u001b[1;32mreturn\u001b[0m \u001b[0minner_f\u001b[0m\u001b[1;33m\u001b[0m\u001b[1;33m\u001b[0m\u001b[0m\n\u001b[0;32m     74\u001b[0m \u001b[1;33m\u001b[0m\u001b[0m\n",
      "\u001b[1;32m~\\anaconda3\\lib\\site-packages\\sklearn\\utils\\validation.py\u001b[0m in \u001b[0;36mcheck_array\u001b[1;34m(array, accept_sparse, accept_large_sparse, dtype, order, copy, force_all_finite, ensure_2d, allow_nd, ensure_min_samples, ensure_min_features, estimator)\u001b[0m\n\u001b[0;32m    617\u001b[0m             \u001b[1;31m# If input is 1D raise error\u001b[0m\u001b[1;33m\u001b[0m\u001b[1;33m\u001b[0m\u001b[1;33m\u001b[0m\u001b[0m\n\u001b[0;32m    618\u001b[0m             \u001b[1;32mif\u001b[0m \u001b[0marray\u001b[0m\u001b[1;33m.\u001b[0m\u001b[0mndim\u001b[0m \u001b[1;33m==\u001b[0m \u001b[1;36m1\u001b[0m\u001b[1;33m:\u001b[0m\u001b[1;33m\u001b[0m\u001b[1;33m\u001b[0m\u001b[0m\n\u001b[1;32m--> 619\u001b[1;33m                 raise ValueError(\n\u001b[0m\u001b[0;32m    620\u001b[0m                     \u001b[1;34m\"Expected 2D array, got 1D array instead:\\narray={}.\\n\"\u001b[0m\u001b[1;33m\u001b[0m\u001b[1;33m\u001b[0m\u001b[0m\n\u001b[0;32m    621\u001b[0m                     \u001b[1;34m\"Reshape your data either using array.reshape(-1, 1) if \"\u001b[0m\u001b[1;33m\u001b[0m\u001b[1;33m\u001b[0m\u001b[0m\n",
      "\u001b[1;31mValueError\u001b[0m: Expected 2D array, got 1D array instead:\narray=[1 2 3].\nReshape your data either using array.reshape(-1, 1) if your data has a single feature or array.reshape(1, -1) if it contains a single sample."
     ]
    }
   ],
   "source": [
    "regr.fit(x,y)"
   ]
  },
  {
   "cell_type": "markdown",
   "metadata": {
    "id": "Fa8ChubJmXn6"
   },
   "source": [
    "아마 기나긴 에러를 보고 당황했을 것이다.  \n",
    "회귀분석에서 x 는 하나이상의 변수를 가정한다. 변수가 하나인 [1,2,3] 이라면 이 형태로도 괜찮겠지만 [3,4,5] 가 포함될 경우 [[1,2], [2,4], [3,5]] 이런 식으로 입력되는 경우를 가정해서 설계되어있다. \n",
    "\n",
    "그러므로 [1,2.3] 이 아니라 \n",
    "\n",
    "    [[1],\n",
    "     [2],\n",
    "     [3]] \n",
    " \n",
    "의 형태가 되어야 하며 이는 (1,3) 의 배열을 (3,1) 로 바꾸어주어야만 함을 의미한다. 이 경우 reshape 를 사용하면 쉽게 변환이 가능하다. \n",
    "\n"
   ]
  },
  {
   "cell_type": "code",
   "execution_count": null,
   "metadata": {
    "colab": {
     "base_uri": "https://localhost:8080/"
    },
    "executionInfo": {
     "elapsed": 701,
     "status": "ok",
     "timestamp": 1619437033861,
     "user": {
      "displayName": "messcure JNDan",
      "photoUrl": "https://lh3.googleusercontent.com/a-/AOh14Ggq2Xj7nwN863n-DdzIR-k5lDtigKwvAvISiB9i=s64",
      "userId": "00517861436348801488"
     },
     "user_tz": -540
    },
    "id": "NBnNv4XhmXn7",
    "outputId": "bda012ee-523c-47ef-8de4-78f526617be8"
   },
   "outputs": [],
   "source": [
    "regr.fit(x.reshape(3,1),y) # x는 원래 [1,2,3](3,)->[[3],[2],[1]](3,1)"
   ]
  },
  {
   "cell_type": "markdown",
   "metadata": {
    "id": "HQEtq7g7mXn-"
   },
   "source": [
    "이제 regr.coef_ 값을 통해 상관 계수 2를 추출할 수 있다.\n",
    "\n",
    "## coef_ : 상관계수\n",
    "기울기를의미"
   ]
  },
  {
   "cell_type": "code",
   "execution_count": null,
   "metadata": {
    "colab": {
     "base_uri": "https://localhost:8080/"
    },
    "executionInfo": {
     "elapsed": 624,
     "status": "ok",
     "timestamp": 1619437239582,
     "user": {
      "displayName": "messcure JNDan",
      "photoUrl": "https://lh3.googleusercontent.com/a-/AOh14Ggq2Xj7nwN863n-DdzIR-k5lDtigKwvAvISiB9i=s64",
      "userId": "00517861436348801488"
     },
     "user_tz": -540
    },
    "id": "EIIQLzfxmXn_",
    "outputId": "e2687017-3277-4a3e-fc17-bc301e90a6ef"
   },
   "outputs": [],
   "source": [
    "print(regr.coef_)"
   ]
  },
  {
   "cell_type": "markdown",
   "metadata": {
    "id": "5w4wz5nLmXoD"
   },
   "source": [
    "이를 그래프로 표현하면 다음과 같다. "
   ]
  },
  {
   "cell_type": "code",
   "execution_count": 7,
   "metadata": {
    "colab": {
     "base_uri": "https://localhost:8080/",
     "height": 287
    },
    "executionInfo": {
     "elapsed": 660,
     "status": "ok",
     "timestamp": 1619437251212,
     "user": {
      "displayName": "messcure JNDan",
      "photoUrl": "https://lh3.googleusercontent.com/a-/AOh14Ggq2Xj7nwN863n-DdzIR-k5lDtigKwvAvISiB9i=s64",
      "userId": "00517861436348801488"
     },
     "user_tz": -540
    },
    "id": "hRCBfxCzmXoD",
    "outputId": "98e0dd63-db12-4e91-a438-30945f41fcd0"
   },
   "outputs": [
    {
     "ename": "AttributeError",
     "evalue": "'LinearRegression' object has no attribute 'coef_'",
     "output_type": "error",
     "traceback": [
      "\u001b[1;31m---------------------------------------------------------------------------\u001b[0m",
      "\u001b[1;31mAttributeError\u001b[0m                            Traceback (most recent call last)",
      "\u001b[1;32m<ipython-input-7-5763dddd346e>\u001b[0m in \u001b[0;36m<module>\u001b[1;34m\u001b[0m\n\u001b[0;32m      2\u001b[0m \u001b[0mplt\u001b[0m\u001b[1;33m.\u001b[0m\u001b[0mxlim\u001b[0m\u001b[1;33m(\u001b[0m\u001b[1;36m0\u001b[0m\u001b[1;33m,\u001b[0m\u001b[1;36m5\u001b[0m\u001b[1;33m)\u001b[0m\u001b[1;33m\u001b[0m\u001b[1;33m\u001b[0m\u001b[0m\n\u001b[0;32m      3\u001b[0m \u001b[0mplt\u001b[0m\u001b[1;33m.\u001b[0m\u001b[0mplot\u001b[0m\u001b[1;33m(\u001b[0m\u001b[0mx\u001b[0m\u001b[1;33m,\u001b[0m\u001b[0my\u001b[0m\u001b[1;33m,\u001b[0m \u001b[1;34m'o'\u001b[0m\u001b[1;33m)\u001b[0m \u001b[1;31m# 점\u001b[0m\u001b[1;33m\u001b[0m\u001b[1;33m\u001b[0m\u001b[0m\n\u001b[1;32m----> 4\u001b[1;33m \u001b[0mplt\u001b[0m\u001b[1;33m.\u001b[0m\u001b[0mplot\u001b[0m\u001b[1;33m(\u001b[0m\u001b[0mx\u001b[0m\u001b[1;33m,\u001b[0m \u001b[0mx\u001b[0m \u001b[1;33m*\u001b[0m \u001b[0mregr\u001b[0m\u001b[1;33m.\u001b[0m\u001b[0mcoef_\u001b[0m\u001b[1;33m)\u001b[0m \u001b[1;31m# 선, x,y라고 생각하기 위에서 상관계수가 2이므로\u001b[0m\u001b[1;33m\u001b[0m\u001b[1;33m\u001b[0m\u001b[0m\n\u001b[0m",
      "\u001b[1;31mAttributeError\u001b[0m: 'LinearRegression' object has no attribute 'coef_'"
     ]
    },
    {
     "data": {
      "image/png": "[encoded data removed]",
      "text/plain": [
       "<Figure size 432x288 with 1 Axes>"
      ]
     },
     "metadata": {
      "needs_background": "light"
     },
     "output_type": "display_data"
    }
   ],
   "source": [
    "plt.ylim(0,10) #한계선 \n",
    "plt.xlim(0,5)\n",
    "plt.plot(x,y, 'o') # 점\n",
    "plt.plot(x, x * regr.coef_) # 선, x,y라고 생각하기 위에서 상관계수가 2이므로 "
   ]
  },
  {
   "cell_type": "markdown",
   "metadata": {
    "id": "yHnt-73SYini"
   },
   "source": [
    "### <font color = 'red'> 연습 : 회귀분석 직접 해보기 \n",
    "다음의 x, y 에 대해 회귀분석을 한 후에 그래프로 출력해보자. \n",
    "</font>\n",
    "\n",
    "```\n",
    "x = np.array([1,2,3,4])\n",
    "y = np.array([1.5, 3, 4.5, 6])\n",
    "```\n",
    "\n",
    "![image.png](data:image/png;base64,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)\n",
    "    "
   ]
  },
  {
   "cell_type": "code",
   "execution_count": 8,
   "metadata": {
    "colab": {
     "base_uri": "https://localhost:8080/",
     "height": 287
    },
    "executionInfo": {
     "elapsed": 609,
     "status": "ok",
     "timestamp": 1619443166002,
     "user": {
      "displayName": "messcure JNDan",
      "photoUrl": "https://lh3.googleusercontent.com/a-/AOh14Ggq2Xj7nwN863n-DdzIR-k5lDtigKwvAvISiB9i=s64",
      "userId": "00517861436348801488"
     },
     "user_tz": -540
    },
    "id": "DHF-dCYbZECh",
    "outputId": "679151f6-9daa-4017-b44c-37aef31ae8af"
   },
   "outputs": [
    {
     "name": "stdout",
     "output_type": "stream",
     "text": [
      "[1.5]\n"
     ]
    },
    {
     "data": {
      "image/png": "[encoded data removed]",
      "text/plain": [
       "<Figure size 432x288 with 1 Axes>"
      ]
     },
     "metadata": {
      "needs_background": "light"
     },
     "output_type": "display_data"
    }
   ],
   "source": [
    "x = np.array([1,2,3,4])\n",
    "y = np.array([1.5, 3, 4.5, 6])\n",
    "# 연습문제의 코드를 작성하세요\n",
    "plt.ylim(0,10)\n",
    "plt.xlim(0,5)\n",
    "regr.fit(x.reshape(4,1), y) #한줄선으로 합쳐지지않음 ㄴ 형태로 reshape한다고생각\n",
    "plt.plot(x,y, 'o') # 점, 실제 데이터\n",
    "plt.plot(x, x * regr.coef_) # 선형 단순? 회귀분석, 데이터간 상관관계를 연속된 선형관계로 해석\n",
    "'''\n",
    "[[1, 1.5],\n",
    " [2, 3],\n",
    " [3, 4.5],\n",
    " [4, 6]]\n",
    " '''\n",
    "print(regr.coef_)"
   ]
  },
  {
   "cell_type": "code",
   "execution_count": null,
   "metadata": {
    "id": "8PnVmck9u-Ue"
   },
   "outputs": [],
   "source": []
  },
  {
   "cell_type": "markdown",
   "metadata": {
    "id": "GiOw3qs-mXoG"
   },
   "source": [
    "## intercept_ : 상수항\n",
    "\n",
    "이번엔 다음과 같은 데이터를 보자 "
   ]
  },
  {
   "cell_type": "code",
   "execution_count": null,
   "metadata": {
    "colab": {
     "base_uri": "https://localhost:8080/",
     "height": 269
    },
    "executionInfo": {
     "elapsed": 626,
     "status": "ok",
     "timestamp": 1619443272572,
     "user": {
      "displayName": "messcure JNDan",
      "photoUrl": "https://lh3.googleusercontent.com/a-/AOh14Ggq2Xj7nwN863n-DdzIR-k5lDtigKwvAvISiB9i=s64",
      "userId": "00517861436348801488"
     },
     "user_tz": -540
    },
    "id": "_1-ClNg1mXoH",
    "outputId": "4d3b1491-2e11-44c1-8246-3b18c4602d14"
   },
   "outputs": [
    {
     "data": {
      "image/png": "[encoded data removed]",
      "text/plain": [
       "<Figure size 432x288 with 1 Axes>"
      ]
     },
     "metadata": {
      "needs_background": "light",
      "tags": []
     },
     "output_type": "display_data"
    }
   ],
   "source": [
    "x = np.array([1,2,3])\n",
    "y = np.array([3,5,7])\n",
    "plt.ylim(0,10)\n",
    "plt.xlim(0,5)\n",
    "plt.plot(x,y,'o')\n",
    "\n",
    "plt.show()"
   ]
  },
  {
   "cell_type": "markdown",
   "metadata": {
    "id": "VtSxa8tSVYnR"
   },
   "source": [
    "위의 데이터를 앞의 예제와 같이 처리하면 다음과 같은 결과가 나온다. "
   ]
  },
  {
   "cell_type": "code",
   "execution_count": null,
   "metadata": {
    "colab": {
     "base_uri": "https://localhost:8080/",
     "height": 287
    },
    "executionInfo": {
     "elapsed": 1127,
     "status": "ok",
     "timestamp": 1619443278495,
     "user": {
      "displayName": "messcure JNDan",
      "photoUrl": "https://lh3.googleusercontent.com/a-/AOh14Ggq2Xj7nwN863n-DdzIR-k5lDtigKwvAvISiB9i=s64",
      "userId": "00517861436348801488"
     },
     "user_tz": -540
    },
    "id": "EKwNk0ooVf5m",
    "outputId": "7061142a-9b6e-43fb-b1db-93a646fdc2de"
   },
   "outputs": [
    {
     "data": {
      "text/plain": [
       "[<matplotlib.lines.Line2D at 0x7efef8e57750>]"
      ]
     },
     "execution_count": 13,
     "metadata": {
      "tags": []
     },
     "output_type": "execute_result"
    },
    {
     "data": {
      "image/png": "[encoded data removed]",
      "text/plain": [
       "<Figure size 432x288 with 1 Axes>"
      ]
     },
     "metadata": {
      "needs_background": "light",
      "tags": []
     },
     "output_type": "display_data"
    }
   ],
   "source": [
    "x = np.array([1,2,3])\n",
    "y = np.array([3,5,7])\n",
    "regr.fit(x.reshape(3,1), y)\n",
    "plt.ylim(0,10)\n",
    "plt.xlim(0,5)\n",
    "plt.plot(x, y, 'o')\n",
    "plt.plot(x, x * regr.coef_)"
   ]
  },
  {
   "cell_type": "markdown",
   "metadata": {
    "id": "UuZZWchKmXoJ"
   },
   "source": [
    "앞의 예제와 같이 기울기 .. 즉 상관계수는 2 지만 3,5,7 은 여기에 다시 1을 더해준 값이다. 요컨데 두 값의 관계는 다음과 같다.\n",
    "\n",
    "    y = x * 2 + 1 \n",
    " \n",
    "2 라는 x 의 1차항 계수에 추가로 1이라는 상수항을 지닌 식이다. 이 상수항의 값은 \n",
    "```\n",
    "  regr.intercept_\n",
    "```\n",
    "으로 저장된다. "
   ]
  },
  {
   "cell_type": "code",
   "execution_count": null,
   "metadata": {
    "colab": {
     "base_uri": "https://localhost:8080/"
    },
    "executionInfo": {
     "elapsed": 622,
     "status": "ok",
     "timestamp": 1619443316437,
     "user": {
      "displayName": "messcure JNDan",
      "photoUrl": "https://lh3.googleusercontent.com/a-/AOh14Ggq2Xj7nwN863n-DdzIR-k5lDtigKwvAvISiB9i=s64",
      "userId": "00517861436348801488"
     },
     "user_tz": -540
    },
    "id": "W3YYA9WkXAxk",
    "outputId": "2423c5f7-8117-4944-eec6-f951ac5ca5b1"
   },
   "outputs": [
    {
     "name": "stdout",
     "output_type": "stream",
     "text": [
      "1.0000000000000009\n"
     ]
    }
   ],
   "source": [
    "print(regr.intercept_)"
   ]
  },
  {
   "cell_type": "markdown",
   "metadata": {
    "id": "YRuNSbK4W-7u"
   },
   "source": [
    "### <font color = 'red'> 연습 : 상수항을 포함 그래프 그리기\n",
    "    \n",
    "위의 x,y 에 대해 regr.coef_ 와 regr.interceipt_ 까지 포함해 다음과 같은 직선을 그려보자.\n",
    "</font>\n",
    "\n",
    "\n",
    "\n",
    "![image.png](data:image/png;base64,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)\n"
   ]
  },
  {
   "cell_type": "code",
   "execution_count": null,
   "metadata": {
    "colab": {
     "base_uri": "https://localhost:8080/",
     "height": 287
    },
    "executionInfo": {
     "elapsed": 940,
     "status": "ok",
     "timestamp": 1619443326229,
     "user": {
      "displayName": "messcure JNDan",
      "photoUrl": "https://lh3.googleusercontent.com/a-/AOh14Ggq2Xj7nwN863n-DdzIR-k5lDtigKwvAvISiB9i=s64",
      "userId": "00517861436348801488"
     },
     "user_tz": -540
    },
    "id": "ZGpansiemXoK",
    "outputId": "ca93d2e0-a9ac-445e-88aa-2cf38b98483e"
   },
   "outputs": [
    {
     "data": {
      "text/plain": [
       "[<matplotlib.lines.Line2D at 0x7efef8dc35d0>]"
      ]
     },
     "execution_count": 15,
     "metadata": {
      "tags": []
     },
     "output_type": "execute_result"
    },
    {
     "data": {
      "image/png": "[encoded data removed]",
      "text/plain": [
       "<Figure size 432x288 with 1 Axes>"
      ]
     },
     "metadata": {
      "needs_background": "light",
      "tags": []
     },
     "output_type": "display_data"
    }
   ],
   "source": [
    "x = np.array([1,2,3])\n",
    "y = np.array([3,5,7])\n",
    "regr.fit(x.reshape(3,1), y)\n",
    "\n",
    "# 연습문제의 코드를 작성하세요\n",
    "plt.ylim(0,10)\n",
    "plt.xlim(0,5)\n",
    "plt.plot(x, y, 'o')\n",
    "plt.plot(x, x * regr.coef_ + regr.intercept_)"
   ]
  },
  {
   "cell_type": "markdown",
   "metadata": {
    "id": "ocOgIYdRmXoN"
   },
   "source": [
    "\n",
    "## score : 결정계수\n",
    "\n",
    "이번엔 노이즈를 포함한 3 * x + 2 데이터 50개를 생성해서 선형 단순회귀분석을 수행해보자 \n",
    "노이즈는 편차 5의 정규분포로 생성한다. "
   ]
  },
  {
   "cell_type": "code",
   "execution_count": null,
   "metadata": {
    "colab": {
     "base_uri": "https://localhost:8080/",
     "height": 283
    },
    "executionInfo": {
     "elapsed": 627,
     "status": "ok",
     "timestamp": 1619443665784,
     "user": {
      "displayName": "messcure JNDan",
      "photoUrl": "https://lh3.googleusercontent.com/a-/AOh14Ggq2Xj7nwN863n-DdzIR-k5lDtigKwvAvISiB9i=s64",
      "userId": "00517861436348801488"
     },
     "user_tz": -540
    },
    "id": "ASFw-qNsmXoO",
    "outputId": "f8f07765-eb7e-478d-a999-5e5ff1b46b7c"
   },
   "outputs": [
    {
     "data": {
      "image/png": "[encoded data removed]",
      "text/plain": [
       "<Figure size 432x288 with 1 Axes>"
      ]
     },
     "metadata": {
      "needs_background": "light",
      "tags": []
     },
     "output_type": "display_data"
    },
    {
     "name": "stdout",
     "output_type": "stream",
     "text": [
      "0.9877864803927363\n"
     ]
    }
   ],
   "source": [
    "n = 50\n",
    "x = np.arange(0,n,1) #1차원을 말하는듯 \n",
    "y = x * 3 + 2 + np.random.normal(0,5,n)\n",
    "plt.plot(x,y, 'o')\n",
    "regr.fit(x.reshape(n,1),y)\n",
    "plt.plot(x, x * regr.coef_ + regr.intercept_)\n",
    "plt.show()\n",
    "print(regr.score(x.reshape(n,1),y))"
   ]
  },
  {
   "cell_type": "markdown",
   "metadata": {
    "id": "S7U3dRnNmXoQ"
   },
   "source": [
    "\n",
    "\n",
    "위에서 회귀분석으로 생성된 모델은 최적화된 직선을 만든다. 그러나 과연 이 직선이 이 데이터를 표현하는데 충분한 모델일까?  위처럼 눈으로 분명히 보인다면 문제가 없지만 3,4차원의 복잡한 데이터는 이렇게 시각화 시키기가 어렵다. 그래서  생성된 회귀모델이 얼마나 데이터를 잘 표현하는지지를 알기 위해서는 직선과 실제 데이터의 오차값의 비율을 측정함으로서 이를 확인할 수 있다. 이러한 수치를 결정계수라고 하며 다음과 같이 계산한다. \n",
    "\n",
    "```\n",
    "    - ( Y 오차 / Y 편차 ) ^ 2 \n",
    "```\n",
    "\n",
    "Y 오차는 실제 데이터와 모델의 데이터와의 차이값이고 편차는 Y 평균과 Y값의 차이값을 의미한다.. 편차값으로 나누는 이유는 데이터의 규모를 반영하기 위함이다. 다음과 같은 두 경우를 생각해보자 \n",
    "\n",
    "- y값이 평균 1억단위의 편차가 있는데 평균 1000 정도의 오차로 예측\n",
    "- y값이 평균 1000 단위의 편차가 있는데 평균 500 정도의 오차로 예측     \n",
    "\n",
    "\n",
    "이 두 경우 전자의 경우가 평균오차가 크지만 데이터의 크기와 평균 편차를 생각하면 오히려 후자쪽의 모델보다 이쪽이 더 정확한 모델임을 알 수 있다. 그러므로 편차값을 나눠줌으로서 데이터유 규모를 반영해서 모델의 정확도를 평가하기 위함이다. \n",
    "\n",
    "물론 수동으로 이를 작성할 수도 있겠지만 regr 은 자체적으로 이런 메소드를 지원한다.\n",
    "\n",
    "```\n",
    "score( x, y ) \n",
    "```\n",
    "\n",
    "x 는 x 데이터와 y 데이터이며 반드시 회귀분석을 수행하던 데이터와 일치하지 안아도 된다. 즉 테스트용 데이터를 따로 측정할 수도 있다. (왜 그것이 필요한지는 나중에 기회가 되면 언급하겠다) \n",
    "\n",
    "위의 모델의 적합도 즉, 결정계수를 알기 위해서는 다음과 같이 출력하면 된다. "
   ]
  },
  {
   "cell_type": "code",
   "execution_count": null,
   "metadata": {
    "id": "VbyyZiFzmXoQ"
   },
   "outputs": [],
   "source": [
    "print( regr.score(x.reshape(n,1), y ))"
   ]
  },
  {
   "cell_type": "markdown",
   "metadata": {
    "id": "JhjB13M9mXoS"
   },
   "source": [
    "### <font color = 'red'> 연습 : 결정계수 구하기 \n",
    "다음 데이터를 회귀분석하고 결정계수를 구해보세요\n",
    "</font>\n",
    "    "
   ]
  },
  {
   "cell_type": "code",
   "execution_count": null,
   "metadata": {
    "colab": {
     "base_uri": "https://localhost:8080/",
     "height": 287
    },
    "executionInfo": {
     "elapsed": 616,
     "status": "ok",
     "timestamp": 1619444106030,
     "user": {
      "displayName": "messcure JNDan",
      "photoUrl": "https://lh3.googleusercontent.com/a-/AOh14Ggq2Xj7nwN863n-DdzIR-k5lDtigKwvAvISiB9i=s64",
      "userId": "00517861436348801488"
     },
     "user_tz": -540
    },
    "id": "8wrwSV87mXoT",
    "outputId": "79c7f282-e94b-4f12-a222-8143228e760d"
   },
   "outputs": [
    {
     "name": "stdout",
     "output_type": "stream",
     "text": [
      "0.9489931659336039\n"
     ]
    },
    {
     "data": {
      "image/png": "[encoded data removed]",
      "text/plain": [
       "<Figure size 432x288 with 1 Axes>"
      ]
     },
     "metadata": {
      "needs_background": "light",
      "tags": []
     },
     "output_type": "display_data"
    }
   ],
   "source": [
    "x = np.array([0. , 0.1, 0.2, 0.3, 0.4, 0.5, 0.6, 0.7, 0.8, 0.9])\n",
    "y = np.array([0.71, 0.79, 1.28, 1.28, 1.24, 1.41, 1.73, 1.88, 2.15, 2.42])\n",
    "\n",
    "# 연습문제의 코드를 작성하세요\n",
    "plt.plot(x, y, 'o')\n",
    "regr.fit(x.reshape(-1, 1), y)\n",
    "#먼저 학습한뒤 plot\n",
    "plt.plot(x, x*regr.coef_+regr.intercept_)\n",
    "\n",
    "\n",
    "\n",
    "\n",
    "print(regr.score(x.reshape(-1,1),y))"
   ]
  },
  {
   "cell_type": "markdown",
   "metadata": {
    "id": "cXgt3FRt6lxW"
   },
   "source": [
    "<br>\n",
    "\n",
    "<hr>\n",
    "\n",
    "<br>\n",
    "\n",
    "# 다중 회귀분석\n",
    "\n",
    "위의 회귀 분석은 x -> y 의 직선의 선형관계에 대한 회귀 분석이다. 하지만 만일 변수가 2차원 데이터라면 어떨까?  예를 들어 다음의 데이터를 보자. \n",
    "```\n",
    "x1 = [1,2,3,4]\n",
    "x2 = [2,2,4,1]\n",
    "y = [ 4, 6, 10, 9 ] \n",
    "```\n",
    "\n",
    "이 데이터는 \n",
    "\n",
    "```\n",
    "y = 2 * x1 + x2 \n",
    "```\n",
    "\n",
    "이 관계를 이루고 있으며 두개의 상관계수 2, 1 로 이뤄진 관계이다. \n",
    "\n",
    "변수가 하나 늘어난 것만으로도 이를 한눈에 풀기는 상당히 어려워지며 여기에 상수까지 추가될 경우 직관적으로 관계를 알아채기는 쉽지 안다. \n",
    "\n",
    "하지만 결국 위의 문제는 데이터의 차원이 증가했을 뿐 각각의 변수값이 각각의 계수와 1차원적으로 결합된 형태이며 이는 기존의 회귀분석으로 충분히 해결이 가능하다. \n",
    "\n",
    "\n"
   ]
  },
  {
   "cell_type": "markdown",
   "metadata": {
    "id": "hi9SSQL69scm"
   },
   "source": [
    "## 다중 변수 입력값 생성\n",
    "\n",
    "회귀분석 라이브러리는 기본적으로 다중회귀분석을 지원하도록 설계되어 있으며 이 때문에 변수 값이 하나라도 항상 이를 배열속에 넣어서 입력하도록 요구한다. 변수가 하나인 회귀분석에서는 이 때문에\n",
    "```\n",
    "x1 = [1,2,3] \n",
    "\n",
    "x: \n",
    "[[1]\n",
    " [2]\n",
    " [3]]\n",
    "```\n",
    "\n",
    "형태로 reshape 하여 사용했다.  값이 하나 이상인 경우는 다음과 같이 구성한다. \n",
    "\n",
    "```\n",
    "x1 = [1,2,3,4]\n",
    "x2 = [2,2,4,1]\n",
    "\n",
    "x : \n",
    "[[1 2]\n",
    " [2 2]\n",
    " [3 4]\n",
    " [4 1]]\n",
    "``` \n",
    "\n",
    "이는 conatenate 나 c_ 를 사용하면 간단하게 해결이 된다. 먼저 데이터 x1 과 x2 를 하나의 배열로 묶어주도록 한다. \n",
    "\n"
   ]
  },
  {
   "cell_type": "code",
   "execution_count": null,
   "metadata": {
    "colab": {
     "base_uri": "https://localhost:8080/"
    },
    "executionInfo": {
     "elapsed": 659,
     "status": "ok",
     "timestamp": 1619444763645,
     "user": {
      "displayName": "messcure JNDan",
      "photoUrl": "https://lh3.googleusercontent.com/a-/AOh14Ggq2Xj7nwN863n-DdzIR-k5lDtigKwvAvISiB9i=s64",
      "userId": "00517861436348801488"
     },
     "user_tz": -540
    },
    "id": "1hm5U86B9kEx",
    "outputId": "93d473ce-502a-495f-cffc-3dc4a004570b"
   },
   "outputs": [
    {
     "name": "stdout",
     "output_type": "stream",
     "text": [
      "[[1 2]\n",
      " [2 2]\n",
      " [3 4]\n",
      " [4 1]]\n"
     ]
    }
   ],
   "source": [
    "x1 = np.array([1,2,3,4])\n",
    "x2 = np.array([2,2,4,1])\n",
    "x = np.c_[x1, x2]\n",
    "print(x)"
   ]
  },
  {
   "cell_type": "markdown",
   "metadata": {
    "id": "zh5UHMJY-lUW"
   },
   "source": [
    "이제 y 값을 추가해서 회귀분석을 실행해보도록 하겠다. 이미 x 의 값은 2차원화 되어 있으므로 따로 reshape를 할 필요가 없다. "
   ]
  },
  {
   "cell_type": "code",
   "execution_count": null,
   "metadata": {
    "colab": {
     "base_uri": "https://localhost:8080/"
    },
    "executionInfo": {
     "elapsed": 606,
     "status": "ok",
     "timestamp": 1619444780870,
     "user": {
      "displayName": "messcure JNDan",
      "photoUrl": "https://lh3.googleusercontent.com/a-/AOh14Ggq2Xj7nwN863n-DdzIR-k5lDtigKwvAvISiB9i=s64",
      "userId": "00517861436348801488"
     },
     "user_tz": -540
    },
    "id": "FcEx1ZVb-uuZ",
    "outputId": "4160ba53-1f13-4f8d-c141-cabbc82ca193"
   },
   "outputs": [
    {
     "data": {
      "text/plain": [
       "LinearRegression(copy_X=True, fit_intercept=True, n_jobs=None, normalize=False)"
      ]
     },
     "execution_count": 22,
     "metadata": {
      "tags": []
     },
     "output_type": "execute_result"
    }
   ],
   "source": [
    "y = np.array( [ 4, 6, 10, 9 ] )\n",
    "regr.fit(x,y)\n",
    "\n"
   ]
  },
  {
   "cell_type": "markdown",
   "metadata": {
    "id": "DITJQjjZ-63r"
   },
   "source": [
    "아무 에러 회귀분석이 수행된 걸 볼 수 있다. 이를 찍어보면 계수값 (coef_) 은 해당 입력에 대한 각각의 계수 2와 1의 를 배열로 갖고 있다. "
   ]
  },
  {
   "cell_type": "code",
   "execution_count": null,
   "metadata": {
    "colab": {
     "base_uri": "https://localhost:8080/"
    },
    "executionInfo": {
     "elapsed": 643,
     "status": "ok",
     "timestamp": 1619444791834,
     "user": {
      "displayName": "messcure JNDan",
      "photoUrl": "https://lh3.googleusercontent.com/a-/AOh14Ggq2Xj7nwN863n-DdzIR-k5lDtigKwvAvISiB9i=s64",
      "userId": "00517861436348801488"
     },
     "user_tz": -540
    },
    "id": "LFuhuuce_Kqj",
    "outputId": "124319a6-a93e-46d2-8fcd-fc84825cb2ba"
   },
   "outputs": [
    {
     "name": "stdout",
     "output_type": "stream",
     "text": [
      "coef: [2. 1.]\n"
     ]
    }
   ],
   "source": [
    "print(\"coef:\", regr.coef_ )\n",
    "'''\n",
    "상관계수가 2,1이므로 \n",
    "[[1 2] -> 1*2 + 2*1 = 4\n",
    " [2 2] -> 2*2 + 2*1 = 6\n",
    " [3 4] -> 3*2 + 4*1 = 10\n",
    " [4 1]] -> 4*2 + 1*1 = 9\n",
    "'''"
   ]
  },
  {
   "cell_type": "markdown",
   "metadata": {
    "id": "iNiepXaxAkFJ"
   },
   "source": [
    "## 회귀 분석 결과를 이용해 y값 유추\n",
    "\n",
    "coef_ 값은 \n",
    "문제는 그래프로 쉽게 표현되던 x->y 의 관계에 비해 x1,x2 -> y 의 관계는 이를 시각화 시키기가 쉽지 안다.  하지만 x 입력에 coef 를 곱한 후에 더해줌 으로서 유추된 상관계수를 사용한 결과값과 실제 y값을 비교해 볼 수 있다. \n",
    "\n",
    "이를 위해 먼저 x 와 coef 를 곱해준다. "
   ]
  },
  {
   "cell_type": "code",
   "execution_count": null,
   "metadata": {
    "colab": {
     "base_uri": "https://localhost:8080/"
    },
    "executionInfo": {
     "elapsed": 1501,
     "status": "ok",
     "timestamp": 1619444958145,
     "user": {
      "displayName": "messcure JNDan",
      "photoUrl": "https://lh3.googleusercontent.com/a-/AOh14Ggq2Xj7nwN863n-DdzIR-k5lDtigKwvAvISiB9i=s64",
      "userId": "00517861436348801488"
     },
     "user_tz": -540
    },
    "id": "u_5-hfqqBmKb",
    "outputId": "386f7e5e-c1a2-4215-d070-adc7037653fe"
   },
   "outputs": [
    {
     "name": "stdout",
     "output_type": "stream",
     "text": [
      "[[2. 2.]\n",
      " [4. 2.]\n",
      " [6. 4.]\n",
      " [8. 1.]]\n"
     ]
    }
   ],
   "source": [
    "y_ = regr.coef_ * x \n",
    "print(y_)\n",
    "'''\n",
    "상관계수가 2,1이므로 \n",
    "[[1 2] -> 1*2(2) + 2*1(2) = 4\n",
    " [2 2] -> 2*2(4) + 2*1(2) = 6\n",
    " [3 4] -> 3*2(6) + 4*1(4) = 10\n",
    " [4 1]] -> 4*2(8) + 1*1(1) = 9\n",
    "'''"
   ]
  },
  {
   "cell_type": "markdown",
   "metadata": {
    "id": "LD56mtcCB8tW"
   },
   "source": [
    "이 결과 [ x1 * 2, x2 * 1 ] 들의 배열이 구성된다. 이제 좌측과 우측의 값을 더하면 된다. 이때 np.sum 을 사용하도록 하겠다. \n",
    "\n",
    "np.sum 은 각 축별로 합산값을 구해준다. \n",
    "```\n",
    "## np.sum 사용법 \n",
    "\n",
    "  data = np.array([[1,2], [3,4]])\n",
    "\n",
    "  np.sum(data, axis = 0 ) \n",
    "  -> [4,6] \n",
    "\n",
    "  np.sum(data, axis = 1 ) \n",
    "  -> [3, 7] \n",
    "```\n",
    "\n",
    "이제 np.sum 을 이용해 위의 x 를 가로축으로 합산해주면 다음과 같다. \n"
   ]
  },
  {
   "cell_type": "code",
   "execution_count": null,
   "metadata": {
    "colab": {
     "base_uri": "https://localhost:8080/"
    },
    "executionInfo": {
     "elapsed": 745,
     "status": "ok",
     "timestamp": 1619447223331,
     "user": {
      "displayName": "messcure JNDan",
      "photoUrl": "https://lh3.googleusercontent.com/a-/AOh14Ggq2Xj7nwN863n-DdzIR-k5lDtigKwvAvISiB9i=s64",
      "userId": "00517861436348801488"
     },
     "user_tz": -540
    },
    "id": "-nsFH0K_C0IQ",
    "outputId": "213b8969-4d89-4c95-e1b4-e5e700e9c18e"
   },
   "outputs": [
    {
     "name": "stdout",
     "output_type": "stream",
     "text": [
      "[ 4.  6. 10.  9.]\n"
     ]
    }
   ],
   "source": [
    "print( np.sum(y_, axis = 1) )"
   ]
  },
  {
   "cell_type": "markdown",
   "metadata": {
    "id": "YwvVJsGHEA6T"
   },
   "source": [
    "이것은 결국 x1 * 2 + x2 * 1 의 값이 되어 y 값과 같아짐을 알 수 있다. 스코어 역시 바로 x, y를 대입해서 얻을 수 있다. \n",
    "\n",
    "\n",
    "\n",
    "\n",
    "\n",
    "\n",
    "\n",
    "\n",
    "\n"
   ]
  },
  {
   "cell_type": "code",
   "execution_count": null,
   "metadata": {
    "colab": {
     "base_uri": "https://localhost:8080/"
    },
    "executionInfo": {
     "elapsed": 631,
     "status": "ok",
     "timestamp": 1619447029653,
     "user": {
      "displayName": "messcure JNDan",
      "photoUrl": "https://lh3.googleusercontent.com/a-/AOh14Ggq2Xj7nwN863n-DdzIR-k5lDtigKwvAvISiB9i=s64",
      "userId": "00517861436348801488"
     },
     "user_tz": -540
    },
    "id": "DEaW1s9-G8pt",
    "outputId": "319dcc48-8780-45e8-eed2-4209dd34097e"
   },
   "outputs": [
    {
     "name": "stdout",
     "output_type": "stream",
     "text": [
      "1.0\n"
     ]
    }
   ],
   "source": [
    "print(regr.score(x,y))"
   ]
  },
  {
   "cell_type": "markdown",
   "metadata": {
    "id": "KpXWyVsXG3Vd"
   },
   "source": [
    "오차가 없는 선형 데이터 이므로 결정계수가 1가 출력된다. "
   ]
  },
  {
   "cell_type": "markdown",
   "metadata": {
    "id": "qDV9iK0KHR1a"
   },
   "source": [
    "### <font color = 'red'> 연습 : 다중 회귀 분석 \n",
    "\n",
    "다음을 데이터를 회귀 분석해서 계수값과 상수값, 결정계수를 구하세요\n",
    "</font>\n",
    "\n",
    "\n",
    "\n",
    "```\n",
    "# 코드로 형식 지정됨\n",
    "```\n",
    "\n",
    "\n"
   ]
  },
  {
   "cell_type": "code",
   "execution_count": null,
   "metadata": {
    "colab": {
     "base_uri": "https://localhost:8080/"
    },
    "executionInfo": {
     "elapsed": 617,
     "status": "ok",
     "timestamp": 1619447122787,
     "user": {
      "displayName": "messcure JNDan",
      "photoUrl": "https://lh3.googleusercontent.com/a-/AOh14Ggq2Xj7nwN863n-DdzIR-k5lDtigKwvAvISiB9i=s64",
      "userId": "00517861436348801488"
     },
     "user_tz": -540
    },
    "id": "pMr63EsGHwUM",
    "outputId": "7f7cc680-39ed-4c77-c024-a89bb2c29662"
   },
   "outputs": [
    {
     "name": "stdout",
     "output_type": "stream",
     "text": [
      "coef(계수):  [0.47449323 0.40652732]\n",
      "intercept(상수):  0.33682274638019616\n",
      "score(결정계수):  0.8328502880962914\n"
     ]
    }
   ],
   "source": [
    "x1 = np.array([0. , 0.1, 0.2, 0.3, 0.4, 0.5, 0.6, 0.7, 0.8, 0.9])\n",
    "x2 = np.array([0.9, 0.7, 0.2, 0.9, 0.6, 0. , 0.1, 0.6, 0.9, 0.7])\n",
    "y = np.array([0.69, 0.85, 0.48, 0.75, 0.68, 0.59, 0.65, 0.87, 1.06, 1.16])\n",
    "\n",
    "# 위의 데이터를 회귀분석 해서 게수, 상수, 결정계수를 출력하세요 \n",
    "\n",
    "x = np.c_[x1, x2]\n",
    "regr.fit(x, y)\n",
    "print(\"coef(계수): \", regr.coef_)\n",
    "print(\"intercept(상수): \", regr.intercept_)\n",
    "print(\"score(결정계수): \", regr.score(x, y))\n",
    "\n",
    "#x = np.c_[x1, x2]\n",
    "#print(\"coef: \", regr.coef_, \"intercept: \", regr.intercept_)\n",
    "#print(\"score: \", regr.score(x,y)\n"
   ]
  },
  {
   "cell_type": "markdown",
   "metadata": {
    "id": "OSILDB0tLrZL"
   },
   "source": [
    "## 2차원 시각화 \n",
    "\n",
    "x1,x2 -> y 를 도표화 시키기는 쉽지 안지만 (3차원 그래프를 사용해야 가능) 이미지로 표현은 가능하다.  \n",
    "\n",
    "다음과 같은 관계를 갖는 x1, x2 와 y를 생각해보자. \n",
    "```\n",
    "y = x1 + x2 \n",
    "```\n",
    "\n",
    "이때 다음은 100개의 0~9까지의 x1 과 x2 의 조합을 만들어 더해준다. \n"
   ]
  },
  {
   "cell_type": "code",
   "execution_count": null,
   "metadata": {
    "colab": {
     "base_uri": "https://localhost:8080/"
    },
    "executionInfo": {
     "elapsed": 648,
     "status": "ok",
     "timestamp": 1619447318353,
     "user": {
      "displayName": "messcure JNDan",
      "photoUrl": "https://lh3.googleusercontent.com/a-/AOh14Ggq2Xj7nwN863n-DdzIR-k5lDtigKwvAvISiB9i=s64",
      "userId": "00517861436348801488"
     },
     "user_tz": -540
    },
    "id": "xVtY71YcIL6Y",
    "outputId": "f2b7d871-d3bf-4f8c-a0ca-480a85de0262"
   },
   "outputs": [
    {
     "name": "stdout",
     "output_type": "stream",
     "text": [
      "[[ 0  1  2  3  4  5  6  7  8  9]\n",
      " [ 1  2  3  4  5  6  7  8  9 10]\n",
      " [ 2  3  4  5  6  7  8  9 10 11]\n",
      " [ 3  4  5  6  7  8  9 10 11 12]\n",
      " [ 4  5  6  7  8  9 10 11 12 13]\n",
      " [ 5  6  7  8  9 10 11 12 13 14]\n",
      " [ 6  7  8  9 10 11 12 13 14 15]\n",
      " [ 7  8  9 10 11 12 13 14 15 16]\n",
      " [ 8  9 10 11 12 13 14 15 16 17]\n",
      " [ 9 10 11 12 13 14 15 16 17 18]]\n"
     ]
    }
   ],
   "source": [
    "x1, x2 = np.ogrid[:10, :10]\n",
    "print(x1 + x2)\n",
    "\n"
   ]
  },
  {
   "cell_type": "markdown",
   "metadata": {
    "id": "c8grsBqJQ-2x"
   },
   "source": [
    "좌측 상단은 x1,x2 가 0,0 이므로 0 + 0 이며 제일 우측 하단은 9 + 9 로 18이 들어간다.  이를 이미지화 시키면 다음과 같다. \n",
    "\n"
   ]
  },
  {
   "cell_type": "code",
   "execution_count": null,
   "metadata": {
    "colab": {
     "base_uri": "https://localhost:8080/",
     "height": 283
    },
    "executionInfo": {
     "elapsed": 738,
     "status": "ok",
     "timestamp": 1619447347468,
     "user": {
      "displayName": "messcure JNDan",
      "photoUrl": "https://lh3.googleusercontent.com/a-/AOh14Ggq2Xj7nwN863n-DdzIR-k5lDtigKwvAvISiB9i=s64",
      "userId": "00517861436348801488"
     },
     "user_tz": -540
    },
    "id": "-5nw5_5ZQ9j6",
    "outputId": "f5637d26-fb98-42a3-f15f-c81230cb85bf"
   },
   "outputs": [
    {
     "data": {
      "text/plain": [
       "<matplotlib.image.AxesImage at 0x7efef6b4a850>"
      ]
     },
     "execution_count": 31,
     "metadata": {
      "tags": []
     },
     "output_type": "execute_result"
    },
    {
     "data": {
      "image/png": "[encoded data removed]",
      "text/plain": [
       "<Figure size 432x288 with 1 Axes>"
      ]
     },
     "metadata": {
      "needs_background": "light",
      "tags": []
     },
     "output_type": "display_data"
    }
   ],
   "source": [
    "plt.imshow(x1 + x2, cmap = 'gray')"
   ]
  },
  {
   "cell_type": "markdown",
   "metadata": {
    "id": "zAMKXouHZUZj"
   },
   "source": [
    "이 원리를 이용하여 위에서 다뤘던 \n",
    "```\n",
    "x1 = [1,2,3,4]\n",
    "x2 = [2,2,4,1]\n",
    "y = [ 4, 6, 10, 9 ] \n",
    "```\n",
    "\n",
    "을 회귀분석한 결과인 \n",
    "```\n",
    "coef: [2. 1.]\n",
    "```\n",
    "를 다음과 같이 시각화 시킬 수 있다. "
   ]
  },
  {
   "cell_type": "code",
   "execution_count": null,
   "metadata": {
    "colab": {
     "base_uri": "https://localhost:8080/",
     "height": 463
    },
    "executionInfo": {
     "elapsed": 633,
     "status": "ok",
     "timestamp": 1619447398745,
     "user": {
      "displayName": "messcure JNDan",
      "photoUrl": "https://lh3.googleusercontent.com/a-/AOh14Ggq2Xj7nwN863n-DdzIR-k5lDtigKwvAvISiB9i=s64",
      "userId": "00517861436348801488"
     },
     "user_tz": -540
    },
    "id": "uO3uDOEqZ1GZ",
    "outputId": "52c721f7-e5b9-4f59-a5b3-b871a13cfefc"
   },
   "outputs": [
    {
     "name": "stdout",
     "output_type": "stream",
     "text": [
      "[[ 0  1  2  3  4  5  6  7  8  9]\n",
      " [ 2  3  4  5  6  7  8  9 10 11]\n",
      " [ 4  5  6  7  8  9 10 11 12 13]\n",
      " [ 6  7  8  9 10 11 12 13 14 15]\n",
      " [ 8  9 10 11 12 13 14 15 16 17]\n",
      " [10 11 12 13 14 15 16 17 18 19]\n",
      " [12 13 14 15 16 17 18 19 20 21]\n",
      " [14 15 16 17 18 19 20 21 22 23]\n",
      " [16 17 18 19 20 21 22 23 24 25]\n",
      " [18 19 20 21 22 23 24 25 26 27]]\n"
     ]
    },
    {
     "data": {
      "text/plain": [
       "<matplotlib.image.AxesImage at 0x7efef6ab2b50>"
      ]
     },
     "execution_count": 33,
     "metadata": {
      "tags": []
     },
     "output_type": "execute_result"
    },
    {
     "data": {
      "image/png": "[encoded data removed]",
      "text/plain": [
       "<Figure size 432x288 with 1 Axes>"
      ]
     },
     "metadata": {
      "needs_background": "light",
      "tags": []
     },
     "output_type": "display_data"
    }
   ],
   "source": [
    "x1,x2 = np.ogrid[:10, :10]\n",
    "#print(x1 * 2 + x2 )\n",
    "plt.imshow( x1 * 2 + x2 , cmap = 'gray')"
   ]
  },
  {
   "cell_type": "markdown",
   "metadata": {
    "id": "U64gJX4IaNmc"
   },
   "source": [
    "결과적으로 다음 코드는 회귀분석의 결과를 흑백 이미지로 시각화 시켜준다. \n",
    "\n",
    "```\n",
    "x1,x2 = np.ogrid[:10, :10]\n",
    "c = regr.coef_\n",
    "plt.imshow( x1 * c[0] + x2 * c[1] + regr.intercept_ , cmap = 'gray)\n",
    "```"
   ]
  },
  {
   "cell_type": "markdown",
   "metadata": {
    "id": "bL1EN-xAb0kw"
   },
   "source": [
    "### <font color = 'red'> 연습 :  회귀분석 이미지화\n",
    "다음 데이터를 회귀분석후 시각화시켜보자. \n",
    "</font>\n"
   ]
  },
  {
   "cell_type": "code",
   "execution_count": null,
   "metadata": {
    "colab": {
     "base_uri": "https://localhost:8080/",
     "height": 304
    },
    "executionInfo": {
     "elapsed": 1153,
     "status": "ok",
     "timestamp": 1619448230559,
     "user": {
      "displayName": "messcure JNDan",
      "photoUrl": "https://lh3.googleusercontent.com/a-/AOh14Ggq2Xj7nwN863n-DdzIR-k5lDtigKwvAvISiB9i=s64",
      "userId": "00517861436348801488"
     },
     "user_tz": -540
    },
    "id": "MQp-dutvKIDJ",
    "outputId": "51e9c1de-eb69-4672-933e-615552717da3"
   },
   "outputs": [
    {
     "name": "stdout",
     "output_type": "stream",
     "text": [
      "[ 4. -3.]\n"
     ]
    },
    {
     "data": {
      "text/plain": [
       "<matplotlib.image.AxesImage at 0x7efef6a20d50>"
      ]
     },
     "execution_count": 34,
     "metadata": {
      "tags": []
     },
     "output_type": "execute_result"
    },
    {
     "data": {
      "image/png": "[encoded data removed]",
      "text/plain": [
       "<Figure size 432x288 with 1 Axes>"
      ]
     },
     "metadata": {
      "needs_background": "light",
      "tags": []
     },
     "output_type": "display_data"
    }
   ],
   "source": [
    "x1 = np.array([0. , 0.1, 0.2, 0.3, 0.4, 0.5, 0.6, 0.7, 0.8, 0.9])\n",
    "x2 = np.array([0.9, 0.7, 0.2, 0.9, 0.6, 0. , 0.1, 0.6, 0.9, 0.7])\n",
    "y = np.array([ 7.3,  8.3, 10.2,  8.5,  9.8, 12. , 12.1, 11. , 10.5, 11.5])\n",
    "\n",
    "# 입력 x1, x2 에 대해 y를 회귀 분석 한 후에 이미지로 시각화 시켜보자 \n",
    "x = np.c_[x1, x2]\n",
    "regr.fit(x, y)\n",
    "c = regr.coef_\n",
    "#print(c) #[ 4. -3.]\n",
    "xx, yy = np.ogrid[:100, :100]\n",
    "img = xx * c[0] + yy * c[1] + regr.intercept_\n",
    "\n",
    "plt.imshow(img, cmap='gray')"
   ]
  },
  {
   "cell_type": "markdown",
   "metadata": {
    "id": "lzljvVqUmXoX"
   },
   "source": [
    "\n",
    "\n",
    "\n",
    "<br>\n",
    "<hr style=\"height:5px\"><br>\n",
    "\n",
    "\n",
    "#  다항 회귀분석\n",
    "\n",
    "단순 회귀 분석은 모든 데이터의 연관성을 직선식으로 가정한다. 대부분의 비례관계가 대부분 직선적 성향을 띄는 것도 사실이지만 데이터의 제곱에 비례해 증가하는 곡선형태의 상관관계를 갖는 경우도 있다.  다항회귀분석은 다항식처럼 x 의 2차원 이상의 계수를 도출 하는 방법이다.  \n",
    "\n"
   ]
  },
  {
   "cell_type": "markdown",
   "metadata": {
    "id": "ROqk-PVwtgwQ"
   },
   "source": [
    "\n",
    "## 2차항 회귀분석\n",
    "\n",
    "다음은 -30 부터 30 사이의 100개의 x 에 대해 2차원 식\n",
    "```\n",
    "y = 5 * x ** 2 (x제곱\n",
    "```\n",
    "의 연관성을 갖는 y 값을 그래프로 그려준다.\n"
   ]
  },
  {
   "cell_type": "code",
   "execution_count": null,
   "metadata": {
    "colab": {
     "base_uri": "https://localhost:8080/",
     "height": 265
    },
    "executionInfo": {
     "elapsed": 1448,
     "status": "ok",
     "timestamp": 1619448668235,
     "user": {
      "displayName": "messcure JNDan",
      "photoUrl": "https://lh3.googleusercontent.com/a-/AOh14Ggq2Xj7nwN863n-DdzIR-k5lDtigKwvAvISiB9i=s64",
      "userId": "00517861436348801488"
     },
     "user_tz": -540
    },
    "id": "P4OdFY5AmXoY",
    "outputId": "9cfd4b6f-330b-40d8-af1a-d8fc5d03f8a8"
   },
   "outputs": [
    {
     "data": {
      "image/png": "[encoded data removed]",
      "text/plain": [
       "<Figure size 432x288 with 1 Axes>"
      ]
     },
     "metadata": {
      "needs_background": "light",
      "tags": []
     },
     "output_type": "display_data"
    }
   ],
   "source": [
    "n = 100\n",
    "x = np.linspace(-30,30,n)\n",
    "y = x ** 2 * 5 + np.random.normal(0,300,n) # 0기준 300편차 n개\n",
    "plt.plot(x,y, 'o')\n",
    "plt.show()"
   ]
  },
  {
   "cell_type": "markdown",
   "metadata": {
    "id": "FWd9SEYHmXoa"
   },
   "source": [
    "이를 기존의 방식으로 단순 1차원 항만 가진 회귀분석으로 구할경우 거의 예측이 불가능한 모델을 얻게된다. "
   ]
  },
  {
   "cell_type": "code",
   "execution_count": null,
   "metadata": {
    "colab": {
     "base_uri": "https://localhost:8080/",
     "height": 283
    },
    "executionInfo": {
     "elapsed": 1836,
     "status": "ok",
     "timestamp": 1619448692419,
     "user": {
      "displayName": "messcure JNDan",
      "photoUrl": "https://lh3.googleusercontent.com/a-/AOh14Ggq2Xj7nwN863n-DdzIR-k5lDtigKwvAvISiB9i=s64",
      "userId": "00517861436348801488"
     },
     "user_tz": -540
    },
    "id": "OkPAfefLmXob",
    "outputId": "80cf351b-6f17-4216-9b3c-ac319688eda1"
   },
   "outputs": [
    {
     "data": {
      "image/png": "[encoded data removed]",
      "text/plain": [
       "<Figure size 432x288 with 1 Axes>"
      ]
     },
     "metadata": {
      "needs_background": "light",
      "tags": []
     },
     "output_type": "display_data"
    },
    {
     "name": "stdout",
     "output_type": "stream",
     "text": [
      "R2: 0.001021958973578041\n"
     ]
    }
   ],
   "source": [
    "regr.fit( x.reshape(-1,1), y ) \n",
    "plt.plot(x, y, 'o')\n",
    "plt.plot(x, x * regr.coef_ + regr.intercept_ )\n",
    "plt.show()\n",
    "print( \"R2:\", regr.score( x.reshape(-1,1), y))"
   ]
  },
  {
   "cell_type": "markdown",
   "metadata": {
    "id": "sD6LpLjPmXof"
   },
   "source": [
    "결정계수가 0.001 도 안되는 처참한 모델이 탄생한다. 이는 1차식으로는 적합한 모델을 표현할 수는 없음을 의미한다. \n",
    "\n",
    "하지만 여기에 x 대신 x의 제곱이 담긴 데이터를 입력하면 어떻게 될까? "
   ]
  },
  {
   "cell_type": "code",
   "execution_count": null,
   "metadata": {
    "colab": {
     "base_uri": "https://localhost:8080/",
     "height": 283
    },
    "executionInfo": {
     "elapsed": 600,
     "status": "ok",
     "timestamp": 1619448750565,
     "user": {
      "displayName": "messcure JNDan",
      "photoUrl": "https://lh3.googleusercontent.com/a-/AOh14Ggq2Xj7nwN863n-DdzIR-k5lDtigKwvAvISiB9i=s64",
      "userId": "00517861436348801488"
     },
     "user_tz": -540
    },
    "id": "jq7yAmRkwm6Q",
    "outputId": "443c4261-b2a6-40a9-af13-4833ccb3ee11"
   },
   "outputs": [
    {
     "data": {
      "text/plain": [
       "[<matplotlib.lines.Line2D at 0x7efef68d7850>]"
      ]
     },
     "execution_count": 37,
     "metadata": {
      "tags": []
     },
     "output_type": "execute_result"
    },
    {
     "data": {
      "image/png": "[encoded data removed]",
      "text/plain": [
       "<Figure size 432x288 with 1 Axes>"
      ]
     },
     "metadata": {
      "needs_background": "light",
      "tags": []
     },
     "output_type": "display_data"
    }
   ],
   "source": [
    "x2 = x ** 2\n",
    "plt.plot( x2, y, '.')"
   ]
  },
  {
   "cell_type": "markdown",
   "metadata": {
    "id": "rNdiVvK6xPoA"
   },
   "source": [
    "둘의 관계가 직선에 가깝게 바뀐것을 볼 수 있을것이다.  이는 위의 식을\n",
    "```\n",
    "x2 = x ** 2\n",
    "y = x2 * 5 \n",
    "```\n",
    "로 변환 했기 때문에 y 와 x2 의 1차항 문제로 변환되었기 때문이다. \n",
    "이제 이것을 회귀 분석 하면 다음과 같다. \n"
   ]
  },
  {
   "cell_type": "code",
   "execution_count": null,
   "metadata": {
    "colab": {
     "base_uri": "https://localhost:8080/",
     "height": 265
    },
    "executionInfo": {
     "elapsed": 668,
     "status": "ok",
     "timestamp": 1619448945844,
     "user": {
      "displayName": "messcure JNDan",
      "photoUrl": "https://lh3.googleusercontent.com/a-/AOh14Ggq2Xj7nwN863n-DdzIR-k5lDtigKwvAvISiB9i=s64",
      "userId": "00517861436348801488"
     },
     "user_tz": -540
    },
    "id": "s5310qLVx5k9",
    "outputId": "85d0068c-4b13-461d-ad76-cb35474b6e59"
   },
   "outputs": [
    {
     "data": {
      "image/png": "[encoded data removed]",
      "text/plain": [
       "<Figure size 432x288 with 1 Axes>"
      ]
     },
     "metadata": {
      "needs_background": "light",
      "tags": []
     },
     "output_type": "display_data"
    }
   ],
   "source": [
    "regr.fit( x2.reshape(-1,1), y )\n",
    "plt.plot(x2, y, 'o')\n",
    "plt.plot(x2, x2 * regr.coef_ + regr.intercept_ )\n",
    "plt.show() \n",
    "#print(regr.score( x2.reshape(-1,1), y ))"
   ]
  },
  {
   "cell_type": "markdown",
   "metadata": {
    "id": "ec5n8O0AyvMC"
   },
   "source": [
    "이제 y 이것을 x 에 대해서 그리면 다음과 같이 그려진다. "
   ]
  },
  {
   "cell_type": "code",
   "execution_count": null,
   "metadata": {
    "colab": {
     "base_uri": "https://localhost:8080/",
     "height": 265
    },
    "executionInfo": {
     "elapsed": 683,
     "status": "ok",
     "timestamp": 1619448978236,
     "user": {
      "displayName": "messcure JNDan",
      "photoUrl": "https://lh3.googleusercontent.com/a-/AOh14Ggq2Xj7nwN863n-DdzIR-k5lDtigKwvAvISiB9i=s64",
      "userId": "00517861436348801488"
     },
     "user_tz": -540
    },
    "id": "iYrEdgEVmXof",
    "outputId": "4ac2cc1d-bf0b-4209-b169-eea32b93f1a7"
   },
   "outputs": [
    {
     "data": {
      "image/png": "[encoded data removed]",
      "text/plain": [
       "<Figure size 432x288 with 1 Axes>"
      ]
     },
     "metadata": {
      "needs_background": "light",
      "tags": []
     },
     "output_type": "display_data"
    }
   ],
   "source": [
    "regr.fit( x2.reshape(-1,1), y )\n",
    "plt.plot(x, y, 'o')\n",
    "plt.plot(x, x**2 * regr.coef_ + regr.intercept_ )\n",
    "plt.show() \n"
   ]
  },
  {
   "cell_type": "markdown",
   "metadata": {
    "id": "BbaBI4OWzGax"
   },
   "source": [
    "위의 문제는 단지 x 를 x ** 2 로 변환해서 1차항 문제로 변환시킨 사례이다.  결정계수를 얻을 때에도 마찬가지로 x2나 x**2 를 넣어줘야한다."
   ]
  },
  {
   "cell_type": "code",
   "execution_count": null,
   "metadata": {
    "colab": {
     "base_uri": "https://localhost:8080/"
    },
    "executionInfo": {
     "elapsed": 1031,
     "status": "ok",
     "timestamp": 1619449194447,
     "user": {
      "displayName": "messcure JNDan",
      "photoUrl": "https://lh3.googleusercontent.com/a-/AOh14Ggq2Xj7nwN863n-DdzIR-k5lDtigKwvAvISiB9i=s64",
      "userId": "00517861436348801488"
     },
     "user_tz": -540
    },
    "id": "VlatMC1XzTxo",
    "outputId": "1dcd9de0-72bb-4501-d534-8abd60c89209"
   },
   "outputs": [
    {
     "name": "stdout",
     "output_type": "stream",
     "text": [
      "0.9556129887495449\n"
     ]
    }
   ],
   "source": [
    "print( regr.score(x2.reshape(-1,1), y))"
   ]
  },
  {
   "cell_type": "markdown",
   "metadata": {
    "id": "nowMFA-ImXoi"
   },
   "source": [
    "위의 예제에선 상수항이 0 이었지만 상수항 존재하는 경우라도 2차항만으로 이뤄진 곡선을 회귀분석 가능하다. \n"
   ]
  },
  {
   "cell_type": "markdown",
   "metadata": {
    "id": "5AMGwDfEmXoi"
   },
   "source": [
    "### <font color = 'red'> 연습 : 단순 2차항 분석\n",
    "\n",
    "아래의 데이터 역시 ? * x **2 + ? 의 구조로 구성된 데이터이다. 직접 한번 회귀분석을 하고 결과를 그려보자 \n",
    "</font>"
   ]
  },
  {
   "cell_type": "code",
   "execution_count": null,
   "metadata": {
    "colab": {
     "base_uri": "https://localhost:8080/",
     "height": 265
    },
    "executionInfo": {
     "elapsed": 875,
     "status": "ok",
     "timestamp": 1619449486342,
     "user": {
      "displayName": "messcure JNDan",
      "photoUrl": "https://lh3.googleusercontent.com/a-/AOh14Ggq2Xj7nwN863n-DdzIR-k5lDtigKwvAvISiB9i=s64",
      "userId": "00517861436348801488"
     },
     "user_tz": -540
    },
    "id": "s_BIBgYimXoi",
    "outputId": "269e7588-14d8-4189-8fcf-ccb113c02d02"
   },
   "outputs": [
    {
     "data": {
      "image/png": "[encoded data removed]",
      "text/plain": [
       "<Figure size 432x288 with 1 Axes>"
      ]
     },
     "metadata": {
      "needs_background": "light",
      "tags": []
     },
     "output_type": "display_data"
    }
   ],
   "source": [
    "x = np.linspace(-10,10,10) \n",
    "y = np.array([-301.875, -184.532,  -86.197,  -24.92 ,    8.202,   -5.793,\n",
    "        -26.955,  -79.049, -173.654, -302.172])\n",
    "plt.plot(x,y,'o')\n",
    "#plt.show() \n",
    "\n",
    "# 위의 데이터를 2차원 항으로 회귀분석 해보세요\n",
    "x2= x**2\n",
    "regr.fit(x2.reshape(-1, 1), y)\n",
    "plt.plot(x, x2*regr.coef_ + regr.intercept_)\n",
    "\n",
    "plt.show() "
   ]
  },
  {
   "cell_type": "markdown",
   "metadata": {
    "id": "6NnoZoOS2guA"
   },
   "source": [
    "\n",
    "<br><br><br><br>\n",
    "이제 1차항과 2차항이 섞인 다음과 같은 경우를 생각해보자. \n",
    "\n",
    "$y = 5x^2 - 10x + 4$\n"
   ]
  },
  {
   "cell_type": "code",
   "execution_count": null,
   "metadata": {
    "colab": {
     "base_uri": "https://localhost:8080/",
     "height": 268
    },
    "executionInfo": {
     "elapsed": 816,
     "status": "ok",
     "timestamp": 1619449786229,
     "user": {
      "displayName": "messcure JNDan",
      "photoUrl": "https://lh3.googleusercontent.com/a-/AOh14Ggq2Xj7nwN863n-DdzIR-k5lDtigKwvAvISiB9i=s64",
      "userId": "00517861436348801488"
     },
     "user_tz": -540
    },
    "id": "eNiS3LqS3N_J",
    "outputId": "0c9d53e0-9216-4798-84ff-5d870202fc8f"
   },
   "outputs": [
    {
     "data": {
      "image/png": "[encoded data removed]",
      "text/plain": [
       "<Figure size 432x288 with 1 Axes>"
      ]
     },
     "metadata": {
      "needs_background": "light",
      "tags": []
     },
     "output_type": "display_data"
    }
   ],
   "source": [
    "x = np.linspace(-10,10,10) \n",
    "y = 3 * x ** 2 - 8 * x + 4\n",
    "#y = 5 * x ** 2 - 10 * x + 4\n",
    "plt.plot(x,y,'o')\n",
    "plt.show()"
   ]
  },
  {
   "cell_type": "markdown",
   "metadata": {
    "id": "mEeMxj_J4Jqq"
   },
   "source": [
    "위의 데이터는 2차항만으로 분석할 경우 정확한 결정계수를 얻을 수 없다. \n"
   ]
  },
  {
   "cell_type": "code",
   "execution_count": null,
   "metadata": {
    "colab": {
     "base_uri": "https://localhost:8080/",
     "height": 286
    },
    "executionInfo": {
     "elapsed": 670,
     "status": "ok",
     "timestamp": 1619449907682,
     "user": {
      "displayName": "messcure JNDan",
      "photoUrl": "https://lh3.googleusercontent.com/a-/AOh14Ggq2Xj7nwN863n-DdzIR-k5lDtigKwvAvISiB9i=s64",
      "userId": "00517861436348801488"
     },
     "user_tz": -540
    },
    "id": "JPD0EQhI4avC",
    "outputId": "2d01ac6e-74c6-4a88-b55b-53552572444d"
   },
   "outputs": [
    {
     "data": {
      "image/png": "[encoded data removed]",
      "text/plain": [
       "<Figure size 432x288 with 1 Axes>"
      ]
     },
     "metadata": {
      "needs_background": "light",
      "tags": []
     },
     "output_type": "display_data"
    },
    {
     "name": "stdout",
     "output_type": "stream",
     "text": [
      "0.8163265306122449\n"
     ]
    }
   ],
   "source": [
    "x2 = x**2\n",
    "regr.fit(x2.reshape(-1,1), y)\n",
    "plt.plot(x,y,'o')\n",
    "plt.plot(x, x2 * regr.coef_ + regr.intercept_ )\n",
    "plt.show()\n",
    "print( regr.score(x2.reshape(-1,1), y))"
   ]
  },
  {
   "cell_type": "markdown",
   "metadata": {
    "id": "rvnYB9MC5ND-"
   },
   "source": [
    "이 경우는 x 와 x2 를 서로 다른 변수처럼 취급해서 다항회귀 분석을 함으로서 문제를 해결할 수 있다. "
   ]
  },
  {
   "cell_type": "code",
   "execution_count": null,
   "metadata": {
    "colab": {
     "base_uri": "https://localhost:8080/"
    },
    "executionInfo": {
     "elapsed": 963,
     "status": "ok",
     "timestamp": 1619449973444,
     "user": {
      "displayName": "messcure JNDan",
      "photoUrl": "https://lh3.googleusercontent.com/a-/AOh14Ggq2Xj7nwN863n-DdzIR-k5lDtigKwvAvISiB9i=s64",
      "userId": "00517861436348801488"
     },
     "user_tz": -540
    },
    "id": "aeWYEnz2mXol",
    "outputId": "c586a45f-2956-4407-8d88-175cea1b883b"
   },
   "outputs": [
    {
     "name": "stdout",
     "output_type": "stream",
     "text": [
      "coef: [ 3. -8.]  intercept: 3.999999999999943\n",
      "score: 1.0\n"
     ]
    }
   ],
   "source": [
    "x1 = x \n",
    "x2 = x**2 \n",
    "x = np.c_[x2,x1]\n",
    "regr.fit(x,y)\n",
    "print(\"coef:\", regr.coef_, \" intercept:\", regr.intercept_)\n",
    "print(\"score:\",regr.score(x,y))\n"
   ]
  },
  {
   "cell_type": "markdown",
   "metadata": {
    "id": "D_ih9ym96E9m"
   },
   "source": [
    "오차를 넣지 안았기 때문에 다중 회귀 분석을 이용하면 정확한 2차항, 1차항 계수인 3, -8 과 상수항 4를 얻어 결정계수 1.0 을 얻게된다. \n",
    "\n",
    "이 결과를 도식화 하려면 2차항과 같이 각 항에 각 계수를 곱해 x 에 대한 예측 y값을 구해야 한다. \n",
    "\n",
    "```\n",
    "regr.coef_[0] * x1 ** 2 + regr.coef_[1] * x1 + regr.intercept_\n",
    "```\n",
    "하지만 이미 x 가 [x1**2, x1] 형태로 값이 들어있으므로 간단히 \n",
    "```\n",
    "np.sum( x * regr.coef_ , axis = 1) + regr.intercept_\n",
    "```\n",
    "로도 계산이 가능하다.  아래의 코드를 실행하면 방금 분석한 결과가 정확히 일치함을 도식화시켜 볼 수 있다. \n",
    "\n",
    "\n",
    "\n",
    "\n"
   ]
  },
  {
   "cell_type": "code",
   "execution_count": null,
   "metadata": {
    "colab": {
     "base_uri": "https://localhost:8080/",
     "height": 268
    },
    "executionInfo": {
     "elapsed": 642,
     "status": "ok",
     "timestamp": 1619450143627,
     "user": {
      "displayName": "messcure JNDan",
      "photoUrl": "https://lh3.googleusercontent.com/a-/AOh14Ggq2Xj7nwN863n-DdzIR-k5lDtigKwvAvISiB9i=s64",
      "userId": "00517861436348801488"
     },
     "user_tz": -540
    },
    "id": "F-QfgHNG6J7w",
    "outputId": "b214d2e8-6e7e-4c30-db58-a663aece7b1c"
   },
   "outputs": [
    {
     "data": {
      "image/png": "[encoded data removed]",
      "text/plain": [
       "<Figure size 432x288 with 1 Axes>"
      ]
     },
     "metadata": {
      "needs_background": "light",
      "tags": []
     },
     "output_type": "display_data"
    }
   ],
   "source": [
    "plt.plot(x1,y,'o')\n",
    "plt.plot(x1, np.sum( x * regr.coef_ , axis = 1 ) + regr.intercept_ )\n",
    "plt.show()"
   ]
  },
  {
   "cell_type": "markdown",
   "metadata": {
    "id": "XYVWLNepmXon"
   },
   "source": [
    "\n",
    "### <font color = 'red'> 연습 : 일반 2차항 회귀분석\n",
    "\n",
    "이제 직접 아래의 데이터를 회귀분석 해보자. \n",
    "</font>"
   ]
  },
  {
   "cell_type": "code",
   "execution_count": null,
   "metadata": {
    "colab": {
     "base_uri": "https://localhost:8080/",
     "height": 481
    },
    "executionInfo": {
     "elapsed": 641,
     "status": "ok",
     "timestamp": 1619450705804,
     "user": {
      "displayName": "messcure JNDan",
      "photoUrl": "https://lh3.googleusercontent.com/a-/AOh14Ggq2Xj7nwN863n-DdzIR-k5lDtigKwvAvISiB9i=s64",
      "userId": "00517861436348801488"
     },
     "user_tz": -540
    },
    "id": "NgVXPUSWmXoo",
    "outputId": "ee74a8a5-cf70-4e3f-9779-009066984dc3"
   },
   "outputs": [
    {
     "data": {
      "image/png": "[encoded data removed]",
      "text/plain": [
       "<Figure size 432x288 with 1 Axes>"
      ]
     },
     "metadata": {
      "needs_background": "light",
      "tags": []
     },
     "output_type": "display_data"
    },
    {
     "name": "stdout",
     "output_type": "stream",
     "text": [
      "[[-299.46014489   65.66765455]\n",
      " [-181.15490246   51.07484242]\n",
      " [ -92.42597064   36.4820303 ]\n",
      " [ -33.27334943   21.88921818]\n",
      " [  -3.69703883    7.29640606]\n",
      " [  -3.69703883   -7.29640606]\n",
      " [ -33.27334943  -21.88921818]\n",
      " [ -92.42597064  -36.4820303 ]\n",
      " [-181.15490246  -51.07484242]\n",
      " [-299.46014489  -65.66765455]]\n",
      "[-233.79249034 -130.08006004  -55.94394034  -11.38413125    3.59936723\n",
      "  -10.99344489  -55.16256761 -128.90800095 -232.22974489 -365.12779943]\n"
     ]
    }
   ],
   "source": [
    "x = np.linspace(-10,10,10) \n",
    "y = np.array([-231.147, -127.567,  -40.952,    6.153,    8.834,    1.256,\n",
    "        -62.83 , -140.27 , -202.641, -361.278])\n",
    "plt.plot(x,y,'o')\n",
    "#plt.show() \n",
    "# 위의 2차 함수 x,y 를 다항회귀분석 하고 그래프를 그리세요\n",
    "x1 = x\n",
    "x2 = x**2\n",
    "x = np.c_[x2,x1]\n",
    "regr.fit(x,y)\n",
    "plt.plot(x1, np.sum(x*regr.coef_, axis=1) + regr.intercept_) #가로축으로 합산 \n",
    "plt.show()\n",
    "#print(x*regr.coef_)\n",
    "#print(np.sum(x*regr.coef_, axis=1))"
   ]
  },
  {
   "cell_type": "markdown",
   "metadata": {
    "id": "F1owa3-QXi06"
   },
   "source": [
    "\n",
    "## N 차항 회귀분석\n",
    "\n",
    "이번엔 3차 함수 곡선을 회귀분석 해보도록 하자  다음은 \n",
    "\n",
    "$ 4x^3 - 2x^2 + x $\n",
    "\n",
    "에 오차를 추가해 생성한 데이터이다. \n",
    "\n"
   ]
  },
  {
   "cell_type": "code",
   "execution_count": 61,
   "metadata": {
    "colab": {
     "base_uri": "https://localhost:8080/",
     "height": 265
    },
    "executionInfo": {
     "elapsed": 1424,
     "status": "ok",
     "timestamp": 1619451558551,
     "user": {
      "displayName": "messcure JNDan",
      "photoUrl": "https://lh3.googleusercontent.com/a-/AOh14Ggq2Xj7nwN863n-DdzIR-k5lDtigKwvAvISiB9i=s64",
      "userId": "00517861436348801488"
     },
     "user_tz": -540
    },
    "id": "xWVisoO6V5d3",
    "outputId": "a52beaaa-881c-4bd2-dd8e-275ac696090b"
   },
   "outputs": [
    {
     "data": {
      "image/png": "[encoded data removed]",
      "text/plain": [
       "<Figure size 432x288 with 1 Axes>"
      ]
     },
     "metadata": {
      "needs_background": "light",
      "tags": []
     },
     "output_type": "display_data"
    }
   ],
   "source": [
    "x = np.linspace(-10,10,10) \n",
    "y = np.array([-4132.6566903 , -1941.82425372,  -828.91386335,  -222.81613786,\n",
    "          62.4714198 ,   101.95907133,   154.61946937,   622.49421759,\n",
    "        1751.0369058 ,  3776.1515029 ])\n",
    "\n",
    "plt.plot(x,y,'o')\n",
    "plt.show() \n",
    "# 4*x**3 - 2 * x**2 + x"
   ]
  },
  {
   "cell_type": "markdown",
   "metadata": {
    "id": "qrbB-Y6-a35A"
   },
   "source": [
    "이 문제를 풀기위에 다항 회귀를 3차항까지 확장해보자. "
   ]
  },
  {
   "cell_type": "code",
   "execution_count": 62,
   "metadata": {
    "colab": {
     "base_uri": "https://localhost:8080/",
     "height": 283
    },
    "executionInfo": {
     "elapsed": 1306,
     "status": "ok",
     "timestamp": 1619451560848,
     "user": {
      "displayName": "messcure JNDan",
      "photoUrl": "https://lh3.googleusercontent.com/a-/AOh14Ggq2Xj7nwN863n-DdzIR-k5lDtigKwvAvISiB9i=s64",
      "userId": "00517861436348801488"
     },
     "user_tz": -540
    },
    "id": "JGcud4afWfzm",
    "outputId": "2e8eb785-fa37-432b-adef-6c1520957c16"
   },
   "outputs": [
    {
     "data": {
      "image/png": "[encoded data removed]",
      "text/plain": [
       "<Figure size 432x288 with 1 Axes>"
      ]
     },
     "metadata": {
      "needs_background": "light",
      "tags": []
     },
     "output_type": "display_data"
    },
    {
     "name": "stdout",
     "output_type": "stream",
     "text": [
      "score: 0.9994512586638173\n"
     ]
    }
   ],
   "source": [
    "x3 = x ** 3 #3승 용 변수\n",
    "x2 = x ** 2\n",
    "x1 = x \n",
    "\n",
    "xa = np.c_[x3,x2,x1]\n",
    "regr.fit(xa,y)\n",
    "\n",
    "plt.plot(x,y,'o')\n",
    "plt.plot(x, np.sum(xa * regr.coef_ + regr.intercept_ , axis = 1))\n",
    "plt.show()\n",
    "\n",
    "print(\"score:\", regr.score(xa,y))"
   ]
  },
  {
   "cell_type": "markdown",
   "metadata": {
    "id": "sAgXIbe4jWjZ"
   },
   "source": [
    "###  n 차항 x 를 만드는 함수 만들기"
   ]
  },
  {
   "cell_type": "code",
   "execution_count": 63,
   "metadata": {
    "colab": {
     "base_uri": "https://localhost:8080/"
    },
    "executionInfo": {
     "elapsed": 609,
     "status": "ok",
     "timestamp": 1619451573550,
     "user": {
      "displayName": "messcure JNDan",
      "photoUrl": "https://lh3.googleusercontent.com/a-/AOh14Ggq2Xj7nwN863n-DdzIR-k5lDtigKwvAvISiB9i=s64",
      "userId": "00517861436348801488"
     },
     "user_tz": -540
    },
    "id": "ulMzOh0qaWRR",
    "outputId": "bafd98d5-65af-4532-bf5f-83252cebf268"
   },
   "outputs": [
    {
     "data": {
      "text/plain": [
       "array([[  1,   1,   1,   1,   1],\n",
       "       [  2,   4,   8,  16,  32],\n",
       "       [  3,   9,  27,  81, 243]])"
      ]
     },
     "execution_count": 63,
     "metadata": {
      "tags": []
     },
     "output_type": "execute_result"
    }
   ],
   "source": [
    "def polyMat(x, n): \n",
    "  xa = x.reshape(-1,1)\n",
    "  for i in range(2,n+1):\n",
    "    xa = np.c_[xa, x.reshape(-1,1) ** i]\n",
    "  return xa\n",
    "\n",
    "polyMat(np.array([1,2,3]), 5 )\n",
    "'''\n",
    "array([[  1,   1,   1,   1,   1],\n",
    "       [  2,   4,   8,  16,  32],\n",
    "       [  3,   9,  27,  81, 243]])\n",
    "              **2  **3  **4  **5\n",
    "'''"
   ]
  },
  {
   "cell_type": "code",
   "execution_count": null,
   "metadata": {
    "colab": {
     "base_uri": "https://localhost:8080/"
    },
    "id": "Z5ox_4bFdi68",
    "outputId": "16d44063-7228-43aa-f570-426e05573066"
   },
   "outputs": [
    {
     "name": "stdout",
     "output_type": "stream",
     "text": [
      "[1 4 9]\n"
     ]
    }
   ],
   "source": []
  },
  {
   "cell_type": "markdown",
   "metadata": {
    "id": "_cTKzyAejoaD"
   },
   "source": [
    "### sin 함수 다항회귀분석"
   ]
  },
  {
   "cell_type": "code",
   "execution_count": 66,
   "metadata": {
    "colab": {
     "base_uri": "https://localhost:8080/",
     "height": 265
    },
    "executionInfo": {
     "elapsed": 667,
     "status": "ok",
     "timestamp": 1619452732231,
     "user": {
      "displayName": "messcure JNDan",
      "photoUrl": "https://lh3.googleusercontent.com/a-/AOh14Ggq2Xj7nwN863n-DdzIR-k5lDtigKwvAvISiB9i=s64",
      "userId": "00517861436348801488"
     },
     "user_tz": -540
    },
    "id": "XEslD4FY0ozT",
    "outputId": "1ba1649a-356a-4616-ace8-991548b3c85f"
   },
   "outputs": [
    {
     "data": {
      "image/png": "[encoded data removed]",
      "text/plain": [
       "<Figure size 432x288 with 1 Axes>"
      ]
     },
     "metadata": {
      "needs_background": "light",
      "tags": []
     },
     "output_type": "display_data"
    }
   ],
   "source": [
    "x = np.linspace(0, np.pi * 2 , 20)\n",
    "y = np.sin(x)\n",
    "plt.plot(x, y, 'o')\n",
    "plt.show()"
   ]
  },
  {
   "cell_type": "code",
   "execution_count": 67,
   "metadata": {
    "colab": {
     "base_uri": "https://localhost:8080/",
     "height": 283
    },
    "executionInfo": {
     "elapsed": 1170,
     "status": "ok",
     "timestamp": 1619452736092,
     "user": {
      "displayName": "messcure JNDan",
      "photoUrl": "https://lh3.googleusercontent.com/a-/AOh14Ggq2Xj7nwN863n-DdzIR-k5lDtigKwvAvISiB9i=s64",
      "userId": "00517861436348801488"
     },
     "user_tz": -540
    },
    "id": "b8wikwBX0r4h",
    "outputId": "687adbb4-7149-41c6-a8f8-a8b3e5804bef"
   },
   "outputs": [
    {
     "data": {
      "image/png": "[encoded data removed]",
      "text/plain": [
       "<Figure size 432x288 with 1 Axes>"
      ]
     },
     "metadata": {
      "needs_background": "light",
      "tags": []
     },
     "output_type": "display_data"
    },
    {
     "name": "stdout",
     "output_type": "stream",
     "text": [
      "score: 0.9873108766035608\n"
     ]
    }
   ],
   "source": [
    "xa = polyMat(x,4) # 2,3,4\n",
    "regr.fit(xa,y)\n",
    "\n",
    "plt.plot(x,y,'o')\n",
    "plt.plot(x, np.sum( xa * regr.coef_ , axis = 1) + regr.intercept_ )\n",
    "plt.show()\n",
    "\n",
    "print(\"score:\", regr.score(xa,y))"
   ]
  },
  {
   "cell_type": "code",
   "execution_count": 69,
   "metadata": {
    "colab": {
     "base_uri": "https://localhost:8080/",
     "height": 265
    },
    "executionInfo": {
     "elapsed": 624,
     "status": "ok",
     "timestamp": 1619452833778,
     "user": {
      "displayName": "messcure JNDan",
      "photoUrl": "https://lh3.googleusercontent.com/a-/AOh14Ggq2Xj7nwN863n-DdzIR-k5lDtigKwvAvISiB9i=s64",
      "userId": "00517861436348801488"
     },
     "user_tz": -540
    },
    "id": "XNPp_2Mpdm5a",
    "outputId": "5476eed4-309c-4441-f5bf-ebc3ea356f65"
   },
   "outputs": [
    {
     "data": {
      "image/png": "[encoded data removed]",
      "text/plain": [
       "<Figure size 432x288 with 1 Axes>"
      ]
     },
     "metadata": {
      "needs_background": "light",
      "tags": []
     },
     "output_type": "display_data"
    }
   ],
   "source": [
    "x = np.linspace(0, np.pi * 2 , 20) #pi*4 40\n",
    "y = np.sin(x*2) #x,x*2 x의 반형비율커짐, 4로하면 4주기\n",
    "#pi *10 , 400\n",
    "#(x) *100 + x**2\n",
    "plt.plot(x, y, 'o')\n",
    "plt.show()"
   ]
  },
  {
   "cell_type": "code",
   "execution_count": 77,
   "metadata": {
    "colab": {
     "base_uri": "https://localhost:8080/",
     "height": 283
    },
    "executionInfo": {
     "elapsed": 949,
     "status": "ok",
     "timestamp": 1619452983309,
     "user": {
      "displayName": "messcure JNDan",
      "photoUrl": "https://lh3.googleusercontent.com/a-/AOh14Ggq2Xj7nwN863n-DdzIR-k5lDtigKwvAvISiB9i=s64",
      "userId": "00517861436348801488"
     },
     "user_tz": -540
    },
    "id": "yLaCrjCDfv5s",
    "outputId": "eef8b5b6-3487-4680-e102-68eb06804a98"
   },
   "outputs": [
    {
     "data": {
      "image/png": "[encoded data removed]",
      "text/plain": [
       "<Figure size 432x288 with 1 Axes>"
      ]
     },
     "metadata": {
      "needs_background": "light",
      "tags": []
     },
     "output_type": "display_data"
    },
    {
     "name": "stdout",
     "output_type": "stream",
     "text": [
      "score: 0.9999999999933785\n"
     ]
    }
   ],
   "source": [
    "xa = polyMat(x,7)#7\n",
    "regr.fit(xa,y)\n",
    "\n",
    "plt.plot(x,y,'o')\n",
    "plt.plot(x, np.sum( xa * regr.coef_ , axis = 1) + regr.intercept_ )\n",
    "plt.show()\n",
    "\n",
    "print(\"score:\", regr.score(xa,y))"
   ]
  },
  {
   "cell_type": "markdown",
   "metadata": {
    "id": "SmETmV8kj7gN"
   },
   "source": [
    "### <font color = 'red'> 연습 : cos 함수 회귀분석 \n",
    "\n",
    "다음 x 가 $4\\pi$ 까지 범위의cos 함수를 그리고 0.99 이상의 정확도가 나오는 모델을 찾으세요\n",
    "</font>"
   ]
  },
  {
   "cell_type": "code",
   "execution_count": 78,
   "metadata": {
    "colab": {
     "base_uri": "https://localhost:8080/",
     "height": 283
    },
    "executionInfo": {
     "elapsed": 1324,
     "status": "ok",
     "timestamp": 1619452998460,
     "user": {
      "displayName": "messcure JNDan",
      "photoUrl": "https://lh3.googleusercontent.com/a-/AOh14Ggq2Xj7nwN863n-DdzIR-k5lDtigKwvAvISiB9i=s64",
      "userId": "00517861436348801488"
     },
     "user_tz": -540
    },
    "id": "CyIYBSzgavTO",
    "outputId": "3f8fc8c2-7616-486b-8bc4-f1b88e9ba50a"
   },
   "outputs": [
    {
     "data": {
      "text/plain": [
       "[<matplotlib.lines.Line2D at 0x7efef61c7750>]"
      ]
     },
     "execution_count": 78,
     "metadata": {
      "tags": []
     },
     "output_type": "execute_result"
    },
    {
     "data": {
      "image/png": "[encoded data removed]",
      "text/plain": [
       "<Figure size 432x288 with 1 Axes>"
      ]
     },
     "metadata": {
      "needs_background": "light",
      "tags": []
     },
     "output_type": "display_data"
    }
   ],
   "source": [
    "x = np.linspace(0, np.pi * 4 , 60) #pi*4 40\n",
    "y = np.cos(x)\n",
    "plt.plot(x,y,'.')"
   ]
  },
  {
   "cell_type": "code",
   "execution_count": 86,
   "metadata": {
    "colab": {
     "base_uri": "https://localhost:8080/",
     "height": 283
    },
    "executionInfo": {
     "elapsed": 685,
     "status": "ok",
     "timestamp": 1619453148212,
     "user": {
      "displayName": "messcure JNDan",
      "photoUrl": "https://lh3.googleusercontent.com/a-/AOh14Ggq2Xj7nwN863n-DdzIR-k5lDtigKwvAvISiB9i=s64",
      "userId": "00517861436348801488"
     },
     "user_tz": -540
    },
    "id": "xxnVYULYYZeU",
    "outputId": "8ea299a0-79bd-4f9c-bf78-7b9a697c62e9"
   },
   "outputs": [
    {
     "data": {
      "image/png": "[encoded data removed]",
      "text/plain": [
       "<Figure size 432x288 with 1 Axes>"
      ]
     },
     "metadata": {
      "needs_background": "light",
      "tags": []
     },
     "output_type": "display_data"
    },
    {
     "name": "stdout",
     "output_type": "stream",
     "text": [
      "score :  0.9995880760668908\n"
     ]
    }
   ],
   "source": [
    "#x = np.linspace(0, np.pi * 4 , 60) #pi*4 40\n",
    "#y = np.cos(x)\n",
    "#plt.plot(x,y,'.')\n",
    "\n",
    "xa = polyMat(x,8)\n",
    "regr.fit(xa,y) #구하고자하는형태(상관계수)구해줌 / x,y를 맞춰줌, but 같은 shape 이어야함 (reshape)\n",
    "regr.score(xa,y)\n",
    "\n",
    "plt.plot(x,y,'.')\n",
    "plt.plot(x,np.sum(xa*regr.coef_,axis=1) + regr.intercept_) \n",
    "#coef 상관계수\n",
    "#axis 는 축 \n",
    "#intercept는 상수,자동으로 미분해주고 상수계수 구해주는 라이브러리 \n",
    "plt.show()\n",
    "\n",
    "print(\"score : \",regr.score(xa,y))\n",
    "#plt.plot(xa,y)\n",
    "\n",
    "\n",
    "#x.reshape(-1,1),y"
   ]
  },
  {
   "cell_type": "code",
   "execution_count": 87,
   "metadata": {
    "colab": {
     "base_uri": "https://localhost:8080/",
     "height": 283
    },
    "executionInfo": {
     "elapsed": 682,
     "status": "ok",
     "timestamp": 1619453287140,
     "user": {
      "displayName": "messcure JNDan",
      "photoUrl": "https://lh3.googleusercontent.com/a-/AOh14Ggq2Xj7nwN863n-DdzIR-k5lDtigKwvAvISiB9i=s64",
      "userId": "00517861436348801488"
     },
     "user_tz": -540
    },
    "id": "CVlxOtn2d_5x",
    "outputId": "6adb39b6-0626-4f18-cb2d-613ac373196d"
   },
   "outputs": [
    {
     "data": {
      "text/plain": [
       "[<matplotlib.lines.Line2D at 0x7efef6245a50>]"
      ]
     },
     "execution_count": 87,
     "metadata": {
      "tags": []
     },
     "output_type": "execute_result"
    },
    {
     "data": {
      "image/png": "[encoded data removed]",
      "text/plain": [
       "<Figure size 432x288 with 1 Axes>"
      ]
     },
     "metadata": {
      "needs_background": "light",
      "tags": []
     },
     "output_type": "display_data"
    }
   ],
   "source": [
    "x = np.linspace(0, np.pi * 10 , 400) #pi*4 40\n",
    "y = np.sin(x) * 100 + x**2\n",
    "plt.plot(x,y,'.')"
   ]
  },
  {
   "cell_type": "code",
   "execution_count": 88,
   "metadata": {
    "colab": {
     "base_uri": "https://localhost:8080/",
     "height": 265
    },
    "executionInfo": {
     "elapsed": 645,
     "status": "ok",
     "timestamp": 1619453326519,
     "user": {
      "displayName": "messcure JNDan",
      "photoUrl": "https://lh3.googleusercontent.com/a-/AOh14Ggq2Xj7nwN863n-DdzIR-k5lDtigKwvAvISiB9i=s64",
      "userId": "00517861436348801488"
     },
     "user_tz": -540
    },
    "id": "TXfC4OvreMyY",
    "outputId": "d934e23d-f7eb-4490-f65d-310779a30709"
   },
   "outputs": [
    {
     "data": {
      "image/png": "[encoded data removed]",
      "text/plain": [
       "<Figure size 432x288 with 1 Axes>"
      ]
     },
     "metadata": {
      "needs_background": "light",
      "tags": []
     },
     "output_type": "display_data"
    }
   ],
   "source": [
    "xa = polyMat(x,5)\n",
    "xa = np.c_[xa,np.sin(x).reshape(-1,1)]\n",
    "regr.fit(xa,y)\n",
    "regr.score(xa,y)\n",
    "\n",
    "plt.plot(x,y,'.')\n",
    "plt.plot(x,np.sum(xa*regr.coef_,axis=1) + regr.intercept_) \n",
    "\n",
    "plt.show()"
   ]
  },
  {
   "cell_type": "code",
   "execution_count": null,
   "metadata": {
    "colab": {
     "base_uri": "https://localhost:8080/"
    },
    "executionInfo": {
     "elapsed": 606,
     "status": "ok",
     "timestamp": 1618204358635,
     "user": {
      "displayName": "messcure JNDan",
      "photoUrl": "https://lh3.googleusercontent.com/a-/AOh14Ggq2Xj7nwN863n-DdzIR-k5lDtigKwvAvISiB9i=s64",
      "userId": "00517861436348801488"
     },
     "user_tz": -540
    },
    "id": "SeLPAa4CgcUp",
    "outputId": "ac9b6de4-213c-4f5b-e64b-63420e586626"
   },
   "outputs": [
    {
     "name": "stdout",
     "output_type": "stream",
     "text": [
      "(400,)\n"
     ]
    }
   ],
   "source": [
    "#설명 \n",
    "#print(xa)\n",
    "#print(regr.coef_)\n",
    "#print(xa*regr.coef_)#6열 종대 곱하기 6개씩값이 나오는\n",
    "print(np.sum(xa*regr.coef_,axis=1)) #1번가로축 0번세로축 총 데이터 60개\n",
    "print(np.sum(xa*regr.coef_,axis=1)).shape)\n",
    "#plt.plot(x,y,'o')\n",
    "#plt.plot(x,np.sum(xa*regr.coef_,axis=1)+regr.coef_)\n",
    "#plt.show()"
   ]
  }
 ],
 "metadata": {
  "colab": {
   "collapsed_sections": [],
   "name": "4. regression_linear.ipynb의 사본(단순2차항분석부터)",
   "provenance": [
    {
     "file_id": "https://github.com/decoz/mlclass/blob/master/4_regression_linear.ipynb",
     "timestamp": 1618200444187
    }
   ],
   "toc_visible": true
  },
  "kernelspec": {
   "display_name": "Python 3",
   "language": "python",
   "name": "python3"
  },
  "language_info": {
   "codemirror_mode": {
    "name": "ipython",
    "version": 3
   },
   "file_extension": ".py",
   "mimetype": "text/x-python",
   "name": "python",
   "nbconvert_exporter": "python",
   "pygments_lexer": "ipython3",
   "version": "3.8.5"
  }
 },
 "nbformat": 4,
 "nbformat_minor": 1
}
