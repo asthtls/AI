{
  "nbformat": 4,
  "nbformat_minor": 0,
  "metadata": {
    "colab": {
      "name": "10_pytorch_mnist_ipynb_20210607_수시.ipynb",
      "provenance": [],
      "collapsed_sections": []
    },
    "kernelspec": {
      "name": "python3",
      "display_name": "Python 3"
    },
    "language_info": {
      "name": "python"
    },
    "accelerator": "GPU",
    "widgets": {
      "application/vnd.jupyter.widget-state+json": {
        "fc58ef28eeb649a5b18bc8763edd4630": {
          "model_module": "@jupyter-widgets/controls",
          "model_name": "HBoxModel",
          "state": {
            "_view_name": "HBoxView",
            "_dom_classes": [],
            "_model_name": "HBoxModel",
            "_view_module": "@jupyter-widgets/controls",
            "_model_module_version": "1.5.0",
            "_view_count": null,
            "_view_module_version": "1.5.0",
            "box_style": "",
            "layout": "IPY_MODEL_33c901b7a6704fd3bf142b5eefa6d273",
            "_model_module": "@jupyter-widgets/controls",
            "children": [
              "IPY_MODEL_3f16158aca494053a4473d3f3f1d56ec",
              "IPY_MODEL_503c70ae6c644bd486e45cf805579ff9"
            ]
          }
        },
        "33c901b7a6704fd3bf142b5eefa6d273": {
          "model_module": "@jupyter-widgets/base",
          "model_name": "LayoutModel",
          "state": {
            "_view_name": "LayoutView",
            "grid_template_rows": null,
            "right": null,
            "justify_content": null,
            "_view_module": "@jupyter-widgets/base",
            "overflow": null,
            "_model_module_version": "1.2.0",
            "_view_count": null,
            "flex_flow": null,
            "width": null,
            "min_width": null,
            "border": null,
            "align_items": null,
            "bottom": null,
            "_model_module": "@jupyter-widgets/base",
            "top": null,
            "grid_column": null,
            "overflow_y": null,
            "overflow_x": null,
            "grid_auto_flow": null,
            "grid_area": null,
            "grid_template_columns": null,
            "flex": null,
            "_model_name": "LayoutModel",
            "justify_items": null,
            "grid_row": null,
            "max_height": null,
            "align_content": null,
            "visibility": null,
            "align_self": null,
            "height": null,
            "min_height": null,
            "padding": null,
            "grid_auto_rows": null,
            "grid_gap": null,
            "max_width": null,
            "order": null,
            "_view_module_version": "1.2.0",
            "grid_template_areas": null,
            "object_position": null,
            "object_fit": null,
            "grid_auto_columns": null,
            "margin": null,
            "display": null,
            "left": null
          }
        },
        "3f16158aca494053a4473d3f3f1d56ec": {
          "model_module": "@jupyter-widgets/controls",
          "model_name": "FloatProgressModel",
          "state": {
            "_view_name": "ProgressView",
            "style": "IPY_MODEL_fd035866d7614290b432b6f60e6fb21a",
            "_dom_classes": [],
            "description": "",
            "_model_name": "FloatProgressModel",
            "bar_style": "success",
            "max": 9912422,
            "_view_module": "@jupyter-widgets/controls",
            "_model_module_version": "1.5.0",
            "value": 9912422,
            "_view_count": null,
            "_view_module_version": "1.5.0",
            "orientation": "horizontal",
            "min": 0,
            "description_tooltip": null,
            "_model_module": "@jupyter-widgets/controls",
            "layout": "IPY_MODEL_7d0e1b6530214aca9c631802a9350990"
          }
        },
        "503c70ae6c644bd486e45cf805579ff9": {
          "model_module": "@jupyter-widgets/controls",
          "model_name": "HTMLModel",
          "state": {
            "_view_name": "HTMLView",
            "style": "IPY_MODEL_99f2114c5f444e6786317bace53024b4",
            "_dom_classes": [],
            "description": "",
            "_model_name": "HTMLModel",
            "placeholder": "​",
            "_view_module": "@jupyter-widgets/controls",
            "_model_module_version": "1.5.0",
            "value": " 9913344/? [07:21&lt;00:00, 22462.65it/s]",
            "_view_count": null,
            "_view_module_version": "1.5.0",
            "description_tooltip": null,
            "_model_module": "@jupyter-widgets/controls",
            "layout": "IPY_MODEL_c64212ba52114e31affb31e0c5ef9278"
          }
        },
        "fd035866d7614290b432b6f60e6fb21a": {
          "model_module": "@jupyter-widgets/controls",
          "model_name": "ProgressStyleModel",
          "state": {
            "_view_name": "StyleView",
            "_model_name": "ProgressStyleModel",
            "description_width": "initial",
            "_view_module": "@jupyter-widgets/base",
            "_model_module_version": "1.5.0",
            "_view_count": null,
            "_view_module_version": "1.2.0",
            "bar_color": null,
            "_model_module": "@jupyter-widgets/controls"
          }
        },
        "7d0e1b6530214aca9c631802a9350990": {
          "model_module": "@jupyter-widgets/base",
          "model_name": "LayoutModel",
          "state": {
            "_view_name": "LayoutView",
            "grid_template_rows": null,
            "right": null,
            "justify_content": null,
            "_view_module": "@jupyter-widgets/base",
            "overflow": null,
            "_model_module_version": "1.2.0",
            "_view_count": null,
            "flex_flow": null,
            "width": null,
            "min_width": null,
            "border": null,
            "align_items": null,
            "bottom": null,
            "_model_module": "@jupyter-widgets/base",
            "top": null,
            "grid_column": null,
            "overflow_y": null,
            "overflow_x": null,
            "grid_auto_flow": null,
            "grid_area": null,
            "grid_template_columns": null,
            "flex": null,
            "_model_name": "LayoutModel",
            "justify_items": null,
            "grid_row": null,
            "max_height": null,
            "align_content": null,
            "visibility": null,
            "align_self": null,
            "height": null,
            "min_height": null,
            "padding": null,
            "grid_auto_rows": null,
            "grid_gap": null,
            "max_width": null,
            "order": null,
            "_view_module_version": "1.2.0",
            "grid_template_areas": null,
            "object_position": null,
            "object_fit": null,
            "grid_auto_columns": null,
            "margin": null,
            "display": null,
            "left": null
          }
        },
        "99f2114c5f444e6786317bace53024b4": {
          "model_module": "@jupyter-widgets/controls",
          "model_name": "DescriptionStyleModel",
          "state": {
            "_view_name": "StyleView",
            "_model_name": "DescriptionStyleModel",
            "description_width": "",
            "_view_module": "@jupyter-widgets/base",
            "_model_module_version": "1.5.0",
            "_view_count": null,
            "_view_module_version": "1.2.0",
            "_model_module": "@jupyter-widgets/controls"
          }
        },
        "c64212ba52114e31affb31e0c5ef9278": {
          "model_module": "@jupyter-widgets/base",
          "model_name": "LayoutModel",
          "state": {
            "_view_name": "LayoutView",
            "grid_template_rows": null,
            "right": null,
            "justify_content": null,
            "_view_module": "@jupyter-widgets/base",
            "overflow": null,
            "_model_module_version": "1.2.0",
            "_view_count": null,
            "flex_flow": null,
            "width": null,
            "min_width": null,
            "border": null,
            "align_items": null,
            "bottom": null,
            "_model_module": "@jupyter-widgets/base",
            "top": null,
            "grid_column": null,
            "overflow_y": null,
            "overflow_x": null,
            "grid_auto_flow": null,
            "grid_area": null,
            "grid_template_columns": null,
            "flex": null,
            "_model_name": "LayoutModel",
            "justify_items": null,
            "grid_row": null,
            "max_height": null,
            "align_content": null,
            "visibility": null,
            "align_self": null,
            "height": null,
            "min_height": null,
            "padding": null,
            "grid_auto_rows": null,
            "grid_gap": null,
            "max_width": null,
            "order": null,
            "_view_module_version": "1.2.0",
            "grid_template_areas": null,
            "object_position": null,
            "object_fit": null,
            "grid_auto_columns": null,
            "margin": null,
            "display": null,
            "left": null
          }
        },
        "c9e522b31875438bb9f92e79ec8400d3": {
          "model_module": "@jupyter-widgets/controls",
          "model_name": "HBoxModel",
          "state": {
            "_view_name": "HBoxView",
            "_dom_classes": [],
            "_model_name": "HBoxModel",
            "_view_module": "@jupyter-widgets/controls",
            "_model_module_version": "1.5.0",
            "_view_count": null,
            "_view_module_version": "1.5.0",
            "box_style": "",
            "layout": "IPY_MODEL_a1641cb40d5c47ee964005af580d71ec",
            "_model_module": "@jupyter-widgets/controls",
            "children": [
              "IPY_MODEL_bb62ad2b67094d57aa6e02f99efdb66e",
              "IPY_MODEL_57fa56ea6bf4402f8174a258fdc56ab2"
            ]
          }
        },
        "a1641cb40d5c47ee964005af580d71ec": {
          "model_module": "@jupyter-widgets/base",
          "model_name": "LayoutModel",
          "state": {
            "_view_name": "LayoutView",
            "grid_template_rows": null,
            "right": null,
            "justify_content": null,
            "_view_module": "@jupyter-widgets/base",
            "overflow": null,
            "_model_module_version": "1.2.0",
            "_view_count": null,
            "flex_flow": null,
            "width": null,
            "min_width": null,
            "border": null,
            "align_items": null,
            "bottom": null,
            "_model_module": "@jupyter-widgets/base",
            "top": null,
            "grid_column": null,
            "overflow_y": null,
            "overflow_x": null,
            "grid_auto_flow": null,
            "grid_area": null,
            "grid_template_columns": null,
            "flex": null,
            "_model_name": "LayoutModel",
            "justify_items": null,
            "grid_row": null,
            "max_height": null,
            "align_content": null,
            "visibility": null,
            "align_self": null,
            "height": null,
            "min_height": null,
            "padding": null,
            "grid_auto_rows": null,
            "grid_gap": null,
            "max_width": null,
            "order": null,
            "_view_module_version": "1.2.0",
            "grid_template_areas": null,
            "object_position": null,
            "object_fit": null,
            "grid_auto_columns": null,
            "margin": null,
            "display": null,
            "left": null
          }
        },
        "bb62ad2b67094d57aa6e02f99efdb66e": {
          "model_module": "@jupyter-widgets/controls",
          "model_name": "FloatProgressModel",
          "state": {
            "_view_name": "ProgressView",
            "style": "IPY_MODEL_f8632f499a844ecd9942393904840113",
            "_dom_classes": [],
            "description": "",
            "_model_name": "FloatProgressModel",
            "bar_style": "success",
            "max": 28881,
            "_view_module": "@jupyter-widgets/controls",
            "_model_module_version": "1.5.0",
            "value": 28881,
            "_view_count": null,
            "_view_module_version": "1.5.0",
            "orientation": "horizontal",
            "min": 0,
            "description_tooltip": null,
            "_model_module": "@jupyter-widgets/controls",
            "layout": "IPY_MODEL_4f97a61d6e51416e9813b4ced5796652"
          }
        },
        "57fa56ea6bf4402f8174a258fdc56ab2": {
          "model_module": "@jupyter-widgets/controls",
          "model_name": "HTMLModel",
          "state": {
            "_view_name": "HTMLView",
            "style": "IPY_MODEL_2424394db235425a811fbbc01f82822d",
            "_dom_classes": [],
            "description": "",
            "_model_name": "HTMLModel",
            "placeholder": "​",
            "_view_module": "@jupyter-widgets/controls",
            "_model_module_version": "1.5.0",
            "value": " 29696/? [02:49&lt;00:00, 175.27it/s]",
            "_view_count": null,
            "_view_module_version": "1.5.0",
            "description_tooltip": null,
            "_model_module": "@jupyter-widgets/controls",
            "layout": "IPY_MODEL_11944346b1b34b5e9e90e88bead849ae"
          }
        },
        "f8632f499a844ecd9942393904840113": {
          "model_module": "@jupyter-widgets/controls",
          "model_name": "ProgressStyleModel",
          "state": {
            "_view_name": "StyleView",
            "_model_name": "ProgressStyleModel",
            "description_width": "initial",
            "_view_module": "@jupyter-widgets/base",
            "_model_module_version": "1.5.0",
            "_view_count": null,
            "_view_module_version": "1.2.0",
            "bar_color": null,
            "_model_module": "@jupyter-widgets/controls"
          }
        },
        "4f97a61d6e51416e9813b4ced5796652": {
          "model_module": "@jupyter-widgets/base",
          "model_name": "LayoutModel",
          "state": {
            "_view_name": "LayoutView",
            "grid_template_rows": null,
            "right": null,
            "justify_content": null,
            "_view_module": "@jupyter-widgets/base",
            "overflow": null,
            "_model_module_version": "1.2.0",
            "_view_count": null,
            "flex_flow": null,
            "width": null,
            "min_width": null,
            "border": null,
            "align_items": null,
            "bottom": null,
            "_model_module": "@jupyter-widgets/base",
            "top": null,
            "grid_column": null,
            "overflow_y": null,
            "overflow_x": null,
            "grid_auto_flow": null,
            "grid_area": null,
            "grid_template_columns": null,
            "flex": null,
            "_model_name": "LayoutModel",
            "justify_items": null,
            "grid_row": null,
            "max_height": null,
            "align_content": null,
            "visibility": null,
            "align_self": null,
            "height": null,
            "min_height": null,
            "padding": null,
            "grid_auto_rows": null,
            "grid_gap": null,
            "max_width": null,
            "order": null,
            "_view_module_version": "1.2.0",
            "grid_template_areas": null,
            "object_position": null,
            "object_fit": null,
            "grid_auto_columns": null,
            "margin": null,
            "display": null,
            "left": null
          }
        },
        "2424394db235425a811fbbc01f82822d": {
          "model_module": "@jupyter-widgets/controls",
          "model_name": "DescriptionStyleModel",
          "state": {
            "_view_name": "StyleView",
            "_model_name": "DescriptionStyleModel",
            "description_width": "",
            "_view_module": "@jupyter-widgets/base",
            "_model_module_version": "1.5.0",
            "_view_count": null,
            "_view_module_version": "1.2.0",
            "_model_module": "@jupyter-widgets/controls"
          }
        },
        "11944346b1b34b5e9e90e88bead849ae": {
          "model_module": "@jupyter-widgets/base",
          "model_name": "LayoutModel",
          "state": {
            "_view_name": "LayoutView",
            "grid_template_rows": null,
            "right": null,
            "justify_content": null,
            "_view_module": "@jupyter-widgets/base",
            "overflow": null,
            "_model_module_version": "1.2.0",
            "_view_count": null,
            "flex_flow": null,
            "width": null,
            "min_width": null,
            "border": null,
            "align_items": null,
            "bottom": null,
            "_model_module": "@jupyter-widgets/base",
            "top": null,
            "grid_column": null,
            "overflow_y": null,
            "overflow_x": null,
            "grid_auto_flow": null,
            "grid_area": null,
            "grid_template_columns": null,
            "flex": null,
            "_model_name": "LayoutModel",
            "justify_items": null,
            "grid_row": null,
            "max_height": null,
            "align_content": null,
            "visibility": null,
            "align_self": null,
            "height": null,
            "min_height": null,
            "padding": null,
            "grid_auto_rows": null,
            "grid_gap": null,
            "max_width": null,
            "order": null,
            "_view_module_version": "1.2.0",
            "grid_template_areas": null,
            "object_position": null,
            "object_fit": null,
            "grid_auto_columns": null,
            "margin": null,
            "display": null,
            "left": null
          }
        },
        "b1feda0bd3714f19982e4ad070fd552a": {
          "model_module": "@jupyter-widgets/controls",
          "model_name": "HBoxModel",
          "state": {
            "_view_name": "HBoxView",
            "_dom_classes": [],
            "_model_name": "HBoxModel",
            "_view_module": "@jupyter-widgets/controls",
            "_model_module_version": "1.5.0",
            "_view_count": null,
            "_view_module_version": "1.5.0",
            "box_style": "",
            "layout": "IPY_MODEL_58bfb70c54a942c2ba5680abbd8bedac",
            "_model_module": "@jupyter-widgets/controls",
            "children": [
              "IPY_MODEL_3c6d2b4b956649269ef527f7d5f55f74",
              "IPY_MODEL_0d364d0b570845d09f2ecfa1218e586d"
            ]
          }
        },
        "58bfb70c54a942c2ba5680abbd8bedac": {
          "model_module": "@jupyter-widgets/base",
          "model_name": "LayoutModel",
          "state": {
            "_view_name": "LayoutView",
            "grid_template_rows": null,
            "right": null,
            "justify_content": null,
            "_view_module": "@jupyter-widgets/base",
            "overflow": null,
            "_model_module_version": "1.2.0",
            "_view_count": null,
            "flex_flow": null,
            "width": null,
            "min_width": null,
            "border": null,
            "align_items": null,
            "bottom": null,
            "_model_module": "@jupyter-widgets/base",
            "top": null,
            "grid_column": null,
            "overflow_y": null,
            "overflow_x": null,
            "grid_auto_flow": null,
            "grid_area": null,
            "grid_template_columns": null,
            "flex": null,
            "_model_name": "LayoutModel",
            "justify_items": null,
            "grid_row": null,
            "max_height": null,
            "align_content": null,
            "visibility": null,
            "align_self": null,
            "height": null,
            "min_height": null,
            "padding": null,
            "grid_auto_rows": null,
            "grid_gap": null,
            "max_width": null,
            "order": null,
            "_view_module_version": "1.2.0",
            "grid_template_areas": null,
            "object_position": null,
            "object_fit": null,
            "grid_auto_columns": null,
            "margin": null,
            "display": null,
            "left": null
          }
        },
        "3c6d2b4b956649269ef527f7d5f55f74": {
          "model_module": "@jupyter-widgets/controls",
          "model_name": "FloatProgressModel",
          "state": {
            "_view_name": "ProgressView",
            "style": "IPY_MODEL_373de6e8632e482e880f31f320195586",
            "_dom_classes": [],
            "description": "",
            "_model_name": "FloatProgressModel",
            "bar_style": "success",
            "max": 1648877,
            "_view_module": "@jupyter-widgets/controls",
            "_model_module_version": "1.5.0",
            "value": 1648877,
            "_view_count": null,
            "_view_module_version": "1.5.0",
            "orientation": "horizontal",
            "min": 0,
            "description_tooltip": null,
            "_model_module": "@jupyter-widgets/controls",
            "layout": "IPY_MODEL_f750d0575ca2483db1a4571f708989e4"
          }
        },
        "0d364d0b570845d09f2ecfa1218e586d": {
          "model_module": "@jupyter-widgets/controls",
          "model_name": "HTMLModel",
          "state": {
            "_view_name": "HTMLView",
            "style": "IPY_MODEL_30d66725b67840e78daf3339f28a1c03",
            "_dom_classes": [],
            "description": "",
            "_model_name": "HTMLModel",
            "placeholder": "​",
            "_view_module": "@jupyter-widgets/controls",
            "_model_module_version": "1.5.0",
            "value": " 1649664/? [00:02&lt;00:00, 763360.29it/s]",
            "_view_count": null,
            "_view_module_version": "1.5.0",
            "description_tooltip": null,
            "_model_module": "@jupyter-widgets/controls",
            "layout": "IPY_MODEL_e24329413b9649ff99262506d64e2046"
          }
        },
        "373de6e8632e482e880f31f320195586": {
          "model_module": "@jupyter-widgets/controls",
          "model_name": "ProgressStyleModel",
          "state": {
            "_view_name": "StyleView",
            "_model_name": "ProgressStyleModel",
            "description_width": "initial",
            "_view_module": "@jupyter-widgets/base",
            "_model_module_version": "1.5.0",
            "_view_count": null,
            "_view_module_version": "1.2.0",
            "bar_color": null,
            "_model_module": "@jupyter-widgets/controls"
          }
        },
        "f750d0575ca2483db1a4571f708989e4": {
          "model_module": "@jupyter-widgets/base",
          "model_name": "LayoutModel",
          "state": {
            "_view_name": "LayoutView",
            "grid_template_rows": null,
            "right": null,
            "justify_content": null,
            "_view_module": "@jupyter-widgets/base",
            "overflow": null,
            "_model_module_version": "1.2.0",
            "_view_count": null,
            "flex_flow": null,
            "width": null,
            "min_width": null,
            "border": null,
            "align_items": null,
            "bottom": null,
            "_model_module": "@jupyter-widgets/base",
            "top": null,
            "grid_column": null,
            "overflow_y": null,
            "overflow_x": null,
            "grid_auto_flow": null,
            "grid_area": null,
            "grid_template_columns": null,
            "flex": null,
            "_model_name": "LayoutModel",
            "justify_items": null,
            "grid_row": null,
            "max_height": null,
            "align_content": null,
            "visibility": null,
            "align_self": null,
            "height": null,
            "min_height": null,
            "padding": null,
            "grid_auto_rows": null,
            "grid_gap": null,
            "max_width": null,
            "order": null,
            "_view_module_version": "1.2.0",
            "grid_template_areas": null,
            "object_position": null,
            "object_fit": null,
            "grid_auto_columns": null,
            "margin": null,
            "display": null,
            "left": null
          }
        },
        "30d66725b67840e78daf3339f28a1c03": {
          "model_module": "@jupyter-widgets/controls",
          "model_name": "DescriptionStyleModel",
          "state": {
            "_view_name": "StyleView",
            "_model_name": "DescriptionStyleModel",
            "description_width": "",
            "_view_module": "@jupyter-widgets/base",
            "_model_module_version": "1.5.0",
            "_view_count": null,
            "_view_module_version": "1.2.0",
            "_model_module": "@jupyter-widgets/controls"
          }
        },
        "e24329413b9649ff99262506d64e2046": {
          "model_module": "@jupyter-widgets/base",
          "model_name": "LayoutModel",
          "state": {
            "_view_name": "LayoutView",
            "grid_template_rows": null,
            "right": null,
            "justify_content": null,
            "_view_module": "@jupyter-widgets/base",
            "overflow": null,
            "_model_module_version": "1.2.0",
            "_view_count": null,
            "flex_flow": null,
            "width": null,
            "min_width": null,
            "border": null,
            "align_items": null,
            "bottom": null,
            "_model_module": "@jupyter-widgets/base",
            "top": null,
            "grid_column": null,
            "overflow_y": null,
            "overflow_x": null,
            "grid_auto_flow": null,
            "grid_area": null,
            "grid_template_columns": null,
            "flex": null,
            "_model_name": "LayoutModel",
            "justify_items": null,
            "grid_row": null,
            "max_height": null,
            "align_content": null,
            "visibility": null,
            "align_self": null,
            "height": null,
            "min_height": null,
            "padding": null,
            "grid_auto_rows": null,
            "grid_gap": null,
            "max_width": null,
            "order": null,
            "_view_module_version": "1.2.0",
            "grid_template_areas": null,
            "object_position": null,
            "object_fit": null,
            "grid_auto_columns": null,
            "margin": null,
            "display": null,
            "left": null
          }
        },
        "5adf0edec7d940f4a31a53e783de09dd": {
          "model_module": "@jupyter-widgets/controls",
          "model_name": "HBoxModel",
          "state": {
            "_view_name": "HBoxView",
            "_dom_classes": [],
            "_model_name": "HBoxModel",
            "_view_module": "@jupyter-widgets/controls",
            "_model_module_version": "1.5.0",
            "_view_count": null,
            "_view_module_version": "1.5.0",
            "box_style": "",
            "layout": "IPY_MODEL_dd694c239d834ef3a2487b5528a3786f",
            "_model_module": "@jupyter-widgets/controls",
            "children": [
              "IPY_MODEL_2205e4d6dff24f9599f9bfacaa11689d",
              "IPY_MODEL_505992a6154041268fecc32b43b224fd"
            ]
          }
        },
        "dd694c239d834ef3a2487b5528a3786f": {
          "model_module": "@jupyter-widgets/base",
          "model_name": "LayoutModel",
          "state": {
            "_view_name": "LayoutView",
            "grid_template_rows": null,
            "right": null,
            "justify_content": null,
            "_view_module": "@jupyter-widgets/base",
            "overflow": null,
            "_model_module_version": "1.2.0",
            "_view_count": null,
            "flex_flow": null,
            "width": null,
            "min_width": null,
            "border": null,
            "align_items": null,
            "bottom": null,
            "_model_module": "@jupyter-widgets/base",
            "top": null,
            "grid_column": null,
            "overflow_y": null,
            "overflow_x": null,
            "grid_auto_flow": null,
            "grid_area": null,
            "grid_template_columns": null,
            "flex": null,
            "_model_name": "LayoutModel",
            "justify_items": null,
            "grid_row": null,
            "max_height": null,
            "align_content": null,
            "visibility": null,
            "align_self": null,
            "height": null,
            "min_height": null,
            "padding": null,
            "grid_auto_rows": null,
            "grid_gap": null,
            "max_width": null,
            "order": null,
            "_view_module_version": "1.2.0",
            "grid_template_areas": null,
            "object_position": null,
            "object_fit": null,
            "grid_auto_columns": null,
            "margin": null,
            "display": null,
            "left": null
          }
        },
        "2205e4d6dff24f9599f9bfacaa11689d": {
          "model_module": "@jupyter-widgets/controls",
          "model_name": "FloatProgressModel",
          "state": {
            "_view_name": "ProgressView",
            "style": "IPY_MODEL_8ee6657cb5eb47f593449b14bd7ababe",
            "_dom_classes": [],
            "description": "",
            "_model_name": "FloatProgressModel",
            "bar_style": "success",
            "max": 4542,
            "_view_module": "@jupyter-widgets/controls",
            "_model_module_version": "1.5.0",
            "value": 4542,
            "_view_count": null,
            "_view_module_version": "1.5.0",
            "orientation": "horizontal",
            "min": 0,
            "description_tooltip": null,
            "_model_module": "@jupyter-widgets/controls",
            "layout": "IPY_MODEL_6a3b751e03b04b52a03ce75d61136d3f"
          }
        },
        "505992a6154041268fecc32b43b224fd": {
          "model_module": "@jupyter-widgets/controls",
          "model_name": "HTMLModel",
          "state": {
            "_view_name": "HTMLView",
            "style": "IPY_MODEL_c43fc68ef0a64400a24351a18b311c6c",
            "_dom_classes": [],
            "description": "",
            "_model_name": "HTMLModel",
            "placeholder": "​",
            "_view_module": "@jupyter-widgets/controls",
            "_model_module_version": "1.5.0",
            "value": " 5120/? [00:00&lt;00:00, 19000.56it/s]",
            "_view_count": null,
            "_view_module_version": "1.5.0",
            "description_tooltip": null,
            "_model_module": "@jupyter-widgets/controls",
            "layout": "IPY_MODEL_e832fb40b3604828a55f652309be2287"
          }
        },
        "8ee6657cb5eb47f593449b14bd7ababe": {
          "model_module": "@jupyter-widgets/controls",
          "model_name": "ProgressStyleModel",
          "state": {
            "_view_name": "StyleView",
            "_model_name": "ProgressStyleModel",
            "description_width": "initial",
            "_view_module": "@jupyter-widgets/base",
            "_model_module_version": "1.5.0",
            "_view_count": null,
            "_view_module_version": "1.2.0",
            "bar_color": null,
            "_model_module": "@jupyter-widgets/controls"
          }
        },
        "6a3b751e03b04b52a03ce75d61136d3f": {
          "model_module": "@jupyter-widgets/base",
          "model_name": "LayoutModel",
          "state": {
            "_view_name": "LayoutView",
            "grid_template_rows": null,
            "right": null,
            "justify_content": null,
            "_view_module": "@jupyter-widgets/base",
            "overflow": null,
            "_model_module_version": "1.2.0",
            "_view_count": null,
            "flex_flow": null,
            "width": null,
            "min_width": null,
            "border": null,
            "align_items": null,
            "bottom": null,
            "_model_module": "@jupyter-widgets/base",
            "top": null,
            "grid_column": null,
            "overflow_y": null,
            "overflow_x": null,
            "grid_auto_flow": null,
            "grid_area": null,
            "grid_template_columns": null,
            "flex": null,
            "_model_name": "LayoutModel",
            "justify_items": null,
            "grid_row": null,
            "max_height": null,
            "align_content": null,
            "visibility": null,
            "align_self": null,
            "height": null,
            "min_height": null,
            "padding": null,
            "grid_auto_rows": null,
            "grid_gap": null,
            "max_width": null,
            "order": null,
            "_view_module_version": "1.2.0",
            "grid_template_areas": null,
            "object_position": null,
            "object_fit": null,
            "grid_auto_columns": null,
            "margin": null,
            "display": null,
            "left": null
          }
        },
        "c43fc68ef0a64400a24351a18b311c6c": {
          "model_module": "@jupyter-widgets/controls",
          "model_name": "DescriptionStyleModel",
          "state": {
            "_view_name": "StyleView",
            "_model_name": "DescriptionStyleModel",
            "description_width": "",
            "_view_module": "@jupyter-widgets/base",
            "_model_module_version": "1.5.0",
            "_view_count": null,
            "_view_module_version": "1.2.0",
            "_model_module": "@jupyter-widgets/controls"
          }
        },
        "e832fb40b3604828a55f652309be2287": {
          "model_module": "@jupyter-widgets/base",
          "model_name": "LayoutModel",
          "state": {
            "_view_name": "LayoutView",
            "grid_template_rows": null,
            "right": null,
            "justify_content": null,
            "_view_module": "@jupyter-widgets/base",
            "overflow": null,
            "_model_module_version": "1.2.0",
            "_view_count": null,
            "flex_flow": null,
            "width": null,
            "min_width": null,
            "border": null,
            "align_items": null,
            "bottom": null,
            "_model_module": "@jupyter-widgets/base",
            "top": null,
            "grid_column": null,
            "overflow_y": null,
            "overflow_x": null,
            "grid_auto_flow": null,
            "grid_area": null,
            "grid_template_columns": null,
            "flex": null,
            "_model_name": "LayoutModel",
            "justify_items": null,
            "grid_row": null,
            "max_height": null,
            "align_content": null,
            "visibility": null,
            "align_self": null,
            "height": null,
            "min_height": null,
            "padding": null,
            "grid_auto_rows": null,
            "grid_gap": null,
            "max_width": null,
            "order": null,
            "_view_module_version": "1.2.0",
            "grid_template_areas": null,
            "object_position": null,
            "object_fit": null,
            "grid_auto_columns": null,
            "margin": null,
            "display": null,
            "left": null
          }
        }
      }
    }
  },
  "cells": [
    {
      "cell_type": "markdown",
      "metadata": {
        "id": "hcfBJY5dvYLM"
      },
      "source": [
        "# Mnist Data 로 학습하기\n",
        "\n",
        "MNIST database 란 (Modified National Institute of Standards and Technology database) 의 약자로서 미국에서 사람의 손글씨 학습을 위해 수집된 숫자 손글씨의 모음데이터이다. 원래는 Nist 데이터라고 불렸는데 이를 머신러닝에 적합하게 수정함으로서 Modified NIST 의 약자로 MNIST라 불린다.  주로 28x28 의 작은 60000 개의 학습이미지와 10000 개의 테스트 이미지로 구성되어있으며 각각에 대한 레이블 값도 제공된다. \n",
        "\n",
        "요즘은 28x28 로 구성된 작은 학습이미지 샘플 자체를 MNIST라고 부르기도 한다. "
      ]
    },
    {
      "cell_type": "markdown",
      "metadata": {
        "id": "xFrTi0VhvzDk"
      },
      "source": [
        "## Mnist Data 생성\n",
        "\n",
        "Mnist 는 Torchvision 이라는 torch 의 보조 라이브러리통해 제공된다. "
      ]
    },
    {
      "cell_type": "code",
      "metadata": {
        "id": "K9cY35W4QMhq"
      },
      "source": [
        "import torch as tc\n",
        "import torchvision as tcv\n"
      ],
      "execution_count": 1,
      "outputs": []
    },
    {
      "cell_type": "markdown",
      "metadata": {
        "id": "Fa6b8eySwDJC"
      },
      "source": [
        "이제  Mnist 데이터를 읽어들여보겠다. 약 3-4분정도가 소요된다. "
      ]
    },
    {
      "cell_type": "code",
      "metadata": {
        "id": "gVCmxXb-Rm8w",
        "colab": {
          "base_uri": "https://localhost:8080/",
          "height": 687,
          "referenced_widgets": [
            "fc58ef28eeb649a5b18bc8763edd4630",
            "33c901b7a6704fd3bf142b5eefa6d273",
            "3f16158aca494053a4473d3f3f1d56ec",
            "503c70ae6c644bd486e45cf805579ff9",
            "fd035866d7614290b432b6f60e6fb21a",
            "7d0e1b6530214aca9c631802a9350990",
            "99f2114c5f444e6786317bace53024b4",
            "c64212ba52114e31affb31e0c5ef9278",
            "c9e522b31875438bb9f92e79ec8400d3",
            "a1641cb40d5c47ee964005af580d71ec",
            "bb62ad2b67094d57aa6e02f99efdb66e",
            "57fa56ea6bf4402f8174a258fdc56ab2",
            "f8632f499a844ecd9942393904840113",
            "4f97a61d6e51416e9813b4ced5796652",
            "2424394db235425a811fbbc01f82822d",
            "11944346b1b34b5e9e90e88bead849ae",
            "b1feda0bd3714f19982e4ad070fd552a",
            "58bfb70c54a942c2ba5680abbd8bedac",
            "3c6d2b4b956649269ef527f7d5f55f74",
            "0d364d0b570845d09f2ecfa1218e586d",
            "373de6e8632e482e880f31f320195586",
            "f750d0575ca2483db1a4571f708989e4",
            "30d66725b67840e78daf3339f28a1c03",
            "e24329413b9649ff99262506d64e2046",
            "5adf0edec7d940f4a31a53e783de09dd",
            "dd694c239d834ef3a2487b5528a3786f",
            "2205e4d6dff24f9599f9bfacaa11689d",
            "505992a6154041268fecc32b43b224fd",
            "8ee6657cb5eb47f593449b14bd7ababe",
            "6a3b751e03b04b52a03ce75d61136d3f",
            "c43fc68ef0a64400a24351a18b311c6c",
            "e832fb40b3604828a55f652309be2287"
          ]
        },
        "outputId": "290d24ea-e7b6-4e32-b249-162eba8b772d"
      },
      "source": [
        "mnist = tcv.datasets.MNIST( root = './data', train = True,  download=True)"
      ],
      "execution_count": 2,
      "outputs": [
        {
          "output_type": "stream",
          "text": [
            "Downloading http://yann.lecun.com/exdb/mnist/train-images-idx3-ubyte.gz\n",
            "Downloading http://yann.lecun.com/exdb/mnist/train-images-idx3-ubyte.gz to ./data/MNIST/raw/train-images-idx3-ubyte.gz\n"
          ],
          "name": "stdout"
        },
        {
          "output_type": "display_data",
          "data": {
            "application/vnd.jupyter.widget-view+json": {
              "model_id": "fc58ef28eeb649a5b18bc8763edd4630",
              "version_minor": 0,
              "version_major": 2
            },
            "text/plain": [
              "HBox(children=(FloatProgress(value=0.0, max=9912422.0), HTML(value='')))"
            ]
          },
          "metadata": {
            "tags": []
          }
        },
        {
          "output_type": "stream",
          "text": [
            "\n",
            "Extracting ./data/MNIST/raw/train-images-idx3-ubyte.gz to ./data/MNIST/raw\n",
            "\n",
            "Downloading http://yann.lecun.com/exdb/mnist/train-labels-idx1-ubyte.gz\n",
            "Downloading http://yann.lecun.com/exdb/mnist/train-labels-idx1-ubyte.gz to ./data/MNIST/raw/train-labels-idx1-ubyte.gz\n"
          ],
          "name": "stdout"
        },
        {
          "output_type": "display_data",
          "data": {
            "application/vnd.jupyter.widget-view+json": {
              "model_id": "c9e522b31875438bb9f92e79ec8400d3",
              "version_minor": 0,
              "version_major": 2
            },
            "text/plain": [
              "HBox(children=(FloatProgress(value=0.0, max=28881.0), HTML(value='')))"
            ]
          },
          "metadata": {
            "tags": []
          }
        },
        {
          "output_type": "stream",
          "text": [
            "\n",
            "Extracting ./data/MNIST/raw/train-labels-idx1-ubyte.gz to ./data/MNIST/raw\n",
            "\n",
            "Downloading http://yann.lecun.com/exdb/mnist/t10k-images-idx3-ubyte.gz\n",
            "Downloading http://yann.lecun.com/exdb/mnist/t10k-images-idx3-ubyte.gz to ./data/MNIST/raw/t10k-images-idx3-ubyte.gz\n",
            "Failed to download (trying next):\n",
            "HTTP Error 503: Service Unavailable\n",
            "\n",
            "Downloading https://ossci-datasets.s3.amazonaws.com/mnist/t10k-images-idx3-ubyte.gz\n",
            "Downloading https://ossci-datasets.s3.amazonaws.com/mnist/t10k-images-idx3-ubyte.gz to ./data/MNIST/raw/t10k-images-idx3-ubyte.gz\n"
          ],
          "name": "stdout"
        },
        {
          "output_type": "display_data",
          "data": {
            "application/vnd.jupyter.widget-view+json": {
              "model_id": "b1feda0bd3714f19982e4ad070fd552a",
              "version_minor": 0,
              "version_major": 2
            },
            "text/plain": [
              "HBox(children=(FloatProgress(value=0.0, max=1648877.0), HTML(value='')))"
            ]
          },
          "metadata": {
            "tags": []
          }
        },
        {
          "output_type": "stream",
          "text": [
            "\n",
            "Extracting ./data/MNIST/raw/t10k-images-idx3-ubyte.gz to ./data/MNIST/raw\n",
            "\n",
            "Downloading http://yann.lecun.com/exdb/mnist/t10k-labels-idx1-ubyte.gz\n",
            "Downloading http://yann.lecun.com/exdb/mnist/t10k-labels-idx1-ubyte.gz to ./data/MNIST/raw/t10k-labels-idx1-ubyte.gz\n"
          ],
          "name": "stdout"
        },
        {
          "output_type": "display_data",
          "data": {
            "application/vnd.jupyter.widget-view+json": {
              "model_id": "5adf0edec7d940f4a31a53e783de09dd",
              "version_minor": 0,
              "version_major": 2
            },
            "text/plain": [
              "HBox(children=(FloatProgress(value=0.0, max=4542.0), HTML(value='')))"
            ]
          },
          "metadata": {
            "tags": []
          }
        },
        {
          "output_type": "stream",
          "text": [
            "\n",
            "Extracting ./data/MNIST/raw/t10k-labels-idx1-ubyte.gz to ./data/MNIST/raw\n",
            "\n",
            "Processing...\n",
            "Done!\n"
          ],
          "name": "stdout"
        },
        {
          "output_type": "stream",
          "text": [
            "/usr/local/lib/python3.7/dist-packages/torchvision/datasets/mnist.py:502: UserWarning: The given NumPy array is not writeable, and PyTorch does not support non-writeable tensors. This means you can write to the underlying (supposedly non-writeable) NumPy array using the tensor. You may want to copy the array to protect its data or make it writeable before converting it to a tensor. This type of warning will be suppressed for the rest of this program. (Triggered internally at  /pytorch/torch/csrc/utils/tensor_numpy.cpp:143.)\n",
            "  return torch.from_numpy(parsed.astype(m[2], copy=False)).view(*s)\n"
          ],
          "name": "stderr"
        }
      ]
    },
    {
      "cell_type": "markdown",
      "metadata": {
        "id": "zMgNeklIwuU2"
      },
      "source": [
        "이제 읽어들인 데이터를 한번 살펴보자.  dir 은 클래스의 각종 멤버 변수와 함수를 보여준다. "
      ]
    },
    {
      "cell_type": "code",
      "metadata": {
        "id": "jfyx7cZ5w7rD",
        "colab": {
          "base_uri": "https://localhost:8080/"
        },
        "outputId": "1db3c9e4-a4d4-46d8-f197-14061ca6755d"
      },
      "source": [
        "print(\"type:\",type(mnist))\n",
        "dir(mnist)\n"
      ],
      "execution_count": 3,
      "outputs": [
        {
          "output_type": "stream",
          "text": [
            "type: <class 'torchvision.datasets.mnist.MNIST'>\n"
          ],
          "name": "stdout"
        },
        {
          "output_type": "execute_result",
          "data": {
            "text/plain": [
              "['__add__',\n",
              " '__class__',\n",
              " '__class_getitem__',\n",
              " '__delattr__',\n",
              " '__dict__',\n",
              " '__dir__',\n",
              " '__doc__',\n",
              " '__eq__',\n",
              " '__format__',\n",
              " '__ge__',\n",
              " '__getattribute__',\n",
              " '__getitem__',\n",
              " '__gt__',\n",
              " '__hash__',\n",
              " '__init__',\n",
              " '__init_subclass__',\n",
              " '__le__',\n",
              " '__len__',\n",
              " '__lt__',\n",
              " '__module__',\n",
              " '__ne__',\n",
              " '__new__',\n",
              " '__orig_bases__',\n",
              " '__parameters__',\n",
              " '__reduce__',\n",
              " '__reduce_ex__',\n",
              " '__repr__',\n",
              " '__setattr__',\n",
              " '__sizeof__',\n",
              " '__slots__',\n",
              " '__str__',\n",
              " '__subclasshook__',\n",
              " '__weakref__',\n",
              " '_check_exists',\n",
              " '_format_transform_repr',\n",
              " '_repr_indent',\n",
              " 'class_to_idx',\n",
              " 'classes',\n",
              " 'data',\n",
              " 'download',\n",
              " 'extra_repr',\n",
              " 'mirrors',\n",
              " 'processed_folder',\n",
              " 'raw_folder',\n",
              " 'resources',\n",
              " 'root',\n",
              " 'target_transform',\n",
              " 'targets',\n",
              " 'test_data',\n",
              " 'test_file',\n",
              " 'test_labels',\n",
              " 'train',\n",
              " 'train_data',\n",
              " 'train_labels',\n",
              " 'training_file',\n",
              " 'transform',\n",
              " 'transforms']"
            ]
          },
          "metadata": {
            "tags": []
          },
          "execution_count": 3
        }
      ]
    },
    {
      "cell_type": "markdown",
      "metadata": {
        "id": "mdDVfQsIyJQp"
      },
      "source": [
        "보면 멤버중에 data 라는 멤버가 보인다.  이 내용을 한번 보기로 하자"
      ]
    },
    {
      "cell_type": "code",
      "metadata": {
        "id": "c8m06qphxbou",
        "colab": {
          "base_uri": "https://localhost:8080/"
        },
        "outputId": "4ff32c45-46af-4fb1-954a-0d83d2c27ee2"
      },
      "source": [
        "print(\"data type:\", mnist.data)\n",
        "print(\"data shape:\",mnist.data.shape)\n"
      ],
      "execution_count": 4,
      "outputs": [
        {
          "output_type": "stream",
          "text": [
            "data type: tensor([[[0, 0, 0,  ..., 0, 0, 0],\n",
            "         [0, 0, 0,  ..., 0, 0, 0],\n",
            "         [0, 0, 0,  ..., 0, 0, 0],\n",
            "         ...,\n",
            "         [0, 0, 0,  ..., 0, 0, 0],\n",
            "         [0, 0, 0,  ..., 0, 0, 0],\n",
            "         [0, 0, 0,  ..., 0, 0, 0]],\n",
            "\n",
            "        [[0, 0, 0,  ..., 0, 0, 0],\n",
            "         [0, 0, 0,  ..., 0, 0, 0],\n",
            "         [0, 0, 0,  ..., 0, 0, 0],\n",
            "         ...,\n",
            "         [0, 0, 0,  ..., 0, 0, 0],\n",
            "         [0, 0, 0,  ..., 0, 0, 0],\n",
            "         [0, 0, 0,  ..., 0, 0, 0]],\n",
            "\n",
            "        [[0, 0, 0,  ..., 0, 0, 0],\n",
            "         [0, 0, 0,  ..., 0, 0, 0],\n",
            "         [0, 0, 0,  ..., 0, 0, 0],\n",
            "         ...,\n",
            "         [0, 0, 0,  ..., 0, 0, 0],\n",
            "         [0, 0, 0,  ..., 0, 0, 0],\n",
            "         [0, 0, 0,  ..., 0, 0, 0]],\n",
            "\n",
            "        ...,\n",
            "\n",
            "        [[0, 0, 0,  ..., 0, 0, 0],\n",
            "         [0, 0, 0,  ..., 0, 0, 0],\n",
            "         [0, 0, 0,  ..., 0, 0, 0],\n",
            "         ...,\n",
            "         [0, 0, 0,  ..., 0, 0, 0],\n",
            "         [0, 0, 0,  ..., 0, 0, 0],\n",
            "         [0, 0, 0,  ..., 0, 0, 0]],\n",
            "\n",
            "        [[0, 0, 0,  ..., 0, 0, 0],\n",
            "         [0, 0, 0,  ..., 0, 0, 0],\n",
            "         [0, 0, 0,  ..., 0, 0, 0],\n",
            "         ...,\n",
            "         [0, 0, 0,  ..., 0, 0, 0],\n",
            "         [0, 0, 0,  ..., 0, 0, 0],\n",
            "         [0, 0, 0,  ..., 0, 0, 0]],\n",
            "\n",
            "        [[0, 0, 0,  ..., 0, 0, 0],\n",
            "         [0, 0, 0,  ..., 0, 0, 0],\n",
            "         [0, 0, 0,  ..., 0, 0, 0],\n",
            "         ...,\n",
            "         [0, 0, 0,  ..., 0, 0, 0],\n",
            "         [0, 0, 0,  ..., 0, 0, 0],\n",
            "         [0, 0, 0,  ..., 0, 0, 0]]], dtype=torch.uint8)\n",
            "data shape: torch.Size([60000, 28, 28])\n"
          ],
          "name": "stdout"
        }
      ]
    },
    {
      "cell_type": "markdown",
      "metadata": {
        "id": "cRaa3XYPybFy"
      },
      "source": [
        "보면 data 멤버는 60000 x 28 x 28 의 구조로 저장되어 있는 텐서임을 알 수 있다. 이를 통해 한 이미지의 크기가 28x28 이며 총 60000 개의 이미지가 있음을 유추해볼 수 있다.  이번에는 train_labels 도 확인해보자. \n",
        "\n"
      ]
    },
    {
      "cell_type": "code",
      "metadata": {
        "id": "hqo90cfk2coM",
        "colab": {
          "base_uri": "https://localhost:8080/"
        },
        "outputId": "b8d7c760-c2bc-4a8e-d1dc-585e23598d4a"
      },
      "source": [
        "print(\"train labels:\", mnist.train_labels)\n",
        "print(\"train labels shape:\", mnist.train_labels.shape)"
      ],
      "execution_count": 5,
      "outputs": [
        {
          "output_type": "stream",
          "text": [
            "train labels: tensor([5, 0, 4,  ..., 5, 6, 8])\n",
            "train labels shape: torch.Size([60000])\n"
          ],
          "name": "stdout"
        },
        {
          "output_type": "stream",
          "text": [
            "/usr/local/lib/python3.7/dist-packages/torchvision/datasets/mnist.py:54: UserWarning: train_labels has been renamed targets\n",
            "  warnings.warn(\"train_labels has been renamed targets\")\n"
          ],
          "name": "stderr"
        }
      ]
    },
    {
      "cell_type": "markdown",
      "metadata": {
        "id": "J_dwm1Ui2op3"
      },
      "source": [
        "train_labels 는 6만개의 이미지가 각각 어떤 숫자를 표현하는지가 나와있다. "
      ]
    },
    {
      "cell_type": "markdown",
      "metadata": {
        "id": "teUeoIlxzC2R"
      },
      "source": [
        "## Mnist Data 시각화\n",
        "\n",
        "Mnist 가 실제로 어떤 형태의 이미지인지 확인하기 위해 첫번째 이미지를 추출해 imshow 를 사용해 표시해보자 "
      ]
    },
    {
      "cell_type": "code",
      "metadata": {
        "id": "TY8QnyzGQm9H",
        "colab": {
          "base_uri": "https://localhost:8080/",
          "height": 283
        },
        "outputId": "25809391-1763-48de-bb99-ff4f66cdb309"
      },
      "source": [
        "import numpy as np \n",
        "import matplotlib.pyplot as plt \n",
        "\n",
        "first = mnist.data[0]\n",
        "plt.imshow(first, cmap = 'gray')"
      ],
      "execution_count": 6,
      "outputs": [
        {
          "output_type": "execute_result",
          "data": {
            "text/plain": [
              "<matplotlib.image.AxesImage at 0x7fa32ddfa9d0>"
            ]
          },
          "metadata": {
            "tags": []
          },
          "execution_count": 6
        },
        {
          "output_type": "display_data",
          "data": {
            "image/png": "[encoded data removed]",
            "text/plain": [
              "<Figure size 432x288 with 1 Axes>"
            ]
          },
          "metadata": {
            "tags": [],
            "needs_background": "light"
          }
        }
      ]
    },
    {
      "cell_type": "markdown",
      "metadata": {
        "id": "MzzY9lUK0NXE"
      },
      "source": [
        "이번에는 처음 4개의 이미지를 추출해서 sample 이라는 텐서 를 생성해보도록 핵ㅆ다. "
      ]
    },
    {
      "cell_type": "code",
      "metadata": {
        "id": "zYDHXhfsSBGQ",
        "colab": {
          "base_uri": "https://localhost:8080/"
        },
        "outputId": "ea60fea3-a952-4878-c42f-29af2a6209fd"
      },
      "source": [
        "sample = mnist.data[:4]\n",
        "slabels = mnist.train_labels[:4]"
      ],
      "execution_count": 7,
      "outputs": [
        {
          "output_type": "stream",
          "text": [
            "/usr/local/lib/python3.7/dist-packages/torchvision/datasets/mnist.py:54: UserWarning: train_labels has been renamed targets\n",
            "  warnings.warn(\"train_labels has been renamed targets\")\n"
          ],
          "name": "stderr"
        }
      ]
    },
    {
      "cell_type": "markdown",
      "metadata": {
        "id": "5Hqc0dfS0elI"
      },
      "source": [
        "4개의 이미지도 한번 확인해보자. "
      ]
    },
    {
      "cell_type": "code",
      "metadata": {
        "id": "F_fBMHmHqxKB",
        "colab": {
          "base_uri": "https://localhost:8080/",
          "height": 1000
        },
        "outputId": "061641f9-06f2-47ca-f979-6e6c7a2ffcd1"
      },
      "source": [
        "import matplotlib.pyplot as plt\n",
        "for img in sample:\n",
        "  plt.imshow(img, cmap = 'gray')\n",
        "  plt.show()\n",
        "\n",
        "print(slabels)\n"
      ],
      "execution_count": 8,
      "outputs": [
        {
          "output_type": "display_data",
          "data": {
            "image/png": "[encoded data removed]",
            "text/plain": [
              "<Figure size 432x288 with 1 Axes>"
            ]
          },
          "metadata": {
            "tags": [],
            "needs_background": "light"
          }
        },
        {
          "output_type": "display_data",
          "data": {
            "image/png": "[encoded data removed]",
            "text/plain": [
              "<Figure size 432x288 with 1 Axes>"
            ]
          },
          "metadata": {
            "tags": [],
            "needs_background": "light"
          }
        },
        {
          "output_type": "display_data",
          "data": {
            "image/png": "[encoded data removed]",
            "text/plain": [
              "<Figure size 432x288 with 1 Axes>"
            ]
          },
          "metadata": {
            "tags": [],
            "needs_background": "light"
          }
        },
        {
          "output_type": "display_data",
          "data": {
            "image/png": "[encoded data removed]",
            "text/plain": [
              "<Figure size 432x288 with 1 Axes>"
            ]
          },
          "metadata": {
            "tags": [],
            "needs_background": "light"
          }
        },
        {
          "output_type": "stream",
          "text": [
            "tensor([5, 0, 4, 1])\n"
          ],
          "name": "stdout"
        }
      ]
    },
    {
      "cell_type": "markdown",
      "metadata": {
        "id": "zO1z-73z03sL"
      },
      "source": [
        "## Sample 학습해보기 \n",
        "\n",
        "이제 위에서 추출한 4개의 샘플을 신경망을 통해서 학습하하도록 해보겠다. linear모델을 위해 4x28x28 형태인 sample 을 4x784 의 2차원 배열로 변환해 x 를 만든다. \n",
        "\n"
      ]
    },
    {
      "cell_type": "code",
      "metadata": {
        "id": "VCvRMoxW7CP6",
        "colab": {
          "base_uri": "https://localhost:8080/"
        },
        "outputId": "9db35ea0-a316-4fd2-c598-cba56a994d45"
      },
      "source": [
        "x = sample.view(-1, 28 * 28)\n",
        "print(x.shape)\n",
        "x\n"
      ],
      "execution_count": 9,
      "outputs": [
        {
          "output_type": "stream",
          "text": [
            "torch.Size([4, 784])\n"
          ],
          "name": "stdout"
        },
        {
          "output_type": "execute_result",
          "data": {
            "text/plain": [
              "tensor([[0, 0, 0,  ..., 0, 0, 0],\n",
              "        [0, 0, 0,  ..., 0, 0, 0],\n",
              "        [0, 0, 0,  ..., 0, 0, 0],\n",
              "        [0, 0, 0,  ..., 0, 0, 0]], dtype=torch.uint8)"
            ]
          },
          "metadata": {
            "tags": []
          },
          "execution_count": 9
        }
      ]
    },
    {
      "cell_type": "markdown",
      "metadata": {
        "id": "BaHoZIA17Zkk"
      },
      "source": [
        "그런데 위의 x 는 정수형이므로 신경망의 입력으로는 적절치 안다. 이를 위해서는 다음 구문을 이용해  Float으로 변환을 해준다. "
      ]
    },
    {
      "cell_type": "code",
      "metadata": {
        "id": "xtIF6--Y7tLm",
        "colab": {
          "base_uri": "https://localhost:8080/"
        },
        "outputId": "db540444-b506-4eb1-a8da-5b28535af5ed"
      },
      "source": [
        "x = x.type(tc.FloatTensor)\n",
        "x"
      ],
      "execution_count": 10,
      "outputs": [
        {
          "output_type": "execute_result",
          "data": {
            "text/plain": [
              "tensor([[0., 0., 0.,  ..., 0., 0., 0.],\n",
              "        [0., 0., 0.,  ..., 0., 0., 0.],\n",
              "        [0., 0., 0.,  ..., 0., 0., 0.],\n",
              "        [0., 0., 0.,  ..., 0., 0., 0.]])"
            ]
          },
          "metadata": {
            "tags": []
          },
          "execution_count": 10
        }
      ]
    },
    {
      "cell_type": "markdown",
      "metadata": {
        "id": "NJejLCjN2DXz"
      },
      "source": [
        "### One-hot encoding \n",
        "\n",
        "그런데 label 값은 0,1,2,3 같은 정수형으로 되어있다. 하지만 이것은 분류문제이므로 이것을 학습할 때는 \n",
        "```\n",
        "0 -> [1,0,0,0 .. ]\n",
        "1 -> [0,1,0,0 .. ]\n",
        "2 -> [0,0,1,0 .. ]\n",
        "\n",
        "```\n",
        "이런식으로 각각의 클래스마다 출력값을 주는 방식을 사용하는게 효율적이다.  이렇게 각각의 labels 마다 해당하는 출력을 주고 해당하는 출력만 타겟을 1로 하고 나머지는 0으로 세팅하는 방법을 One-hot encoding 이라고 한다. \n",
        "\n",
        "\n",
        "torch 에서는 이런 함수를 이용해 scatter 라는 함수를 사용한다. scatter 는 특정 인덱스에 배열에 특정 값을 뿌려주는 역할을 한다. "
      ]
    },
    {
      "cell_type": "code",
      "metadata": {
        "id": "xMA_fGZw2CnX",
        "colab": {
          "base_uri": "https://localhost:8080/"
        },
        "outputId": "dfdf468f-dea6-40f8-e09a-7470834244f1"
      },
      "source": [
        "t = tc.tensor([0,0,0,0,0])\n",
        "idx = tc.tensor([1,3])\n",
        "\n",
        "print( t.scatter(0,idx,9))"
      ],
      "execution_count": 11,
      "outputs": [
        {
          "output_type": "stream",
          "text": [
            "tensor([0, 9, 0, 9, 0])\n"
          ],
          "name": "stdout"
        }
      ]
    },
    {
      "cell_type": "markdown",
      "metadata": {
        "id": "zl8J_MpN5aM0"
      },
      "source": [
        "처음 0 은 배열의 차원을 의미하는 이를 통해 다음과 같이 2차원에도 적용이 가능하다. "
      ]
    },
    {
      "cell_type": "code",
      "metadata": {
        "id": "IW9Q9Y-Qn0Qq",
        "colab": {
          "base_uri": "https://localhost:8080/"
        },
        "outputId": "0ce616b1-3ca2-4e1c-82ce-71e467f6b4a0"
      },
      "source": [
        "t = tc.tensor([[0,0,0,0,0],[0,0,0,0,0]])\n",
        "idx = tc.tensor([[1],[3]])\n",
        "print( t.scatter(1,idx,1))"
      ],
      "execution_count": 12,
      "outputs": [
        {
          "output_type": "stream",
          "text": [
            "tensor([[0, 1, 0, 0, 0],\n",
            "        [0, 0, 0, 1, 0]])\n"
          ],
          "name": "stdout"
        }
      ]
    },
    {
      "cell_type": "markdown",
      "metadata": {
        "id": "IGV3Spmc518M"
      },
      "source": [
        "이제 이것을 이용해 위의 4개의 labels 값에 해당하는 one-hot encoding y를 만들 수 있다. "
      ]
    },
    {
      "cell_type": "code",
      "metadata": {
        "id": "4ruGJehlv34O",
        "colab": {
          "base_uri": "https://localhost:8080/"
        },
        "outputId": "f5ad853a-5fb7-46fe-b05f-33159fb2c7fe"
      },
      "source": [
        "y = tc.zeros(4,10).scatter_(1,slabels.view(-1,1), 1)\n",
        "y"
      ],
      "execution_count": 13,
      "outputs": [
        {
          "output_type": "execute_result",
          "data": {
            "text/plain": [
              "tensor([[0., 0., 0., 0., 0., 1., 0., 0., 0., 0.],\n",
              "        [1., 0., 0., 0., 0., 0., 0., 0., 0., 0.],\n",
              "        [0., 0., 0., 0., 1., 0., 0., 0., 0., 0.],\n",
              "        [0., 1., 0., 0., 0., 0., 0., 0., 0., 0.]])"
            ]
          },
          "metadata": {
            "tags": []
          },
          "execution_count": 13
        }
      ]
    },
    {
      "cell_type": "markdown",
      "metadata": {
        "id": "LCKG0u_d6PMF"
      },
      "source": [
        "### nn 모델 구성 \n",
        "\n",
        "이제 앞에서 배운 nn 모델을 활용해 784 크기의 입력과 10개의 출력 10개의 히든을 갖는 모델을 구성해보도록 하겠다. "
      ]
    },
    {
      "cell_type": "code",
      "metadata": {
        "id": "dg6XKPjh0UmY",
        "colab": {
          "base_uri": "https://localhost:8080/"
        },
        "outputId": "f9afe95f-948b-4e94-a4e9-a689eb3b6e6b"
      },
      "source": [
        "import torch.nn as nn \n",
        "model = nn.Sequential(\n",
        "    nn.Linear(28 * 28, 10),\n",
        "    nn.Sigmoid(),\n",
        "    nn.Linear(10, 10),\n",
        "    nn.Sigmoid()\n",
        ")\n",
        "\n",
        "model(x)\n",
        "# 최소 800개면 못해도 반은 가야함, 히든레이어 부족 "
      ],
      "execution_count": 14,
      "outputs": [
        {
          "output_type": "execute_result",
          "data": {
            "text/plain": [
              "tensor([[0.5713, 0.6314, 0.6069, 0.4621, 0.6425, 0.4910, 0.6973, 0.6354, 0.4918,\n",
              "         0.5808],\n",
              "        [0.5714, 0.6313, 0.6068, 0.4622, 0.6424, 0.4908, 0.6972, 0.6353, 0.4919,\n",
              "         0.5807],\n",
              "        [0.5181, 0.5632, 0.6589, 0.5305, 0.6512, 0.4981, 0.7422, 0.6237, 0.4908,\n",
              "         0.6509],\n",
              "        [0.5855, 0.5047, 0.7149, 0.4590, 0.6543, 0.4688, 0.6255, 0.6226, 0.4946,\n",
              "         0.5427]], grad_fn=<SigmoidBackward>)"
            ]
          },
          "metadata": {
            "tags": []
          },
          "execution_count": 14
        }
      ]
    },
    {
      "cell_type": "markdown",
      "metadata": {
        "id": "ppZakhXyAPZ8"
      },
      "source": [
        "이제 optimizer 를 생성한다. "
      ]
    },
    {
      "cell_type": "code",
      "metadata": {
        "id": "H4y9pTzc1BoH"
      },
      "source": [
        "import torch.optim as optim\n",
        "\n",
        "optimizer = optim.SGD( model.parameters() , lr = 0.1)\n",
        "\n"
      ],
      "execution_count": 15,
      "outputs": []
    },
    {
      "cell_type": "markdown",
      "metadata": {
        "id": "HgiJpQQwATgH"
      },
      "source": [
        "이제 학습을 시작해보도록 하겠다. "
      ]
    },
    {
      "cell_type": "code",
      "metadata": {
        "id": "v3IVuCYp1x3G",
        "colab": {
          "base_uri": "https://localhost:8080/"
        },
        "outputId": "4b3fa328-fc64-4272-a596-9b970faf5375"
      },
      "source": [
        "ds = []\n",
        "for step in range(10000):\n",
        "  o = model(x)\n",
        "  d = nn.functional.mse_loss(o, y)\n",
        "  optimizer.zero_grad() # 경사값 weight값 재갱신\n",
        "  d.backward()\n",
        "  optimizer.step() \n",
        "  \n",
        "  ds += [d.item()]\n",
        "  if step % 100 == 0 : \n",
        "    print(\"err:\",d.item())\n",
        "\n"
      ],
      "execution_count": 16,
      "outputs": [
        {
          "output_type": "stream",
          "text": [
            "err: 0.3321351408958435\n",
            "err: 0.14372918009757996\n",
            "err: 0.09862213581800461\n",
            "err: 0.08140703290700912\n",
            "err: 0.07209815829992294\n",
            "err: 0.06589855253696442\n",
            "err: 0.061268795281648636\n",
            "err: 0.05758913233876228\n",
            "err: 0.05455788969993591\n",
            "err: 0.052003584802150726\n",
            "err: 0.049816910177469254\n",
            "err: 0.04792248085141182\n",
            "err: 0.046265535056591034\n",
            "err: 0.04480477795004845\n",
            "err: 0.04350823909044266\n",
            "err: 0.04235067218542099\n",
            "err: 0.04131177440285683\n",
            "err: 0.040375035256147385\n",
            "err: 0.03952682763338089\n",
            "err: 0.03875584155321121\n",
            "err: 0.038052577525377274\n",
            "err: 0.0374089851975441\n",
            "err: 0.0368182510137558\n",
            "err: 0.03627448529005051\n",
            "err: 0.0357726588845253\n",
            "err: 0.03530839458107948\n",
            "err: 0.03487787023186684\n",
            "err: 0.03447778895497322\n",
            "err: 0.03410521149635315\n",
            "err: 0.03375757858157158\n",
            "err: 0.03343261778354645\n",
            "err: 0.033128321170806885\n",
            "err: 0.03284289315342903\n",
            "err: 0.032574739307165146\n",
            "err: 0.03232242166996002\n",
            "err: 0.03208467364311218\n",
            "err: 0.03186033293604851\n",
            "err: 0.03164836764335632\n",
            "err: 0.031447842717170715\n",
            "err: 0.03125790134072304\n",
            "err: 0.031077776104211807\n",
            "err: 0.030906766653060913\n",
            "err: 0.030744239687919617\n",
            "err: 0.030589601024985313\n",
            "err: 0.030442338436841965\n",
            "err: 0.030301952734589577\n",
            "err: 0.03016800619661808\n",
            "err: 0.030040079727768898\n",
            "err: 0.029917802661657333\n",
            "err: 0.02980082668364048\n",
            "err: 0.02968882955610752\n",
            "err: 0.02958151139318943\n",
            "err: 0.029478613287210464\n",
            "err: 0.029379868879914284\n",
            "err: 0.029285039752721786\n",
            "err: 0.02919391728937626\n",
            "err: 0.029106300324201584\n",
            "err: 0.02902199700474739\n",
            "err: 0.028940821066498756\n",
            "err: 0.02886262536048889\n",
            "err: 0.028787249699234962\n",
            "err: 0.02871454693377018\n",
            "err: 0.0286443792283535\n",
            "err: 0.02857663296163082\n",
            "err: 0.02851119078695774\n",
            "err: 0.02844793163239956\n",
            "err: 0.028386760503053665\n",
            "err: 0.02832757495343685\n",
            "err: 0.028270283713936806\n",
            "err: 0.02821480669081211\n",
            "err: 0.02816106006503105\n",
            "err: 0.028108960017561913\n",
            "err: 0.02805844508111477\n",
            "err: 0.02800944447517395\n",
            "err: 0.027961891144514084\n",
            "err: 0.027915725484490395\n",
            "err: 0.02787088230252266\n",
            "err: 0.027827322483062744\n",
            "err: 0.027784984558820724\n",
            "err: 0.027743816375732422\n",
            "err: 0.02770378068089485\n",
            "err: 0.027664825320243835\n",
            "err: 0.027626920491456985\n",
            "err: 0.027590006589889526\n",
            "err: 0.027554061263799667\n",
            "err: 0.027519047260284424\n",
            "err: 0.027484919875860214\n",
            "err: 0.027451660484075546\n",
            "err: 0.027419233694672585\n",
            "err: 0.027387598529458046\n",
            "err: 0.027356740087270737\n",
            "err: 0.02732662484049797\n",
            "err: 0.027297232300043106\n",
            "err: 0.02726852521300316\n",
            "err: 0.027240503579378128\n",
            "err: 0.027213115245103836\n",
            "err: 0.02718636766076088\n",
            "err: 0.027160221710801125\n",
            "err: 0.02713465690612793\n",
            "err: 0.02710966393351555\n"
          ],
          "name": "stdout"
        }
      ]
    },
    {
      "cell_type": "markdown",
      "metadata": {
        "id": "9w9So3xOAZ4a"
      },
      "source": [
        "이제 오류율 그래프를 확인한다. "
      ]
    },
    {
      "cell_type": "code",
      "metadata": {
        "id": "iDgM594o1zRf",
        "colab": {
          "base_uri": "https://localhost:8080/",
          "height": 283
        },
        "outputId": "c3bf086a-53c3-4c73-cf4e-b3454448e463"
      },
      "source": [
        "\n",
        "plt.plot(ds)"
      ],
      "execution_count": 17,
      "outputs": [
        {
          "output_type": "execute_result",
          "data": {
            "text/plain": [
              "[<matplotlib.lines.Line2D at 0x7fa32ddb5550>]"
            ]
          },
          "metadata": {
            "tags": []
          },
          "execution_count": 17
        },
        {
          "output_type": "display_data",
          "data": {
            "image/png": "[encoded data removed]",
            "text/plain": [
              "<Figure size 432x288 with 1 Axes>"
            ]
          },
          "metadata": {
            "tags": [],
            "needs_background": "light"
          }
        }
      ]
    },
    {
      "cell_type": "markdown",
      "metadata": {
        "id": "HFGi_7IDAgQu"
      },
      "source": [
        "마지막 출력은 텐서변수 o 를 통해 확인이 가능하다.  출력은 반올림을 통해 0과  1로 확인을 해준다.  또한 argmax 를 사용하면 직접 label 값을 추출할 수도 있다. "
      ]
    },
    {
      "cell_type": "code",
      "metadata": {
        "id": "RyyKWyaX3qmy",
        "colab": {
          "base_uri": "https://localhost:8080/"
        },
        "outputId": "444fff79-0f80-41fc-8197-0372b5b01c4e"
      },
      "source": [
        "print(tc.round( o )) # 학습끝난후 4개값->반올림된다 \n",
        "# print(o)\n",
        "print(tc.argmax(o, dim = 1)) # max값의 인덱스를 변환해주는것 , 축이 1이니까 가로축이 1인데. 망이예측한결과를한번에 볼수있다 \n",
        "# 원핫인코딩은 어느축이 제일 세게나오는가가 중요함 "
      ],
      "execution_count": 18,
      "outputs": [
        {
          "output_type": "stream",
          "text": [
            "tensor([[0., 0., 0., 0., 0., 0., 0., 0., 0., 0.],\n",
            "        [0., 0., 0., 0., 0., 0., 0., 0., 0., 0.],\n",
            "        [0., 0., 0., 0., 1., 0., 0., 0., 0., 0.],\n",
            "        [0., 1., 0., 0., 0., 0., 0., 0., 0., 0.]], grad_fn=<RoundBackward>)\n",
            "tensor([0, 0, 4, 1])\n"
          ],
          "name": "stdout"
        }
      ]
    },
    {
      "cell_type": "markdown",
      "metadata": {
        "id": "XLDYuHPyBfEY"
      },
      "source": [
        "## 1000개의 Mnist 데이터 학습해보기 \n",
        "\n",
        "이번에는 조금 더 제대로된 학습을 위해서 1000개의 데이터를 학습해보도록 하겠다. 이제  위의 mnist data 에서 한번에 1000개의 데이터를 빼내보도록 하겠다. "
      ]
    },
    {
      "cell_type": "code",
      "metadata": {
        "id": "KkvawWCD3yxs",
        "colab": {
          "base_uri": "https://localhost:8080/"
        },
        "outputId": "46b3fa07-8437-4e9c-e871-2516d6458bdb"
      },
      "source": [
        "tr_n = 1000 #트레이닝 데이터의 갯수\n",
        "\n",
        "x = mnist.data[:tr_n].view(-1,28*28).type(tc.FloatTensor) #천까지 꺼내고 데이터를 784*1000 편다 그리고 실수형변환 \n",
        "labels = mnist.train_labels[:tr_n] # 1000까지 \n",
        "y =  tc.zeros(tr_n,10).scatter(1, labels.view(-1,1), 1)\n"
      ],
      "execution_count": 20,
      "outputs": [
        {
          "output_type": "stream",
          "text": [
            "/usr/local/lib/python3.7/dist-packages/torchvision/datasets/mnist.py:54: UserWarning: train_labels has been renamed targets\n",
            "  warnings.warn(\"train_labels has been renamed targets\")\n"
          ],
          "name": "stderr"
        }
      ]
    },
    {
      "cell_type": "markdown",
      "metadata": {
        "id": "9Md5K6UPFOXL"
      },
      "source": [
        "이제 위에 있는 모델을 통해서 학습을 수행해보도록 하겠다. \n",
        "\n"
      ]
    },
    {
      "cell_type": "code",
      "metadata": {
        "id": "1p8W6hkDFW2h",
        "colab": {
          "base_uri": "https://localhost:8080/",
          "height": 463
        },
        "outputId": "9c9639d4-4714-4532-9843-c09a1f589fcd"
      },
      "source": [
        "ds = []\n",
        "for step in range(1000):\n",
        "  o = model(x)\n",
        "  d = nn.functional.mse_loss(o, y)\n",
        "  optimizer.zero_grad() \n",
        "  d.backward()\n",
        "  optimizer.step() \n",
        "\n",
        "  ds += [d.item()]\n",
        "  if step % 100 == 0 : \n",
        "    print(\"err:\",d.item())\n",
        "\n",
        "plt.plot(ds)"
      ],
      "execution_count": 21,
      "outputs": [
        {
          "output_type": "stream",
          "text": [
            "err: 0.13108980655670166\n",
            "err: 0.08236584812402725\n",
            "err: 0.08069528639316559\n",
            "err: 0.079799585044384\n",
            "err: 0.0790894404053688\n",
            "err: 0.0786271020770073\n",
            "err: 0.07828505337238312\n",
            "err: 0.07768537849187851\n",
            "err: 0.07725211977958679\n",
            "err: 0.07683221250772476\n"
          ],
          "name": "stdout"
        },
        {
          "output_type": "execute_result",
          "data": {
            "text/plain": [
              "[<matplotlib.lines.Line2D at 0x7fa32d798dd0>]"
            ]
          },
          "metadata": {
            "tags": []
          },
          "execution_count": 21
        },
        {
          "output_type": "display_data",
          "data": {
            "image/png": "[encoded data removed]",
            "text/plain": [
              "<Figure size 432x288 with 1 Axes>"
            ]
          },
          "metadata": {
            "tags": [],
            "needs_background": "light"
          }
        }
      ]
    },
    {
      "cell_type": "markdown",
      "metadata": {
        "id": "ndVzpxAVFowA"
      },
      "source": [
        "### 매칭 결과 체크\n",
        "\n",
        "학습이 잘 수행되는 듯 할 것이다. 하지만 과연 1000개의 이미지중에 몇개나 맞추고 있는걸까? 이를 확인하는 방법을 알아보자. "
      ]
    },
    {
      "cell_type": "code",
      "metadata": {
        "id": "jwuBgBk8GLuw",
        "colab": {
          "base_uri": "https://localhost:8080/"
        },
        "outputId": "bfd2ce0b-2444-4027-bdfd-d88b061588b5"
      },
      "source": [
        "print(tc.argmax(o, dim = 1)) # 초기화값이 영향을 준모양..흠 5041만 나오니까 "
      ],
      "execution_count": 22,
      "outputs": [
        {
          "output_type": "stream",
          "text": [
            "tensor([0, 0, 4, 1, 4, 4, 1, 4, 1, 4, 0, 0, 4, 4, 1, 4, 4, 4, 4, 4, 4, 0, 4, 1,\n",
            "        0, 4, 4, 4, 4, 4, 4, 4, 4, 4, 0, 0, 4, 0, 4, 4, 1, 4, 4, 4, 4, 4, 4, 5,\n",
            "        4, 0, 0, 0, 4, 4, 4, 4, 0, 4, 4, 1, 4, 4, 4, 0, 4, 4, 4, 1, 0, 0, 1, 4,\n",
            "        1, 4, 0, 0, 4, 1, 1, 4, 4, 0, 4, 4, 4, 4, 4, 4, 0, 4, 4, 4, 4, 4, 4, 0,\n",
            "        4, 4, 4, 1, 5, 4, 1, 4, 1, 1, 4, 4, 4, 4, 4, 4, 1, 1, 0, 4, 4, 4, 0, 0,\n",
            "        4, 0, 4, 4, 1, 4, 4, 4, 1, 4, 4, 4, 0, 4, 4, 4, 1, 4, 0, 4, 4, 1, 4, 4,\n",
            "        4, 4, 4, 4, 4, 4, 4, 4, 1, 4, 4, 4, 0, 4, 4, 4, 4, 0, 4, 4, 4, 4, 4, 4,\n",
            "        4, 0, 4, 4, 4, 1, 1, 0, 4, 1, 4, 4, 1, 4, 0, 4, 1, 4, 4, 0, 4, 4, 4, 4,\n",
            "        0, 4, 4, 4, 4, 4, 4, 4, 1, 1, 4, 0, 4, 1, 0, 4, 1, 0, 0, 1, 4, 4, 4, 4,\n",
            "        0, 4, 4, 5, 0, 4, 4, 4, 4, 4, 4, 4, 4, 0, 4, 1, 4, 4, 0, 4, 0, 4, 4, 0,\n",
            "        4, 4, 4, 4, 4, 4, 0, 4, 1, 0, 4, 1, 4, 4, 0, 4, 4, 4, 4, 0, 0, 4, 0, 4,\n",
            "        4, 4, 0, 4, 4, 1, 1, 4, 4, 0, 4, 4, 1, 4, 0, 4, 4, 4, 4, 0, 4, 4, 4, 0,\n",
            "        4, 4, 1, 4, 4, 0, 4, 4, 0, 4, 4, 4, 4, 4, 4, 0, 4, 4, 0, 4, 4, 1, 1, 4,\n",
            "        4, 4, 4, 1, 4, 4, 4, 4, 0, 4, 4, 4, 4, 4, 0, 4, 5, 4, 0, 4, 0, 4, 4, 0,\n",
            "        4, 4, 4, 4, 4, 4, 4, 4, 4, 1, 4, 4, 4, 4, 4, 1, 4, 4, 4, 1, 4, 1, 1, 0,\n",
            "        1, 4, 4, 4, 4, 4, 1, 4, 4, 4, 4, 4, 4, 4, 4, 4, 5, 4, 4, 4, 4, 4, 1, 4,\n",
            "        4, 4, 4, 4, 4, 4, 4, 4, 1, 4, 1, 0, 0, 1, 1, 0, 4, 4, 4, 5, 4, 4, 1, 0,\n",
            "        1, 4, 1, 4, 4, 4, 4, 0, 1, 4, 1, 4, 0, 4, 4, 4, 0, 4, 4, 0, 4, 0, 4, 4,\n",
            "        4, 0, 4, 0, 4, 0, 4, 4, 0, 4, 4, 1, 1, 4, 4, 1, 4, 4, 1, 0, 4, 0, 1, 1,\n",
            "        4, 4, 0, 4, 4, 4, 0, 0, 0, 4, 1, 4, 4, 4, 4, 4, 1, 0, 5, 1, 4, 4, 4, 4,\n",
            "        5, 4, 4, 4, 1, 0, 0, 0, 4, 0, 0, 1, 1, 0, 0, 0, 4, 4, 4, 4, 4, 4, 0, 4,\n",
            "        0, 4, 4, 1, 1, 4, 1, 1, 0, 5, 5, 4, 0, 4, 4, 0, 4, 4, 4, 1, 0, 4, 0, 0,\n",
            "        4, 4, 4, 4, 4, 1, 4, 1, 4, 0, 1, 4, 1, 4, 0, 0, 0, 4, 0, 4, 4, 4, 4, 4,\n",
            "        1, 1, 4, 4, 1, 4, 4, 0, 1, 4, 4, 4, 4, 4, 4, 4, 4, 4, 4, 4, 1, 1, 1, 4,\n",
            "        4, 0, 4, 5, 4, 4, 0, 4, 4, 4, 4, 1, 1, 4, 4, 4, 4, 1, 4, 4, 0, 4, 4, 4,\n",
            "        4, 4, 0, 0, 1, 4, 4, 4, 4, 1, 0, 4, 0, 4, 0, 4, 4, 4, 1, 4, 0, 4, 0, 4,\n",
            "        4, 4, 4, 4, 4, 4, 4, 0, 4, 0, 4, 4, 4, 1, 1, 0, 4, 4, 4, 4, 1, 4, 4, 4,\n",
            "        1, 4, 4, 4, 0, 5, 4, 4, 0, 4, 4, 4, 4, 4, 0, 4, 4, 4, 0, 0, 0, 0, 0, 1,\n",
            "        4, 4, 1, 4, 1, 4, 1, 5, 4, 0, 4, 4, 4, 4, 4, 4, 4, 5, 4, 1, 4, 4, 4, 4,\n",
            "        4, 4, 1, 0, 4, 4, 5, 4, 4, 4, 4, 4, 4, 5, 1, 1, 0, 4, 4, 4, 4, 4, 4, 0,\n",
            "        1, 4, 0, 4, 4, 4, 4, 4, 4, 4, 4, 4, 1, 0, 4, 4, 4, 4, 1, 4, 0, 4, 4, 0,\n",
            "        4, 0, 4, 1, 4, 4, 4, 0, 4, 4, 4, 4, 4, 5, 4, 4, 4, 4, 4, 4, 4, 1, 4, 0,\n",
            "        0, 4, 4, 5, 4, 4, 4, 0, 4, 4, 4, 1, 1, 0, 0, 1, 0, 4, 4, 0, 4, 4, 0, 4,\n",
            "        4, 4, 4, 4, 4, 4, 4, 5, 4, 4, 4, 4, 4, 0, 4, 4, 4, 1, 4, 4, 4, 4, 4, 0,\n",
            "        4, 4, 0, 4, 4, 1, 4, 4, 4, 0, 4, 4, 4, 4, 4, 4, 4, 1, 4, 1, 4, 0, 1, 4,\n",
            "        4, 0, 4, 4, 4, 0, 0, 4, 4, 0, 4, 4, 4, 4, 4, 4, 4, 4, 1, 0, 0, 0, 4, 4,\n",
            "        4, 4, 4, 4, 4, 0, 1, 1, 0, 4, 0, 4, 4, 4, 4, 4, 4, 4, 4, 4, 4, 4, 0, 4,\n",
            "        4, 0, 4, 1, 4, 4, 4, 0, 4, 4, 4, 1, 4, 4, 0, 0, 4, 1, 4, 4, 4, 4, 0, 4,\n",
            "        5, 4, 4, 4, 4, 4, 4, 1, 1, 4, 4, 4, 0, 4, 4, 0, 4, 4, 4, 0, 4, 4, 4, 4,\n",
            "        4, 4, 4, 4, 4, 1, 4, 0, 4, 4, 4, 4, 4, 0, 4, 1, 0, 4, 4, 4, 0, 0, 4, 1,\n",
            "        0, 1, 4, 4, 0, 0, 4, 4, 4, 4, 0, 4, 4, 4, 4, 0, 4, 0, 1, 0, 4, 4, 1, 4,\n",
            "        0, 0, 4, 4, 4, 4, 4, 4, 0, 1, 4, 4, 4, 0, 0, 4])\n"
          ],
          "name": "stdout"
        }
      ]
    },
    {
      "cell_type": "markdown",
      "metadata": {
        "id": "1zc_YY5EGh2J"
      },
      "source": [
        "위의 출력은 실제 출력값중에 최대값을 출력해본 것이다. 이것을 labels 와 비교하면 다음과 같다. "
      ]
    },
    {
      "cell_type": "code",
      "metadata": {
        "id": "ujtO4J02GgiO",
        "colab": {
          "base_uri": "https://localhost:8080/"
        },
        "outputId": "8afe5734-e891-4f8b-ba99-fdea68499d0f"
      },
      "source": [
        "print( tc.argmax(o,dim=1) == labels) # 샘플에대한 y값 labels \n",
        "# 예측해야하는값과 예측한 값의 동일여부 True는 둘이 같은것이고 False는 다른것, 대부분 False네 "
      ],
      "execution_count": 23,
      "outputs": [
        {
          "output_type": "stream",
          "text": [
            "tensor([False,  True,  True,  True, False, False,  True, False,  True,  True,\n",
            "        False, False, False, False,  True, False, False, False, False, False,\n",
            "         True,  True, False,  True, False, False,  True, False, False, False,\n",
            "        False, False, False, False,  True, False, False,  True, False, False,\n",
            "         True, False, False, False, False, False, False,  True, False, False,\n",
            "        False,  True, False,  True, False, False,  True, False,  True,  True,\n",
            "         True,  True, False,  True,  True, False, False,  True,  True,  True,\n",
            "         True, False,  True, False, False,  True, False,  True,  True, False,\n",
            "        False,  True, False, False, False, False, False, False,  True,  True,\n",
            "        False, False,  True, False, False,  True, False, False, False,  True,\n",
            "         True, False,  True, False,  True,  True, False, False, False, False,\n",
            "        False, False,  True,  True,  True,  True, False, False,  True,  True,\n",
            "        False,  True, False, False,  True, False, False,  True,  True, False,\n",
            "        False,  True, False, False, False, False, False, False, False,  True,\n",
            "        False, False,  True, False, False, False, False, False, False, False,\n",
            "         True, False,  True, False, False, False,  True, False, False, False,\n",
            "        False, False, False,  True,  True, False,  True, False, False,  True,\n",
            "        False, False, False, False,  True, False, False,  True, False, False,\n",
            "        False, False, False, False,  True, False, False, False, False, False,\n",
            "        False, False,  True, False,  True, False, False, False, False, False,\n",
            "         True,  True, False, False, False,  True,  True, False,  True,  True,\n",
            "         True,  True, False, False, False, False,  True,  True, False,  True,\n",
            "        False, False,  True, False, False, False, False, False, False,  True,\n",
            "        False,  True, False, False,  True, False, False,  True, False, False,\n",
            "        False, False, False, False, False, False,  True, False,  True,  True,\n",
            "        False,  True, False, False, False, False, False,  True, False, False,\n",
            "         True, False, False, False, False, False, False, False, False,  True,\n",
            "         True,  True,  True, False, False,  True,  True, False, False, False,\n",
            "        False, False, False,  True, False, False, False, False, False,  True,\n",
            "         True, False,  True,  True,  True, False,  True,  True, False, False,\n",
            "        False, False, False,  True, False, False, False, False, False,  True,\n",
            "         True, False, False, False,  True,  True, False, False, False, False,\n",
            "         True, False, False, False, False, False,  True, False,  True,  True,\n",
            "        False, False, False, False, False, False,  True, False,  True, False,\n",
            "        False, False,  True, False, False,  True, False, False, False, False,\n",
            "        False,  True, False, False,  True,  True, False,  True,  True,  True,\n",
            "        False, False, False,  True, False, False,  True, False, False,  True,\n",
            "        False, False,  True,  True, False, False,  True, False, False,  True,\n",
            "         True, False,  True, False, False, False, False, False, False, False,\n",
            "        False, False, False, False,  True, False, False,  True,  True,  True,\n",
            "        False, False,  True,  True, False, False,  True, False,  True, False,\n",
            "        False, False,  True,  True,  True, False,  True, False, False, False,\n",
            "        False, False, False, False, False, False, False,  True, False,  True,\n",
            "        False, False, False, False, False,  True, False, False,  True, False,\n",
            "         True, False,  True,  True, False, False, False,  True, False, False,\n",
            "         True,  True, False,  True,  True,  True, False, False,  True, False,\n",
            "        False,  True,  True, False,  True, False,  True, False, False, False,\n",
            "        False, False, False,  True,  True,  True, False, False, False, False,\n",
            "         True,  True, False, False,  True, False, False, False, False,  True,\n",
            "        False,  True,  True, False, False, False, False, False, False, False,\n",
            "        False, False, False, False, False, False, False,  True,  True, False,\n",
            "         True, False, False,  True,  True, False, False, False, False,  True,\n",
            "        False, False, False, False,  True, False,  True,  True, False, False,\n",
            "        False,  True, False,  True, False,  True, False, False,  True, False,\n",
            "        False,  True,  True, False, False, False, False, False, False, False,\n",
            "        False, False,  True,  True, False, False,  True, False, False, False,\n",
            "        False, False, False, False,  True, False, False, False, False,  True,\n",
            "        False, False,  True,  True, False, False,  True,  True, False,  True,\n",
            "        False, False,  True, False, False,  True, False,  True, False, False,\n",
            "         True, False, False,  True, False, False,  True, False, False, False,\n",
            "        False, False, False,  True,  True,  True,  True, False, False,  True,\n",
            "        False, False,  True, False, False, False,  True, False,  True, False,\n",
            "        False, False, False, False, False, False, False, False, False, False,\n",
            "        False, False, False,  True, False, False, False,  True,  True,  True,\n",
            "        False, False, False, False, False, False, False,  True,  True, False,\n",
            "        False, False, False,  True, False,  True,  True, False, False, False,\n",
            "        False,  True,  True,  True, False, False,  True,  True,  True,  True,\n",
            "        False,  True, False, False, False, False,  True,  True,  True,  True,\n",
            "         True, False,  True, False, False, False, False, False, False, False,\n",
            "        False,  True,  True, False, False, False, False,  True,  True, False,\n",
            "         True, False, False, False, False, False,  True, False, False, False,\n",
            "         True,  True,  True, False, False, False, False,  True,  True, False,\n",
            "        False, False, False, False, False, False, False, False, False,  True,\n",
            "        False, False, False,  True, False, False, False, False,  True, False,\n",
            "        False, False,  True,  True, False,  True,  True,  True, False,  True,\n",
            "        False, False, False, False,  True, False, False,  True, False, False,\n",
            "        False, False, False, False, False,  True, False, False, False, False,\n",
            "        False,  True, False, False, False, False, False, False, False,  True,\n",
            "         True,  True, False,  True, False, False, False,  True, False, False,\n",
            "         True, False, False, False, False, False, False,  True, False,  True,\n",
            "        False, False, False, False,  True, False, False, False, False,  True,\n",
            "        False, False, False, False, False, False, False, False,  True, False,\n",
            "        False,  True, False, False, False,  True, False, False,  True, False,\n",
            "        False, False, False,  True,  True,  True, False, False,  True, False,\n",
            "        False, False,  True, False, False, False, False,  True,  True,  True,\n",
            "         True,  True, False, False, False,  True, False, False, False,  True,\n",
            "         True, False, False, False, False, False, False, False, False,  True,\n",
            "         True,  True,  True, False, False, False, False,  True, False, False,\n",
            "        False, False,  True, False, False, False, False, False, False,  True,\n",
            "        False,  True, False, False,  True, False,  True,  True, False, False,\n",
            "        False, False, False,  True, False,  True,  True, False, False, False,\n",
            "        False, False,  True, False,  True, False, False, False, False,  True,\n",
            "         True, False, False, False, False, False,  True,  True, False, False,\n",
            "        False, False, False, False, False, False, False,  True, False, False,\n",
            "        False,  True, False,  True, False,  True, False, False, False,  True,\n",
            "        False,  True,  True, False, False, False, False,  True, False,  True,\n",
            "        False,  True, False, False, False,  True, False,  True, False, False,\n",
            "        False, False, False, False, False, False, False, False,  True,  True,\n",
            "        False, False,  True, False,  True, False, False,  True,  True, False,\n",
            "         True,  True, False,  True, False, False, False,  True, False, False])\n"
          ],
          "name": "stdout"
        }
      ]
    },
    {
      "cell_type": "markdown",
      "metadata": {
        "id": "2P6JHisHG7co"
      },
      "source": [
        "위의 결과중에 True 는 실제 학습한 신경망이 올바른 레이블에 해당하는 노드를 최대값으로 출력했음을 의미한다.  그러므로 True 의 숫자를 카운트하고 이를 1000으로 나누면 실제 매칭률을 구할 수 있다. True 숫자는 tc.sum() 으로 구할 수 있다. "
      ]
    },
    {
      "cell_type": "code",
      "metadata": {
        "id": "MjORsLtxG6so",
        "colab": {
          "base_uri": "https://localhost:8080/"
        },
        "outputId": "ab76abb9-d88c-457d-81cd-d62f1303b45a"
      },
      "source": [
        "match_rate = tc.sum( tc.argmax(o, dim =1) == labels ) / 1000 # sum을 걸면 True만 1로 합산해준다 , 매칭률보기위해 1000으로 나눔 0.3840 -> 384개 맞춘것\n",
        "print(match_rate)"
      ],
      "execution_count": 24,
      "outputs": [
        {
          "output_type": "stream",
          "text": [
            "tensor(0.3250)\n"
          ],
          "name": "stdout"
        }
      ]
    },
    {
      "cell_type": "markdown",
      "metadata": {
        "id": "-u_llDmgHklo"
      },
      "source": [
        "이제 매칭률을 출력하며 학습을 해보도록 하겠다. \n"
      ]
    },
    {
      "cell_type": "code",
      "metadata": {
        "id": "X--EtDdyHsuk",
        "colab": {
          "base_uri": "https://localhost:8080/",
          "height": 464
        },
        "outputId": "ad1395ce-a5bf-4fde-d7ec-c220712bbe49"
      },
      "source": [
        "ds = []\n",
        "for step in range(1000): # 10000\n",
        "  o = model(x)\n",
        "  d = nn.functional.mse_loss(o, y)\n",
        "  optimizer.zero_grad() \n",
        "  d.backward()\n",
        "  optimizer.step() \n",
        "\n",
        "  ds += [d.item()]\n",
        "  if step % 100 == 0 : # 1000\n",
        "    match_rate = tc.sum( tc.argmax(o, dim =1) == labels ) / tr_n\n",
        "\n",
        "    print(\"match rate:{:.3f}, err:{:.5f}\".format(match_rate,d.item()) ) \n",
        "\n",
        "plt.plot(ds)"
      ],
      "execution_count": 25,
      "outputs": [
        {
          "output_type": "stream",
          "text": [
            "match rate:0.325, err:0.07640\n",
            "match rate:0.325, err:0.07610\n",
            "match rate:0.326, err:0.07586\n",
            "match rate:0.326, err:0.07544\n",
            "match rate:0.326, err:0.07522\n",
            "match rate:0.327, err:0.07499\n",
            "match rate:0.327, err:0.07475\n",
            "match rate:0.330, err:0.07451\n",
            "match rate:0.330, err:0.07424\n",
            "match rate:0.335, err:0.07397\n"
          ],
          "name": "stdout"
        },
        {
          "output_type": "execute_result",
          "data": {
            "text/plain": [
              "[<matplotlib.lines.Line2D at 0x7fa326040bd0>]"
            ]
          },
          "metadata": {
            "tags": []
          },
          "execution_count": 25
        },
        {
          "output_type": "display_data",
          "data": {
            "image/png": "[encoded data removed]",
            "text/plain": [
              "<Figure size 432x288 with 1 Axes>"
            ]
          },
          "metadata": {
            "tags": [],
            "needs_background": "light"
          }
        }
      ]
    },
    {
      "cell_type": "markdown",
      "metadata": {
        "id": "7meMIedGMghZ"
      },
      "source": [
        "### 더 복잡한 모델 사용하기"
      ]
    },
    {
      "cell_type": "markdown",
      "metadata": {
        "id": "ZxzqjywvIr5u"
      },
      "source": [
        "아마 매칭률이 0.8정도에서 정체된걸 볼 수 있을것이다. 그러면 이게 한계일까?  사실 약 800개의 입력을 처리하기에는 히든노드 10개는 너무나 부족하다. 이번에는 높은 매칭률을 가질 수 있는 모델을 구성해보자. \n",
        "\n"
      ]
    },
    {
      "cell_type": "code",
      "metadata": {
        "id": "gLkxLj4j51nN",
        "colab": {
          "base_uri": "https://localhost:8080/"
        },
        "outputId": "d62d32a9-f00d-46b8-d856-99edfab15f10"
      },
      "source": [
        "import torch.nn as nn \n",
        "import torch.optim as optim\n",
        "\n",
        "model = nn.Sequential(\n",
        "    nn.Linear(28 * 28, 800),\n",
        "    nn.Sigmoid(),\n",
        "    nn.Linear(800, 80),\n",
        "    nn.Sigmoid(),    \n",
        "    nn.Linear(80, 10),\n",
        "    nn.Sigmoid()\n",
        ")\n",
        "\n",
        "\n",
        "\n",
        "optimizer = optim.SGD( model.parameters() , lr = 0.1)\n",
        "model(x)\n",
        "# 입력값과 같은 수의 히든레이어 800. 히든도 2단계로 놓고 "
      ],
      "execution_count": 26,
      "outputs": [
        {
          "output_type": "execute_result",
          "data": {
            "text/plain": [
              "tensor([[0.4542, 0.3318, 0.3935,  ..., 0.4719, 0.4938, 0.5168],\n",
              "        [0.4598, 0.3263, 0.3938,  ..., 0.4593, 0.4891, 0.5223],\n",
              "        [0.4531, 0.3164, 0.3911,  ..., 0.4583, 0.4847, 0.5274],\n",
              "        ...,\n",
              "        [0.4619, 0.3281, 0.3754,  ..., 0.4715, 0.4915, 0.5197],\n",
              "        [0.4739, 0.3293, 0.3861,  ..., 0.4647, 0.4912, 0.5313],\n",
              "        [0.4527, 0.3203, 0.3849,  ..., 0.4771, 0.4916, 0.5337]],\n",
              "       grad_fn=<SigmoidBackward>)"
            ]
          },
          "metadata": {
            "tags": []
          },
          "execution_count": 26
        }
      ]
    },
    {
      "cell_type": "markdown",
      "metadata": {
        "id": "kmWtI0V4JOqj"
      },
      "source": [
        "위의 모델은 히든을 800 - 80 으로 2단계로 배치했다.  이 모델은 95% 이상의 매칭률을 보일 수 있는 구성이다. 하지만  위의 노드를 1000회만 돌려봐도 속도가 매우 느리다는 것을 알 수 있을 것이다. 사실 중간노드 800개는 784 x 800 의 웨이트를 생성하기 때문에 실제로 80배 이상 계산이 늘어난다. "
      ]
    },
    {
      "cell_type": "code",
      "metadata": {
        "id": "neRxOvZC5mRT",
        "colab": {
          "base_uri": "https://localhost:8080/"
        },
        "outputId": "09f217ad-cc67-418d-ef17-3f1be9de1f2b"
      },
      "source": [
        "ds = []\n",
        "for step in range(1000):\n",
        "  o = model(x)\n",
        "  d = nn.functional.mse_loss(o, y) # o는 x로부터 파생되어있으므로 \n",
        "  optimizer.zero_grad() \n",
        "  d.backward()\n",
        "  optimizer.step() \n",
        "\n",
        "  ds += [d.item()]\n",
        "  if step % 100 == 0 : \n",
        "    match_rate = tc.sum( tc.argmax(o, dim =1) == labels ) / 1000\n",
        "    print(\"match rate:{:.3f}, err:{:.5f}\".format(match_rate,d.item()) ) \n",
        "# 문제는 계산량이 최소 80배 늘어남 \n",
        "# gpu 썼을때 훨신 좋아진다 "
      ],
      "execution_count": 27,
      "outputs": [
        {
          "output_type": "stream",
          "text": [
            "match rate:0.100, err:0.21311\n",
            "match rate:0.200, err:0.09095\n",
            "match rate:0.224, err:0.08930\n",
            "match rate:0.211, err:0.08887\n",
            "match rate:0.209, err:0.08855\n",
            "match rate:0.215, err:0.08822\n",
            "match rate:0.231, err:0.08786\n",
            "match rate:0.247, err:0.08745\n",
            "match rate:0.277, err:0.08700\n",
            "match rate:0.313, err:0.08647\n"
          ],
          "name": "stdout"
        }
      ]
    },
    {
      "cell_type": "markdown",
      "metadata": {
        "id": "RnXq2ZnZKZP5"
      },
      "source": [
        "### GPU를 사용한 학습\n",
        "\n",
        "이 문제를 해결하는 가장  좋은 방법은 gpu 사용하는 것이다. 지금까지 우리는 cpu에서 계산을 수행했다. 하지만 gpu 를 사용하면 10배 이상의 속도를 얻을 수 있다.  gpu를 사용하기 위해서는 먼저 다음 구문을 이용해 'cuda' device를 생성한다. \n",
        "\n",
        "```\n",
        "cuda = tc.device('cuda')\n",
        "```\n",
        "\n",
        "그 후에 계산에 사용되는 모델과 텐서를 다음과 같이 gpu로 업로드한다. \n",
        "\n",
        "```\n",
        "x = x.to(cuda) # 업로드하는 모습 \n",
        "y = y.to(cuda)\n",
        "labels = labels.to(cuda)\n",
        "model.to(cuda) # weight값은 모델에 있으므로 모델도 올려준다 \n",
        "```\n",
        "\n",
        "model 은 따로 대입문을 사용하지 안아도 무방하다.  그러면 이제 위의 구문을 실제로 수행해보겠다. \n"
      ]
    },
    {
      "cell_type": "code",
      "metadata": {
        "id": "5z1cmeDvLjll",
        "colab": {
          "base_uri": "https://localhost:8080/"
        },
        "outputId": "78b44aed-c8bd-4e78-9c0f-94b1642bd230"
      },
      "source": [
        "# gpu 방법 cuda 딥러닝에서 항상 mbdi는 필수 \n",
        "cuda = tc.device('cuda')\n",
        "x = x.to(cuda)\n",
        "y = y.to(cuda)\n",
        "labels = labels.to(cuda)\n",
        "model.to(cuda)"
      ],
      "execution_count": 28,
      "outputs": [
        {
          "output_type": "execute_result",
          "data": {
            "text/plain": [
              "Sequential(\n",
              "  (0): Linear(in_features=784, out_features=800, bias=True)\n",
              "  (1): Sigmoid()\n",
              "  (2): Linear(in_features=800, out_features=80, bias=True)\n",
              "  (3): Sigmoid()\n",
              "  (4): Linear(in_features=80, out_features=10, bias=True)\n",
              "  (5): Sigmoid()\n",
              ")"
            ]
          },
          "metadata": {
            "tags": []
          },
          "execution_count": 28
        }
      ]
    },
    {
      "cell_type": "markdown",
      "metadata": {
        "id": "l9YN96MQLGfK"
      },
      "source": [
        "이제 위의 코드를 다시 실행핸다. "
      ]
    },
    {
      "cell_type": "code",
      "metadata": {
        "id": "Vw-6Osz0Lv9l",
        "colab": {
          "base_uri": "https://localhost:8080/"
        },
        "outputId": "d334157f-f5b9-4360-a0fa-aa731ae82670"
      },
      "source": [
        "ds = []\n",
        "for step in range(10000):\n",
        "  o = model(x)\n",
        "  d = nn.functional.mse_loss(o, y)\n",
        "  optimizer.zero_grad() \n",
        "  d.backward()\n",
        "  optimizer.step() \n",
        "\n",
        "  ds += [d.item()]\n",
        "  if step % 100 == 0 : \n",
        "    match_rate = tc.sum( tc.argmax(o, dim =1) == labels ) / tr_n\n",
        "    print(\"match rate:{:.3f}, err:{:.5f}\".format(match_rate,d.item()) ) "
      ],
      "execution_count": 29,
      "outputs": [
        {
          "output_type": "stream",
          "text": [
            "match rate:0.341, err:0.08587\n",
            "match rate:0.363, err:0.08518\n",
            "match rate:0.391, err:0.08439\n",
            "match rate:0.412, err:0.08350\n",
            "match rate:0.427, err:0.08250\n",
            "match rate:0.449, err:0.08141\n",
            "match rate:0.477, err:0.08026\n",
            "match rate:0.502, err:0.07906\n",
            "match rate:0.527, err:0.07782\n",
            "match rate:0.545, err:0.07655\n",
            "match rate:0.566, err:0.07523\n",
            "match rate:0.584, err:0.07385\n",
            "match rate:0.601, err:0.07241\n",
            "match rate:0.614, err:0.07090\n",
            "match rate:0.631, err:0.06932\n",
            "match rate:0.644, err:0.06768\n",
            "match rate:0.663, err:0.06599\n",
            "match rate:0.678, err:0.06426\n",
            "match rate:0.690, err:0.06252\n",
            "match rate:0.705, err:0.06076\n",
            "match rate:0.726, err:0.05901\n",
            "match rate:0.737, err:0.05729\n",
            "match rate:0.757, err:0.05557\n",
            "match rate:0.773, err:0.05387\n",
            "match rate:0.790, err:0.05220\n",
            "match rate:0.801, err:0.05057\n",
            "match rate:0.817, err:0.04897\n",
            "match rate:0.824, err:0.04741\n",
            "match rate:0.834, err:0.04591\n",
            "match rate:0.844, err:0.04445\n",
            "match rate:0.860, err:0.04303\n",
            "match rate:0.874, err:0.04165\n",
            "match rate:0.880, err:0.04031\n",
            "match rate:0.892, err:0.03902\n",
            "match rate:0.902, err:0.03776\n",
            "match rate:0.911, err:0.03653\n",
            "match rate:0.919, err:0.03534\n",
            "match rate:0.921, err:0.03420\n",
            "match rate:0.929, err:0.03309\n",
            "match rate:0.937, err:0.03200\n",
            "match rate:0.940, err:0.03096\n",
            "match rate:0.944, err:0.02995\n",
            "match rate:0.950, err:0.02898\n",
            "match rate:0.951, err:0.02805\n",
            "match rate:0.955, err:0.02714\n",
            "match rate:0.959, err:0.02626\n",
            "match rate:0.962, err:0.02541\n",
            "match rate:0.964, err:0.02459\n",
            "match rate:0.966, err:0.02380\n",
            "match rate:0.966, err:0.02305\n",
            "match rate:0.966, err:0.02233\n",
            "match rate:0.968, err:0.02163\n",
            "match rate:0.969, err:0.02097\n",
            "match rate:0.969, err:0.02033\n",
            "match rate:0.970, err:0.01972\n",
            "match rate:0.970, err:0.01913\n",
            "match rate:0.971, err:0.01856\n",
            "match rate:0.971, err:0.01802\n",
            "match rate:0.971, err:0.01750\n",
            "match rate:0.972, err:0.01699\n",
            "match rate:0.972, err:0.01652\n",
            "match rate:0.973, err:0.01605\n",
            "match rate:0.975, err:0.01561\n",
            "match rate:0.975, err:0.01518\n",
            "match rate:0.974, err:0.01478\n",
            "match rate:0.975, err:0.01439\n",
            "match rate:0.976, err:0.01401\n",
            "match rate:0.978, err:0.01365\n",
            "match rate:0.978, err:0.01331\n",
            "match rate:0.980, err:0.01298\n",
            "match rate:0.982, err:0.01267\n",
            "match rate:0.982, err:0.01237\n",
            "match rate:0.983, err:0.01208\n",
            "match rate:0.984, err:0.01181\n",
            "match rate:0.986, err:0.01155\n",
            "match rate:0.986, err:0.01130\n",
            "match rate:0.986, err:0.01106\n",
            "match rate:0.986, err:0.01083\n",
            "match rate:0.986, err:0.01060\n",
            "match rate:0.986, err:0.01038\n",
            "match rate:0.986, err:0.01017\n",
            "match rate:0.986, err:0.00996\n",
            "match rate:0.987, err:0.00977\n",
            "match rate:0.987, err:0.00957\n",
            "match rate:0.988, err:0.00939\n",
            "match rate:0.988, err:0.00921\n",
            "match rate:0.988, err:0.00904\n",
            "match rate:0.988, err:0.00887\n",
            "match rate:0.988, err:0.00870\n",
            "match rate:0.988, err:0.00855\n",
            "match rate:0.988, err:0.00840\n",
            "match rate:0.988, err:0.00825\n",
            "match rate:0.988, err:0.00811\n",
            "match rate:0.988, err:0.00797\n",
            "match rate:0.988, err:0.00784\n",
            "match rate:0.988, err:0.00771\n",
            "match rate:0.988, err:0.00759\n",
            "match rate:0.988, err:0.00747\n",
            "match rate:0.988, err:0.00735\n",
            "match rate:0.988, err:0.00724\n"
          ],
          "name": "stdout"
        }
      ]
    },
    {
      "cell_type": "markdown",
      "metadata": {
        "id": "V2jH2FAiMO56"
      },
      "source": [
        "이제는 매우 빠른 속도로 매칭률 0.99 이상을 이룰 수 있을것이다. "
      ]
    },
    {
      "cell_type": "markdown",
      "metadata": {
        "id": "oT-VoEjWNG8N"
      },
      "source": [
        "### 테스트 셋 사용해보기 \n",
        "\n",
        "그런데 과연 트레이닝 데이터셋에 최적화된 모델이 정말로 숫자를 판별할 수 있을까? 그냥 저 데이터만 달달 외운것에 지나지 안을까?  실제로 특징의 학습을 떠나 학습데이터에만 지나치게 최적화될 경우 오히려 일반적인 판별능력이 떨어지는 현상이 존재한다.  이를 '과적합' 이라고 한다. \n",
        "\n",
        "이를 확인하기 위해서는 학습셋에 해당하지 안는 검증용 이미지를 활용해 검증을 하는 방법이 있다.  현재 0~999번 데이터를 학습에 사용하므로 1000~1099 번까지 100개의 이미지를 통해 검증을 해보도록 하겠다. \n",
        "\n",
        "먼저 테스트 셋 이미지와 레이블을 만든다. "
      ]
    },
    {
      "cell_type": "code",
      "metadata": {
        "id": "g3wyojQCOAtu",
        "colab": {
          "base_uri": "https://localhost:8080/"
        },
        "outputId": "5cd2c71e-f980-4e60-e9f8-ddbd95745832"
      },
      "source": [
        "tt_n = 100\n",
        "tx = mnist.data[tr_n:tr_n+tt_n].view(-1,28*28).type(tc.FloatTensor).to(cuda)\n",
        "ty = mnist.train_labels[tr_n:tr_n+tt_n].to(cuda)\n"
      ],
      "execution_count": 30,
      "outputs": [
        {
          "output_type": "stream",
          "text": [
            "/usr/local/lib/python3.7/dist-packages/torchvision/datasets/mnist.py:54: UserWarning: train_labels has been renamed targets\n",
            "  warnings.warn(\"train_labels has been renamed targets\")\n"
          ],
          "name": "stderr"
        }
      ]
    },
    {
      "cell_type": "markdown",
      "metadata": {
        "id": "f_PkbXx6OF6c"
      },
      "source": [
        "이제 이를 model 을 통해 검증을 해보도록 하겟다. 단 현재 모델은 gpu 에 올라가 있기 때문에 위의 tx,ty 도 gpu에 올려야 한다. "
      ]
    },
    {
      "cell_type": "code",
      "metadata": {
        "id": "Wa-kX9atOTSq"
      },
      "source": [
        "tx = tx.to(cuda)\n",
        "ty = ty.to(cuda)"
      ],
      "execution_count": null,
      "outputs": []
    },
    {
      "cell_type": "markdown",
      "metadata": {
        "id": "QkSgODGvOYLw"
      },
      "source": [
        "이제 현재 모델로 테스트용 아웃풋을 만든 후에 매칭률을 보도록 하겠다.  model(tx)를 통해서 test 이미지의 예측값을 구한 후에 위에서와 마찬가지로 argmax 로 label 값을 추출하고  이를 ty 와 비교한 후에 true를 카운트한다. "
      ]
    },
    {
      "cell_type": "code",
      "metadata": {
        "id": "GOuWAqJ-Oev5",
        "colab": {
          "base_uri": "https://localhost:8080/"
        },
        "outputId": "6e1c7cac-a370-46a4-9493-5c23edab0748"
      },
      "source": [
        "test_match = tc.sum( tc.argmax( model(tx) , dim = 1) == ty ) / 100 \n",
        "print(test_match)"
      ],
      "execution_count": null,
      "outputs": [
        {
          "output_type": "stream",
          "text": [
            "tensor(0.8300, device='cuda:0')\n"
          ],
          "name": "stdout"
        }
      ]
    },
    {
      "cell_type": "markdown",
      "metadata": {
        "id": "Yks2x4sEOyvz"
      },
      "source": [
        "아마 약 80~90% 의 매칭률을 보였을 것이다.  그러면 이제 test_match의 변화도 보면서 위의 과정을 다시 수행해보도록 한다.  모델을 다시 생성해도 되지만 매번 수백만개의 웨이트를 다시  생성해서 gpu 에 올리는 시간을 절약하기 위해 다음 함수를 사용해보도록 하겠다. "
      ]
    },
    {
      "cell_type": "code",
      "metadata": {
        "id": "fgR8xg0qQTmT",
        "colab": {
          "base_uri": "https://localhost:8080/"
        },
        "outputId": "18becbde-72dc-4a2b-8ff4-a1ad56c42ca0"
      },
      "source": [
        "def weight_reset(model):\n",
        "  for name,m in model.named_children():\n",
        "    if isinstance(m, nn.Conv2d) or isinstance(m, nn.Linear):        \n",
        "        print(\"reset:\", name)\n",
        "        m.reset_parameters()\n",
        "\n",
        "weight_reset(model)"
      ],
      "execution_count": null,
      "outputs": [
        {
          "output_type": "stream",
          "text": [
            "reset: 0\n",
            "reset: 2\n",
            "reset: 4\n"
          ],
          "name": "stdout"
        }
      ]
    },
    {
      "cell_type": "markdown",
      "metadata": {
        "id": "o0OtFq6TQ8Xz"
      },
      "source": [
        "이제 새로 실행하며 match rate 와 test match 의 변화를 구경해보자"
      ]
    },
    {
      "cell_type": "code",
      "metadata": {
        "id": "dvSNchJpO_07",
        "colab": {
          "base_uri": "https://localhost:8080/"
        },
        "outputId": "89621b08-546e-4130-a4b7-ab4afc8f6af7"
      },
      "source": [
        "\n",
        "ds = []\n",
        "for step in range(10000):\n",
        "  o = model(x)\n",
        "  d = nn.functional.mse_loss(o, y)\n",
        "  optimizer.zero_grad() \n",
        "  d.backward()\n",
        "  optimizer.step() \n",
        "\n",
        "  ds += [d.item()]\n",
        "  if step % 1000 == 0 : \n",
        "    match_rate = tc.sum( tc.argmax(o, dim =1) == labels ) / tr_n\n",
        "    test_match = tc.sum( tc.argmax( model(tx) , dim = 1) == ty ) / tt_n \n",
        "    print(\"match rate:{:.3f}, test match:{:.3f} err:{:.5f}\".format(match_rate, test_match, d.item()) ) "
      ],
      "execution_count": null,
      "outputs": [
        {
          "output_type": "stream",
          "text": [
            "match rate:0.116, test match:0.160 err:0.26113\n",
            "match rate:0.329, test match:0.320 err:0.08541\n",
            "match rate:0.558, test match:0.500 err:0.07304\n",
            "match rate:0.769, test match:0.630 err:0.05600\n",
            "match rate:0.873, test match:0.710 err:0.04088\n",
            "match rate:0.940, test match:0.760 err:0.02936\n",
            "match rate:0.969, test match:0.780 err:0.02119\n",
            "match rate:0.976, test match:0.790 err:0.01563\n",
            "match rate:0.981, test match:0.810 err:0.01201\n",
            "match rate:0.986, test match:0.810 err:0.00959\n"
          ],
          "name": "stdout"
        }
      ]
    },
    {
      "cell_type": "markdown",
      "metadata": {
        "id": "_5flSDQKSBLc"
      },
      "source": [
        "### <font color = '#FF7050'> 실습 : 10000 개로 학습하기 \n",
        "위에서 한 과정을 트레이닝셋 10000개 테스트셋 1000 개로 다시 학습하고  그 결과를 확인해보자. \n",
        "</font>"
      ]
    },
    {
      "cell_type": "code",
      "metadata": {
        "id": "GcPCs1aN6l24",
        "colab": {
          "base_uri": "https://localhost:8080/"
        },
        "outputId": "390c82b8-8994-4113-c776-0a9e3af4be8e"
      },
      "source": [
        "## 실습에 필요한 트레이닝, 테스트 데이터를 만드세요\n",
        "tr_n,tt_n = 10000,1000\n",
        "x = mnist.data[:tr_n].view(-1,28*28).type(tc.FloatTensor).to(cuda)\n",
        "labels = mnist.train_labels[:tr_n]\n",
        "\n",
        "\n",
        "y = tc.zeros(tr_n,10).scatter(1,labels.view(-1,1),1).to(cuda)\n",
        "\n",
        "labels = labels.to(cuda)\n",
        "\n",
        "\n",
        "tx = mnist.data[tr_n:tr_n+tt_n].view(-1,28*28).type(tc.FloatTensor).to(cuda)\n",
        "ty = mnist.train_labels[tr_n:tr_n+tt_n].to(cuda)\n",
        "\n"
      ],
      "execution_count": null,
      "outputs": [
        {
          "output_type": "stream",
          "text": [
            "/usr/local/lib/python3.7/dist-packages/torchvision/datasets/mnist.py:54: UserWarning: train_labels has been renamed targets\n",
            "  warnings.warn(\"train_labels has been renamed targets\")\n"
          ],
          "name": "stderr"
        }
      ]
    },
    {
      "cell_type": "code",
      "metadata": {
        "id": "8pylpO4nTlwQ",
        "colab": {
          "base_uri": "https://localhost:8080/"
        },
        "outputId": "ef81aee0-4229-414a-911b-b52efd920209"
      },
      "source": [
        "## 위의 데이터를 학습하며 학습결과를 확인하세요\n",
        "\n",
        "ds = []\n",
        "for step in range(10000):\n",
        "  o = model(x)\n",
        "  d = nn.functional.mse_loss(o, y)\n",
        "  optimizer.zero_grad() \n",
        "  d.backward()\n",
        "  optimizer.step() \n",
        "\n",
        "  ds += [d.item()]\n",
        "  if step % 1000 == 0 : \n",
        "    match_rate = tc.sum( tc.argmax(o, dim =1) == labels ) / tr_n\n",
        "    test_match = tc.sum( tc.argmax( model(tx) , dim = 1) == ty ) / tt_n \n",
        "    print(\"match rate:{:.3f}, test match:{:.3f} err:{:.5f}\".format(match_rate, test_match, d.item()) ) "
      ],
      "execution_count": null,
      "outputs": [
        {
          "output_type": "stream",
          "text": [
            "match rate:0.864, test match:0.879 err:0.02495\n",
            "match rate:0.935, test match:0.922 err:0.01610\n",
            "match rate:0.950, test match:0.934 err:0.01326\n",
            "match rate:0.957, test match:0.935 err:0.01146\n",
            "match rate:0.963, test match:0.940 err:0.01017\n",
            "match rate:0.965, test match:0.940 err:0.00918\n",
            "match rate:0.968, test match:0.940 err:0.00839\n",
            "match rate:0.970, test match:0.940 err:0.00773\n",
            "match rate:0.972, test match:0.940 err:0.00718\n",
            "match rate:0.974, test match:0.941 err:0.00671\n"
          ],
          "name": "stdout"
        }
      ]
    },
    {
      "cell_type": "markdown",
      "metadata": {
        "id": "izmdqkedU0rp"
      },
      "source": [
        "### CrossEntropy 사용해보기 \n",
        "\n",
        "사실 위에서 우리는 어디까지나 Simgoid 값을 기준으로 mse 에러를 계산했다. 하지만 one-hot encoding 에 더 최적화된 loss 함수가 존재하는데 이는 타겟 출력값에 대한 평중을 더 가능하게 해준다.  \n",
        "\n",
        "이 함수는 nn.CrossEntropyLoss() 를 사용하는데 특이하게 이 함수는 매우 다양한 옵션에 의해 그 구조자체가 바귀는 경우가 있기 때문에 함수 CrossEntropyLoss() 는 바로 값을 입력받는게 아니라 그 계산을 위한 함수를 생성해준다. 그러므로 다음 구문으로  먼저 함수를 생성한다. "
      ]
    },
    {
      "cell_type": "code",
      "metadata": {
        "id": "cEWt8BjHV811"
      },
      "source": [
        "Loss = nn.CrossEntropyLoss() # 함수를 만들어주는 함수 "
      ],
      "execution_count": null,
      "outputs": []
    },
    {
      "cell_type": "markdown",
      "metadata": {
        "id": "q6oq8abDWJIu"
      },
      "source": [
        "또한 CrossEntropyLoss 는 자체적으로 One-hot encoding 을 내장하고 있으므로 인코딩된 y값을 바로 사용한다.  그러므로 d 는 다음과 같이 변형된다. \n",
        "\n",
        "```\n",
        "d = nn.functional.mse_loss(o, y)\n",
        "->\n",
        "d = Loss(o, labels) \n",
        "```\n",
        "\n",
        "이제 이걸 사용해 학습을 수행한 후에 수렴속도를 비교해보자. \n"
      ]
    },
    {
      "cell_type": "code",
      "metadata": {
        "id": "ANA2rgSr6mTt",
        "colab": {
          "base_uri": "https://localhost:8080/"
        },
        "outputId": "fc530818-8db5-478b-ebda-71752a094969"
      },
      "source": [
        "# weight_reset(model)\n",
        "\n",
        "ds = []\n",
        "for step in range(100000):\n",
        "  o = model(x)\n",
        " \n",
        "  d = Loss(o, labels)\n",
        "  optimizer.zero_grad() \n",
        "  d.backward()\n",
        "  optimizer.step() \n",
        " \n",
        "  ds += [d.item()]\n",
        "  if step % 1000 == 0 : \n",
        "    match_rate = tc.sum( tc.argmax(o, dim =1) == labels ) / 1000\n",
        "    test_match = tc.sum( tc.argmax( model(tx) , dim = 1) == ty ) / 100 \n",
        "    print(\"match rate:{:.3f}, test match:{:.3f} err:{:.5f}\".format(match_rate, test_match, d.item()) ) \n",
        "    "
      ],
      "execution_count": null,
      "outputs": [
        {
          "output_type": "stream",
          "text": [
            "match rate:9.836, test match:9.440 err:1.48504\n",
            "match rate:9.849, test match:9.460 err:1.48311\n",
            "match rate:9.857, test match:9.460 err:1.48148\n",
            "match rate:9.862, test match:9.460 err:1.48008\n",
            "match rate:9.871, test match:9.440 err:1.47884\n",
            "match rate:9.878, test match:9.440 err:1.47775\n",
            "match rate:9.883, test match:9.420 err:1.47677\n",
            "match rate:9.889, test match:9.420 err:1.47588\n",
            "match rate:9.891, test match:9.450 err:1.47510\n",
            "match rate:9.895, test match:9.460 err:1.47439\n",
            "match rate:9.898, test match:9.460 err:1.47374\n",
            "match rate:9.902, test match:9.460 err:1.47317\n",
            "match rate:9.905, test match:9.470 err:1.47264\n",
            "match rate:9.912, test match:9.470 err:1.47216\n",
            "match rate:9.917, test match:9.480 err:1.47170\n",
            "match rate:9.926, test match:9.500 err:1.47125\n",
            "match rate:9.932, test match:9.510 err:1.47083\n",
            "match rate:9.938, test match:9.520 err:1.47042\n",
            "match rate:9.939, test match:9.520 err:1.47005\n",
            "match rate:9.942, test match:9.520 err:1.46970\n",
            "match rate:9.946, test match:9.530 err:1.46936\n",
            "match rate:9.948, test match:9.530 err:1.46905\n",
            "match rate:9.949, test match:9.530 err:1.46876\n",
            "match rate:9.950, test match:9.530 err:1.46848\n"
          ],
          "name": "stdout"
        }
      ]
    },
    {
      "cell_type": "markdown",
      "metadata": {
        "id": "QzkUgrHYYbRg"
      },
      "source": [
        "<br><br>\n",
        "\n",
        "\n",
        "## 커스텀 이미지 판별\n",
        "\n",
        "이번에는 우리가 직접 그림판에 이미지를 만들어서 처리해보도록 하겠다. 먼저 그림판에서 숫자 이미지를 만든 후에 이를 업로드해보자. \n",
        "\n",
        "<img src = \"https://github.com/decoz/mlclass/blob/master/images/4.png?raw=true\" align = \"left\">\n",
        "\n"
      ]
    },
    {
      "cell_type": "markdown",
      "metadata": {
        "id": "xpsfpclga1eY"
      },
      "source": [
        "\n",
        "### 단일 이미지 판별\n",
        "\n",
        "이제 이 이미지를 로딩해서 텐서로 변환해보겠다. "
      ]
    },
    {
      "cell_type": "code",
      "metadata": {
        "id": "JpRHte2Kaw9R",
        "colab": {
          "base_uri": "https://localhost:8080/",
          "height": 283
        },
        "outputId": "fbc63673-47b2-4b6b-8967-51bb4be35f0e"
      },
      "source": [
        "from PIL import Image\n",
        "\n",
        "im = Image.open(\"8.png\").convert('L')\n",
        "im = im.resize((28,28))\n",
        "x = tc.tensor( im.getdata() )\n",
        "plt.imshow(x.reshape(28,28), cmap='gray')\n"
      ],
      "execution_count": 67,
      "outputs": [
        {
          "output_type": "execute_result",
          "data": {
            "text/plain": [
              "<matplotlib.image.AxesImage at 0x7fa2ec493250>"
            ]
          },
          "metadata": {
            "tags": []
          },
          "execution_count": 67
        },
        {
          "output_type": "display_data",
          "data": {
            "image/png": "[encoded data removed]",
            "text/plain": [
              "<Figure size 432x288 with 1 Axes>"
            ]
          },
          "metadata": {
            "tags": [],
            "needs_background": "light"
          }
        }
      ]
    },
    {
      "cell_type": "markdown",
      "metadata": {
        "id": "Nu6UYJYtbW-L"
      },
      "source": [
        "위의 이미지는 배경이 흰색이므로 검은색으로 변환한다. "
      ]
    },
    {
      "cell_type": "code",
      "metadata": {
        "id": "DJD1NvCDa5MW",
        "colab": {
          "base_uri": "https://localhost:8080/",
          "height": 283
        },
        "outputId": "34272de4-2964-43ad-9a20-7fd682c00165"
      },
      "source": [
        "x = 255 - x \n",
        "plt.imshow(x.reshape(28,28), cmap='gray')\n",
        "\n"
      ],
      "execution_count": 33,
      "outputs": [
        {
          "output_type": "execute_result",
          "data": {
            "text/plain": [
              "<matplotlib.image.AxesImage at 0x7fa325462c50>"
            ]
          },
          "metadata": {
            "tags": []
          },
          "execution_count": 33
        },
        {
          "output_type": "display_data",
          "data": {
            "image/png": "[encoded data removed]",
            "text/plain": [
              "<Figure size 432x288 with 1 Axes>"
            ]
          },
          "metadata": {
            "tags": [],
            "needs_background": "light"
          }
        }
      ]
    },
    {
      "cell_type": "markdown",
      "metadata": {
        "id": "OQE4D5s9b-EP"
      },
      "source": [
        "이제 이 이미지를 model 에 넣어보도록  하겠다. "
      ]
    },
    {
      "cell_type": "code",
      "metadata": {
        "id": "HeKwo2oIb69R",
        "colab": {
          "base_uri": "https://localhost:8080/"
        },
        "outputId": "9f078244-3b72-48fa-eb3b-7c087d236643"
      },
      "source": [
        "x = x.type(tc.FloatTensor).to(cuda)\n",
        "tc.argmax(model(x))"
      ],
      "execution_count": 34,
      "outputs": [
        {
          "output_type": "execute_result",
          "data": {
            "text/plain": [
              "tensor(5, device='cuda:0')"
            ]
          },
          "metadata": {
            "tags": []
          },
          "execution_count": 34
        }
      ]
    },
    {
      "cell_type": "markdown",
      "metadata": {
        "id": "L6XQu9vheAeA"
      },
      "source": [
        "### 위치보정 사용\n",
        "\n",
        "안타깝지만 생각보다 결과가 잘 나오지 안을 것이다. 사실 우리가 사용하는 신경망은 어디까지나 픽셀의 고정위치의 밝기를 기준으로 하기 때문에 이미지의 크기와 여백등에 영향을 크게 받는다. 다음 함수 reloacte 는 numpy 이미지의 위치를 재 배치하고 일정 여백을 줘서 보정한다. "
      ]
    },
    {
      "cell_type": "code",
      "metadata": {
        "id": "H4lJwxaatLqj"
      },
      "source": [
        "def relocate(src):  ## 숫자 이미지의 위치를 보정하고 여백을 추가한다.\n",
        "  xsum = np.sum(src , axis = 0) > 0 \n",
        "  ysum = np.sum(src , axis = 1) > 0 \n",
        "\n",
        "  img = src[:, xsum]\n",
        "  img = img[ysum, :]\n",
        "\n",
        "  paddx = int( abs(img.shape[0] - img.shape[1] ) / 2 )\n",
        "  return np.pad(img, ((10,10), (paddx+10,paddx+10)) )\n",
        "\n"
      ],
      "execution_count": 36,
      "outputs": []
    },
    {
      "cell_type": "markdown",
      "metadata": {
        "id": "3trZgyL9uR1f"
      },
      "source": [
        "이제 위의 함수를 사용해 이미지를 보정해보도록 하겠다. "
      ]
    },
    {
      "cell_type": "code",
      "metadata": {
        "id": "_9txbvXXcTTS",
        "colab": {
          "base_uri": "https://localhost:8080/",
          "height": 267
        },
        "outputId": "a7741d91-2799-46b8-f875-3da84651c5ef"
      },
      "source": [
        "img = Image.open(\"8.png\").convert('L')\n",
        "w,h = img.size\n",
        "src = np.array( img.getdata() ).reshape(h,w)\n",
        "\n",
        "src = 255 - src\n",
        "src = relocate(src)\n",
        "plt.imshow( src, cmap = 'gray' )\n",
        "plt.show() \n"
      ],
      "execution_count": 38,
      "outputs": [
        {
          "output_type": "display_data",
          "data": {
            "image/png": "[encoded data removed]",
            "text/plain": [
              "<Figure size 432x288 with 1 Axes>"
            ]
          },
          "metadata": {
            "tags": [],
            "needs_background": "light"
          }
        }
      ]
    },
    {
      "cell_type": "markdown",
      "metadata": {
        "id": "QSU9UvmWullm"
      },
      "source": [
        "또 다른 문제는 위의 이미지를 28x28 로 변환해야한다는 것인데.. 이것은 nn.functional 의 interpolate 함수를 사용한다. 다만 이 함수는 앞에 2개의 더미차원을 요구하기 때문에 다음과 같이 실행한다. "
      ]
    },
    {
      "cell_type": "code",
      "metadata": {
        "id": "Qw2tXVSTu8X6",
        "colab": {
          "base_uri": "https://localhost:8080/",
          "height": 283
        },
        "outputId": "209ba9fd-9b8d-45be-dd34-5a293d93629f"
      },
      "source": [
        "import torch.nn.functional as F \n",
        "\n",
        "x = tc.FloatTensor(src)\n",
        "x = F.interpolate( x[None,None,:,:], (28,28) )\n",
        "\n",
        "plt.imshow(x.view(28,28), cmap = 'gray')"
      ],
      "execution_count": 112,
      "outputs": [
        {
          "output_type": "execute_result",
          "data": {
            "text/plain": [
              "<matplotlib.image.AxesImage at 0x7fa2ebb6d750>"
            ]
          },
          "metadata": {
            "tags": []
          },
          "execution_count": 112
        },
        {
          "output_type": "display_data",
          "data": {
            "image/png": "[encoded data removed]",
            "text/plain": [
              "<Figure size 432x288 with 1 Axes>"
            ]
          },
          "metadata": {
            "tags": [],
            "needs_background": "light"
          }
        }
      ]
    },
    {
      "cell_type": "markdown",
      "metadata": {
        "id": "eTL3C6hSvR_M"
      },
      "source": [
        "이제 준비가 되었으니 위의 x 를 reshape 해서 cuda 에 올려 결과를 판별해보도록 하겠다. "
      ]
    },
    {
      "cell_type": "code",
      "metadata": {
        "id": "GlBmM7mce-bZ",
        "colab": {
          "base_uri": "https://localhost:8080/"
        },
        "outputId": "cb043336-bf10-499f-c629-75f728ee056e"
      },
      "source": [
        "x = x.to(cuda).reshape(28*28) \n",
        "print( tc.argmax( model( x ) ) )"
      ],
      "execution_count": 113,
      "outputs": [
        {
          "output_type": "stream",
          "text": [
            "tensor(2, device='cuda:0')\n"
          ],
          "name": "stdout"
        }
      ]
    },
    {
      "cell_type": "markdown",
      "metadata": {
        "id": "RxWN0dHAzidS"
      },
      "source": [
        "\n",
        "### 여러 숫자 이미지 판별\n",
        "\n",
        "끝으로  다음과 같은 여러 숫자가 들어있는 이미지를 이용해 판별하는 코드를 한번 구경하자\n",
        "<img src = \"https://github.com/decoz/mlclass/blob/master/images/t_nums2.png?raw=true\" align = \"left\">\n"
      ]
    },
    {
      "cell_type": "code",
      "metadata": {
        "id": "9Sju8whFqcn1",
        "colab": {
          "base_uri": "https://localhost:8080/",
          "height": 93
        },
        "outputId": "146e2f62-3a28-4229-b374-9f2fe45c44b7"
      },
      "source": [
        "import numpy as np\n",
        "import matplotlib.pyplot as plt\n",
        "\n",
        "img = Image.open(\"num.png\").convert('L')\n",
        "w,h = img.size\n",
        "\n",
        "src = np.array( img.getdata() ).reshape(h,w)\n",
        "src = 255 - src\n",
        "\n",
        "plt.imshow( src, cmap = 'gray' )\n",
        "plt.show() "
      ],
      "execution_count": 131,
      "outputs": [
        {
          "output_type": "display_data",
          "data": {
            "image/png": "[encoded data removed]",
            "text/plain": [
              "<Figure size 432x288 with 1 Axes>"
            ]
          },
          "metadata": {
            "tags": [],
            "needs_background": "light"
          }
        }
      ]
    },
    {
      "cell_type": "markdown",
      "metadata": {
        "id": "vzAl7Y04z0aj"
      },
      "source": [
        "다음은 이런 이미지의 빈 영역을 삭제하고 이미지를 잘라낸 후 이미지를 보정하는  코드이다. "
      ]
    },
    {
      "cell_type": "code",
      "metadata": {
        "id": "J0jjKgQXwBEO",
        "colab": {
          "base_uri": "https://localhost:8080/",
          "height": 1000
        },
        "outputId": "ec5bf996-66c1-4617-da18-477275017cbd"
      },
      "source": [
        "ysum = np.sum(src, axis = 0)\n",
        "\n",
        "thresh = 0\n",
        "s = -1\n",
        "\n",
        "for x in range(w):\n",
        "  if s >= 0 and ysum[x] <= thresh : \n",
        "    src = relocate( src[:, s:x] )\n",
        "\n",
        "    x = tc.FloatTensor(src)\n",
        "    x = F.interpolate( x[None, None, :, :], (28, 28))\n",
        "\n",
        "    plt.imshow(x.view(28, 28))\n",
        "    plt.show()\n",
        "\n",
        "    x = x.view(28*28).to(cuda)\n",
        "    print( tc.argmax( model(x) ))\n",
        " \n",
        "    s = -1 \n",
        "\n",
        "  elif s < 0 and ysum[x] > thresh  :\n",
        "    s = x"
      ],
      "execution_count": 132,
      "outputs": [
        {
          "output_type": "display_data",
          "data": {
            "image/png": "[encoded data removed]",
            "text/plain": [
              "<Figure size 432x288 with 1 Axes>"
            ]
          },
          "metadata": {
            "tags": [],
            "needs_background": "light"
          }
        },
        {
          "output_type": "stream",
          "text": [
            "tensor(1, device='cuda:0')\n"
          ],
          "name": "stdout"
        },
        {
          "output_type": "display_data",
          "data": {
            "image/png": "[encoded data removed]",
            "text/plain": [
              "<Figure size 432x288 with 1 Axes>"
            ]
          },
          "metadata": {
            "tags": [],
            "needs_background": "light"
          }
        },
        {
          "output_type": "stream",
          "text": [
            "tensor(7, device='cuda:0')\n"
          ],
          "name": "stdout"
        },
        {
          "output_type": "display_data",
          "data": {
            "image/png": "[encoded data removed]",
            "text/plain": [
              "<Figure size 432x288 with 1 Axes>"
            ]
          },
          "metadata": {
            "tags": [],
            "needs_background": "light"
          }
        },
        {
          "output_type": "stream",
          "text": [
            "tensor(7, device='cuda:0')\n"
          ],
          "name": "stdout"
        },
        {
          "output_type": "display_data",
          "data": {
            "image/png": "[encoded data removed]",
            "text/plain": [
              "<Figure size 432x288 with 1 Axes>"
            ]
          },
          "metadata": {
            "tags": [],
            "needs_background": "light"
          }
        },
        {
          "output_type": "stream",
          "text": [
            "tensor(7, device='cuda:0')\n"
          ],
          "name": "stdout"
        },
        {
          "output_type": "display_data",
          "data": {
            "image/png": "[encoded data removed]",
            "text/plain": [
              "<Figure size 432x288 with 1 Axes>"
            ]
          },
          "metadata": {
            "tags": [],
            "needs_background": "light"
          }
        },
        {
          "output_type": "stream",
          "text": [
            "tensor(7, device='cuda:0')\n"
          ],
          "name": "stdout"
        },
        {
          "output_type": "display_data",
          "data": {
            "image/png": "[encoded data removed]",
            "text/plain": [
              "<Figure size 432x288 with 1 Axes>"
            ]
          },
          "metadata": {
            "tags": [],
            "needs_background": "light"
          }
        },
        {
          "output_type": "stream",
          "text": [
            "tensor(7, device='cuda:0')\n"
          ],
          "name": "stdout"
        },
        {
          "output_type": "display_data",
          "data": {
            "image/png": "[encoded data removed]",
            "text/plain": [
              "<Figure size 432x288 with 1 Axes>"
            ]
          },
          "metadata": {
            "tags": [],
            "needs_background": "light"
          }
        },
        {
          "output_type": "stream",
          "text": [
            "tensor(7, device='cuda:0')\n"
          ],
          "name": "stdout"
        },
        {
          "output_type": "display_data",
          "data": {
            "image/png": "[encoded data removed]",
            "text/plain": [
              "<Figure size 432x288 with 1 Axes>"
            ]
          },
          "metadata": {
            "tags": [],
            "needs_background": "light"
          }
        },
        {
          "output_type": "stream",
          "text": [
            "tensor(7, device='cuda:0')\n"
          ],
          "name": "stdout"
        },
        {
          "output_type": "display_data",
          "data": {
            "image/png": "[encoded data removed]",
            "text/plain": [
              "<Figure size 432x288 with 1 Axes>"
            ]
          },
          "metadata": {
            "tags": [],
            "needs_background": "light"
          }
        },
        {
          "output_type": "stream",
          "text": [
            "tensor(7, device='cuda:0')\n"
          ],
          "name": "stdout"
        }
      ]
    },
    {
      "cell_type": "markdown",
      "metadata": {
        "id": "xlGB3Xct0Tqc"
      },
      "source": [
        "### <font color = '#FF7050'> 실습 : 여러 숫자값 판별하기 \n",
        "위의 코드를 이용해 여러 숫자가 들어있는 이미지를 판별하도록 해보자\n",
        "</font>"
      ]
    },
    {
      "cell_type": "code",
      "metadata": {
        "id": "f-AXM-GS0Tqd",
        "colab": {
          "base_uri": "https://localhost:8080/",
          "height": 1000
        },
        "outputId": "9b001ffe-e2a3-4034-cfe9-74eaf68812b3"
      },
      "source": [
        "## 이 코드를 수정해 여러 숫자가 들어있는 이미지를 판별할 수 있도록 해보세요\n",
        "ysum = np.sum(src, axis = 0)\n",
        "\n",
        "thresh = 0\n",
        "s = -1\n",
        "\n",
        "for x in range(w):\n",
        "  if s >= 0 and ysum[x] <= thresh : \n",
        "    src = relocate( src[:, s:x] )\n",
        "\n",
        "    x = tc.FloatTensor(src)\n",
        "    x = F.interpolate( x[None, None, :, :], (28, 28))\n",
        "\n",
        "    plt.imshow(x.view(28, 28))\n",
        "    plt.show()\n",
        "\n",
        "    x = x.view(28*28).to(cuda)\n",
        "    print( tc.argmax( model(x) ))\n",
        " \n",
        "    s = -1 \n",
        "\n",
        "  elif s < 0 and ysum[x] > thresh  :\n",
        "    s = x"
      ],
      "execution_count": 130,
      "outputs": [
        {
          "output_type": "display_data",
          "data": {
            "image/png": "[encoded data removed]",
            "text/plain": [
              "<Figure size 432x288 with 1 Axes>"
            ]
          },
          "metadata": {
            "tags": [],
            "needs_background": "light"
          }
        },
        {
          "output_type": "stream",
          "text": [
            "tensor(1, device='cuda:0')\n"
          ],
          "name": "stdout"
        },
        {
          "output_type": "display_data",
          "data": {
            "image/png": "[encoded data removed]",
            "text/plain": [
              "<Figure size 432x288 with 1 Axes>"
            ]
          },
          "metadata": {
            "tags": [],
            "needs_background": "light"
          }
        },
        {
          "output_type": "stream",
          "text": [
            "tensor(7, device='cuda:0')\n"
          ],
          "name": "stdout"
        },
        {
          "output_type": "display_data",
          "data": {
            "image/png": "[encoded data removed]",
            "text/plain": [
              "<Figure size 432x288 with 1 Axes>"
            ]
          },
          "metadata": {
            "tags": [],
            "needs_background": "light"
          }
        },
        {
          "output_type": "stream",
          "text": [
            "tensor(7, device='cuda:0')\n"
          ],
          "name": "stdout"
        },
        {
          "output_type": "display_data",
          "data": {
            "image/png": "[encoded data removed]",
            "text/plain": [
              "<Figure size 432x288 with 1 Axes>"
            ]
          },
          "metadata": {
            "tags": [],
            "needs_background": "light"
          }
        },
        {
          "output_type": "stream",
          "text": [
            "tensor(7, device='cuda:0')\n"
          ],
          "name": "stdout"
        },
        {
          "output_type": "display_data",
          "data": {
            "image/png": "[encoded data removed]",
            "text/plain": [
              "<Figure size 432x288 with 1 Axes>"
            ]
          },
          "metadata": {
            "tags": [],
            "needs_background": "light"
          }
        },
        {
          "output_type": "stream",
          "text": [
            "tensor(7, device='cuda:0')\n"
          ],
          "name": "stdout"
        },
        {
          "output_type": "display_data",
          "data": {
            "image/png": "[encoded data removed]",
            "text/plain": [
              "<Figure size 432x288 with 1 Axes>"
            ]
          },
          "metadata": {
            "tags": [],
            "needs_background": "light"
          }
        },
        {
          "output_type": "stream",
          "text": [
            "tensor(7, device='cuda:0')\n"
          ],
          "name": "stdout"
        },
        {
          "output_type": "display_data",
          "data": {
            "image/png": "[encoded data removed]",
            "text/plain": [
              "<Figure size 432x288 with 1 Axes>"
            ]
          },
          "metadata": {
            "tags": [],
            "needs_background": "light"
          }
        },
        {
          "output_type": "stream",
          "text": [
            "tensor(7, device='cuda:0')\n"
          ],
          "name": "stdout"
        },
        {
          "output_type": "display_data",
          "data": {
            "image/png": "[encoded data removed]",
            "text/plain": [
              "<Figure size 432x288 with 1 Axes>"
            ]
          },
          "metadata": {
            "tags": [],
            "needs_background": "light"
          }
        },
        {
          "output_type": "stream",
          "text": [
            "tensor(7, device='cuda:0')\n"
          ],
          "name": "stdout"
        },
        {
          "output_type": "display_data",
          "data": {
            "image/png": "[encoded data removed]",
            "text/plain": [
              "<Figure size 432x288 with 1 Axes>"
            ]
          },
          "metadata": {
            "tags": [],
            "needs_background": "light"
          }
        },
        {
          "output_type": "stream",
          "text": [
            "tensor(7, device='cuda:0')\n"
          ],
          "name": "stdout"
        }
      ]
    }
  ]
}